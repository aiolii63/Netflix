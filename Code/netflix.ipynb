{
 "cells": [
  {
   "cell_type": "code",
   "execution_count": 837,
   "metadata": {},
   "outputs": [],
   "source": [
    "import pandas as pd\n",
    "import numpy as np\n",
    "import matplotlib.pyplot as plt\n",
    "import seaborn as sns\n",
    "%matplotlib inline\n",
    "\n",
    "\n",
    "from sklearn.neighbors import KNeighborsClassifier\n",
    "from sklearn.datasets import make_hastie_10_2\n",
    "\n",
    "from sklearn.ensemble import BaggingClassifier\n",
    "from sklearn.datasets import make_classification\n",
    "\n",
    "from sklearn.ensemble import GradientBoostingClassifier\n",
    "from sklearn.discriminant_analysis import LinearDiscriminantAnalysis\n",
    "from sklearn.gaussian_process import GaussianProcessClassifier\n",
    "from sklearn.gaussian_process.kernels import RBF\n"
   ]
  },
  {
   "cell_type": "markdown",
   "metadata": {},
   "source": [
    "#IMPORTANT README ON THIS CLASSIFICATION EXERCISE\n",
    "=================================================================\n",
    "\n",
    "\n",
    "## Time expectations\n",
    "- Data cleaning 2 hours \n",
    "- Data preprocessing (features, scaling) 1 hours\n",
    "- Models investigation 3 hours - this task can be splited\n",
    "- Models implementation - 2 hours\n",
    "- Slides/dashboard/notebook - 2 hours\n",
    "- Finalization and \"beautification\" (github, etc)  - 2 hours\n",
    "Average time per person 4-6 hours\n",
    "\n",
    "1. Please make sure the Y is not too granular: make sure to bin it to simplify the work of models\n",
    "\n",
    "2. After using the model, play around with hyperparams\n",
    "\n",
    "3. Finally, compare model performance by accuracy, ROC-AUC... 60+ % would be a good start\n",
    "\n",
    "4. Use Trello instead of JIRA for project mgmt: make sure to provide hours worked on each task"
   ]
  },
  {
   "cell_type": "code",
   "execution_count": 838,
   "metadata": {},
   "outputs": [
    {
     "data": {
      "text/html": [
       "<div><div id=b305a45e-7ebc-45cf-a6b7-257fce5fcfdc style=\"display:none; background-color:#9D6CFF; color:white; width:200px; height:30px; padding-left:5px; border-radius:4px; flex-direction:row; justify-content:space-around; align-items:center;\" onmouseover=\"this.style.backgroundColor='#BA9BF8'\" onmouseout=\"this.style.backgroundColor='#9D6CFF'\" onclick=\"window.commands?.execute('create-mitosheet-from-dataframe-output');\">See Full Dataframe in Mito</div> <script> if (window.commands.hasCommand('create-mitosheet-from-dataframe-output')) document.getElementById('b305a45e-7ebc-45cf-a6b7-257fce5fcfdc').style.display = 'flex' </script> <table border=\"1\" class=\"dataframe\">\n",
       "  <thead>\n",
       "    <tr style=\"text-align: right;\">\n",
       "      <th></th>\n",
       "      <th>Unnamed: 0</th>\n",
       "      <th>title</th>\n",
       "      <th>year</th>\n",
       "      <th>kind</th>\n",
       "      <th>genre</th>\n",
       "      <th>rating</th>\n",
       "      <th>vote</th>\n",
       "      <th>country</th>\n",
       "      <th>language</th>\n",
       "      <th>cast</th>\n",
       "      <th>director</th>\n",
       "      <th>composer</th>\n",
       "      <th>writer</th>\n",
       "      <th>runtime</th>\n",
       "    </tr>\n",
       "  </thead>\n",
       "  <tbody>\n",
       "    <tr>\n",
       "      <th>0</th>\n",
       "      <td>0</td>\n",
       "      <td>Dinosaur Planet</td>\n",
       "      <td>2003.0</td>\n",
       "      <td>tv mini series</td>\n",
       "      <td>['Documentary', 'Animation', 'Family']</td>\n",
       "      <td>7.7</td>\n",
       "      <td>474.0</td>\n",
       "      <td>['United States']</td>\n",
       "      <td>['English']</td>\n",
       "      <td>['Christian Slater', 'Scott Sampson']</td>\n",
       "      <td>NaN</td>\n",
       "      <td>NaN</td>\n",
       "      <td>['Mike Carrol', 'Mike Carroll', 'Georgann Kane']</td>\n",
       "      <td>50.0</td>\n",
       "    </tr>\n",
       "    <tr>\n",
       "      <th>1</th>\n",
       "      <td>1</td>\n",
       "      <td>Get Up and Dance!</td>\n",
       "      <td>1994.0</td>\n",
       "      <td>video movie</td>\n",
       "      <td>['Family']</td>\n",
       "      <td>8.1</td>\n",
       "      <td>18.0</td>\n",
       "      <td>['United States']</td>\n",
       "      <td>['English']</td>\n",
       "      <td>['Paula Abdul', 'Aurorah Allain', 'Bill Bohl', 'Bob Gaynor', \"Nancy O'Meara\"]</td>\n",
       "      <td>['Steve Purcell']</td>\n",
       "      <td>NaN</td>\n",
       "      <td>NaN</td>\n",
       "      <td>83.0</td>\n",
       "    </tr>\n",
       "    <tr>\n",
       "      <th>2</th>\n",
       "      <td>2</td>\n",
       "      <td>8 Man</td>\n",
       "      <td>1992.0</td>\n",
       "      <td>movie</td>\n",
       "      <td>['Action', 'Sci-Fi']</td>\n",
       "      <td>5.5</td>\n",
       "      <td>93.0</td>\n",
       "      <td>['Japan']</td>\n",
       "      <td>['Japanese']</td>\n",
       "      <td>['Kai Shishido', 'Etsushi Takahashi', 'Sachiko Ayase', 'Osamu Ohtomo', 'Jô Shishido', 'Tadao Nakamaru', 'Daisuke Shima', 'Toshihide Wakamatsu', 'Mickey Curtis', 'Robert Axelrod', 'Steve Bulen', 'Richard Cansino', 'Lara Cody', 'Juliana Donald', 'Kerrigan Mahan', 'Edie Mirman', 'Mike Reynolds', 'Michael Sorich', 'Barry Stigler', 'Kirk Thornton', 'Dan Woren']</td>\n",
       "      <td>['Yasuhiro Horiuchi']</td>\n",
       "      <td>['Carole King']</td>\n",
       "      <td>['Kazumasa Hirai', 'Jirô Kuwata', 'Junko Suzuki']</td>\n",
       "      <td>NaN</td>\n",
       "    </tr>\n",
       "    <tr>\n",
       "      <th>3</th>\n",
       "      <td>3</td>\n",
       "      <td>What the #$*! Do We (K)now!?</td>\n",
       "      <td>2004.0</td>\n",
       "      <td>movie</td>\n",
       "      <td>['Documentary', 'Comedy', 'Drama', 'Fantasy', 'Mystery', 'Sci-Fi']</td>\n",
       "      <td>5.3</td>\n",
       "      <td>13432.0</td>\n",
       "      <td>['United States']</td>\n",
       "      <td>['English', 'German', 'Spanish']</td>\n",
       "      <td>['Marlee Matlin', 'Elaine Hendrix', 'John Ross Bowie', 'Robert Bailey Jr.', 'Barry Newman', 'Larry Brandenburg', 'Daniela Serra', 'James Langston Drake', 'Michele Mariana', 'Armin Shimerman', 'Robert Blanche', 'Pavel Mikoloski', 'Alex Rogers', 'Tin Tran', 'Leslie Taylor', 'Sherilyn Lawson', 'Mercedes Rose', 'Joelle Anthony', 'Dawnn Pavlonnis', 'Danny Bruno', 'Josh Santos', 'Kerensa Gimre', 'Heather Robertson', 'Patti Collins', 'Tammy Mischke', 'Justin Canfield', 'Gordon Grobelny', 'Brent Pendleton', 'Jonathan Cammon', 'Val Landrum', 'Kyle Lunde', 'Gloria Manon', 'Robert McKeehen', 'Eric Newsome', 'Kirk Thornton', 'Michelle Ruff', 'Lia Sargent', 'Michael Sorich', 'Steve Blum', 'Tom Fahn', 'Allison Gottfried', 'David Albert', 'Joseph Dispenza', 'Amit Goswami', 'John Hagelin', 'Stuart Hameroff', 'J.Z. Knight', 'Miceal Ledwith', 'Daniel Monti', 'Andrew Newberg', 'Candace Pert', 'Jeffrey Satinover', 'William Tiller', 'Fred Alan Wolf', 'Marsha Clark', 'William Joseph Elk III', 'Evan Jacobs', 'Jeff S. Dodge', 'Carol Stanzione', 'Casper Van Dien', 'Tara Walker']</td>\n",
       "      <td>['William Arntz', 'Betsy Chasse', 'Mark Vicente']</td>\n",
       "      <td>['Christopher Franke']</td>\n",
       "      <td>['William Arntz', 'Betsy Chasse', 'Matthew Hoffman']</td>\n",
       "      <td>60.0</td>\n",
       "    </tr>\n",
       "    <tr>\n",
       "      <th>4</th>\n",
       "      <td>4</td>\n",
       "      <td>Class of Nuke 'Em High Part II: Subhumanoid Meltdown</td>\n",
       "      <td>1991.0</td>\n",
       "      <td>movie</td>\n",
       "      <td>['Comedy', 'Horror', 'Sci-Fi']</td>\n",
       "      <td>4.5</td>\n",
       "      <td>2177.0</td>\n",
       "      <td>['United States']</td>\n",
       "      <td>['English']</td>\n",
       "      <td>['Brick Bronsky', 'Lisa Gaye', 'Leesa Rowland', 'Michael Kurtz', 'Scott Resnick', 'Jacki Moen', 'Robert Dawson', 'Phil Rivo', 'Erica Frank', 'Sharon E. Gardner', 'Bea Lindgren', 'Lorraine Parchment', 'Troy Fromin', 'Tyler Bowe', 'Paul Borghese', 'Amy Hilbrich', 'Brad Roth', 'Nello Scadato', 'Jean Stewart', 'Gerrard Course', 'Lindsey Dawkins', 'Darla Haun', 'Lily Hayes Kaufman', 'Jason Vance Taylor', 'Alex Pirnie', 'William J. Kulzer', 'Kaptain', 'Madison Monk', 'Greta Rubens', 'Jon Albert', 'Patricia Kaufman', 'Jerri Greene', 'Patti Williford', 'Thomas Perry', 'Wendy Burnell', 'Shane Christopher', 'Ana Debasa', 'Jesse Cole Johnson', 'Andre Lambert', 'Jeanne LeGrand', 'Julie Nine', 'Louis Ortiz', 'Glorivic Parong', 'Suzanne Solari', 'Lisa Star', 'Saint Teresa Stone', 'Billie Taylor', 'Veronica Stork', 'Elizabeth Young', 'Kristina Krofft', 'Maraya Chase', 'Sophia Orkulas', 'Traci Mann', 'Walt Kubiak', 'Martin Sokol', 'Mark Richardson', 'Diana C. Skinner', 'Sheri Belfert', 'Bonnie Clarke', 'Heather Forsyth', 'Susan Jones', 'Trinity Loren', 'Sharon Mitchell', 'Phoebe Phaigh', 'Sandy Ruthowski', 'Nicole Vasilopoulos', 'Ryan Jones', 'Andy Jones', 'John Bausch', 'Gilbran Chong', 'Charlotte Kaufman', 'Lisbeth Kaufman', 'Shanah Richardson', 'Sherie Richardson', 'Cosimo Sherman', 'Josh Greenie', 'Brent Lichman', 'Wes Lichtman', 'Rocky Sherman', 'Jessi Woodhull', 'Shelby Shepard', 'Bullet Valmont', 'Liz Ard', 'Michael Cadava', 'Corey Hawk', 'Michael Herz', 'Lloyd Kaufman', 'Cynthia Windham']</td>\n",
       "      <td>['Eric Louzil']</td>\n",
       "      <td>['Bob Mithoff']</td>\n",
       "      <td>['Lloyd Kaufman', 'Carl Morano', 'Matt Unger']</td>\n",
       "      <td>96.0</td>\n",
       "    </tr>\n",
       "  </tbody>\n",
       "</table></div>"
      ],
      "text/plain": [
       "   Unnamed: 0                                              title    year  \\\n",
       "0           0                                    Dinosaur Planet  2003.0   \n",
       "1           1                                  Get Up and Dance!  1994.0   \n",
       "2           2                                              8 Man  1992.0   \n",
       "3           3                       What the #$*! Do We (K)now!?  2004.0   \n",
       "4           4  Class of Nuke 'Em High Part II: Subhumanoid Me...  1991.0   \n",
       "\n",
       "             kind                                              genre  rating  \\\n",
       "0  tv mini series             ['Documentary', 'Animation', 'Family']     7.7   \n",
       "1     video movie                                         ['Family']     8.1   \n",
       "2           movie                               ['Action', 'Sci-Fi']     5.5   \n",
       "3           movie  ['Documentary', 'Comedy', 'Drama', 'Fantasy', ...     5.3   \n",
       "4           movie                     ['Comedy', 'Horror', 'Sci-Fi']     4.5   \n",
       "\n",
       "      vote            country                          language  \\\n",
       "0    474.0  ['United States']                       ['English']   \n",
       "1     18.0  ['United States']                       ['English']   \n",
       "2     93.0          ['Japan']                      ['Japanese']   \n",
       "3  13432.0  ['United States']  ['English', 'German', 'Spanish']   \n",
       "4   2177.0  ['United States']                       ['English']   \n",
       "\n",
       "                                                cast  \\\n",
       "0              ['Christian Slater', 'Scott Sampson']   \n",
       "1  ['Paula Abdul', 'Aurorah Allain', 'Bill Bohl',...   \n",
       "2  ['Kai Shishido', 'Etsushi Takahashi', 'Sachiko...   \n",
       "3  ['Marlee Matlin', 'Elaine Hendrix', 'John Ross...   \n",
       "4  ['Brick Bronsky', 'Lisa Gaye', 'Leesa Rowland'...   \n",
       "\n",
       "                                            director                composer  \\\n",
       "0                                                NaN                     NaN   \n",
       "1                                  ['Steve Purcell']                     NaN   \n",
       "2                              ['Yasuhiro Horiuchi']         ['Carole King']   \n",
       "3  ['William Arntz', 'Betsy Chasse', 'Mark Vicente']  ['Christopher Franke']   \n",
       "4                                    ['Eric Louzil']         ['Bob Mithoff']   \n",
       "\n",
       "                                              writer  runtime  \n",
       "0   ['Mike Carrol', 'Mike Carroll', 'Georgann Kane']     50.0  \n",
       "1                                                NaN     83.0  \n",
       "2  ['Kazumasa Hirai', 'Jirô Kuwata', 'Junko Suzuki']      NaN  \n",
       "3  ['William Arntz', 'Betsy Chasse', 'Matthew Hof...     60.0  \n",
       "4     ['Lloyd Kaufman', 'Carl Morano', 'Matt Unger']     96.0  "
      ]
     },
     "execution_count": 838,
     "metadata": {},
     "output_type": "execute_result"
    }
   ],
   "source": [
    "df = pd.read_csv(r'C:/Users/olivi/Documents/Ironhack/DAFT_212/module_3/Project_week_7/imdb_processed.csv')\n",
    "df.head()"
   ]
  },
  {
   "cell_type": "code",
   "execution_count": 839,
   "metadata": {},
   "outputs": [
    {
     "data": {
      "text/html": [
       "<div><div id=e220193b-210e-42ac-be1c-d17cf2cb3a56 style=\"display:none; background-color:#9D6CFF; color:white; width:200px; height:30px; padding-left:5px; border-radius:4px; flex-direction:row; justify-content:space-around; align-items:center;\" onmouseover=\"this.style.backgroundColor='#BA9BF8'\" onmouseout=\"this.style.backgroundColor='#9D6CFF'\" onclick=\"window.commands?.execute('create-mitosheet-from-dataframe-output');\">See Full Dataframe in Mito</div> <script> if (window.commands.hasCommand('create-mitosheet-from-dataframe-output')) document.getElementById('e220193b-210e-42ac-be1c-d17cf2cb3a56').style.display = 'flex' </script> <table border=\"1\" class=\"dataframe\">\n",
       "  <thead>\n",
       "    <tr style=\"text-align: right;\">\n",
       "      <th></th>\n",
       "      <th>Unnamed: 0</th>\n",
       "      <th>title</th>\n",
       "      <th>year</th>\n",
       "      <th>kind</th>\n",
       "      <th>genre</th>\n",
       "      <th>rating</th>\n",
       "      <th>vote</th>\n",
       "      <th>country</th>\n",
       "      <th>language</th>\n",
       "      <th>cast</th>\n",
       "      <th>director</th>\n",
       "      <th>composer</th>\n",
       "      <th>writer</th>\n",
       "      <th>runtime</th>\n",
       "    </tr>\n",
       "  </thead>\n",
       "  <tbody>\n",
       "    <tr>\n",
       "      <th>3847</th>\n",
       "      <td>3847</td>\n",
       "      <td>Terminator 2: Judgment Day</td>\n",
       "      <td>1991.0</td>\n",
       "      <td>movie</td>\n",
       "      <td>['Action', 'Sci-Fi']</td>\n",
       "      <td>8.5</td>\n",
       "      <td>1033000.0</td>\n",
       "      <td>['United States']</td>\n",
       "      <td>['English', 'Spanish']</td>\n",
       "      <td>['Arnold Schwarzenegger', 'Linda Hamilton', 'Edward Furlong', 'Robert Patrick', 'Earl Boen', 'Joe Morton', 'S. Epatha Merkerson', 'Castulo Guerra', 'Danny Cooksey', 'Jenette Goldstein', 'Xander Berkeley', 'Leslie Hamilton Gearren', 'Ken Gibbel', 'Robert Winley', 'Peter Schrum', 'Shane Wilder', 'Michael Edwards', 'Jared Lounsbery', 'Casey Chavez', 'Ennalls Berl', 'Don Lake', 'Richard Vidan', 'Tom McDonald', 'Jim Palmer', 'Guss Williams', 'Gwenda Deacon', 'Don Stanton', 'Dan Stanton', 'Colin Patrick Lynch', 'Noel Evangelisti', 'Nikki Cox', 'Lisa Brinegar', 'DeVaughn Nixon', 'Tony Simotes', 'Diane Rodriguez', 'Dalton Abbott', 'Ron Young', 'Charles Robert Brown', 'Abdul Salaam El Razzac', 'Mike Muscat', 'Dean Norris', 'Charles A. Tamburro', 'J. Rob Jordan', 'Terrence Evans', 'Denney Pierce', 'Mark Christopher Lawrence', 'Pat Kouri', 'Van Ling', 'Michael Albanese', 'Ed Arneson', 'Bret A. Arnold', 'Dean Blanke', 'Debra Casey', 'Jim Dahl', 'Martin Deluca', 'Jennifer Jacono', 'Gavin Kelly', 'Takao Komine', 'Joel Kramer', 'Anne Merrem', 'Mic Rodgers', 'Richard Ruskin', 'Scott Shaw', 'Steven Stear', 'Sven-Ole Thorsen', 'Randy Walker', 'William Wisher']</td>\n",
       "      <td>['James Cameron']</td>\n",
       "      <td>['Brad Fiedel']</td>\n",
       "      <td>['James Cameron', 'William Wisher']</td>\n",
       "      <td>51.0</td>\n",
       "    </tr>\n",
       "  </tbody>\n",
       "</table></div>"
      ],
      "text/plain": [
       "      Unnamed: 0                       title    year   kind  \\\n",
       "3847        3847  Terminator 2: Judgment Day  1991.0  movie   \n",
       "\n",
       "                     genre  rating       vote            country  \\\n",
       "3847  ['Action', 'Sci-Fi']     8.5  1033000.0  ['United States']   \n",
       "\n",
       "                    language  \\\n",
       "3847  ['English', 'Spanish']   \n",
       "\n",
       "                                                   cast           director  \\\n",
       "3847  ['Arnold Schwarzenegger', 'Linda Hamilton', 'E...  ['James Cameron']   \n",
       "\n",
       "             composer                               writer  runtime  \n",
       "3847  ['Brad Fiedel']  ['James Cameron', 'William Wisher']     51.0  "
      ]
     },
     "execution_count": 839,
     "metadata": {},
     "output_type": "execute_result"
    }
   ],
   "source": [
    "df.loc[df.title.str.contains(\"Terminator\")]"
   ]
  },
  {
   "cell_type": "code",
   "execution_count": 840,
   "metadata": {},
   "outputs": [
    {
     "name": "stdout",
     "output_type": "stream",
     "text": [
      "<class 'pandas.core.frame.DataFrame'>\n",
      "RangeIndex: 8451 entries, 0 to 8450\n",
      "Data columns (total 14 columns):\n",
      " #   Column      Non-Null Count  Dtype  \n",
      "---  ------      --------------  -----  \n",
      " 0   Unnamed: 0  8451 non-null   int64  \n",
      " 1   title       8451 non-null   object \n",
      " 2   year        8451 non-null   float64\n",
      " 3   kind        8451 non-null   object \n",
      " 4   genre       8384 non-null   object \n",
      " 5   rating      8135 non-null   float64\n",
      " 6   vote        8135 non-null   float64\n",
      " 7   country     8152 non-null   object \n",
      " 8   language    8052 non-null   object \n",
      " 9   cast        8280 non-null   object \n",
      " 10  director    7140 non-null   object \n",
      " 11  composer    5722 non-null   object \n",
      " 12  writer      7204 non-null   object \n",
      " 13  runtime     6798 non-null   float64\n",
      "dtypes: float64(4), int64(1), object(9)\n",
      "memory usage: 924.5+ KB\n"
     ]
    }
   ],
   "source": [
    "df.info()"
   ]
  },
  {
   "cell_type": "code",
   "execution_count": 841,
   "metadata": {},
   "outputs": [
    {
     "data": {
      "text/plain": [
       "Unnamed: 0       0\n",
       "title            0\n",
       "year             0\n",
       "kind             0\n",
       "genre           67\n",
       "rating         316\n",
       "vote           316\n",
       "country        299\n",
       "language       399\n",
       "cast           171\n",
       "director      1311\n",
       "composer      2729\n",
       "writer        1247\n",
       "runtime       1653\n",
       "dtype: int64"
      ]
     },
     "execution_count": 841,
     "metadata": {},
     "output_type": "execute_result"
    }
   ],
   "source": [
    "df.isna().sum()"
   ]
  },
  {
   "cell_type": "code",
   "execution_count": 842,
   "metadata": {},
   "outputs": [],
   "source": [
    "df.drop('Unnamed: 0', axis=1, inplace=True)"
   ]
  },
  {
   "cell_type": "code",
   "execution_count": 843,
   "metadata": {},
   "outputs": [],
   "source": [
    "df.drop('composer', axis=1, inplace=True)"
   ]
  },
  {
   "cell_type": "code",
   "execution_count": 844,
   "metadata": {},
   "outputs": [],
   "source": [
    "genre_drop = df.loc[df.genre.isna()].index"
   ]
  },
  {
   "cell_type": "code",
   "execution_count": 845,
   "metadata": {},
   "outputs": [],
   "source": [
    "df.drop(genre_drop, axis=0, inplace=True)"
   ]
  },
  {
   "cell_type": "code",
   "execution_count": 846,
   "metadata": {},
   "outputs": [
    {
     "data": {
      "text/plain": [
       "0"
      ]
     },
     "execution_count": 846,
     "metadata": {},
     "output_type": "execute_result"
    }
   ],
   "source": [
    "df.genre.isna().sum()"
   ]
  },
  {
   "cell_type": "code",
   "execution_count": 847,
   "metadata": {},
   "outputs": [
    {
     "data": {
      "text/plain": [
       "0"
      ]
     },
     "execution_count": 847,
     "metadata": {},
     "output_type": "execute_result"
    }
   ],
   "source": [
    "cast_drop = df.loc[df.cast.isna()].index\n",
    "df.drop(cast_drop, axis=0, inplace=True)\n",
    "df.genre.isna().sum()"
   ]
  },
  {
   "cell_type": "code",
   "execution_count": 848,
   "metadata": {},
   "outputs": [
    {
     "data": {
      "text/plain": [
       "movie             4942\n",
       "video movie       1213\n",
       "tv movie           747\n",
       "tv series          603\n",
       "episode            468\n",
       "tv mini series     236\n",
       "tv short            13\n",
       "video game          10\n",
       "Name: kind, dtype: int64"
      ]
     },
     "execution_count": 848,
     "metadata": {},
     "output_type": "execute_result"
    }
   ],
   "source": [
    "df.kind.value_counts()"
   ]
  },
  {
   "cell_type": "code",
   "execution_count": 849,
   "metadata": {},
   "outputs": [
    {
     "data": {
      "image/png": "[encoded data removed]",
      "text/plain": [
       "<Figure size 432x288 with 1 Axes>"
      ]
     },
     "metadata": {
      "needs_background": "light"
     },
     "output_type": "display_data"
    }
   ],
   "source": [
    "ax = plt.hist(x=df.runtime, bins=30)\n",
    "plt.show()"
   ]
  },
  {
   "cell_type": "code",
   "execution_count": 850,
   "metadata": {},
   "outputs": [
    {
     "data": {
      "text/plain": [
       "1620.0"
      ]
     },
     "execution_count": 850,
     "metadata": {},
     "output_type": "execute_result"
    }
   ],
   "source": [
    "df.runtime.max()"
   ]
  },
  {
   "cell_type": "code",
   "execution_count": 851,
   "metadata": {},
   "outputs": [
    {
     "data": {
      "text/plain": [
       "661736.0"
      ]
     },
     "execution_count": 851,
     "metadata": {},
     "output_type": "execute_result"
    }
   ],
   "source": [
    "df.runtime.sum()"
   ]
  },
  {
   "cell_type": "code",
   "execution_count": 852,
   "metadata": {},
   "outputs": [
    {
     "data": {
      "text/plain": [
       "118400.0"
      ]
     },
     "execution_count": 852,
     "metadata": {},
     "output_type": "execute_result"
    }
   ],
   "source": [
    "df.runtime.sort_values().nlargest(n=500).sum()"
   ]
  },
  {
   "cell_type": "code",
   "execution_count": 853,
   "metadata": {},
   "outputs": [
    {
     "data": {
      "text/plain": [
       "title\n",
       "French Twist                                       1620.0\n",
       "The Complete History of the Philadelphia Eagles    1620.0\n",
       "Stranger Inside                                    1380.0\n",
       "Thanksgiving Family Reunion                        1335.0\n",
       "Sabretooth                                         1140.0\n",
       "Alphaville                                          960.0\n",
       "Tom and Jerry: The Magic Ring                       883.0\n",
       "La Chèvre                                           780.0\n",
       "15 Minutes                                          778.0\n",
       "Alien Nation                                        720.0\n",
       "Name: runtime, dtype: float64"
      ]
     },
     "execution_count": 853,
     "metadata": {},
     "output_type": "execute_result"
    }
   ],
   "source": [
    "df.groupby('title')['runtime'].mean().nlargest(n=10)"
   ]
  },
  {
   "cell_type": "code",
   "execution_count": 854,
   "metadata": {},
   "outputs": [
    {
     "data": {
      "text/plain": [
       "year\n",
       "2001.0    325\n",
       "2002.0    316\n",
       "2003.0    308\n",
       "2000.0    285\n",
       "2004.0    265\n",
       "1999.0    257\n",
       "1998.0    202\n",
       "1997.0    187\n",
       "1996.0    167\n",
       "1995.0    151\n",
       "1994.0    132\n",
       "1993.0    116\n",
       "1988.0     95\n",
       "1992.0     94\n",
       "2005.0     87\n",
       "1987.0     82\n",
       "1991.0     81\n",
       "1989.0     80\n",
       "1990.0     73\n",
       "1985.0     70\n",
       "1972.0     68\n",
       "1981.0     68\n",
       "1986.0     68\n",
       "1984.0     62\n",
       "1973.0     60\n",
       "1979.0     59\n",
       "1974.0     58\n",
       "1980.0     58\n",
       "1976.0     55\n",
       "1982.0     52\n",
       "Name: title, dtype: int64"
      ]
     },
     "execution_count": 854,
     "metadata": {},
     "output_type": "execute_result"
    }
   ],
   "source": [
    "#Number of movies per year\n",
    "\n",
    "df.loc[df.kind == 'movie'].groupby('year')['title'].count().nlargest(n=30)"
   ]
  },
  {
   "cell_type": "code",
   "execution_count": 855,
   "metadata": {},
   "outputs": [
    {
     "data": {
      "text/plain": [
       "country\n",
       "['United States']                      1861\n",
       "['United Kingdom']                      342\n",
       "['Japan']                               284\n",
       "['India']                               243\n",
       "['Hong Kong']                           213\n",
       "['France']                              146\n",
       "['Canada']                              131\n",
       "['United Kingdom', 'United States']      85\n",
       "['Italy']                                65\n",
       "['Australia']                            54\n",
       "['United States', 'United Kingdom']      43\n",
       "['Spain']                                40\n",
       "['France', 'Italy']                      37\n",
       "['Germany']                              36\n",
       "['South Korea']                          35\n",
       "['Italy', 'France']                      33\n",
       "['Soviet Union']                         30\n",
       "['West Germany']                         28\n",
       "['United States', 'Canada']              25\n",
       "['Mexico']                               24\n",
       "['United States', 'Germany']             21\n",
       "['Canada', 'United States']              20\n",
       "['Germany', 'United States']             20\n",
       "['Sweden']                               20\n",
       "['United Kingdom', 'France']             19\n",
       "['United States', 'Japan']               17\n",
       "['Hong Kong', 'China']                   16\n",
       "['United States', 'Mexico']              16\n",
       "['United States', 'France']              15\n",
       "['France', 'United States']              14\n",
       "Name: title, dtype: int64"
      ]
     },
     "execution_count": 855,
     "metadata": {},
     "output_type": "execute_result"
    }
   ],
   "source": [
    "# Movies per country\n",
    "\n",
    "df.loc[df.kind == 'movie'].groupby('country')['title'].count().nlargest(n=30)\n"
   ]
  },
  {
   "cell_type": "code",
   "execution_count": 856,
   "metadata": {},
   "outputs": [
    {
     "data": {
      "text/plain": [
       "<bound method DataFrame.info of                                                   title    year  \\\n",
       "0                                       Dinosaur Planet  2003.0   \n",
       "1                                     Get Up and Dance!  1994.0   \n",
       "3                          What the #$*! Do We (K)now!?  2004.0   \n",
       "4     Class of Nuke 'Em High Part II: Subhumanoid Me...  1991.0   \n",
       "6                      Neil Diamond: Greatest Hits Live  1988.0   \n",
       "...                                                 ...     ...   \n",
       "7261                                              Shade  2003.0   \n",
       "7262                                Nothing But Trouble  1991.0   \n",
       "7263                                 The Whistle Blower  1986.0   \n",
       "7265                                     The Hitchhiker  1983.0   \n",
       "7266                                          SpaceCamp  1986.0   \n",
       "\n",
       "                kind                                              genre  \\\n",
       "0     tv mini series             ['Documentary', 'Animation', 'Family']   \n",
       "1        video movie                                         ['Family']   \n",
       "3              movie  ['Documentary', 'Comedy', 'Drama', 'Fantasy', ...   \n",
       "4              movie                     ['Comedy', 'Horror', 'Sci-Fi']   \n",
       "6        video movie                           ['Documentary', 'Music']   \n",
       "...              ...                                                ...   \n",
       "7261           movie                              ['Crime', 'Thriller']   \n",
       "7262           movie                                         ['Comedy']   \n",
       "7263           movie                                       ['Thriller']   \n",
       "7265       tv series  ['Drama', 'Horror', 'Mystery', 'Sci-Fi', 'Thri...   \n",
       "7266           movie                  ['Adventure', 'Family', 'Sci-Fi']   \n",
       "\n",
       "      rating     vote               country                          language  \\\n",
       "0        7.7    474.0     ['United States']                       ['English']   \n",
       "1        8.1     18.0     ['United States']                       ['English']   \n",
       "3        5.3  13432.0     ['United States']  ['English', 'German', 'Spanish']   \n",
       "4        4.5   2177.0     ['United States']                       ['English']   \n",
       "6        8.0     81.0     ['United States']                       ['English']   \n",
       "...      ...      ...                   ...                               ...   \n",
       "7261     6.3  12485.0     ['United States']                       ['English']   \n",
       "7262     5.1  23598.0     ['United States']                       ['English']   \n",
       "7263     6.2   2069.0    ['United Kingdom']            ['English', 'Russian']   \n",
       "7265     6.8   1482.0  ['Canada', 'France']                       ['English']   \n",
       "7266     5.7  14679.0     ['United States']                       ['English']   \n",
       "\n",
       "                                                   cast  \\\n",
       "0                 ['Christian Slater', 'Scott Sampson']   \n",
       "1     ['Paula Abdul', 'Aurorah Allain', 'Bill Bohl',...   \n",
       "3     ['Marlee Matlin', 'Elaine Hendrix', 'John Ross...   \n",
       "4     ['Brick Bronsky', 'Lisa Gaye', 'Leesa Rowland'...   \n",
       "6     ['Neil Diamond', 'Richard Bennett', 'Vince Cha...   \n",
       "...                                                 ...   \n",
       "7261  ['Joe Nicolo', 'Carl Mazzocone Sr.', 'George T...   \n",
       "7262  ['Chevy Chase', 'Dan Aykroyd', 'John Candy', '...   \n",
       "7263  ['Michael Caine', 'James Fox', 'Nigel Havers',...   \n",
       "7265  ['Page Fletcher', 'Nicholas Campbell', 'Vincen...   \n",
       "7266  ['Kate Capshaw', 'Lea Thompson', 'Kelly Presto...   \n",
       "\n",
       "                                               director  \\\n",
       "0                                                   NaN   \n",
       "1                                     ['Steve Purcell']   \n",
       "3     ['William Arntz', 'Betsy Chasse', 'Mark Vicente']   \n",
       "4                                       ['Eric Louzil']   \n",
       "6                  ['Dwight Hemion', 'Peter Israelson']   \n",
       "...                                                 ...   \n",
       "7261                                  ['Damian Nieman']   \n",
       "7262                                    ['Dan Aykroyd']   \n",
       "7263                                  ['Simon Langton']   \n",
       "7265                                                NaN   \n",
       "7266                                    ['Harry Winer']   \n",
       "\n",
       "                                                 writer  runtime  \n",
       "0      ['Mike Carrol', 'Mike Carroll', 'Georgann Kane']     50.0  \n",
       "1                                                   NaN     83.0  \n",
       "3     ['William Arntz', 'Betsy Chasse', 'Matthew Hof...     60.0  \n",
       "4        ['Lloyd Kaufman', 'Carl Morano', 'Matt Unger']     96.0  \n",
       "6            ['Kenny Solms', 'Ann Elder', 'Toem Perew']     55.0  \n",
       "...                                                 ...      ...  \n",
       "7261                                  ['Damian Nieman']    106.0  \n",
       "7262                   ['Peter Aykroyd', 'Dan Aykroyd']     92.0  \n",
       "7263                       ['Julian Bond', 'John Hale']    123.0  \n",
       "7265  ['Lewis Chesler', 'Lewis Chesler', 'Lewis Ches...    112.0  \n",
       "7266  ['Clifford Green', 'Casey T. Mitchell', 'Patri...    107.0  \n",
       "\n",
       "[6614 rows x 12 columns]>"
      ]
     },
     "execution_count": 856,
     "metadata": {},
     "output_type": "execute_result"
    }
   ],
   "source": [
    "runtime_drop = df.loc[df.runtime.isna()].index\n",
    "df.drop(runtime_drop, axis=0, inplace=True)\n",
    "df.info"
   ]
  },
  {
   "cell_type": "code",
   "execution_count": 857,
   "metadata": {},
   "outputs": [
    {
     "data": {
      "text/plain": [
       "title          0\n",
       "year           0\n",
       "kind           0\n",
       "genre          0\n",
       "rating       191\n",
       "vote         191\n",
       "country      198\n",
       "language     281\n",
       "cast           0\n",
       "director    1019\n",
       "writer       933\n",
       "runtime        0\n",
       "dtype: int64"
      ]
     },
     "execution_count": 857,
     "metadata": {},
     "output_type": "execute_result"
    }
   ],
   "source": [
    "df.isna().sum()"
   ]
  },
  {
   "cell_type": "code",
   "execution_count": 858,
   "metadata": {},
   "outputs": [],
   "source": [
    "df.director = df.director.replace(np.nan, 'Unknown')"
   ]
  },
  {
   "cell_type": "code",
   "execution_count": 859,
   "metadata": {},
   "outputs": [
    {
     "data": {
      "text/plain": [
       "array(['Unknown', \"['Steve Purcell']\",\n",
       "       \"['William Arntz', 'Betsy Chasse', 'Mark Vicente']\", ...,\n",
       "       \"['Damian Nieman']\", \"['Dan Aykroyd']\", \"['Simon Langton']\"],\n",
       "      dtype=object)"
      ]
     },
     "execution_count": 859,
     "metadata": {},
     "output_type": "execute_result"
    }
   ],
   "source": [
    "df.director.unique()"
   ]
  },
  {
   "cell_type": "code",
   "execution_count": 860,
   "metadata": {},
   "outputs": [],
   "source": [
    "df.writer = df.writer.replace(np.nan, 'Unknown')"
   ]
  },
  {
   "cell_type": "code",
   "execution_count": 861,
   "metadata": {},
   "outputs": [
    {
     "data": {
      "text/plain": [
       "title         0\n",
       "year          0\n",
       "kind          0\n",
       "genre         0\n",
       "rating      191\n",
       "vote        191\n",
       "country     198\n",
       "language    281\n",
       "cast          0\n",
       "director      0\n",
       "writer        0\n",
       "runtime       0\n",
       "dtype: int64"
      ]
     },
     "execution_count": 861,
     "metadata": {},
     "output_type": "execute_result"
    }
   ],
   "source": [
    "df.isna().sum()"
   ]
  },
  {
   "cell_type": "code",
   "execution_count": 862,
   "metadata": {},
   "outputs": [
    {
     "data": {
      "text/plain": [
       "<bound method DataFrame.info of                                                   title    year  \\\n",
       "0                                       Dinosaur Planet  2003.0   \n",
       "1                                     Get Up and Dance!  1994.0   \n",
       "3                          What the #$*! Do We (K)now!?  2004.0   \n",
       "4     Class of Nuke 'Em High Part II: Subhumanoid Me...  1991.0   \n",
       "6                      Neil Diamond: Greatest Hits Live  1988.0   \n",
       "...                                                 ...     ...   \n",
       "7261                                              Shade  2003.0   \n",
       "7262                                Nothing But Trouble  1991.0   \n",
       "7263                                 The Whistle Blower  1986.0   \n",
       "7265                                     The Hitchhiker  1983.0   \n",
       "7266                                          SpaceCamp  1986.0   \n",
       "\n",
       "                kind                                              genre  \\\n",
       "0     tv mini series             ['Documentary', 'Animation', 'Family']   \n",
       "1        video movie                                         ['Family']   \n",
       "3              movie  ['Documentary', 'Comedy', 'Drama', 'Fantasy', ...   \n",
       "4              movie                     ['Comedy', 'Horror', 'Sci-Fi']   \n",
       "6        video movie                           ['Documentary', 'Music']   \n",
       "...              ...                                                ...   \n",
       "7261           movie                              ['Crime', 'Thriller']   \n",
       "7262           movie                                         ['Comedy']   \n",
       "7263           movie                                       ['Thriller']   \n",
       "7265       tv series  ['Drama', 'Horror', 'Mystery', 'Sci-Fi', 'Thri...   \n",
       "7266           movie                  ['Adventure', 'Family', 'Sci-Fi']   \n",
       "\n",
       "      rating     vote               country                          language  \\\n",
       "0        7.7    474.0     ['United States']                       ['English']   \n",
       "1        8.1     18.0     ['United States']                       ['English']   \n",
       "3        5.3  13432.0     ['United States']  ['English', 'German', 'Spanish']   \n",
       "4        4.5   2177.0     ['United States']                       ['English']   \n",
       "6        8.0     81.0     ['United States']                       ['English']   \n",
       "...      ...      ...                   ...                               ...   \n",
       "7261     6.3  12485.0     ['United States']                       ['English']   \n",
       "7262     5.1  23598.0     ['United States']                       ['English']   \n",
       "7263     6.2   2069.0    ['United Kingdom']            ['English', 'Russian']   \n",
       "7265     6.8   1482.0  ['Canada', 'France']                       ['English']   \n",
       "7266     5.7  14679.0     ['United States']                       ['English']   \n",
       "\n",
       "                                                   cast  \\\n",
       "0                 ['Christian Slater', 'Scott Sampson']   \n",
       "1     ['Paula Abdul', 'Aurorah Allain', 'Bill Bohl',...   \n",
       "3     ['Marlee Matlin', 'Elaine Hendrix', 'John Ross...   \n",
       "4     ['Brick Bronsky', 'Lisa Gaye', 'Leesa Rowland'...   \n",
       "6     ['Neil Diamond', 'Richard Bennett', 'Vince Cha...   \n",
       "...                                                 ...   \n",
       "7261  ['Joe Nicolo', 'Carl Mazzocone Sr.', 'George T...   \n",
       "7262  ['Chevy Chase', 'Dan Aykroyd', 'John Candy', '...   \n",
       "7263  ['Michael Caine', 'James Fox', 'Nigel Havers',...   \n",
       "7265  ['Page Fletcher', 'Nicholas Campbell', 'Vincen...   \n",
       "7266  ['Kate Capshaw', 'Lea Thompson', 'Kelly Presto...   \n",
       "\n",
       "                                               director  \\\n",
       "0                                               Unknown   \n",
       "1                                     ['Steve Purcell']   \n",
       "3     ['William Arntz', 'Betsy Chasse', 'Mark Vicente']   \n",
       "4                                       ['Eric Louzil']   \n",
       "6                  ['Dwight Hemion', 'Peter Israelson']   \n",
       "...                                                 ...   \n",
       "7261                                  ['Damian Nieman']   \n",
       "7262                                    ['Dan Aykroyd']   \n",
       "7263                                  ['Simon Langton']   \n",
       "7265                                            Unknown   \n",
       "7266                                    ['Harry Winer']   \n",
       "\n",
       "                                                 writer  runtime  \n",
       "0      ['Mike Carrol', 'Mike Carroll', 'Georgann Kane']     50.0  \n",
       "1                                               Unknown     83.0  \n",
       "3     ['William Arntz', 'Betsy Chasse', 'Matthew Hof...     60.0  \n",
       "4        ['Lloyd Kaufman', 'Carl Morano', 'Matt Unger']     96.0  \n",
       "6            ['Kenny Solms', 'Ann Elder', 'Toem Perew']     55.0  \n",
       "...                                                 ...      ...  \n",
       "7261                                  ['Damian Nieman']    106.0  \n",
       "7262                   ['Peter Aykroyd', 'Dan Aykroyd']     92.0  \n",
       "7263                       ['Julian Bond', 'John Hale']    123.0  \n",
       "7265  ['Lewis Chesler', 'Lewis Chesler', 'Lewis Ches...    112.0  \n",
       "7266  ['Clifford Green', 'Casey T. Mitchell', 'Patri...    107.0  \n",
       "\n",
       "[6423 rows x 12 columns]>"
      ]
     },
     "execution_count": 862,
     "metadata": {},
     "output_type": "execute_result"
    }
   ],
   "source": [
    "rating_drop = df.loc[df.rating.isna()].index\n",
    "df.drop(rating_drop, axis=0, inplace=True)\n",
    "df.info"
   ]
  },
  {
   "cell_type": "code",
   "execution_count": 863,
   "metadata": {},
   "outputs": [
    {
     "data": {
      "text/plain": [
       "title         0\n",
       "year          0\n",
       "kind          0\n",
       "genre         0\n",
       "rating        0\n",
       "vote          0\n",
       "country     133\n",
       "language    223\n",
       "cast          0\n",
       "director      0\n",
       "writer        0\n",
       "runtime       0\n",
       "dtype: int64"
      ]
     },
     "execution_count": 863,
     "metadata": {},
     "output_type": "execute_result"
    }
   ],
   "source": [
    "df.isna().sum()"
   ]
  },
  {
   "cell_type": "code",
   "execution_count": 864,
   "metadata": {},
   "outputs": [
    {
     "data": {
      "text/plain": [
       "0.0"
      ]
     },
     "execution_count": 864,
     "metadata": {},
     "output_type": "execute_result"
    }
   ],
   "source": [
    "df[df.vote.isna()]['runtime'].sort_values(ascending=False).sum()"
   ]
  },
  {
   "cell_type": "code",
   "execution_count": 865,
   "metadata": {},
   "outputs": [
    {
     "data": {
      "text/plain": [
       "Int64Index([ 191,  208,  233,  414,  520,  554,  667,  730,  813,  819,  896,\n",
       "             920,  928,  935,  947, 1044, 1110, 1226, 1401, 1529, 1649, 2141,\n",
       "            2157, 2219, 2255, 2508, 2719, 2725, 2865, 2942, 3178, 3277, 3348,\n",
       "            3393, 3508, 3513, 3535, 3826, 3888, 3948, 4148, 4195, 4245, 4291,\n",
       "            4442, 4458, 4482, 4575, 4626, 4628, 4743, 4790, 4848, 4964, 5131,\n",
       "            5146, 5167, 5257, 5278, 5283, 5524, 5863, 6908, 6945, 7054],\n",
       "           dtype='int64')"
      ]
     },
     "execution_count": 865,
     "metadata": {},
     "output_type": "execute_result"
    }
   ],
   "source": [
    "missing_language = df.loc[(df.language.isna()==True) & (df.country == \"['United States']\")].index\n",
    "missing_language"
   ]
  },
  {
   "cell_type": "code",
   "execution_count": 866,
   "metadata": {},
   "outputs": [
    {
     "data": {
      "text/plain": [
       "title         0\n",
       "year          0\n",
       "kind          0\n",
       "genre         0\n",
       "rating        0\n",
       "vote          0\n",
       "country     133\n",
       "language    158\n",
       "cast          0\n",
       "director      0\n",
       "writer        0\n",
       "runtime       0\n",
       "dtype: int64"
      ]
     },
     "execution_count": 866,
     "metadata": {},
     "output_type": "execute_result"
    }
   ],
   "source": [
    "df.language = np.where( (df.language.isna()) & (df.country == \"['United States']\"), 'English', df.language)\n",
    "df.isna().sum()\n"
   ]
  },
  {
   "cell_type": "code",
   "execution_count": 867,
   "metadata": {},
   "outputs": [
    {
     "data": {
      "text/plain": [
       "title         0\n",
       "year          0\n",
       "kind          0\n",
       "genre         0\n",
       "rating        0\n",
       "vote          0\n",
       "country     133\n",
       "language    147\n",
       "cast          0\n",
       "director      0\n",
       "writer        0\n",
       "runtime       0\n",
       "dtype: int64"
      ]
     },
     "execution_count": 867,
     "metadata": {},
     "output_type": "execute_result"
    }
   ],
   "source": [
    "df.language = np.where( (df.language.isna()) & (df.country == \"['Japan']\"), 'Japanese', df.language)\n",
    "df.isna().sum()\n"
   ]
  },
  {
   "cell_type": "code",
   "execution_count": 868,
   "metadata": {},
   "outputs": [
    {
     "data": {
      "text/plain": [
       "title         0\n",
       "year          0\n",
       "kind          0\n",
       "genre         0\n",
       "rating        0\n",
       "vote          0\n",
       "country     133\n",
       "language    143\n",
       "cast          0\n",
       "director      0\n",
       "writer        0\n",
       "runtime       0\n",
       "dtype: int64"
      ]
     },
     "execution_count": 868,
     "metadata": {},
     "output_type": "execute_result"
    }
   ],
   "source": [
    "df.language = np.where( (df.language.isna()) & (df.country == \"['United Kingdom']\"), 'English', df.language)\n",
    "df.isna().sum()"
   ]
  },
  {
   "cell_type": "code",
   "execution_count": 869,
   "metadata": {},
   "outputs": [
    {
     "data": {
      "text/plain": [
       "title         0\n",
       "year          0\n",
       "kind          0\n",
       "genre         0\n",
       "rating        0\n",
       "vote          0\n",
       "country     133\n",
       "language    143\n",
       "cast          0\n",
       "director      0\n",
       "writer        0\n",
       "runtime       0\n",
       "dtype: int64"
      ]
     },
     "execution_count": 869,
     "metadata": {},
     "output_type": "execute_result"
    }
   ],
   "source": [
    "df.country = np.where( (df.country.isna()) & (df.language == \"['Japanese']\"), 'Japan', df.country)\n",
    "df.isna().sum()"
   ]
  },
  {
   "cell_type": "code",
   "execution_count": 870,
   "metadata": {},
   "outputs": [
    {
     "data": {
      "text/plain": [
       "['English']               13\n",
       "['English', 'Spanish']     1\n",
       "Name: language, dtype: int64"
      ]
     },
     "execution_count": 870,
     "metadata": {},
     "output_type": "execute_result"
    }
   ],
   "source": [
    "df[(df.country.isna() == True) & (df.language.isna() == False)]['language'].value_counts()"
   ]
  },
  {
   "cell_type": "code",
   "execution_count": 871,
   "metadata": {},
   "outputs": [
    {
     "data": {
      "text/plain": [
       "['Canada']                                       5\n",
       "['Canada', 'United States']                      3\n",
       "['Sweden']                                       2\n",
       "['Canada', 'United Kingdom']                     2\n",
       "['Norway']                                       1\n",
       "['Canada', 'France', 'United Kingdom']           1\n",
       "['France']                                       1\n",
       "['Hong Kong']                                    1\n",
       "['Italy']                                        1\n",
       "['United States', 'Canada']                      1\n",
       "['United States', 'Japan', 'Canada']             1\n",
       "['United States', 'United Kingdom']              1\n",
       "['Mexico']                                       1\n",
       "['Canada', 'France', 'Guadeloupe']               1\n",
       "['France', 'Madagascar', 'Vietnam', 'Canada']    1\n",
       "['Ireland', 'United States']                     1\n",
       "Name: country, dtype: int64"
      ]
     },
     "execution_count": 871,
     "metadata": {},
     "output_type": "execute_result"
    }
   ],
   "source": [
    "df[(df.language.isna() == True) & (df.country.isna() == False)]['country'].value_counts()"
   ]
  },
  {
   "cell_type": "code",
   "execution_count": 872,
   "metadata": {},
   "outputs": [
    {
     "data": {
      "text/plain": [
       "title         0\n",
       "year          0\n",
       "kind          0\n",
       "genre         0\n",
       "rating        0\n",
       "vote          0\n",
       "country     133\n",
       "language    141\n",
       "cast          0\n",
       "director      0\n",
       "writer        0\n",
       "runtime       0\n",
       "dtype: int64"
      ]
     },
     "execution_count": 872,
     "metadata": {},
     "output_type": "execute_result"
    }
   ],
   "source": [
    "df.language = np.where( (df.language.isna()) & (df.country == \"['Sweden']\"), 'Swedish', df.language)\n",
    "df.isna().sum()"
   ]
  },
  {
   "cell_type": "code",
   "execution_count": 873,
   "metadata": {},
   "outputs": [
    {
     "data": {
      "text/plain": [
       "title         0\n",
       "year          0\n",
       "kind          0\n",
       "genre         0\n",
       "rating        0\n",
       "vote          0\n",
       "country     133\n",
       "language    140\n",
       "cast          0\n",
       "director      0\n",
       "writer        0\n",
       "runtime       0\n",
       "dtype: int64"
      ]
     },
     "execution_count": 873,
     "metadata": {},
     "output_type": "execute_result"
    }
   ],
   "source": [
    "df.language = np.where( (df.language.isna()) & (df.country == \"['Norway']\"), 'Norwegian', df.language)\n",
    "df.isna().sum()"
   ]
  },
  {
   "cell_type": "code",
   "execution_count": 874,
   "metadata": {},
   "outputs": [
    {
     "name": "stdout",
     "output_type": "stream",
     "text": [
      "<class 'pandas.core.frame.DataFrame'>\n",
      "Int64Index: 6423 entries, 0 to 7266\n",
      "Data columns (total 12 columns):\n",
      " #   Column    Non-Null Count  Dtype  \n",
      "---  ------    --------------  -----  \n",
      " 0   title     6423 non-null   object \n",
      " 1   year      6423 non-null   float64\n",
      " 2   kind      6423 non-null   object \n",
      " 3   genre     6423 non-null   object \n",
      " 4   rating    6423 non-null   float64\n",
      " 5   vote      6423 non-null   float64\n",
      " 6   country   6290 non-null   object \n",
      " 7   language  6283 non-null   object \n",
      " 8   cast      6423 non-null   object \n",
      " 9   director  6423 non-null   object \n",
      " 10  writer    6423 non-null   object \n",
      " 11  runtime   6423 non-null   float64\n",
      "dtypes: float64(4), object(8)\n",
      "memory usage: 652.3+ KB\n"
     ]
    }
   ],
   "source": [
    "df.info()"
   ]
  },
  {
   "cell_type": "code",
   "execution_count": 875,
   "metadata": {},
   "outputs": [
    {
     "data": {
      "text/plain": [
       "title         0\n",
       "year          0\n",
       "kind          0\n",
       "genre         0\n",
       "rating        0\n",
       "vote          0\n",
       "country     133\n",
       "language      0\n",
       "cast          0\n",
       "director      0\n",
       "writer        0\n",
       "runtime       0\n",
       "dtype: int64"
      ]
     },
     "execution_count": 875,
     "metadata": {},
     "output_type": "execute_result"
    }
   ],
   "source": [
    "df.language = np.where((df.language.isna()), 'Other', df.language)\n",
    "df.isna().sum()"
   ]
  },
  {
   "cell_type": "code",
   "execution_count": 876,
   "metadata": {},
   "outputs": [
    {
     "data": {
      "text/plain": [
       "title       0\n",
       "year        0\n",
       "kind        0\n",
       "genre       0\n",
       "rating      0\n",
       "vote        0\n",
       "country     0\n",
       "language    0\n",
       "cast        0\n",
       "director    0\n",
       "writer      0\n",
       "runtime     0\n",
       "dtype: int64"
      ]
     },
     "execution_count": 876,
     "metadata": {},
     "output_type": "execute_result"
    }
   ],
   "source": [
    "df.country = np.where((df.country.isna()), 'Other', df.country)\n",
    "df.isna().sum()"
   ]
  },
  {
   "cell_type": "code",
   "execution_count": 877,
   "metadata": {},
   "outputs": [],
   "source": [
    "df.drop('cast', axis=1, inplace=True)"
   ]
  },
  {
   "cell_type": "code",
   "execution_count": 878,
   "metadata": {},
   "outputs": [
    {
     "data": {
      "text/html": [
       "<div><div id=cf31b971-ad4d-489f-a895-2b58ce1a1d73 style=\"display:none; background-color:#9D6CFF; color:white; width:200px; height:30px; padding-left:5px; border-radius:4px; flex-direction:row; justify-content:space-around; align-items:center;\" onmouseover=\"this.style.backgroundColor='#BA9BF8'\" onmouseout=\"this.style.backgroundColor='#9D6CFF'\" onclick=\"window.commands?.execute('create-mitosheet-from-dataframe-output');\">See Full Dataframe in Mito</div> <script> if (window.commands.hasCommand('create-mitosheet-from-dataframe-output')) document.getElementById('cf31b971-ad4d-489f-a895-2b58ce1a1d73').style.display = 'flex' </script> <table border=\"1\" class=\"dataframe\">\n",
       "  <thead>\n",
       "    <tr style=\"text-align: right;\">\n",
       "      <th></th>\n",
       "      <th>title</th>\n",
       "      <th>year</th>\n",
       "      <th>kind</th>\n",
       "      <th>genre</th>\n",
       "      <th>rating</th>\n",
       "      <th>vote</th>\n",
       "      <th>country</th>\n",
       "      <th>language</th>\n",
       "      <th>director</th>\n",
       "      <th>writer</th>\n",
       "      <th>runtime</th>\n",
       "    </tr>\n",
       "  </thead>\n",
       "  <tbody>\n",
       "    <tr>\n",
       "      <th>0</th>\n",
       "      <td>Dinosaur Planet</td>\n",
       "      <td>2003.0</td>\n",
       "      <td>tv mini series</td>\n",
       "      <td>['Documentary', 'Animation', 'Family']</td>\n",
       "      <td>7.7</td>\n",
       "      <td>474.0</td>\n",
       "      <td>['United States']</td>\n",
       "      <td>['English']</td>\n",
       "      <td>Unknown</td>\n",
       "      <td>['Mike Carrol', 'Mike Carroll', 'Georgann Kane']</td>\n",
       "      <td>50.0</td>\n",
       "    </tr>\n",
       "    <tr>\n",
       "      <th>1</th>\n",
       "      <td>Get Up and Dance!</td>\n",
       "      <td>1994.0</td>\n",
       "      <td>video movie</td>\n",
       "      <td>['Family']</td>\n",
       "      <td>8.1</td>\n",
       "      <td>18.0</td>\n",
       "      <td>['United States']</td>\n",
       "      <td>['English']</td>\n",
       "      <td>['Steve Purcell']</td>\n",
       "      <td>Unknown</td>\n",
       "      <td>83.0</td>\n",
       "    </tr>\n",
       "    <tr>\n",
       "      <th>3</th>\n",
       "      <td>What the #$*! Do We (K)now!?</td>\n",
       "      <td>2004.0</td>\n",
       "      <td>movie</td>\n",
       "      <td>['Documentary', 'Comedy', 'Drama', 'Fantasy', 'Mystery', 'Sci-Fi']</td>\n",
       "      <td>5.3</td>\n",
       "      <td>13432.0</td>\n",
       "      <td>['United States']</td>\n",
       "      <td>['English', 'German', 'Spanish']</td>\n",
       "      <td>['William Arntz', 'Betsy Chasse', 'Mark Vicente']</td>\n",
       "      <td>['William Arntz', 'Betsy Chasse', 'Matthew Hoffman']</td>\n",
       "      <td>60.0</td>\n",
       "    </tr>\n",
       "    <tr>\n",
       "      <th>4</th>\n",
       "      <td>Class of Nuke 'Em High Part II: Subhumanoid Meltdown</td>\n",
       "      <td>1991.0</td>\n",
       "      <td>movie</td>\n",
       "      <td>['Comedy', 'Horror', 'Sci-Fi']</td>\n",
       "      <td>4.5</td>\n",
       "      <td>2177.0</td>\n",
       "      <td>['United States']</td>\n",
       "      <td>['English']</td>\n",
       "      <td>['Eric Louzil']</td>\n",
       "      <td>['Lloyd Kaufman', 'Carl Morano', 'Matt Unger']</td>\n",
       "      <td>96.0</td>\n",
       "    </tr>\n",
       "    <tr>\n",
       "      <th>6</th>\n",
       "      <td>Neil Diamond: Greatest Hits Live</td>\n",
       "      <td>1988.0</td>\n",
       "      <td>video movie</td>\n",
       "      <td>['Documentary', 'Music']</td>\n",
       "      <td>8.0</td>\n",
       "      <td>81.0</td>\n",
       "      <td>['United States']</td>\n",
       "      <td>['English']</td>\n",
       "      <td>['Dwight Hemion', 'Peter Israelson']</td>\n",
       "      <td>['Kenny Solms', 'Ann Elder', 'Toem Perew']</td>\n",
       "      <td>55.0</td>\n",
       "    </tr>\n",
       "  </tbody>\n",
       "</table></div>"
      ],
      "text/plain": [
       "                                               title    year            kind  \\\n",
       "0                                    Dinosaur Planet  2003.0  tv mini series   \n",
       "1                                  Get Up and Dance!  1994.0     video movie   \n",
       "3                       What the #$*! Do We (K)now!?  2004.0           movie   \n",
       "4  Class of Nuke 'Em High Part II: Subhumanoid Me...  1991.0           movie   \n",
       "6                   Neil Diamond: Greatest Hits Live  1988.0     video movie   \n",
       "\n",
       "                                               genre  rating     vote  \\\n",
       "0             ['Documentary', 'Animation', 'Family']     7.7    474.0   \n",
       "1                                         ['Family']     8.1     18.0   \n",
       "3  ['Documentary', 'Comedy', 'Drama', 'Fantasy', ...     5.3  13432.0   \n",
       "4                     ['Comedy', 'Horror', 'Sci-Fi']     4.5   2177.0   \n",
       "6                           ['Documentary', 'Music']     8.0     81.0   \n",
       "\n",
       "             country                          language  \\\n",
       "0  ['United States']                       ['English']   \n",
       "1  ['United States']                       ['English']   \n",
       "3  ['United States']  ['English', 'German', 'Spanish']   \n",
       "4  ['United States']                       ['English']   \n",
       "6  ['United States']                       ['English']   \n",
       "\n",
       "                                            director  \\\n",
       "0                                            Unknown   \n",
       "1                                  ['Steve Purcell']   \n",
       "3  ['William Arntz', 'Betsy Chasse', 'Mark Vicente']   \n",
       "4                                    ['Eric Louzil']   \n",
       "6               ['Dwight Hemion', 'Peter Israelson']   \n",
       "\n",
       "                                              writer  runtime  \n",
       "0   ['Mike Carrol', 'Mike Carroll', 'Georgann Kane']     50.0  \n",
       "1                                            Unknown     83.0  \n",
       "3  ['William Arntz', 'Betsy Chasse', 'Matthew Hof...     60.0  \n",
       "4     ['Lloyd Kaufman', 'Carl Morano', 'Matt Unger']     96.0  \n",
       "6         ['Kenny Solms', 'Ann Elder', 'Toem Perew']     55.0  "
      ]
     },
     "execution_count": 878,
     "metadata": {},
     "output_type": "execute_result"
    }
   ],
   "source": [
    "df.head()"
   ]
  },
  {
   "cell_type": "code",
   "execution_count": 879,
   "metadata": {},
   "outputs": [],
   "source": [
    "df.drop('writer', axis=1, inplace=True)"
   ]
  },
  {
   "cell_type": "code",
   "execution_count": 880,
   "metadata": {},
   "outputs": [
    {
     "name": "stdout",
     "output_type": "stream",
     "text": [
      "<class 'pandas.core.frame.DataFrame'>\n",
      "Int64Index: 6423 entries, 0 to 7266\n",
      "Data columns (total 10 columns):\n",
      " #   Column    Non-Null Count  Dtype  \n",
      "---  ------    --------------  -----  \n",
      " 0   title     6423 non-null   object \n",
      " 1   year      6423 non-null   float64\n",
      " 2   kind      6423 non-null   object \n",
      " 3   genre     6423 non-null   object \n",
      " 4   rating    6423 non-null   float64\n",
      " 5   vote      6423 non-null   float64\n",
      " 6   country   6423 non-null   object \n",
      " 7   language  6423 non-null   object \n",
      " 8   director  6423 non-null   object \n",
      " 9   runtime   6423 non-null   float64\n",
      "dtypes: float64(4), object(6)\n",
      "memory usage: 552.0+ KB\n"
     ]
    }
   ],
   "source": [
    "df.info()"
   ]
  },
  {
   "cell_type": "code",
   "execution_count": 881,
   "metadata": {},
   "outputs": [
    {
     "data": {
      "text/plain": [
       "['English']                                                                     3795\n",
       "['Japanese']                                                                     342\n",
       "['Hindi']                                                                        164\n",
       "Other                                                                            140\n",
       "['French']                                                                       136\n",
       "                                                                                ... \n",
       "['English', 'Hungarian']                                                           1\n",
       "['Italian', 'English', 'Latin', 'Greek, Ancient (to 1453)']                        1\n",
       "['English', 'German', 'French', 'Polish']                                          1\n",
       "['Portuguese', 'Spanish']                                                          1\n",
       "['Cantonese', 'English', 'Japanese', 'Hindi', 'Mandarin', 'Punjabi', 'Urdu']       1\n",
       "Name: language, Length: 583, dtype: int64"
      ]
     },
     "execution_count": 881,
     "metadata": {},
     "output_type": "execute_result"
    }
   ],
   "source": [
    "df.language.value_counts()"
   ]
  },
  {
   "cell_type": "code",
   "execution_count": 882,
   "metadata": {},
   "outputs": [
    {
     "data": {
      "image/png": "[encoded data removed]",
      "text/plain": [
       "<Figure size 864x504 with 2 Axes>"
      ]
     },
     "metadata": {
      "needs_background": "light"
     },
     "output_type": "display_data"
    }
   ],
   "source": [
    "fig, ax = plt.subplots(figsize= (12,7))\n",
    "\n",
    "corr = df.corr().round(2)\n",
    "\n",
    "# Generate a mask for the upper triangle\n",
    "mask = np.triu(np.ones_like(corr, dtype=bool))\n",
    "\n",
    "sns.heatmap(corr, annot=True, fmt=\"\", cmap='RdYlGn', mask=mask, linewidths=0.30, ax=ax)\n",
    "plt.show()"
   ]
  },
  {
   "cell_type": "code",
   "execution_count": 883,
   "metadata": {},
   "outputs": [
    {
     "data": {
      "image/png": "[encoded data removed]",
      "text/plain": [
       "<Figure size 864x648 with 1 Axes>"
      ]
     },
     "metadata": {
      "needs_background": "light"
     },
     "output_type": "display_data"
    }
   ],
   "source": [
    "vote = df.vote.value_counts().nlargest(n=1000)\n",
    "fig, ax = plt.subplots(figsize=(12, 9))\n",
    "plt.style.use('ggplot')\n",
    "vote.plot.bar()\n",
    "plt.show()"
   ]
  },
  {
   "cell_type": "code",
   "execution_count": 884,
   "metadata": {},
   "outputs": [
    {
     "data": {
      "image/png": "[encoded data removed]",
      "text/plain": [
       "<Figure size 864x648 with 1 Axes>"
      ]
     },
     "metadata": {},
     "output_type": "display_data"
    }
   ],
   "source": [
    "rating = df.rating.value_counts().nlargest(n=1000)\n",
    "fig, ax = plt.subplots(figsize=(12, 9))\n",
    "plt.style.use('ggplot')\n",
    "rating.plot.bar()\n",
    "plt.show()"
   ]
  },
  {
   "cell_type": "code",
   "execution_count": 885,
   "metadata": {},
   "outputs": [
    {
     "name": "stderr",
     "output_type": "stream",
     "text": [
      "C:\\Users\\olivi\\AppData\\Local\\Temp\\ipykernel_21044\\4069824184.py:3: FutureWarning: The default value of regex will change from True to False in a future version. In addition, single character regular expressions will *not* be treated as literal strings when regex=True.\n",
      "  df.country = df.country.str.replace(\"[\", \"\").str.replace(\"]\", \"\")\n",
      "C:\\Users\\olivi\\AppData\\Local\\Temp\\ipykernel_21044\\4069824184.py:10: FutureWarning: The default value of regex will change from True to False in a future version. In addition, single character regular expressions will *not* be treated as literal strings when regex=True.\n",
      "  df.genre=df.genre.str.replace(\"[\", \"\").str.replace(\"]\", \"\")\n",
      "C:\\Users\\olivi\\AppData\\Local\\Temp\\ipykernel_21044\\4069824184.py:16: FutureWarning: The default value of regex will change from True to False in a future version. In addition, single character regular expressions will *not* be treated as literal strings when regex=True.\n",
      "  df.language=df.language.str.replace(\"[\", \"\").str.replace(\"]\", \"\")\n",
      "C:\\Users\\olivi\\AppData\\Local\\Temp\\ipykernel_21044\\4069824184.py:22: FutureWarning: The default value of regex will change from True to False in a future version. In addition, single character regular expressions will *not* be treated as literal strings when regex=True.\n",
      "  df.director=df.director.str.replace(\"[\", \"\").str.replace(\"]\", \"\")\n"
     ]
    },
    {
     "data": {
      "text/plain": [
       "0               Unknown\n",
       "1       'Steve Purcell'\n",
       "3       'William Arntz'\n",
       "4         'Eric Louzil'\n",
       "6       'Dwight Hemion'\n",
       "             ...       \n",
       "7261    'Damian Nieman'\n",
       "7262      'Dan Aykroyd'\n",
       "7263    'Simon Langton'\n",
       "7265            Unknown\n",
       "7266      'Harry Winer'\n",
       "Name: director, Length: 6423, dtype: object"
      ]
     },
     "execution_count": 885,
     "metadata": {},
     "output_type": "execute_result"
    }
   ],
   "source": [
    "#Split genres, country, language and keep first of each\n",
    "\n",
    "df.country = df.country.str.replace(\"[\", \"\").str.replace(\"]\", \"\")\n",
    "df.country\n",
    "netflix_country= df.country.str.split(\",\").apply(pd.Series)\n",
    "df.country=netflix_country[0]\n",
    "df.country\n",
    "\n",
    "\n",
    "df.genre=df.genre.str.replace(\"[\", \"\").str.replace(\"]\", \"\")\n",
    "df.genre\n",
    "netflix_genre= df.genre.str.split(\",\").apply(pd.Series)\n",
    "df.genre=netflix_genre[0]\n",
    "df.genre \n",
    "\n",
    "df.language=df.language.str.replace(\"[\", \"\").str.replace(\"]\", \"\")\n",
    "df.language\n",
    "netflix_language= df.language.str.split(\",\").apply(pd.Series)\n",
    "df.language=netflix_language[0]\n",
    "df.language\n",
    "\n",
    "df.director=df.director.str.replace(\"[\", \"\").str.replace(\"]\", \"\")\n",
    "df.director\n",
    "netflix_director= df.director.str.split(\",\").apply(pd.Series)\n",
    "df.director = netflix_director[0]\n",
    "df.director\n",
    "\n"
   ]
  },
  {
   "cell_type": "code",
   "execution_count": 886,
   "metadata": {},
   "outputs": [
    {
     "data": {
      "text/html": [
       "<div><div id=9d0af6b9-acb1-4cdb-824e-74fbd38ca8cb style=\"display:none; background-color:#9D6CFF; color:white; width:200px; height:30px; padding-left:5px; border-radius:4px; flex-direction:row; justify-content:space-around; align-items:center;\" onmouseover=\"this.style.backgroundColor='#BA9BF8'\" onmouseout=\"this.style.backgroundColor='#9D6CFF'\" onclick=\"window.commands?.execute('create-mitosheet-from-dataframe-output');\">See Full Dataframe in Mito</div> <script> if (window.commands.hasCommand('create-mitosheet-from-dataframe-output')) document.getElementById('9d0af6b9-acb1-4cdb-824e-74fbd38ca8cb').style.display = 'flex' </script> <table border=\"1\" class=\"dataframe\">\n",
       "  <thead>\n",
       "    <tr style=\"text-align: right;\">\n",
       "      <th></th>\n",
       "      <th>title</th>\n",
       "      <th>year</th>\n",
       "      <th>kind</th>\n",
       "      <th>genre</th>\n",
       "      <th>rating</th>\n",
       "      <th>vote</th>\n",
       "      <th>country</th>\n",
       "      <th>language</th>\n",
       "      <th>director</th>\n",
       "      <th>runtime</th>\n",
       "    </tr>\n",
       "  </thead>\n",
       "  <tbody>\n",
       "    <tr>\n",
       "      <th>0</th>\n",
       "      <td>Dinosaur Planet</td>\n",
       "      <td>2003.0</td>\n",
       "      <td>tv mini series</td>\n",
       "      <td>'Documentary'</td>\n",
       "      <td>7.7</td>\n",
       "      <td>474.0</td>\n",
       "      <td>'United States'</td>\n",
       "      <td>'English'</td>\n",
       "      <td>Unknown</td>\n",
       "      <td>50.0</td>\n",
       "    </tr>\n",
       "    <tr>\n",
       "      <th>1</th>\n",
       "      <td>Get Up and Dance!</td>\n",
       "      <td>1994.0</td>\n",
       "      <td>video movie</td>\n",
       "      <td>'Family'</td>\n",
       "      <td>8.1</td>\n",
       "      <td>18.0</td>\n",
       "      <td>'United States'</td>\n",
       "      <td>'English'</td>\n",
       "      <td>'Steve Purcell'</td>\n",
       "      <td>83.0</td>\n",
       "    </tr>\n",
       "    <tr>\n",
       "      <th>3</th>\n",
       "      <td>What the #$*! Do We (K)now!?</td>\n",
       "      <td>2004.0</td>\n",
       "      <td>movie</td>\n",
       "      <td>'Documentary'</td>\n",
       "      <td>5.3</td>\n",
       "      <td>13432.0</td>\n",
       "      <td>'United States'</td>\n",
       "      <td>'English'</td>\n",
       "      <td>'William Arntz'</td>\n",
       "      <td>60.0</td>\n",
       "    </tr>\n",
       "    <tr>\n",
       "      <th>4</th>\n",
       "      <td>Class of Nuke 'Em High Part II: Subhumanoid Meltdown</td>\n",
       "      <td>1991.0</td>\n",
       "      <td>movie</td>\n",
       "      <td>'Comedy'</td>\n",
       "      <td>4.5</td>\n",
       "      <td>2177.0</td>\n",
       "      <td>'United States'</td>\n",
       "      <td>'English'</td>\n",
       "      <td>'Eric Louzil'</td>\n",
       "      <td>96.0</td>\n",
       "    </tr>\n",
       "    <tr>\n",
       "      <th>6</th>\n",
       "      <td>Neil Diamond: Greatest Hits Live</td>\n",
       "      <td>1988.0</td>\n",
       "      <td>video movie</td>\n",
       "      <td>'Documentary'</td>\n",
       "      <td>8.0</td>\n",
       "      <td>81.0</td>\n",
       "      <td>'United States'</td>\n",
       "      <td>'English'</td>\n",
       "      <td>'Dwight Hemion'</td>\n",
       "      <td>55.0</td>\n",
       "    </tr>\n",
       "  </tbody>\n",
       "</table></div>"
      ],
      "text/plain": [
       "                                               title    year            kind  \\\n",
       "0                                    Dinosaur Planet  2003.0  tv mini series   \n",
       "1                                  Get Up and Dance!  1994.0     video movie   \n",
       "3                       What the #$*! Do We (K)now!?  2004.0           movie   \n",
       "4  Class of Nuke 'Em High Part II: Subhumanoid Me...  1991.0           movie   \n",
       "6                   Neil Diamond: Greatest Hits Live  1988.0     video movie   \n",
       "\n",
       "           genre  rating     vote          country   language  \\\n",
       "0  'Documentary'     7.7    474.0  'United States'  'English'   \n",
       "1       'Family'     8.1     18.0  'United States'  'English'   \n",
       "3  'Documentary'     5.3  13432.0  'United States'  'English'   \n",
       "4       'Comedy'     4.5   2177.0  'United States'  'English'   \n",
       "6  'Documentary'     8.0     81.0  'United States'  'English'   \n",
       "\n",
       "          director  runtime  \n",
       "0          Unknown     50.0  \n",
       "1  'Steve Purcell'     83.0  \n",
       "3  'William Arntz'     60.0  \n",
       "4    'Eric Louzil'     96.0  \n",
       "6  'Dwight Hemion'     55.0  "
      ]
     },
     "execution_count": 886,
     "metadata": {},
     "output_type": "execute_result"
    }
   ],
   "source": [
    "df.head()"
   ]
  },
  {
   "cell_type": "code",
   "execution_count": 887,
   "metadata": {},
   "outputs": [
    {
     "data": {
      "text/plain": [
       "year    genre      \n",
       "2003.0  'Action'       5916943.0\n",
       "1972.0  'Crime'        3424838.0\n",
       "1999.0  'Action'       3167899.0\n",
       "1959.0  'Drama'        3040837.0\n",
       "1994.0  'Drama'        2939375.0\n",
       "        'Action'       2679298.0\n",
       "1998.0  'Comedy'       2562623.0\n",
       "2002.0  'Action'       2454964.0\n",
       "1994.0  'Crime'        1980119.0\n",
       "2004.0  'Action'       1632839.0\n",
       "        'Comedy'       1620581.0\n",
       "2001.0  'Animation'    1598038.0\n",
       "1993.0  'Action'       1552182.0\n",
       "2001.0  'Comedy'       1513836.0\n",
       "1997.0  'Action'       1407697.0\n",
       "2002.0  'Crime'        1308598.0\n",
       "2003.0  'Comedy'       1264080.0\n",
       "1980.0  'Action'       1245586.0\n",
       "1983.0  'Action'       1207704.0\n",
       "1991.0  'Action'       1196659.0\n",
       "Name: vote, dtype: float64"
      ]
     },
     "execution_count": 887,
     "metadata": {},
     "output_type": "execute_result"
    }
   ],
   "source": [
    "#The most popular genre per year\n",
    "\n",
    "df.groupby([\"year\",\"genre\"])['vote'].sum().nlargest(n=20).sort_values(ascending=False)\n"
   ]
  },
  {
   "cell_type": "code",
   "execution_count": 888,
   "metadata": {},
   "outputs": [
    {
     "data": {
      "text/plain": [
       "country           genre        \n",
       "'United States'   'Action'         22264275.0\n",
       "                  'Comedy'         12620452.0\n",
       "                  'Drama'           9698193.0\n",
       "                  'Crime'           8281067.0\n",
       "                  'Animation'       4224040.0\n",
       "'Japan'           'Animation'       3787472.0\n",
       "'United Kingdom'  'Comedy'          3160027.0\n",
       "'France'          'Action'          2910337.0\n",
       "'United Kingdom'  'Drama'           2490949.0\n",
       "'United States'   'Horror'          2329175.0\n",
       "                  'Biography'       2315558.0\n",
       "'United Kingdom'  'Adventure'       2167617.0\n",
       "'New Zealand'     'Action'          1709032.0\n",
       "'United States'   'Adventure'       1650921.0\n",
       "'France'          'Comedy'          1374472.0\n",
       "'United States'   'Documentary'     1263992.0\n",
       "'United Kingdom'  'Action'          1156429.0\n",
       "'Hong Kong'       'Action'          1112277.0\n",
       "'United Kingdom'  'Biography'       1039053.0\n",
       "'Japan'           'Action'          1019767.0\n",
       "'United States'   'Mystery'          994961.0\n",
       "'France'          'Drama'            801718.0\n",
       "'Canada'          'Drama'            723374.0\n",
       "'Brazil'          'Crime'            721546.0\n",
       "'Australia'       'Action'           692764.0\n",
       "'India'           'Action'           674526.0\n",
       "'Italy'           'Drama'            627131.0\n",
       "                  'Western'          565142.0\n",
       "'Sweden'          'Drama'            561731.0\n",
       "'United Kingdom'  'Crime'            498197.0\n",
       "Name: vote, dtype: float64"
      ]
     },
     "execution_count": 888,
     "metadata": {},
     "output_type": "execute_result"
    }
   ],
   "source": [
    "#The most popular genre per country\n",
    "\n",
    "df.groupby([\"country\", \"genre\"])['vote'].sum().nlargest(n=30).sort_values(ascending=False)\n"
   ]
  },
  {
   "cell_type": "code",
   "execution_count": 889,
   "metadata": {},
   "outputs": [
    {
     "data": {
      "text/plain": [
       "movie             3793\n",
       "video movie        960\n",
       "tv movie           616\n",
       "tv series          509\n",
       "episode            325\n",
       "tv mini series     204\n",
       "video game           8\n",
       "tv short             8\n",
       "Name: kind, dtype: int64"
      ]
     },
     "execution_count": 889,
     "metadata": {},
     "output_type": "execute_result"
    }
   ],
   "source": [
    "df.kind.value_counts()\n"
   ]
  },
  {
   "cell_type": "code",
   "execution_count": 890,
   "metadata": {},
   "outputs": [
    {
     "data": {
      "text/plain": [
       "'Drama'          1190\n",
       "'Comedy'         1089\n",
       "'Documentary'    1008\n",
       "'Action'          878\n",
       "'Animation'       661\n",
       "'Crime'           369\n",
       "'Adventure'       259\n",
       "'Horror'          249\n",
       "'Biography'       190\n",
       "'Music'           171\n",
       "'Family'           61\n",
       "'Short'            60\n",
       "'Fantasy'          40\n",
       "'Thriller'         37\n",
       "'Mystery'          26\n",
       "'Sci-Fi'           25\n",
       "'Musical'          23\n",
       "'Romance'          21\n",
       "'Western'          19\n",
       "'Sport'            19\n",
       "'Reality-TV'       12\n",
       "'History'           7\n",
       "'Game-Show'         5\n",
       "'Film-Noir'         3\n",
       "'Talk-Show'         1\n",
       "Name: genre, dtype: int64"
      ]
     },
     "execution_count": 890,
     "metadata": {},
     "output_type": "execute_result"
    }
   ],
   "source": [
    "df.genre.value_counts()"
   ]
  },
  {
   "cell_type": "code",
   "execution_count": 891,
   "metadata": {},
   "outputs": [],
   "source": [
    "other_genres = df.genre.value_counts()[10:].index.tolist()"
   ]
  },
  {
   "cell_type": "code",
   "execution_count": 892,
   "metadata": {},
   "outputs": [
    {
     "name": "stderr",
     "output_type": "stream",
     "text": [
      "C:\\Users\\olivi\\AppData\\Local\\Temp\\ipykernel_21044\\2262671922.py:1: SettingWithCopyWarning: \n",
      "A value is trying to be set on a copy of a slice from a DataFrame\n",
      "\n",
      "See the caveats in the documentation: https://pandas.pydata.org/pandas-docs/stable/user_guide/indexing.html#returning-a-view-versus-a-copy\n",
      "  df.genre[df.genre.isin(other_genres)]=\"Other\"\n"
     ]
    },
    {
     "data": {
      "text/plain": [
       "array([\"'Documentary'\", 'Other', \"'Comedy'\", \"'Action'\", \"'Adventure'\",\n",
       "       \"'Drama'\", \"'Animation'\", \"'Horror'\", \"'Biography'\", \"'Music'\",\n",
       "       \"'Crime'\"], dtype=object)"
      ]
     },
     "execution_count": 892,
     "metadata": {},
     "output_type": "execute_result"
    }
   ],
   "source": [
    "df.genre[df.genre.isin(other_genres)]=\"Other\"\n",
    "df.genre.unique()"
   ]
  },
  {
   "cell_type": "code",
   "execution_count": 893,
   "metadata": {},
   "outputs": [
    {
     "data": {
      "text/plain": [
       "'Drama'          1190\n",
       "'Comedy'         1089\n",
       "'Documentary'    1008\n",
       "'Action'          878\n",
       "'Animation'       661\n",
       "'Crime'           369\n",
       "Other             359\n",
       "'Adventure'       259\n",
       "'Horror'          249\n",
       "'Biography'       190\n",
       "'Music'           171\n",
       "Name: genre, dtype: int64"
      ]
     },
     "execution_count": 893,
     "metadata": {},
     "output_type": "execute_result"
    }
   ],
   "source": [
    "df.genre.value_counts()\n",
    "\n",
    "#genre is now ok for dummies"
   ]
  },
  {
   "cell_type": "code",
   "execution_count": 894,
   "metadata": {},
   "outputs": [
    {
     "data": {
      "text/plain": [
       "'United States'     3073\n",
       "'United Kingdom'     835\n",
       "'Japan'              513\n",
       "'Canada'             312\n",
       "'France'             280\n",
       "                    ... \n",
       "'Portugal'             1\n",
       "'Aruba'                1\n",
       "'East Germany'         1\n",
       "'Cambodia'             1\n",
       "'Venezuela'            1\n",
       "Name: country, Length: 63, dtype: int64"
      ]
     },
     "execution_count": 894,
     "metadata": {},
     "output_type": "execute_result"
    }
   ],
   "source": [
    "df.country.value_counts()"
   ]
  },
  {
   "cell_type": "code",
   "execution_count": 895,
   "metadata": {},
   "outputs": [],
   "source": [
    "other_countries = df.country.value_counts()[10:].index.tolist()"
   ]
  },
  {
   "cell_type": "code",
   "execution_count": 896,
   "metadata": {},
   "outputs": [
    {
     "name": "stderr",
     "output_type": "stream",
     "text": [
      "C:\\Users\\olivi\\AppData\\Local\\Temp\\ipykernel_21044\\4140505687.py:1: SettingWithCopyWarning: \n",
      "A value is trying to be set on a copy of a slice from a DataFrame\n",
      "\n",
      "See the caveats in the documentation: https://pandas.pydata.org/pandas-docs/stable/user_guide/indexing.html#returning-a-view-versus-a-copy\n",
      "  df.country[df.country.isin(other_countries)]=\"Other\"\n"
     ]
    },
    {
     "data": {
      "text/plain": [
       "array([\"'United States'\", \"'United Kingdom'\", \"'India'\", \"'Japan'\",\n",
       "       \"'France'\", \"'Canada'\", 'Other', \"'Hong Kong'\", \"'Italy'\",\n",
       "       \"'Australia'\"], dtype=object)"
      ]
     },
     "execution_count": 896,
     "metadata": {},
     "output_type": "execute_result"
    }
   ],
   "source": [
    "df.country[df.country.isin(other_countries)]=\"Other\"\n",
    "df.country.unique()"
   ]
  },
  {
   "cell_type": "code",
   "execution_count": 897,
   "metadata": {},
   "outputs": [
    {
     "data": {
      "text/plain": [
       "'United States'     3073\n",
       "'United Kingdom'     835\n",
       "Other                768\n",
       "'Japan'              513\n",
       "'Canada'             312\n",
       "'France'             280\n",
       "'Hong Kong'          224\n",
       "'India'              209\n",
       "'Italy'              121\n",
       "'Australia'           88\n",
       "Name: country, dtype: int64"
      ]
     },
     "execution_count": 897,
     "metadata": {},
     "output_type": "execute_result"
    }
   ],
   "source": [
    "df.country.value_counts()"
   ]
  },
  {
   "cell_type": "code",
   "execution_count": 898,
   "metadata": {},
   "outputs": [
    {
     "data": {
      "text/html": [
       "<div><div id=929cdacc-cedb-4e68-85a1-f5ccc7a95407 style=\"display:none; background-color:#9D6CFF; color:white; width:200px; height:30px; padding-left:5px; border-radius:4px; flex-direction:row; justify-content:space-around; align-items:center;\" onmouseover=\"this.style.backgroundColor='#BA9BF8'\" onmouseout=\"this.style.backgroundColor='#9D6CFF'\" onclick=\"window.commands?.execute('create-mitosheet-from-dataframe-output');\">See Full Dataframe in Mito</div> <script> if (window.commands.hasCommand('create-mitosheet-from-dataframe-output')) document.getElementById('929cdacc-cedb-4e68-85a1-f5ccc7a95407').style.display = 'flex' </script> <table border=\"1\" class=\"dataframe\">\n",
       "  <thead>\n",
       "    <tr style=\"text-align: right;\">\n",
       "      <th></th>\n",
       "      <th>year</th>\n",
       "      <th>rating</th>\n",
       "      <th>vote</th>\n",
       "      <th>runtime</th>\n",
       "    </tr>\n",
       "  </thead>\n",
       "  <tbody>\n",
       "    <tr>\n",
       "      <th>0</th>\n",
       "      <td>2003.0</td>\n",
       "      <td>7.7</td>\n",
       "      <td>474.0</td>\n",
       "      <td>50.0</td>\n",
       "    </tr>\n",
       "    <tr>\n",
       "      <th>1</th>\n",
       "      <td>1994.0</td>\n",
       "      <td>8.1</td>\n",
       "      <td>18.0</td>\n",
       "      <td>83.0</td>\n",
       "    </tr>\n",
       "    <tr>\n",
       "      <th>3</th>\n",
       "      <td>2004.0</td>\n",
       "      <td>5.3</td>\n",
       "      <td>13432.0</td>\n",
       "      <td>60.0</td>\n",
       "    </tr>\n",
       "    <tr>\n",
       "      <th>4</th>\n",
       "      <td>1991.0</td>\n",
       "      <td>4.5</td>\n",
       "      <td>2177.0</td>\n",
       "      <td>96.0</td>\n",
       "    </tr>\n",
       "    <tr>\n",
       "      <th>6</th>\n",
       "      <td>1988.0</td>\n",
       "      <td>8.0</td>\n",
       "      <td>81.0</td>\n",
       "      <td>55.0</td>\n",
       "    </tr>\n",
       "    <tr>\n",
       "      <th>...</th>\n",
       "      <td>...</td>\n",
       "      <td>...</td>\n",
       "      <td>...</td>\n",
       "      <td>...</td>\n",
       "    </tr>\n",
       "    <tr>\n",
       "      <th>7261</th>\n",
       "      <td>2003.0</td>\n",
       "      <td>6.3</td>\n",
       "      <td>12485.0</td>\n",
       "      <td>106.0</td>\n",
       "    </tr>\n",
       "    <tr>\n",
       "      <th>7262</th>\n",
       "      <td>1991.0</td>\n",
       "      <td>5.1</td>\n",
       "      <td>23598.0</td>\n",
       "      <td>92.0</td>\n",
       "    </tr>\n",
       "    <tr>\n",
       "      <th>7263</th>\n",
       "      <td>1986.0</td>\n",
       "      <td>6.2</td>\n",
       "      <td>2069.0</td>\n",
       "      <td>123.0</td>\n",
       "    </tr>\n",
       "    <tr>\n",
       "      <th>7265</th>\n",
       "      <td>1983.0</td>\n",
       "      <td>6.8</td>\n",
       "      <td>1482.0</td>\n",
       "      <td>112.0</td>\n",
       "    </tr>\n",
       "    <tr>\n",
       "      <th>7266</th>\n",
       "      <td>1986.0</td>\n",
       "      <td>5.7</td>\n",
       "      <td>14679.0</td>\n",
       "      <td>107.0</td>\n",
       "    </tr>\n",
       "  </tbody>\n",
       "</table></div>"
      ],
      "text/plain": [
       "        year  rating     vote  runtime\n",
       "0     2003.0     7.7    474.0     50.0\n",
       "1     1994.0     8.1     18.0     83.0\n",
       "3     2004.0     5.3  13432.0     60.0\n",
       "4     1991.0     4.5   2177.0     96.0\n",
       "6     1988.0     8.0     81.0     55.0\n",
       "...      ...     ...      ...      ...\n",
       "7261  2003.0     6.3  12485.0    106.0\n",
       "7262  1991.0     5.1  23598.0     92.0\n",
       "7263  1986.0     6.2   2069.0    123.0\n",
       "7265  1983.0     6.8   1482.0    112.0\n",
       "7266  1986.0     5.7  14679.0    107.0\n",
       "\n",
       "[6423 rows x 4 columns]"
      ]
     },
     "execution_count": 898,
     "metadata": {},
     "output_type": "execute_result"
    }
   ],
   "source": [
    "df_num = df.select_dtypes(include=np.number)\n",
    "df_num"
   ]
  },
  {
   "cell_type": "code",
   "execution_count": 899,
   "metadata": {},
   "outputs": [
    {
     "data": {
      "text/html": [
       "<div><div id=ef1e9fe2-f9f6-44c7-b8b5-8bfb805be32c style=\"display:none; background-color:#9D6CFF; color:white; width:200px; height:30px; padding-left:5px; border-radius:4px; flex-direction:row; justify-content:space-around; align-items:center;\" onmouseover=\"this.style.backgroundColor='#BA9BF8'\" onmouseout=\"this.style.backgroundColor='#9D6CFF'\" onclick=\"window.commands?.execute('create-mitosheet-from-dataframe-output');\">See Full Dataframe in Mito</div> <script> if (window.commands.hasCommand('create-mitosheet-from-dataframe-output')) document.getElementById('ef1e9fe2-f9f6-44c7-b8b5-8bfb805be32c').style.display = 'flex' </script> <table border=\"1\" class=\"dataframe\">\n",
       "  <thead>\n",
       "    <tr style=\"text-align: right;\">\n",
       "      <th></th>\n",
       "      <th>title</th>\n",
       "      <th>kind</th>\n",
       "      <th>genre</th>\n",
       "      <th>country</th>\n",
       "      <th>language</th>\n",
       "      <th>director</th>\n",
       "    </tr>\n",
       "  </thead>\n",
       "  <tbody>\n",
       "    <tr>\n",
       "      <th>0</th>\n",
       "      <td>Dinosaur Planet</td>\n",
       "      <td>tv mini series</td>\n",
       "      <td>'Documentary'</td>\n",
       "      <td>'United States'</td>\n",
       "      <td>'English'</td>\n",
       "      <td>Unknown</td>\n",
       "    </tr>\n",
       "    <tr>\n",
       "      <th>1</th>\n",
       "      <td>Get Up and Dance!</td>\n",
       "      <td>video movie</td>\n",
       "      <td>Other</td>\n",
       "      <td>'United States'</td>\n",
       "      <td>'English'</td>\n",
       "      <td>'Steve Purcell'</td>\n",
       "    </tr>\n",
       "    <tr>\n",
       "      <th>3</th>\n",
       "      <td>What the #$*! Do We (K)now!?</td>\n",
       "      <td>movie</td>\n",
       "      <td>'Documentary'</td>\n",
       "      <td>'United States'</td>\n",
       "      <td>'English'</td>\n",
       "      <td>'William Arntz'</td>\n",
       "    </tr>\n",
       "    <tr>\n",
       "      <th>4</th>\n",
       "      <td>Class of Nuke 'Em High Part II: Subhumanoid Meltdown</td>\n",
       "      <td>movie</td>\n",
       "      <td>'Comedy'</td>\n",
       "      <td>'United States'</td>\n",
       "      <td>'English'</td>\n",
       "      <td>'Eric Louzil'</td>\n",
       "    </tr>\n",
       "    <tr>\n",
       "      <th>6</th>\n",
       "      <td>Neil Diamond: Greatest Hits Live</td>\n",
       "      <td>video movie</td>\n",
       "      <td>'Documentary'</td>\n",
       "      <td>'United States'</td>\n",
       "      <td>'English'</td>\n",
       "      <td>'Dwight Hemion'</td>\n",
       "    </tr>\n",
       "    <tr>\n",
       "      <th>...</th>\n",
       "      <td>...</td>\n",
       "      <td>...</td>\n",
       "      <td>...</td>\n",
       "      <td>...</td>\n",
       "      <td>...</td>\n",
       "      <td>...</td>\n",
       "    </tr>\n",
       "    <tr>\n",
       "      <th>7261</th>\n",
       "      <td>Shade</td>\n",
       "      <td>movie</td>\n",
       "      <td>'Crime'</td>\n",
       "      <td>'United States'</td>\n",
       "      <td>'English'</td>\n",
       "      <td>'Damian Nieman'</td>\n",
       "    </tr>\n",
       "    <tr>\n",
       "      <th>7262</th>\n",
       "      <td>Nothing But Trouble</td>\n",
       "      <td>movie</td>\n",
       "      <td>'Comedy'</td>\n",
       "      <td>'United States'</td>\n",
       "      <td>'English'</td>\n",
       "      <td>'Dan Aykroyd'</td>\n",
       "    </tr>\n",
       "    <tr>\n",
       "      <th>7263</th>\n",
       "      <td>The Whistle Blower</td>\n",
       "      <td>movie</td>\n",
       "      <td>Other</td>\n",
       "      <td>'United Kingdom'</td>\n",
       "      <td>'English'</td>\n",
       "      <td>'Simon Langton'</td>\n",
       "    </tr>\n",
       "    <tr>\n",
       "      <th>7265</th>\n",
       "      <td>The Hitchhiker</td>\n",
       "      <td>tv series</td>\n",
       "      <td>'Drama'</td>\n",
       "      <td>'Canada'</td>\n",
       "      <td>'English'</td>\n",
       "      <td>Unknown</td>\n",
       "    </tr>\n",
       "    <tr>\n",
       "      <th>7266</th>\n",
       "      <td>SpaceCamp</td>\n",
       "      <td>movie</td>\n",
       "      <td>'Adventure'</td>\n",
       "      <td>'United States'</td>\n",
       "      <td>'English'</td>\n",
       "      <td>'Harry Winer'</td>\n",
       "    </tr>\n",
       "  </tbody>\n",
       "</table></div>"
      ],
      "text/plain": [
       "                                                  title            kind  \\\n",
       "0                                       Dinosaur Planet  tv mini series   \n",
       "1                                     Get Up and Dance!     video movie   \n",
       "3                          What the #$*! Do We (K)now!?           movie   \n",
       "4     Class of Nuke 'Em High Part II: Subhumanoid Me...           movie   \n",
       "6                      Neil Diamond: Greatest Hits Live     video movie   \n",
       "...                                                 ...             ...   \n",
       "7261                                              Shade           movie   \n",
       "7262                                Nothing But Trouble           movie   \n",
       "7263                                 The Whistle Blower           movie   \n",
       "7265                                     The Hitchhiker       tv series   \n",
       "7266                                          SpaceCamp           movie   \n",
       "\n",
       "              genre           country   language         director  \n",
       "0     'Documentary'   'United States'  'English'          Unknown  \n",
       "1             Other   'United States'  'English'  'Steve Purcell'  \n",
       "3     'Documentary'   'United States'  'English'  'William Arntz'  \n",
       "4          'Comedy'   'United States'  'English'    'Eric Louzil'  \n",
       "6     'Documentary'   'United States'  'English'  'Dwight Hemion'  \n",
       "...             ...               ...        ...              ...  \n",
       "7261        'Crime'   'United States'  'English'  'Damian Nieman'  \n",
       "7262       'Comedy'   'United States'  'English'    'Dan Aykroyd'  \n",
       "7263          Other  'United Kingdom'  'English'  'Simon Langton'  \n",
       "7265        'Drama'          'Canada'  'English'          Unknown  \n",
       "7266    'Adventure'   'United States'  'English'    'Harry Winer'  \n",
       "\n",
       "[6423 rows x 6 columns]"
      ]
     },
     "execution_count": 899,
     "metadata": {},
     "output_type": "execute_result"
    }
   ],
   "source": [
    "df_cat= df.drop(df_num, axis=1)\n",
    "df_cat"
   ]
  },
  {
   "cell_type": "code",
   "execution_count": 900,
   "metadata": {},
   "outputs": [
    {
     "name": "stderr",
     "output_type": "stream",
     "text": [
      "C:\\Users\\olivi\\AppData\\Local\\Temp\\ipykernel_21044\\3684344997.py:3: SettingWithCopyWarning: \n",
      "A value is trying to be set on a copy of a slice from a DataFrame\n",
      "\n",
      "See the caveats in the documentation: https://pandas.pydata.org/pandas-docs/stable/user_guide/indexing.html#returning-a-view-versus-a-copy\n",
      "  df.language[df.language.isin(other_languages)]=\"Other\"\n"
     ]
    },
    {
     "data": {
      "text/plain": [
       "array([\"'English'\", \"'Hindi'\", \"'Japanese'\", \"'French'\", 'Other',\n",
       "       \"'Cantonese'\", \"'Mandarin'\", \"'Spanish'\", \"'German'\", \"'Italian'\"],\n",
       "      dtype=object)"
      ]
     },
     "execution_count": 900,
     "metadata": {},
     "output_type": "execute_result"
    }
   ],
   "source": [
    "other_languages = df.language.value_counts()[10:].index.tolist()\n",
    "\n",
    "df.language[df.language.isin(other_languages)]=\"Other\"\n",
    "df.language.unique()"
   ]
  },
  {
   "cell_type": "code",
   "execution_count": 901,
   "metadata": {},
   "outputs": [
    {
     "data": {
      "text/plain": [
       "'English'      4493\n",
       "Other           520\n",
       "'Japanese'      438\n",
       "'French'        248\n",
       "'Hindi'         193\n",
       "'Cantonese'     183\n",
       "'Italian'       102\n",
       "'Spanish'        99\n",
       "'German'         76\n",
       "'Mandarin'       71\n",
       "Name: language, dtype: int64"
      ]
     },
     "execution_count": 901,
     "metadata": {},
     "output_type": "execute_result"
    }
   ],
   "source": [
    "df.language.value_counts()"
   ]
  },
  {
   "cell_type": "code",
   "execution_count": 902,
   "metadata": {},
   "outputs": [],
   "source": [
    "df.drop('language', axis=1, inplace=True)"
   ]
  },
  {
   "cell_type": "code",
   "execution_count": 903,
   "metadata": {},
   "outputs": [
    {
     "name": "stderr",
     "output_type": "stream",
     "text": [
      "C:\\Users\\olivi\\AppData\\Local\\Temp\\ipykernel_21044\\2820433243.py:3: SettingWithCopyWarning: \n",
      "A value is trying to be set on a copy of a slice from a DataFrame\n",
      "\n",
      "See the caveats in the documentation: https://pandas.pydata.org/pandas-docs/stable/user_guide/indexing.html#returning-a-view-versus-a-copy\n",
      "  df.director[df.director.isin(other_directors)]=\"Other\"\n"
     ]
    },
    {
     "data": {
      "text/plain": [
       "Other                     5369\n",
       "Unknown                    926\n",
       "'Kevin Dunn'                21\n",
       "'Beth McCarthy-Miller'      14\n",
       "'Akira Kurosawa'            14\n",
       "'Takashi Miike'             14\n",
       "'Werner Herzog'             14\n",
       "'Jing Wong'                 13\n",
       "'David Mallet'              13\n",
       "'Tom Clegg'                 13\n",
       "'Jim Wynorski'              12\n",
       "Name: director, dtype: int64"
      ]
     },
     "execution_count": 903,
     "metadata": {},
     "output_type": "execute_result"
    }
   ],
   "source": [
    "other_directors = df.director.value_counts()[10:].index.tolist()\n",
    "\n",
    "df.director[df.director.isin(other_directors)]=\"Other\"\n",
    "df.director.value_counts()"
   ]
  },
  {
   "cell_type": "code",
   "execution_count": 904,
   "metadata": {},
   "outputs": [
    {
     "name": "stdout",
     "output_type": "stream",
     "text": [
      "<class 'pandas.core.frame.DataFrame'>\n",
      "Int64Index: 6423 entries, 0 to 7266\n",
      "Data columns (total 8 columns):\n",
      " #   Column   Non-Null Count  Dtype  \n",
      "---  ------   --------------  -----  \n",
      " 0   title    6423 non-null   object \n",
      " 1   year     6423 non-null   float64\n",
      " 2   kind     6423 non-null   object \n",
      " 3   genre    6423 non-null   object \n",
      " 4   rating   6423 non-null   float64\n",
      " 5   vote     6423 non-null   float64\n",
      " 6   country  6423 non-null   object \n",
      " 7   runtime  6423 non-null   float64\n",
      "dtypes: float64(4), object(4)\n",
      "memory usage: 451.6+ KB\n"
     ]
    }
   ],
   "source": [
    "df.drop('director', axis=1, inplace=True)\n",
    "df.info()"
   ]
  },
  {
   "cell_type": "code",
   "execution_count": 905,
   "metadata": {},
   "outputs": [],
   "source": [
    "#Label encoder\n",
    "\n",
    "from sklearn.preprocessing import LabelEncoder\n",
    "\n",
    "label = LabelEncoder()\n",
    "df.kind = label.fit_transform(df.kind)\n"
   ]
  },
  {
   "cell_type": "code",
   "execution_count": 906,
   "metadata": {},
   "outputs": [
    {
     "data": {
      "text/html": [
       "<div><div id=aec14165-0ef2-4f29-bbde-b8ad52948334 style=\"display:none; background-color:#9D6CFF; color:white; width:200px; height:30px; padding-left:5px; border-radius:4px; flex-direction:row; justify-content:space-around; align-items:center;\" onmouseover=\"this.style.backgroundColor='#BA9BF8'\" onmouseout=\"this.style.backgroundColor='#9D6CFF'\" onclick=\"window.commands?.execute('create-mitosheet-from-dataframe-output');\">See Full Dataframe in Mito</div> <script> if (window.commands.hasCommand('create-mitosheet-from-dataframe-output')) document.getElementById('aec14165-0ef2-4f29-bbde-b8ad52948334').style.display = 'flex' </script> <table border=\"1\" class=\"dataframe\">\n",
       "  <thead>\n",
       "    <tr style=\"text-align: right;\">\n",
       "      <th></th>\n",
       "      <th>title</th>\n",
       "      <th>year</th>\n",
       "      <th>kind</th>\n",
       "      <th>genre</th>\n",
       "      <th>rating</th>\n",
       "      <th>vote</th>\n",
       "      <th>country</th>\n",
       "      <th>runtime</th>\n",
       "    </tr>\n",
       "  </thead>\n",
       "  <tbody>\n",
       "    <tr>\n",
       "      <th>0</th>\n",
       "      <td>Dinosaur Planet</td>\n",
       "      <td>2003.0</td>\n",
       "      <td>2</td>\n",
       "      <td>'Documentary'</td>\n",
       "      <td>7.7</td>\n",
       "      <td>474.0</td>\n",
       "      <td>'United States'</td>\n",
       "      <td>50.0</td>\n",
       "    </tr>\n",
       "    <tr>\n",
       "      <th>1</th>\n",
       "      <td>Get Up and Dance!</td>\n",
       "      <td>1994.0</td>\n",
       "      <td>7</td>\n",
       "      <td>Other</td>\n",
       "      <td>8.1</td>\n",
       "      <td>18.0</td>\n",
       "      <td>'United States'</td>\n",
       "      <td>83.0</td>\n",
       "    </tr>\n",
       "    <tr>\n",
       "      <th>3</th>\n",
       "      <td>What the #$*! Do We (K)now!?</td>\n",
       "      <td>2004.0</td>\n",
       "      <td>1</td>\n",
       "      <td>'Documentary'</td>\n",
       "      <td>5.3</td>\n",
       "      <td>13432.0</td>\n",
       "      <td>'United States'</td>\n",
       "      <td>60.0</td>\n",
       "    </tr>\n",
       "    <tr>\n",
       "      <th>4</th>\n",
       "      <td>Class of Nuke 'Em High Part II: Subhumanoid Meltdown</td>\n",
       "      <td>1991.0</td>\n",
       "      <td>1</td>\n",
       "      <td>'Comedy'</td>\n",
       "      <td>4.5</td>\n",
       "      <td>2177.0</td>\n",
       "      <td>'United States'</td>\n",
       "      <td>96.0</td>\n",
       "    </tr>\n",
       "    <tr>\n",
       "      <th>6</th>\n",
       "      <td>Neil Diamond: Greatest Hits Live</td>\n",
       "      <td>1988.0</td>\n",
       "      <td>7</td>\n",
       "      <td>'Documentary'</td>\n",
       "      <td>8.0</td>\n",
       "      <td>81.0</td>\n",
       "      <td>'United States'</td>\n",
       "      <td>55.0</td>\n",
       "    </tr>\n",
       "  </tbody>\n",
       "</table></div>"
      ],
      "text/plain": [
       "                                               title    year  kind  \\\n",
       "0                                    Dinosaur Planet  2003.0     2   \n",
       "1                                  Get Up and Dance!  1994.0     7   \n",
       "3                       What the #$*! Do We (K)now!?  2004.0     1   \n",
       "4  Class of Nuke 'Em High Part II: Subhumanoid Me...  1991.0     1   \n",
       "6                   Neil Diamond: Greatest Hits Live  1988.0     7   \n",
       "\n",
       "           genre  rating     vote          country  runtime  \n",
       "0  'Documentary'     7.7    474.0  'United States'     50.0  \n",
       "1          Other     8.1     18.0  'United States'     83.0  \n",
       "3  'Documentary'     5.3  13432.0  'United States'     60.0  \n",
       "4       'Comedy'     4.5   2177.0  'United States'     96.0  \n",
       "6  'Documentary'     8.0     81.0  'United States'     55.0  "
      ]
     },
     "execution_count": 906,
     "metadata": {},
     "output_type": "execute_result"
    }
   ],
   "source": [
    "df.head()"
   ]
  },
  {
   "cell_type": "code",
   "execution_count": 907,
   "metadata": {},
   "outputs": [
    {
     "data": {
      "text/plain": [
       "title\n",
       "The Shawshank Redemption                         2461873.0\n",
       "Pulp Fiction                                     1907147.0\n",
       "The Matrix                                       1755454.0\n",
       "The Lord of the Rings: The Return of the King    1708569.0\n",
       "The Godfather                                    1702753.5\n",
       "                                                   ...    \n",
       "Spooks and Creeps                                      6.0\n",
       "VeggieTales: The Toy That Saved Christmas!             6.0\n",
       "The Little Fugitive                                    6.0\n",
       "Pride 10: Return of the Warriors                       6.0\n",
       "Underground Railroad                                   5.0\n",
       "Name: vote, Length: 6187, dtype: float64"
      ]
     },
     "execution_count": 907,
     "metadata": {},
     "output_type": "execute_result"
    }
   ],
   "source": [
    "df.groupby('title')['vote'].mean().sort_values(ascending=False)"
   ]
  },
  {
   "cell_type": "code",
   "execution_count": 908,
   "metadata": {},
   "outputs": [
    {
     "data": {
      "text/html": [
       "<div><div id=1c1f5783-e03c-4cc2-820d-b987c4184e64 style=\"display:none; background-color:#9D6CFF; color:white; width:200px; height:30px; padding-left:5px; border-radius:4px; flex-direction:row; justify-content:space-around; align-items:center;\" onmouseover=\"this.style.backgroundColor='#BA9BF8'\" onmouseout=\"this.style.backgroundColor='#9D6CFF'\" onclick=\"window.commands?.execute('create-mitosheet-from-dataframe-output');\">See Full Dataframe in Mito</div> <script> if (window.commands.hasCommand('create-mitosheet-from-dataframe-output')) document.getElementById('1c1f5783-e03c-4cc2-820d-b987c4184e64').style.display = 'flex' </script> <table border=\"1\" class=\"dataframe\">\n",
       "  <thead>\n",
       "    <tr style=\"text-align: right;\">\n",
       "      <th></th>\n",
       "      <th>year</th>\n",
       "      <th>kind</th>\n",
       "      <th>genre</th>\n",
       "      <th>rating</th>\n",
       "      <th>vote</th>\n",
       "      <th>country</th>\n",
       "      <th>runtime</th>\n",
       "    </tr>\n",
       "  </thead>\n",
       "  <tbody>\n",
       "    <tr>\n",
       "      <th>0</th>\n",
       "      <td>2003.0</td>\n",
       "      <td>2</td>\n",
       "      <td>'Documentary'</td>\n",
       "      <td>7.7</td>\n",
       "      <td>474.0</td>\n",
       "      <td>'United States'</td>\n",
       "      <td>50.0</td>\n",
       "    </tr>\n",
       "    <tr>\n",
       "      <th>1</th>\n",
       "      <td>1994.0</td>\n",
       "      <td>7</td>\n",
       "      <td>Other</td>\n",
       "      <td>8.1</td>\n",
       "      <td>18.0</td>\n",
       "      <td>'United States'</td>\n",
       "      <td>83.0</td>\n",
       "    </tr>\n",
       "    <tr>\n",
       "      <th>3</th>\n",
       "      <td>2004.0</td>\n",
       "      <td>1</td>\n",
       "      <td>'Documentary'</td>\n",
       "      <td>5.3</td>\n",
       "      <td>13432.0</td>\n",
       "      <td>'United States'</td>\n",
       "      <td>60.0</td>\n",
       "    </tr>\n",
       "    <tr>\n",
       "      <th>4</th>\n",
       "      <td>1991.0</td>\n",
       "      <td>1</td>\n",
       "      <td>'Comedy'</td>\n",
       "      <td>4.5</td>\n",
       "      <td>2177.0</td>\n",
       "      <td>'United States'</td>\n",
       "      <td>96.0</td>\n",
       "    </tr>\n",
       "    <tr>\n",
       "      <th>6</th>\n",
       "      <td>1988.0</td>\n",
       "      <td>7</td>\n",
       "      <td>'Documentary'</td>\n",
       "      <td>8.0</td>\n",
       "      <td>81.0</td>\n",
       "      <td>'United States'</td>\n",
       "      <td>55.0</td>\n",
       "    </tr>\n",
       "  </tbody>\n",
       "</table></div>"
      ],
      "text/plain": [
       "     year  kind          genre  rating     vote          country  runtime\n",
       "0  2003.0     2  'Documentary'     7.7    474.0  'United States'     50.0\n",
       "1  1994.0     7          Other     8.1     18.0  'United States'     83.0\n",
       "3  2004.0     1  'Documentary'     5.3  13432.0  'United States'     60.0\n",
       "4  1991.0     1       'Comedy'     4.5   2177.0  'United States'     96.0\n",
       "6  1988.0     7  'Documentary'     8.0     81.0  'United States'     55.0"
      ]
     },
     "execution_count": 908,
     "metadata": {},
     "output_type": "execute_result"
    }
   ],
   "source": [
    "df.drop('title', axis=1, inplace=True)\n",
    "df.head()"
   ]
  },
  {
   "cell_type": "code",
   "execution_count": 909,
   "metadata": {},
   "outputs": [
    {
     "data": {
      "text/html": [
       "<div><div id=8458cb96-7532-4e0c-80e0-5b3dfcd41faf style=\"display:none; background-color:#9D6CFF; color:white; width:200px; height:30px; padding-left:5px; border-radius:4px; flex-direction:row; justify-content:space-around; align-items:center;\" onmouseover=\"this.style.backgroundColor='#BA9BF8'\" onmouseout=\"this.style.backgroundColor='#9D6CFF'\" onclick=\"window.commands?.execute('create-mitosheet-from-dataframe-output');\">See Full Dataframe in Mito</div> <script> if (window.commands.hasCommand('create-mitosheet-from-dataframe-output')) document.getElementById('8458cb96-7532-4e0c-80e0-5b3dfcd41faf').style.display = 'flex' </script> <table border=\"1\" class=\"dataframe\">\n",
       "  <thead>\n",
       "    <tr style=\"text-align: right;\">\n",
       "      <th></th>\n",
       "      <th>year</th>\n",
       "      <th>kind</th>\n",
       "      <th>genre</th>\n",
       "      <th>rating</th>\n",
       "      <th>vote</th>\n",
       "      <th>country</th>\n",
       "      <th>runtime</th>\n",
       "    </tr>\n",
       "  </thead>\n",
       "  <tbody>\n",
       "    <tr>\n",
       "      <th>0</th>\n",
       "      <td>2003.0</td>\n",
       "      <td>2</td>\n",
       "      <td>6</td>\n",
       "      <td>7.7</td>\n",
       "      <td>474.0</td>\n",
       "      <td>'United States'</td>\n",
       "      <td>50.0</td>\n",
       "    </tr>\n",
       "    <tr>\n",
       "      <th>1</th>\n",
       "      <td>1994.0</td>\n",
       "      <td>7</td>\n",
       "      <td>10</td>\n",
       "      <td>8.1</td>\n",
       "      <td>18.0</td>\n",
       "      <td>'United States'</td>\n",
       "      <td>83.0</td>\n",
       "    </tr>\n",
       "    <tr>\n",
       "      <th>3</th>\n",
       "      <td>2004.0</td>\n",
       "      <td>1</td>\n",
       "      <td>6</td>\n",
       "      <td>5.3</td>\n",
       "      <td>13432.0</td>\n",
       "      <td>'United States'</td>\n",
       "      <td>60.0</td>\n",
       "    </tr>\n",
       "    <tr>\n",
       "      <th>4</th>\n",
       "      <td>1991.0</td>\n",
       "      <td>1</td>\n",
       "      <td>4</td>\n",
       "      <td>4.5</td>\n",
       "      <td>2177.0</td>\n",
       "      <td>'United States'</td>\n",
       "      <td>96.0</td>\n",
       "    </tr>\n",
       "    <tr>\n",
       "      <th>6</th>\n",
       "      <td>1988.0</td>\n",
       "      <td>7</td>\n",
       "      <td>6</td>\n",
       "      <td>8.0</td>\n",
       "      <td>81.0</td>\n",
       "      <td>'United States'</td>\n",
       "      <td>55.0</td>\n",
       "    </tr>\n",
       "  </tbody>\n",
       "</table></div>"
      ],
      "text/plain": [
       "     year  kind  genre  rating     vote          country  runtime\n",
       "0  2003.0     2      6     7.7    474.0  'United States'     50.0\n",
       "1  1994.0     7     10     8.1     18.0  'United States'     83.0\n",
       "3  2004.0     1      6     5.3  13432.0  'United States'     60.0\n",
       "4  1991.0     1      4     4.5   2177.0  'United States'     96.0\n",
       "6  1988.0     7      6     8.0     81.0  'United States'     55.0"
      ]
     },
     "execution_count": 909,
     "metadata": {},
     "output_type": "execute_result"
    }
   ],
   "source": [
    "df.genre = label.fit_transform(df.genre)\n",
    "df.head()"
   ]
  },
  {
   "cell_type": "code",
   "execution_count": 910,
   "metadata": {},
   "outputs": [
    {
     "data": {
      "text/html": [
       "<div><div id=6da1d33c-507a-492a-b935-e3062eb649f8 style=\"display:none; background-color:#9D6CFF; color:white; width:200px; height:30px; padding-left:5px; border-radius:4px; flex-direction:row; justify-content:space-around; align-items:center;\" onmouseover=\"this.style.backgroundColor='#BA9BF8'\" onmouseout=\"this.style.backgroundColor='#9D6CFF'\" onclick=\"window.commands?.execute('create-mitosheet-from-dataframe-output');\">See Full Dataframe in Mito</div> <script> if (window.commands.hasCommand('create-mitosheet-from-dataframe-output')) document.getElementById('6da1d33c-507a-492a-b935-e3062eb649f8').style.display = 'flex' </script> <table border=\"1\" class=\"dataframe\">\n",
       "  <thead>\n",
       "    <tr style=\"text-align: right;\">\n",
       "      <th></th>\n",
       "      <th>year</th>\n",
       "      <th>kind</th>\n",
       "      <th>genre</th>\n",
       "      <th>rating</th>\n",
       "      <th>vote</th>\n",
       "      <th>country</th>\n",
       "      <th>runtime</th>\n",
       "    </tr>\n",
       "  </thead>\n",
       "  <tbody>\n",
       "    <tr>\n",
       "      <th>0</th>\n",
       "      <td>2003.0</td>\n",
       "      <td>2</td>\n",
       "      <td>6</td>\n",
       "      <td>7.7</td>\n",
       "      <td>474.0</td>\n",
       "      <td>8</td>\n",
       "      <td>50.0</td>\n",
       "    </tr>\n",
       "    <tr>\n",
       "      <th>1</th>\n",
       "      <td>1994.0</td>\n",
       "      <td>7</td>\n",
       "      <td>10</td>\n",
       "      <td>8.1</td>\n",
       "      <td>18.0</td>\n",
       "      <td>8</td>\n",
       "      <td>83.0</td>\n",
       "    </tr>\n",
       "    <tr>\n",
       "      <th>3</th>\n",
       "      <td>2004.0</td>\n",
       "      <td>1</td>\n",
       "      <td>6</td>\n",
       "      <td>5.3</td>\n",
       "      <td>13432.0</td>\n",
       "      <td>8</td>\n",
       "      <td>60.0</td>\n",
       "    </tr>\n",
       "    <tr>\n",
       "      <th>4</th>\n",
       "      <td>1991.0</td>\n",
       "      <td>1</td>\n",
       "      <td>4</td>\n",
       "      <td>4.5</td>\n",
       "      <td>2177.0</td>\n",
       "      <td>8</td>\n",
       "      <td>96.0</td>\n",
       "    </tr>\n",
       "    <tr>\n",
       "      <th>6</th>\n",
       "      <td>1988.0</td>\n",
       "      <td>7</td>\n",
       "      <td>6</td>\n",
       "      <td>8.0</td>\n",
       "      <td>81.0</td>\n",
       "      <td>8</td>\n",
       "      <td>55.0</td>\n",
       "    </tr>\n",
       "  </tbody>\n",
       "</table></div>"
      ],
      "text/plain": [
       "     year  kind  genre  rating     vote  country  runtime\n",
       "0  2003.0     2      6     7.7    474.0        8     50.0\n",
       "1  1994.0     7     10     8.1     18.0        8     83.0\n",
       "3  2004.0     1      6     5.3  13432.0        8     60.0\n",
       "4  1991.0     1      4     4.5   2177.0        8     96.0\n",
       "6  1988.0     7      6     8.0     81.0        8     55.0"
      ]
     },
     "execution_count": 910,
     "metadata": {},
     "output_type": "execute_result"
    }
   ],
   "source": [
    "df.country = label.fit_transform(df.country)\n",
    "df.head()"
   ]
  },
  {
   "cell_type": "code",
   "execution_count": 911,
   "metadata": {},
   "outputs": [
    {
     "name": "stdout",
     "output_type": "stream",
     "text": [
      "<class 'pandas.core.frame.DataFrame'>\n",
      "Int64Index: 6423 entries, 0 to 7266\n",
      "Data columns (total 7 columns):\n",
      " #   Column   Non-Null Count  Dtype  \n",
      "---  ------   --------------  -----  \n",
      " 0   year     6423 non-null   float64\n",
      " 1   kind     6423 non-null   int32  \n",
      " 2   genre    6423 non-null   int32  \n",
      " 3   rating   6423 non-null   float64\n",
      " 4   vote     6423 non-null   float64\n",
      " 5   country  6423 non-null   int32  \n",
      " 6   runtime  6423 non-null   float64\n",
      "dtypes: float64(4), int32(3)\n",
      "memory usage: 326.2 KB\n"
     ]
    }
   ],
   "source": [
    "df.info()"
   ]
  },
  {
   "cell_type": "code",
   "execution_count": 912,
   "metadata": {},
   "outputs": [
    {
     "data": {
      "image/png": "[encoded data removed]",
      "text/plain": [
       "<Figure size 432x288 with 1 Axes>"
      ]
     },
     "metadata": {},
     "output_type": "display_data"
    }
   ],
   "source": [
    "df.rating.hist()\n",
    "plt.show()"
   ]
  },
  {
   "cell_type": "code",
   "execution_count": 913,
   "metadata": {},
   "outputs": [
    {
     "data": {
      "text/plain": [
       "array([[-1., -1., -1.],\n",
       "       [ 1.,  1.,  1.]])"
      ]
     },
     "execution_count": 913,
     "metadata": {},
     "output_type": "execute_result"
    }
   ],
   "source": [
    "def standardize(x):\n",
    "    #This function takes as input a numpy array and returns a stadardized numpy array of the same dimensions.\n",
    "    #Sample input: np.array([[1,2,3],[4,5,6]])\n",
    "    #Sample output: np.array([[-1,-1,-1],[1,1,1]])\n",
    "    \n",
    "    # Your code here:\n",
    "\n",
    "    mean = np.mean(x, axis=0) \n",
    "    std = np.std(x, axis=0)\n",
    "    \n",
    "    return (x-mean)/std\n",
    "\n",
    "standardize(np.array([[1,2,3],[4,5,6]]))   "
   ]
  },
  {
   "cell_type": "code",
   "execution_count": 914,
   "metadata": {},
   "outputs": [
    {
     "data": {
      "text/html": [
       "<div><div id=d1338388-7fd1-426e-ba2c-2f228e566bf2 style=\"display:none; background-color:#9D6CFF; color:white; width:200px; height:30px; padding-left:5px; border-radius:4px; flex-direction:row; justify-content:space-around; align-items:center;\" onmouseover=\"this.style.backgroundColor='#BA9BF8'\" onmouseout=\"this.style.backgroundColor='#9D6CFF'\" onclick=\"window.commands?.execute('create-mitosheet-from-dataframe-output');\">See Full Dataframe in Mito</div> <script> if (window.commands.hasCommand('create-mitosheet-from-dataframe-output')) document.getElementById('d1338388-7fd1-426e-ba2c-2f228e566bf2').style.display = 'flex' </script> <table border=\"1\" class=\"dataframe\">\n",
       "  <thead>\n",
       "    <tr style=\"text-align: right;\">\n",
       "      <th></th>\n",
       "      <th>year</th>\n",
       "      <th>kind</th>\n",
       "      <th>genre</th>\n",
       "      <th>rating</th>\n",
       "      <th>vote</th>\n",
       "      <th>country</th>\n",
       "      <th>runtime</th>\n",
       "    </tr>\n",
       "  </thead>\n",
       "  <tbody>\n",
       "    <tr>\n",
       "      <th>0</th>\n",
       "      <td>2003.0</td>\n",
       "      <td>2</td>\n",
       "      <td>6</td>\n",
       "      <td>7.7</td>\n",
       "      <td>1</td>\n",
       "      <td>8</td>\n",
       "      <td>50.0</td>\n",
       "    </tr>\n",
       "    <tr>\n",
       "      <th>1</th>\n",
       "      <td>1994.0</td>\n",
       "      <td>7</td>\n",
       "      <td>10</td>\n",
       "      <td>8.1</td>\n",
       "      <td>0</td>\n",
       "      <td>8</td>\n",
       "      <td>83.0</td>\n",
       "    </tr>\n",
       "    <tr>\n",
       "      <th>3</th>\n",
       "      <td>2004.0</td>\n",
       "      <td>1</td>\n",
       "      <td>6</td>\n",
       "      <td>5.3</td>\n",
       "      <td>4</td>\n",
       "      <td>8</td>\n",
       "      <td>60.0</td>\n",
       "    </tr>\n",
       "    <tr>\n",
       "      <th>4</th>\n",
       "      <td>1991.0</td>\n",
       "      <td>1</td>\n",
       "      <td>4</td>\n",
       "      <td>4.5</td>\n",
       "      <td>2</td>\n",
       "      <td>8</td>\n",
       "      <td>96.0</td>\n",
       "    </tr>\n",
       "    <tr>\n",
       "      <th>6</th>\n",
       "      <td>1988.0</td>\n",
       "      <td>7</td>\n",
       "      <td>6</td>\n",
       "      <td>8.0</td>\n",
       "      <td>0</td>\n",
       "      <td>8</td>\n",
       "      <td>55.0</td>\n",
       "    </tr>\n",
       "  </tbody>\n",
       "</table></div>"
      ],
      "text/plain": [
       "     year  kind  genre  rating  vote  country  runtime\n",
       "0  2003.0     2      6     7.7     1        8     50.0\n",
       "1  1994.0     7     10     8.1     0        8     83.0\n",
       "3  2004.0     1      6     5.3     4        8     60.0\n",
       "4  1991.0     1      4     4.5     2        8     96.0\n",
       "6  1988.0     7      6     8.0     0        8     55.0"
      ]
     },
     "execution_count": 914,
     "metadata": {},
     "output_type": "execute_result"
    }
   ],
   "source": [
    "#Bin our runtime (Y = vote)\n",
    "\n",
    "df.vote = pd.qcut(df.vote,\n",
    "                            q=[0, .2, .4, .6, .8, 1],\n",
    "                            labels=False,\n",
    "                            precision=0)\n",
    "df.head()\n"
   ]
  },
  {
   "cell_type": "code",
   "execution_count": 915,
   "metadata": {},
   "outputs": [
    {
     "name": "stdout",
     "output_type": "stream",
     "text": [
      "(6423, 6)\n",
      "(6423,)\n",
      "(5780, 6)\n",
      "(5780,)\n",
      "(643, 6)\n",
      "(643,)\n"
     ]
    }
   ],
   "source": [
    "#Split train and test sets + normalize x !\n",
    "\n",
    "from sklearn.model_selection import train_test_split\n",
    "from sklearn import preprocessing\n",
    "import numpy as np\n",
    "\n",
    "# Your code here:\n",
    "x = df.drop(['vote'], axis=1)\n",
    "y = df['vote']\n",
    "# print(x.head())\n",
    "print(x.shape)\n",
    "# print(y.head())\n",
    "print(y.shape)\n",
    "\n",
    "x_train, x_test, y_train, y_test = train_test_split(x, y, test_size=0.1, random_state=42)\n",
    "print(x_train.shape)\n",
    "print(y_train.shape)\n",
    "print(x_test.shape)\n",
    "print(y_test.shape)"
   ]
  },
  {
   "cell_type": "code",
   "execution_count": 916,
   "metadata": {},
   "outputs": [],
   "source": [
    "from sklearn.metrics import classification_report\n",
    "from sklearn.metrics import confusion_matrix"
   ]
  },
  {
   "cell_type": "code",
   "execution_count": 917,
   "metadata": {},
   "outputs": [],
   "source": [
    "def generate_results(model, predictions, name):\n",
    "    cl_rep = classification_report(y_test, predictions)\n",
    "    print(\"\\nThe classification report for \" + name + \" is:\", cl_rep, sep = \"\\n\")\n",
    "    cm_model = confusion_matrix(y_test, predictions)\n",
    "    plt.figure(figsize = (8, 6))\n",
    "    sns.heatmap(cm_model, annot = True, cmap = 'Blues', annot_kws = {'size': 15}, square = True)\n",
    "    plt.title('Confusion Matrix for ' + name, size = 15)\n",
    "    plt.xticks(size = 15)\n",
    "    plt.yticks(size = 15)\n",
    "    plt.show() "
   ]
  },
  {
   "cell_type": "code",
   "execution_count": 958,
   "metadata": {},
   "outputs": [
    {
     "name": "stdout",
     "output_type": "stream",
     "text": [
      "The accuracy of the Random Forest Classifier is: 51.94401244167963 %\n",
      "\n",
      "The classification report for Random Forest Classifier is:\n",
      "              precision    recall  f1-score   support\n",
      "\n",
      "           0       0.62      0.65      0.63       135\n",
      "           1       0.47      0.43      0.45       129\n",
      "           2       0.38      0.33      0.35       123\n",
      "           3       0.47      0.48      0.48       133\n",
      "           4       0.61      0.70      0.65       123\n",
      "\n",
      "    accuracy                           0.52       643\n",
      "   macro avg       0.51      0.52      0.51       643\n",
      "weighted avg       0.51      0.52      0.51       643\n",
      "\n"
     ]
    },
    {
     "data": {
      "image/png": "[encoded data removed]",
      "text/plain": [
       "<Figure size 576x432 with 2 Axes>"
      ]
     },
     "metadata": {},
     "output_type": "display_data"
    }
   ],
   "source": [
    "from sklearn.ensemble import RandomForestClassifier\n",
    "\n",
    "rfc = RandomForestClassifier(max_depth=15, class_weight= \"balanced\", random_state=25)\n",
    "rfc.fit(x_train, y_train)\n",
    "y_pred = rfc.predict(x_test)\n",
    "acc_rfc = rfc.score(x_test, y_test)\n",
    "print('The accuracy of the Random Forest Classifier is:', acc_rfc * 100, '%')\n",
    "generate_results(rfc, y_pred, 'Random Forest Classifier')\n"
   ]
  },
  {
   "cell_type": "code",
   "execution_count": 919,
   "metadata": {},
   "outputs": [
    {
     "data": {
      "image/png": "[encoded data removed]",
      "text/plain": [
       "<Figure size 1080x648 with 2 Axes>"
      ]
     },
     "metadata": {},
     "output_type": "display_data"
    }
   ],
   "source": [
    "fig, ax = plt.subplots(figsize= (15,9))\n",
    "\n",
    "dfX = df.drop('vote', axis=1)\n",
    "\n",
    "corr = dfX.corr().round(2)\n",
    "\n",
    "# Generate a mask for the upper triangle\n",
    "mask = np.triu(np.ones_like(corr, dtype=bool))\n",
    "\n",
    "sns.heatmap(corr, annot=True, fmt=\"\", cmap='RdYlGn', mask=mask, linewidths=0.30, ax=ax)\n",
    "plt.show()"
   ]
  },
  {
   "cell_type": "code",
   "execution_count": 937,
   "metadata": {},
   "outputs": [
    {
     "name": "stderr",
     "output_type": "stream",
     "text": [
      "C:\\Users\\olivi\\AppData\\Local\\Packages\\PythonSoftwareFoundation.Python.3.9_qbz5n2kfra8p0\\LocalCache\\local-packages\\Python39\\site-packages\\scipy\\optimize\\_linesearch.py:456: LineSearchWarning: The line search algorithm did not converge\n",
      "  warn('The line search algorithm did not converge', LineSearchWarning)\n",
      "C:\\Users\\olivi\\AppData\\Local\\Packages\\PythonSoftwareFoundation.Python.3.9_qbz5n2kfra8p0\\LocalCache\\local-packages\\Python39\\site-packages\\scipy\\optimize\\_linesearch.py:305: LineSearchWarning: The line search algorithm did not converge\n",
      "  warn('The line search algorithm did not converge', LineSearchWarning)\n",
      "C:\\Users\\olivi\\AppData\\Local\\Packages\\PythonSoftwareFoundation.Python.3.9_qbz5n2kfra8p0\\LocalCache\\local-packages\\Python39\\site-packages\\scipy\\optimize\\_linesearch.py:415: LineSearchWarning: Rounding errors prevent the line search from converging\n",
      "  warn(msg, LineSearchWarning)\n",
      "C:\\Users\\olivi\\AppData\\Local\\Packages\\PythonSoftwareFoundation.Python.3.9_qbz5n2kfra8p0\\LocalCache\\local-packages\\Python39\\site-packages\\sklearn\\utils\\optimize.py:203: UserWarning: Line Search failed\n",
      "  warnings.warn(\"Line Search failed\")\n"
     ]
    }
   ],
   "source": [
    "from sklearn.linear_model import LogisticRegression\n",
    "\n",
    "lr = LogisticRegression(random_state = 42, solver='newton-cg', penalty= 'l2', multi_class='auto', max_iter=4000)\n",
    "lr.fit(x_train, y_train)\n",
    "\n",
    "y_pred = lr.predict(x_test)\n",
    "# Predict probabilities\n",
    "probs_y=lr.predict_proba(x_test)\n",
    "### Print results \n",
    "probs_y = np.round(probs_y, 2)"
   ]
  },
  {
   "cell_type": "code",
   "execution_count": 938,
   "metadata": {},
   "outputs": [
    {
     "name": "stdout",
     "output_type": "stream",
     "text": [
      "The accuracy of the Logistic Regression is: 33.592534992223946 %\n",
      "\n",
      "The classification report for Logistic Regression is:\n",
      "              precision    recall  f1-score   support\n",
      "\n",
      "           0       0.40      0.48      0.43       135\n",
      "           1       0.26      0.24      0.25       129\n",
      "           2       0.27      0.18      0.21       123\n",
      "           3       0.39      0.18      0.25       133\n",
      "           4       0.34      0.60      0.44       123\n",
      "\n",
      "    accuracy                           0.34       643\n",
      "   macro avg       0.33      0.34      0.32       643\n",
      "weighted avg       0.33      0.34      0.32       643\n",
      "\n"
     ]
    },
    {
     "data": {
      "image/png": "[encoded data removed]",
      "text/plain": [
       "<Figure size 576x432 with 2 Axes>"
      ]
     },
     "metadata": {},
     "output_type": "display_data"
    }
   ],
   "source": [
    "print('The accuracy of the Logistic Regression is:', lr.score(x_test, y_test) * 100, '%')\n",
    "generate_results(lr, y_pred, 'Logistic Regression')"
   ]
  },
  {
   "cell_type": "code",
   "execution_count": 563,
   "metadata": {},
   "outputs": [],
   "source": [
    "from sklearn.neighbors import KNeighborsClassifier\n",
    "from sklearn import metrics"
   ]
  },
  {
   "cell_type": "code",
   "execution_count": 564,
   "metadata": {},
   "outputs": [
    {
     "name": "stdout",
     "output_type": "stream",
     "text": [
      "------------- 3 -------------------\n",
      "[[62 33 16  9 15]\n",
      " [44 34 23 10 18]\n",
      " [41 30 29 12 11]\n",
      " [27 35 27 30 14]\n",
      " [22 36 21 21 23]]\n",
      "------------- 4 -------------------\n",
      "[[59 22 23 14 17]\n",
      " [43 29 23 16 18]\n",
      " [29 29 31 21 13]\n",
      " [20 23 23 45 22]\n",
      " [16 29 20 31 27]]\n",
      "------------- 5 -------------------\n",
      "[[54 27 26 15 13]\n",
      " [36 26 33 21 13]\n",
      " [27 21 32 28 15]\n",
      " [20 27 32 35 19]\n",
      " [13 25 26 27 32]]\n",
      "------------- 6 -------------------\n",
      "[[60 22 24 12 17]\n",
      " [42 24 29 19 15]\n",
      " [28 27 28 25 15]\n",
      " [19 27 30 33 24]\n",
      " [13 31 21 30 28]]\n",
      "------------- 7 -------------------\n",
      "[[58 23 27 16 11]\n",
      " [42 29 24 21 13]\n",
      " [27 28 24 25 19]\n",
      " [18 23 28 40 24]\n",
      " [16 25 25 25 32]]\n",
      "------------- 8 -------------------\n",
      "[[60 21 24 15 15]\n",
      " [40 30 20 21 18]\n",
      " [27 24 27 25 20]\n",
      " [19 24 29 38 23]\n",
      " [20 22 20 29 32]]\n",
      "------------- 9 -------------------\n",
      "[[57 21 23 19 15]\n",
      " [39 28 22 19 21]\n",
      " [26 24 26 24 23]\n",
      " [19 19 33 36 26]\n",
      " [17 21 24 29 32]]\n",
      "------------- 10 -------------------\n",
      "[[62 18 24 16 15]\n",
      " [39 30 20 20 20]\n",
      " [31 25 21 19 27]\n",
      " [16 23 30 32 32]\n",
      " [13 20 25 28 37]]\n",
      "------------- 11 -------------------\n",
      "[[58 23 24 16 14]\n",
      " [35 26 22 21 25]\n",
      " [31 29 21 19 23]\n",
      " [20 22 31 31 29]\n",
      " [11 23 21 29 39]]\n",
      "------------- 12 -------------------\n",
      "[[56 24 25 18 12]\n",
      " [35 28 24 19 23]\n",
      " [28 32 21 17 25]\n",
      " [19 21 29 30 34]\n",
      " [15 18 22 31 37]]\n",
      "------------- 13 -------------------\n",
      "[[58 24 21 16 16]\n",
      " [31 28 27 20 23]\n",
      " [24 32 21 21 25]\n",
      " [19 22 26 32 34]\n",
      " [19 17 18 31 38]]\n",
      "------------- 14 -------------------\n",
      "[[56 26 17 19 17]\n",
      " [32 30 22 18 27]\n",
      " [24 31 23 22 23]\n",
      " [18 21 25 37 32]\n",
      " [17 16 22 33 35]]\n",
      "------------- 15 -------------------\n",
      "[[58 23 19 19 16]\n",
      " [33 27 24 23 22]\n",
      " [26 28 25 21 23]\n",
      " [23 21 22 33 34]\n",
      " [14 20 23 32 34]]\n",
      "------------- 16 -------------------\n",
      "[[56 24 19 19 17]\n",
      " [37 24 22 23 23]\n",
      " [25 29 28 20 21]\n",
      " [22 21 27 27 36]\n",
      " [16 20 22 27 38]]\n",
      "------------- 17 -------------------\n",
      "[[58 22 17 20 18]\n",
      " [38 26 25 20 20]\n",
      " [26 25 30 19 23]\n",
      " [21 20 25 29 38]\n",
      " [12 27 22 26 36]]\n",
      "------------- 18 -------------------\n",
      "[[55 23 18 19 20]\n",
      " [35 24 24 24 22]\n",
      " [23 27 25 21 27]\n",
      " [20 21 23 28 41]\n",
      " [13 22 20 30 38]]\n",
      "------------- 19 -------------------\n",
      "[[55 24 13 22 21]\n",
      " [33 28 24 24 20]\n",
      " [25 26 24 23 25]\n",
      " [19 18 24 32 40]\n",
      " [12 20 22 30 39]]\n",
      "------------- 20 -------------------\n",
      "[[53 22 14 22 24]\n",
      " [31 27 26 21 24]\n",
      " [26 29 25 20 23]\n",
      " [17 21 27 35 33]\n",
      " [10 21 20 29 43]]\n",
      "------------- 21 -------------------\n",
      "[[51 26 13 24 21]\n",
      " [30 31 24 23 21]\n",
      " [23 29 25 21 25]\n",
      " [17 21 26 34 35]\n",
      " [12 19 21 28 43]]\n",
      "------------- 22 -------------------\n",
      "[[53 25 12 25 20]\n",
      " [32 26 24 22 25]\n",
      " [24 29 24 21 25]\n",
      " [20 22 18 37 36]\n",
      " [14 18 18 30 43]]\n",
      "------------- 23 -------------------\n",
      "[[52 29 11 21 22]\n",
      " [29 27 23 22 28]\n",
      " [23 30 25 21 24]\n",
      " [20 20 21 35 37]\n",
      " [15 18 19 30 41]]\n",
      "------------- 24 -------------------\n",
      "[[52 31 11 17 24]\n",
      " [28 29 23 21 28]\n",
      " [28 28 21 24 22]\n",
      " [21 21 21 36 34]\n",
      " [14 19 19 30 41]]\n",
      "------------- 25 -------------------\n",
      "[[51 30 14 19 21]\n",
      " [30 26 22 25 26]\n",
      " [25 32 20 23 23]\n",
      " [19 20 24 35 35]\n",
      " [15 18 19 27 44]]\n"
     ]
    },
    {
     "data": {
      "image/png": "[encoded data removed]",
      "text/plain": [
       "<Figure size 432x288 with 1 Axes>"
      ]
     },
     "metadata": {},
     "output_type": "display_data"
    }
   ],
   "source": [
    "#KNN with number of neighbors k\n",
    "# Based on X_test i want to predict y\n",
    "k_range = list(range(3,26))\n",
    "# range, check 26 variance ranging from 1 to 26 to check accuracy\n",
    "# neighbors are subgroups of our sample, we test different nber of neighbors to see the more accurate model\n",
    "scores = []\n",
    "for k in k_range:\n",
    "    knn = KNeighborsClassifier(n_neighbors=k)\n",
    "    # fit on train data to predict new data, test data\n",
    "    knn.fit(x_train, y_train)\n",
    "    y_pred = knn.predict(x_test)\n",
    "    scores.append(metrics.accuracy_score(y_test, y_pred))\n",
    "    print ('-------------', k, '-------------------')\n",
    "    print(metrics.confusion_matrix(y_test, y_pred))\n",
    "plt.plot(k_range, scores)\n",
    "plt.xlabel('Value of k for KNN')\n",
    "plt.ylabel('Accuracy Score')\n",
    "plt.title('Accuracy Scores for Values of k of k-Nearest-Neighbors')\n",
    "plt.show()\n",
    "\n"
   ]
  },
  {
   "cell_type": "code",
   "execution_count": 565,
   "metadata": {},
   "outputs": [
    {
     "name": "stdout",
     "output_type": "stream",
     "text": [
      "Mean Accuracy: 0.354 (0.016)\n"
     ]
    }
   ],
   "source": [
    "#Linear Discriminant Analysis Olivier\n",
    "\n",
    "# evaluate a lda model on the dataset\n",
    "from numpy import mean\n",
    "from numpy import std\n",
    "from sklearn.datasets import make_classification\n",
    "from sklearn.model_selection import cross_val_score\n",
    "from sklearn.model_selection import RepeatedStratifiedKFold\n",
    "from sklearn.discriminant_analysis import LinearDiscriminantAnalysis\n",
    "\n",
    "# define dataset\n",
    "x, y = x_train, y_train\n",
    "\n",
    "# define model\n",
    "model = LinearDiscriminantAnalysis(solver='lsqr', shrinkage='auto')\n",
    "\n",
    "# define model evaluation method\n",
    "cv = RepeatedStratifiedKFold(n_splits=10, n_repeats=3, random_state=1)\n",
    "\n",
    "# evaluate model\n",
    "scores = cross_val_score(model, x, y, scoring='accuracy', cv=cv, n_jobs=-1)\n",
    "\n",
    "# summarize result\n",
    "print('Mean Accuracy: %.3f (%.3f)' % (mean(scores), std(scores)))\n"
   ]
  },
  {
   "cell_type": "code",
   "execution_count": null,
   "metadata": {},
   "outputs": [],
   "source": [
    "#BaggingCLassifier  Ting\n",
    "\n",
    "import numpy as np\n",
    "from sklearn.base import clone\n",
    "from sklearn.model_selection import StratifiedKFold,cross_validate\n",
    "from sklearn.tree import DecisionTreeClassifier\n",
    "from sklearn.metrics import accuracy_score,precision_score,recall_score\n",
    "from sklearn.ensemble import BaggingClassifier\n",
    "\n",
    "## declare a bagging classifier instance ##\n",
    "ens = BaggingClassifier(base_estimator=DecisionTreeClassifier(class_weight='balanced'),n_estimators=500)\n",
    "## use k fold cross validation to measure performance ##\n",
    "scoring_metrics = ['accuracy','precision','recall']\n",
    "dcScores = cross_validate(ens,x_train,y_train,cv=StratifiedKFold(10),scoring=scoring_metrics, error_score='raise')\n",
    "print('Mean Accuracy: %.2f' % np.mean(dcScores['test_accuracy']))\n",
    "print('Mean Precision: %.2f' % np.mean(dcScores['test_precision']))\n",
    "print('Mean Recall: %.2f' % np.mean(dcScores['test_recall']))"
   ]
  },
  {
   "cell_type": "code",
   "execution_count": null,
   "metadata": {},
   "outputs": [
    {
     "name": "stdout",
     "output_type": "stream",
     "text": [
      "The average Cross validation score is  0.4676470588235294\n"
     ]
    }
   ],
   "source": [
    "#Extra Tree\n",
    "\n",
    "from sklearn.ensemble import ExtraTreesClassifier\n",
    "from sklearn.datasets import make_classification\n",
    "from sklearn.ensemble import ExtraTreesClassifier\n",
    "from sklearn.model_selection import cross_val_score\n",
    "\n",
    "etc = ExtraTreesClassifier(random_state=0)\n",
    "cv_score = cross_val_score(etc, x_train, y_train, cv=5).mean()\n",
    "print(\"The average Cross validation score is \", cv_score)\n",
    "\n",
    "\n",
    "\n"
   ]
  },
  {
   "cell_type": "code",
   "execution_count": null,
   "metadata": {},
   "outputs": [
    {
     "data": {
      "text/plain": [
       "array([2, 1, 1, 1, 3, 4])"
      ]
     },
     "execution_count": 471,
     "metadata": {},
     "output_type": "execute_result"
    }
   ],
   "source": [
    "#RFE\n",
    "\n",
    "from sklearn.feature_selection import RFE\n",
    "\n",
    "from sklearn.model_selection import train_test_split\n",
    "\n",
    "from sklearn import linear_model\n",
    "\n",
    "import statsmodels.api as sm\n",
    "\n",
    "lin_model = linear_model.LinearRegression()\n",
    "lin_model.fit(x_train, y_train)\n",
    "selector_rfe = RFE(estimator = lin_model, n_features_to_select = 3, step = 1)\n",
    "\n",
    "from sklearn.pipeline import Pipeline\n",
    "from sklearn.model_selection import RepeatedStratifiedKFold\n",
    "from sklearn.model_selection import cross_val_score\n",
    "from sklearn.feature_selection import RFE\n",
    "import numpy as np\n",
    "from sklearn.ensemble import GradientBoostingClassifier\n",
    "\n",
    "\n",
    "selector_rfe.fit(x_train, y_train)\n",
    "selector_rfe.ranking_"
   ]
  },
  {
   "cell_type": "code",
   "execution_count": null,
   "metadata": {},
   "outputs": [],
   "source": [
    "#Gradient Tree Boosting     Ting\n",
    "\n",
    "\n"
   ]
  },
  {
   "cell_type": "code",
   "execution_count": null,
   "metadata": {},
   "outputs": [],
   "source": [
    "#GaussianProcessClassifier Olivier\n",
    "\n",
    "from sklearn.gaussian_process import GaussianProcessClassifier\n",
    "from sklearn.gaussian_process.kernels import RBF\n",
    "\n",
    "model = GaussianProcessClassifier()\n",
    "model.fit(x_train, y_train)\n",
    "y_pred= model.predict(x_test)\n",
    "\n",
    "print(model.score(x_train,y_train))\n",
    "print(model.score(x_test,y_test))\n"
   ]
  },
  {
   "cell_type": "code",
   "execution_count": null,
   "metadata": {},
   "outputs": [],
   "source": [
    "\n",
    "import numpy as np\n",
    "import matplotlib.pyplot as plt\n",
    "from matplotlib.colors import ListedColormap\n",
    "from sklearn.model_selection import train_test_split\n",
    "from sklearn.preprocessing import StandardScaler\n",
    "from sklearn.datasets import make_moons, make_circles, make_classification\n",
    "from sklearn.neural_network import MLPClassifier\n",
    "from sklearn.neighbors import KNeighborsClassifier\n",
    "from sklearn.svm import SVC\n",
    "from sklearn.gaussian_process import GaussianProcessClassifier\n",
    "from sklearn.gaussian_process.kernels import RBF\n",
    "from sklearn.tree import DecisionTreeClassifier\n",
    "from sklearn.ensemble import RandomForestClassifier, AdaBoostClassifier\n",
    "from sklearn.naive_bayes import GaussianNB\n",
    "from sklearn.discriminant_analysis import QuadraticDiscriminantAnalysis\n",
    "\n",
    "h = 0.02  # step size in the mesh\n",
    "\n",
    "names = [\n",
    "    \"Nearest Neighbors\",\n",
    "    \"Linear SVM\",\n",
    "    \"RBF SVM\",\n",
    "    \"Gaussian Process\",\n",
    "    \"Decision Tree\",\n",
    "    \"Random Forest\",\n",
    "    \"Neural Net\",\n",
    "    \"AdaBoost\",\n",
    "    \"Naive Bayes\",\n",
    "    \"QDA\",\n",
    "]\n",
    "\n",
    "classifiers = [\n",
    "    KNeighborsClassifier(3),\n",
    "    SVC(kernel=\"linear\", C=0.025),\n",
    "    SVC(gamma=2, C=1),\n",
    "    GaussianProcessClassifier(1.0 * RBF(1.0)),\n",
    "    DecisionTreeClassifier(max_depth=5),\n",
    "    RandomForestClassifier(max_depth=5, n_estimators=10, max_features=1),\n",
    "    MLPClassifier(alpha=1, max_iter=1000),\n",
    "    AdaBoostClassifier(),\n",
    "    GaussianNB(),\n",
    "    QuadraticDiscriminantAnalysis(),\n",
    "]\n",
    "\n",
    "x, y = make_classification(\n",
    "    n_features=2, n_redundant=0, n_informative=2, random_state=1, n_clusters_per_class=1\n",
    ")\n",
    "rng = np.random.RandomState(2)\n",
    "X += 2 * rng.uniform(size=X.shape)\n",
    "linearly_separable = (X, y)\n",
    "\n",
    "datasets = [\n",
    "    make_moons(noise=0.3, random_state=0),\n",
    "    make_circles(noise=0.2, factor=0.5, random_state=1),\n",
    "    linearly_separable,\n",
    "]\n",
    "\n",
    "figure = plt.figure(figsize=(27, 9))\n",
    "i = 1\n",
    "# iterate over datasets\n",
    "for ds_cnt, ds in enumerate(datasets):\n",
    "    # preprocess dataset, split into training and test part\n",
    "    X, y = ds\n",
    "    X = StandardScaler().fit_transform(X)\n",
    "    X_train, X_test, y_train, y_test = train_test_split(\n",
    "        X, y, test_size=0.4, random_state=42\n",
    "    )\n",
    "\n",
    "    x_min, x_max = X[:, 0].min() - 0.5, X[:, 0].max() + 0.5\n",
    "    y_min, y_max = X[:, 1].min() - 0.5, X[:, 1].max() + 0.5\n",
    "    xx, yy = np.meshgrid(np.arange(x_min, x_max, h), np.arange(y_min, y_max, h))\n",
    "\n",
    "    # just plot the dataset first\n",
    "    cm = plt.cm.RdBu\n",
    "    cm_bright = ListedColormap([\"#FF0000\", \"#0000FF\"])\n",
    "    ax = plt.subplot(len(datasets), len(classifiers) + 1, i)\n",
    "    if ds_cnt == 0:\n",
    "        ax.set_title(\"Input data\")\n",
    "    # Plot the training points\n",
    "    ax.scatter(X_train[:, 0], X_train[:, 1], c=y_train, cmap=cm_bright, edgecolors=\"k\")\n",
    "    # Plot the testing points\n",
    "    ax.scatter(\n",
    "        X_test[:, 0], X_test[:, 1], c=y_test, cmap=cm_bright, alpha=0.6, edgecolors=\"k\"\n",
    "    )\n",
    "    ax.set_xlim(xx.min(), xx.max())\n",
    "    ax.set_ylim(yy.min(), yy.max())\n",
    "    ax.set_xticks(())\n",
    "    ax.set_yticks(())\n",
    "    i += 1\n",
    "\n",
    "    # iterate over classifiers\n",
    "    for name, clf in zip(names, classifiers):\n",
    "        ax = plt.subplot(len(datasets), len(classifiers) + 1, i)\n",
    "        clf.fit(X_train, y_train)\n",
    "        score = clf.score(X_test, y_test)\n",
    "\n",
    "        # Plot the decision boundary. For that, we will assign a color to each\n",
    "        # point in the mesh [x_min, x_max]x[y_min, y_max].\n",
    "        if hasattr(clf, \"decision_function\"):\n",
    "            Z = clf.decision_function(np.c_[xx.ravel(), yy.ravel()])\n",
    "        else:\n",
    "            Z = clf.predict_proba(np.c_[xx.ravel(), yy.ravel()])[:, 1]\n",
    "\n",
    "        # Put the result into a color plot\n",
    "        Z = Z.reshape(xx.shape)\n",
    "        ax.contourf(xx, yy, Z, cmap=cm, alpha=0.8)\n",
    "\n",
    "        # Plot the training points\n",
    "        ax.scatter(\n",
    "            X_train[:, 0], X_train[:, 1], c=y_train, cmap=cm_bright, edgecolors=\"k\"\n",
    "        )\n",
    "        # Plot the testing points\n",
    "        ax.scatter(\n",
    "            X_test[:, 0],\n",
    "            X_test[:, 1],\n",
    "            c=y_test,\n",
    "            cmap=cm_bright,\n",
    "            edgecolors=\"k\",\n",
    "            alpha=0.6,\n",
    "        )\n",
    "\n",
    "        ax.set_xlim(xx.min(), xx.max())\n",
    "        ax.set_ylim(yy.min(), yy.max())\n",
    "        ax.set_xticks(())\n",
    "        ax.set_yticks(())\n",
    "        if ds_cnt == 0:\n",
    "            ax.set_title(name)\n",
    "        ax.text(\n",
    "            xx.max() - 0.3,\n",
    "            yy.min() + 0.3,\n",
    "            (\"%.2f\" % score).lstrip(\"0\"),\n",
    "            size=15,\n",
    "            horizontalalignment=\"right\",\n",
    "        )\n",
    "        i += 1\n",
    "\n",
    "plt.tight_layout()\n",
    "plt.show()\n"
   ]
  },
  {
   "cell_type": "code",
   "execution_count": null,
   "metadata": {},
   "outputs": [],
   "source": [
    "#robust\n",
    "\n",
    "from sklearn.preprocessing import RobustScaler\n",
    "\n",
    "rc = RobustScaler()\n",
    "x_train = rc.fit_transform(x_train)\n",
    "x_test = rc.transform(x_test)"
   ]
  }
 ],
 "metadata": {
  "interpreter": {
   "hash": "bc74c9efbb84f280ceaeeceeae8f315ec3f368be1dc370363a62f0ad4f42a571"
  },
  "kernelspec": {
   "display_name": "Python 3.9.12 64-bit (windows store)",
   "language": "python",
   "name": "python3"
  },
  "language_info": {
   "codemirror_mode": {
    "name": "ipython",
    "version": 3
   },
   "file_extension": ".py",
   "mimetype": "text/x-python",
   "name": "python",
   "nbconvert_exporter": "python",
   "pygments_lexer": "ipython3",
   "version": "3.9.12"
  },
  "orig_nbformat": 4
 },
 "nbformat": 4,
 "nbformat_minor": 2
}
