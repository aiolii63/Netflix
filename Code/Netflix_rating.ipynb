{
 "cells": [
  {
   "cell_type": "code",
   "execution_count": 1,
   "metadata": {},
   "outputs": [],
   "source": [
    "import pandas as pd\n",
    "import numpy as np\n",
    "import matplotlib.pyplot as plt\n",
    "import seaborn as sns\n",
    "%matplotlib inline\n",
    "\n",
    "\n",
    "from sklearn.neighbors import KNeighborsClassifier\n",
    "from sklearn.datasets import make_hastie_10_2\n",
    "\n",
    "from sklearn.ensemble import BaggingClassifier\n",
    "from sklearn.datasets import make_classification\n",
    "\n",
    "from sklearn.ensemble import GradientBoostingClassifier\n",
    "from sklearn.discriminant_analysis import LinearDiscriminantAnalysis\n",
    "from sklearn.gaussian_process import GaussianProcessClassifier\n",
    "from sklearn.gaussian_process.kernels import RBF\n",
    "\n",
    "\n"
   ]
  },
  {
   "cell_type": "markdown",
   "metadata": {},
   "source": [
    "#IMPORTANT README ON THIS CLASSIFICATION EXERCISE\n",
    "=================================================================\n",
    "\n",
    "\n",
    "## Time expectations\n",
    "- Data cleaning 2 hours \n",
    "- Data preprocessing (features, scaling) 1 hours\n",
    "- Models investigation 3 hours - this task can be splited\n",
    "- Models implementation - 2 hours\n",
    "- Slides/dashboard/notebook - 2 hours\n",
    "- Finalization and \"beautification\" (github, etc)  - 2 hours\n",
    "Average time per person 4-6 hours\n",
    "\n",
    "1. Please make sure the Y is not too granular: make sure to bin it to simplify the work of models\n",
    "\n",
    "2. After using the model, play around with hyperparams\n",
    "\n",
    "3. Finally, compare model performance by accuracy, ROC-AUC... 60+ % would be a good start\n",
    "\n",
    "4. Use Trello instead of JIRA for project mgmt: make sure to provide hours worked on each task"
   ]
  },
  {
   "cell_type": "code",
   "execution_count": 2,
   "metadata": {},
   "outputs": [
    {
     "data": {
      "text/html": [
       "<div>\n",
       "<style scoped>\n",
       "    .dataframe tbody tr th:only-of-type {\n",
       "        vertical-align: middle;\n",
       "    }\n",
       "\n",
       "    .dataframe tbody tr th {\n",
       "        vertical-align: top;\n",
       "    }\n",
       "\n",
       "    .dataframe thead th {\n",
       "        text-align: right;\n",
       "    }\n",
       "</style>\n",
       "<table border=\"1\" class=\"dataframe\">\n",
       "  <thead>\n",
       "    <tr style=\"text-align: right;\">\n",
       "      <th></th>\n",
       "      <th>Unnamed: 0</th>\n",
       "      <th>title</th>\n",
       "      <th>year</th>\n",
       "      <th>kind</th>\n",
       "      <th>genre</th>\n",
       "      <th>rating</th>\n",
       "      <th>vote</th>\n",
       "      <th>country</th>\n",
       "      <th>language</th>\n",
       "      <th>cast</th>\n",
       "      <th>director</th>\n",
       "      <th>composer</th>\n",
       "      <th>writer</th>\n",
       "      <th>runtime</th>\n",
       "    </tr>\n",
       "  </thead>\n",
       "  <tbody>\n",
       "    <tr>\n",
       "      <th>0</th>\n",
       "      <td>0</td>\n",
       "      <td>Dinosaur Planet</td>\n",
       "      <td>2003.0</td>\n",
       "      <td>tv mini series</td>\n",
       "      <td>['Documentary', 'Animation', 'Family']</td>\n",
       "      <td>7.7</td>\n",
       "      <td>474.0</td>\n",
       "      <td>['United States']</td>\n",
       "      <td>['English']</td>\n",
       "      <td>['Christian Slater', 'Scott Sampson']</td>\n",
       "      <td>NaN</td>\n",
       "      <td>NaN</td>\n",
       "      <td>['Mike Carrol', 'Mike Carroll', 'Georgann Kane']</td>\n",
       "      <td>50.0</td>\n",
       "    </tr>\n",
       "    <tr>\n",
       "      <th>1</th>\n",
       "      <td>1</td>\n",
       "      <td>Get Up and Dance!</td>\n",
       "      <td>1994.0</td>\n",
       "      <td>video movie</td>\n",
       "      <td>['Family']</td>\n",
       "      <td>8.1</td>\n",
       "      <td>18.0</td>\n",
       "      <td>['United States']</td>\n",
       "      <td>['English']</td>\n",
       "      <td>['Paula Abdul', 'Aurorah Allain', 'Bill Bohl',...</td>\n",
       "      <td>['Steve Purcell']</td>\n",
       "      <td>NaN</td>\n",
       "      <td>NaN</td>\n",
       "      <td>83.0</td>\n",
       "    </tr>\n",
       "    <tr>\n",
       "      <th>2</th>\n",
       "      <td>2</td>\n",
       "      <td>8 Man</td>\n",
       "      <td>1992.0</td>\n",
       "      <td>movie</td>\n",
       "      <td>['Action', 'Sci-Fi']</td>\n",
       "      <td>5.5</td>\n",
       "      <td>93.0</td>\n",
       "      <td>['Japan']</td>\n",
       "      <td>['Japanese']</td>\n",
       "      <td>['Kai Shishido', 'Etsushi Takahashi', 'Sachiko...</td>\n",
       "      <td>['Yasuhiro Horiuchi']</td>\n",
       "      <td>['Carole King']</td>\n",
       "      <td>['Kazumasa Hirai', 'Jirô Kuwata', 'Junko Suzuki']</td>\n",
       "      <td>NaN</td>\n",
       "    </tr>\n",
       "    <tr>\n",
       "      <th>3</th>\n",
       "      <td>3</td>\n",
       "      <td>What the #$*! Do We (K)now!?</td>\n",
       "      <td>2004.0</td>\n",
       "      <td>movie</td>\n",
       "      <td>['Documentary', 'Comedy', 'Drama', 'Fantasy', ...</td>\n",
       "      <td>5.3</td>\n",
       "      <td>13432.0</td>\n",
       "      <td>['United States']</td>\n",
       "      <td>['English', 'German', 'Spanish']</td>\n",
       "      <td>['Marlee Matlin', 'Elaine Hendrix', 'John Ross...</td>\n",
       "      <td>['William Arntz', 'Betsy Chasse', 'Mark Vicente']</td>\n",
       "      <td>['Christopher Franke']</td>\n",
       "      <td>['William Arntz', 'Betsy Chasse', 'Matthew Hof...</td>\n",
       "      <td>60.0</td>\n",
       "    </tr>\n",
       "    <tr>\n",
       "      <th>4</th>\n",
       "      <td>4</td>\n",
       "      <td>Class of Nuke 'Em High Part II: Subhumanoid Me...</td>\n",
       "      <td>1991.0</td>\n",
       "      <td>movie</td>\n",
       "      <td>['Comedy', 'Horror', 'Sci-Fi']</td>\n",
       "      <td>4.5</td>\n",
       "      <td>2177.0</td>\n",
       "      <td>['United States']</td>\n",
       "      <td>['English']</td>\n",
       "      <td>['Brick Bronsky', 'Lisa Gaye', 'Leesa Rowland'...</td>\n",
       "      <td>['Eric Louzil']</td>\n",
       "      <td>['Bob Mithoff']</td>\n",
       "      <td>['Lloyd Kaufman', 'Carl Morano', 'Matt Unger']</td>\n",
       "      <td>96.0</td>\n",
       "    </tr>\n",
       "  </tbody>\n",
       "</table>\n",
       "</div>"
      ],
      "text/plain": [
       "   Unnamed: 0                                              title    year  \\\n",
       "0           0                                    Dinosaur Planet  2003.0   \n",
       "1           1                                  Get Up and Dance!  1994.0   \n",
       "2           2                                              8 Man  1992.0   \n",
       "3           3                       What the #$*! Do We (K)now!?  2004.0   \n",
       "4           4  Class of Nuke 'Em High Part II: Subhumanoid Me...  1991.0   \n",
       "\n",
       "             kind                                              genre  rating  \\\n",
       "0  tv mini series             ['Documentary', 'Animation', 'Family']     7.7   \n",
       "1     video movie                                         ['Family']     8.1   \n",
       "2           movie                               ['Action', 'Sci-Fi']     5.5   \n",
       "3           movie  ['Documentary', 'Comedy', 'Drama', 'Fantasy', ...     5.3   \n",
       "4           movie                     ['Comedy', 'Horror', 'Sci-Fi']     4.5   \n",
       "\n",
       "      vote            country                          language  \\\n",
       "0    474.0  ['United States']                       ['English']   \n",
       "1     18.0  ['United States']                       ['English']   \n",
       "2     93.0          ['Japan']                      ['Japanese']   \n",
       "3  13432.0  ['United States']  ['English', 'German', 'Spanish']   \n",
       "4   2177.0  ['United States']                       ['English']   \n",
       "\n",
       "                                                cast  \\\n",
       "0              ['Christian Slater', 'Scott Sampson']   \n",
       "1  ['Paula Abdul', 'Aurorah Allain', 'Bill Bohl',...   \n",
       "2  ['Kai Shishido', 'Etsushi Takahashi', 'Sachiko...   \n",
       "3  ['Marlee Matlin', 'Elaine Hendrix', 'John Ross...   \n",
       "4  ['Brick Bronsky', 'Lisa Gaye', 'Leesa Rowland'...   \n",
       "\n",
       "                                            director                composer  \\\n",
       "0                                                NaN                     NaN   \n",
       "1                                  ['Steve Purcell']                     NaN   \n",
       "2                              ['Yasuhiro Horiuchi']         ['Carole King']   \n",
       "3  ['William Arntz', 'Betsy Chasse', 'Mark Vicente']  ['Christopher Franke']   \n",
       "4                                    ['Eric Louzil']         ['Bob Mithoff']   \n",
       "\n",
       "                                              writer  runtime  \n",
       "0   ['Mike Carrol', 'Mike Carroll', 'Georgann Kane']     50.0  \n",
       "1                                                NaN     83.0  \n",
       "2  ['Kazumasa Hirai', 'Jirô Kuwata', 'Junko Suzuki']      NaN  \n",
       "3  ['William Arntz', 'Betsy Chasse', 'Matthew Hof...     60.0  \n",
       "4     ['Lloyd Kaufman', 'Carl Morano', 'Matt Unger']     96.0  "
      ]
     },
     "execution_count": 2,
     "metadata": {},
     "output_type": "execute_result"
    }
   ],
   "source": [
    "df = pd.read_csv(r'/Users/tinghaokao/Desktop/IronHackDA/DAFT_212/module_3/Project_week_7/imdb_processed.csv')\n",
    "df.head()"
   ]
  },
  {
   "cell_type": "code",
   "execution_count": 3,
   "metadata": {},
   "outputs": [
    {
     "data": {
      "text/html": [
       "<div>\n",
       "<style scoped>\n",
       "    .dataframe tbody tr th:only-of-type {\n",
       "        vertical-align: middle;\n",
       "    }\n",
       "\n",
       "    .dataframe tbody tr th {\n",
       "        vertical-align: top;\n",
       "    }\n",
       "\n",
       "    .dataframe thead th {\n",
       "        text-align: right;\n",
       "    }\n",
       "</style>\n",
       "<table border=\"1\" class=\"dataframe\">\n",
       "  <thead>\n",
       "    <tr style=\"text-align: right;\">\n",
       "      <th></th>\n",
       "      <th>Unnamed: 0</th>\n",
       "      <th>title</th>\n",
       "      <th>year</th>\n",
       "      <th>kind</th>\n",
       "      <th>genre</th>\n",
       "      <th>rating</th>\n",
       "      <th>vote</th>\n",
       "      <th>country</th>\n",
       "      <th>language</th>\n",
       "      <th>cast</th>\n",
       "      <th>director</th>\n",
       "      <th>composer</th>\n",
       "      <th>writer</th>\n",
       "      <th>runtime</th>\n",
       "    </tr>\n",
       "  </thead>\n",
       "  <tbody>\n",
       "    <tr>\n",
       "      <th>3847</th>\n",
       "      <td>3847</td>\n",
       "      <td>Terminator 2: Judgment Day</td>\n",
       "      <td>1991.0</td>\n",
       "      <td>movie</td>\n",
       "      <td>['Action', 'Sci-Fi']</td>\n",
       "      <td>8.5</td>\n",
       "      <td>1033000.0</td>\n",
       "      <td>['United States']</td>\n",
       "      <td>['English', 'Spanish']</td>\n",
       "      <td>['Arnold Schwarzenegger', 'Linda Hamilton', 'E...</td>\n",
       "      <td>['James Cameron']</td>\n",
       "      <td>['Brad Fiedel']</td>\n",
       "      <td>['James Cameron', 'William Wisher']</td>\n",
       "      <td>51.0</td>\n",
       "    </tr>\n",
       "  </tbody>\n",
       "</table>\n",
       "</div>"
      ],
      "text/plain": [
       "      Unnamed: 0                       title    year   kind  \\\n",
       "3847        3847  Terminator 2: Judgment Day  1991.0  movie   \n",
       "\n",
       "                     genre  rating       vote            country  \\\n",
       "3847  ['Action', 'Sci-Fi']     8.5  1033000.0  ['United States']   \n",
       "\n",
       "                    language  \\\n",
       "3847  ['English', 'Spanish']   \n",
       "\n",
       "                                                   cast           director  \\\n",
       "3847  ['Arnold Schwarzenegger', 'Linda Hamilton', 'E...  ['James Cameron']   \n",
       "\n",
       "             composer                               writer  runtime  \n",
       "3847  ['Brad Fiedel']  ['James Cameron', 'William Wisher']     51.0  "
      ]
     },
     "execution_count": 3,
     "metadata": {},
     "output_type": "execute_result"
    }
   ],
   "source": [
    "df.loc[df.title.str.contains(\"Terminator\")]"
   ]
  },
  {
   "cell_type": "code",
   "execution_count": 4,
   "metadata": {},
   "outputs": [
    {
     "data": {
      "text/html": [
       "<div>\n",
       "<style scoped>\n",
       "    .dataframe tbody tr th:only-of-type {\n",
       "        vertical-align: middle;\n",
       "    }\n",
       "\n",
       "    .dataframe tbody tr th {\n",
       "        vertical-align: top;\n",
       "    }\n",
       "\n",
       "    .dataframe thead th {\n",
       "        text-align: right;\n",
       "    }\n",
       "</style>\n",
       "<table border=\"1\" class=\"dataframe\">\n",
       "  <thead>\n",
       "    <tr style=\"text-align: right;\">\n",
       "      <th></th>\n",
       "      <th>Unnamed: 0</th>\n",
       "      <th>title</th>\n",
       "      <th>year</th>\n",
       "      <th>kind</th>\n",
       "      <th>genre</th>\n",
       "      <th>rating</th>\n",
       "      <th>vote</th>\n",
       "      <th>country</th>\n",
       "      <th>language</th>\n",
       "      <th>cast</th>\n",
       "      <th>director</th>\n",
       "      <th>composer</th>\n",
       "      <th>writer</th>\n",
       "      <th>runtime</th>\n",
       "    </tr>\n",
       "  </thead>\n",
       "  <tbody>\n",
       "    <tr>\n",
       "      <th>8446</th>\n",
       "      <td>8446</td>\n",
       "      <td>All Monsters Attack</td>\n",
       "      <td>1969.0</td>\n",
       "      <td>movie</td>\n",
       "      <td>['Adventure', 'Family', 'Fantasy']</td>\n",
       "      <td>3.9</td>\n",
       "      <td>4384.0</td>\n",
       "      <td>['Japan']</td>\n",
       "      <td>['Japanese']</td>\n",
       "      <td>['Tomonori Yazaki', 'Hideyo Amamoto', 'Sachio ...</td>\n",
       "      <td>['Ishirô Honda', 'Jun Fukuda', 'Kengo Furusawa']</td>\n",
       "      <td>['Kunio Miyauchi']</td>\n",
       "      <td>[\"Shin'ichi Sekizawa\"]</td>\n",
       "      <td>NaN</td>\n",
       "    </tr>\n",
       "    <tr>\n",
       "      <th>8447</th>\n",
       "      <td>8447</td>\n",
       "      <td>Fidel Castro</td>\n",
       "      <td>2005.0</td>\n",
       "      <td>episode</td>\n",
       "      <td>['Documentary', 'Biography', 'History']</td>\n",
       "      <td>6.4</td>\n",
       "      <td>44.0</td>\n",
       "      <td>NaN</td>\n",
       "      <td>['English', 'Spanish']</td>\n",
       "      <td>['Rena Baskin', 'Fulgencio Batista', 'James Bl...</td>\n",
       "      <td>['Adriana Bosch', 'M Pink Christofalo']</td>\n",
       "      <td>['Mason Daring']</td>\n",
       "      <td>['Adriana Bosch']</td>\n",
       "      <td>NaN</td>\n",
       "    </tr>\n",
       "    <tr>\n",
       "      <th>8448</th>\n",
       "      <td>8448</td>\n",
       "      <td>Epoch</td>\n",
       "      <td>2001.0</td>\n",
       "      <td>tv movie</td>\n",
       "      <td>['Sci-Fi', 'Thriller']</td>\n",
       "      <td>4.9</td>\n",
       "      <td>2376.0</td>\n",
       "      <td>['United States']</td>\n",
       "      <td>['English']</td>\n",
       "      <td>['David Keith', 'Stephanie Niznik', \"Ryan O'Ne...</td>\n",
       "      <td>['Matt Codd']</td>\n",
       "      <td>['Richard McHugh']</td>\n",
       "      <td>['Jonathan Raymond', 'Jonathan Raymond', 'Phil...</td>\n",
       "      <td>NaN</td>\n",
       "    </tr>\n",
       "    <tr>\n",
       "      <th>8449</th>\n",
       "      <td>8449</td>\n",
       "      <td>The Company</td>\n",
       "      <td>2003.0</td>\n",
       "      <td>movie</td>\n",
       "      <td>['Drama', 'Music', 'Romance']</td>\n",
       "      <td>6.3</td>\n",
       "      <td>6501.0</td>\n",
       "      <td>['United States', 'Germany', 'United Kingdom']</td>\n",
       "      <td>['English']</td>\n",
       "      <td>['Neve Campbell', 'Malcolm McDowell', 'James F...</td>\n",
       "      <td>['Robert Altman']</td>\n",
       "      <td>['Van Dyke Parks']</td>\n",
       "      <td>['Neve Campbell', 'Barbara Turner', 'Barbara T...</td>\n",
       "      <td>NaN</td>\n",
       "    </tr>\n",
       "    <tr>\n",
       "      <th>8450</th>\n",
       "      <td>8450</td>\n",
       "      <td>Predator</td>\n",
       "      <td>1987.0</td>\n",
       "      <td>movie</td>\n",
       "      <td>['Action', 'Adventure', 'Sci-Fi', 'Thriller']</td>\n",
       "      <td>7.8</td>\n",
       "      <td>386850.0</td>\n",
       "      <td>['United States', 'Mexico']</td>\n",
       "      <td>['English', 'Spanish', 'Russian']</td>\n",
       "      <td>['Arnold Schwarzenegger', 'Carl Weathers', 'El...</td>\n",
       "      <td>['John McTiernan']</td>\n",
       "      <td>['Alan Silvestri']</td>\n",
       "      <td>['Jim Thomas', 'John Thomas']</td>\n",
       "      <td>NaN</td>\n",
       "    </tr>\n",
       "  </tbody>\n",
       "</table>\n",
       "</div>"
      ],
      "text/plain": [
       "      Unnamed: 0                title    year      kind  \\\n",
       "8446        8446  All Monsters Attack  1969.0     movie   \n",
       "8447        8447         Fidel Castro  2005.0   episode   \n",
       "8448        8448                Epoch  2001.0  tv movie   \n",
       "8449        8449          The Company  2003.0     movie   \n",
       "8450        8450             Predator  1987.0     movie   \n",
       "\n",
       "                                              genre  rating      vote  \\\n",
       "8446             ['Adventure', 'Family', 'Fantasy']     3.9    4384.0   \n",
       "8447        ['Documentary', 'Biography', 'History']     6.4      44.0   \n",
       "8448                         ['Sci-Fi', 'Thriller']     4.9    2376.0   \n",
       "8449                  ['Drama', 'Music', 'Romance']     6.3    6501.0   \n",
       "8450  ['Action', 'Adventure', 'Sci-Fi', 'Thriller']     7.8  386850.0   \n",
       "\n",
       "                                             country  \\\n",
       "8446                                       ['Japan']   \n",
       "8447                                             NaN   \n",
       "8448                               ['United States']   \n",
       "8449  ['United States', 'Germany', 'United Kingdom']   \n",
       "8450                     ['United States', 'Mexico']   \n",
       "\n",
       "                               language  \\\n",
       "8446                       ['Japanese']   \n",
       "8447             ['English', 'Spanish']   \n",
       "8448                        ['English']   \n",
       "8449                        ['English']   \n",
       "8450  ['English', 'Spanish', 'Russian']   \n",
       "\n",
       "                                                   cast  \\\n",
       "8446  ['Tomonori Yazaki', 'Hideyo Amamoto', 'Sachio ...   \n",
       "8447  ['Rena Baskin', 'Fulgencio Batista', 'James Bl...   \n",
       "8448  ['David Keith', 'Stephanie Niznik', \"Ryan O'Ne...   \n",
       "8449  ['Neve Campbell', 'Malcolm McDowell', 'James F...   \n",
       "8450  ['Arnold Schwarzenegger', 'Carl Weathers', 'El...   \n",
       "\n",
       "                                              director            composer  \\\n",
       "8446  ['Ishirô Honda', 'Jun Fukuda', 'Kengo Furusawa']  ['Kunio Miyauchi']   \n",
       "8447           ['Adriana Bosch', 'M Pink Christofalo']    ['Mason Daring']   \n",
       "8448                                     ['Matt Codd']  ['Richard McHugh']   \n",
       "8449                                 ['Robert Altman']  ['Van Dyke Parks']   \n",
       "8450                                ['John McTiernan']  ['Alan Silvestri']   \n",
       "\n",
       "                                                 writer  runtime  \n",
       "8446                             [\"Shin'ichi Sekizawa\"]      NaN  \n",
       "8447                                  ['Adriana Bosch']      NaN  \n",
       "8448  ['Jonathan Raymond', 'Jonathan Raymond', 'Phil...      NaN  \n",
       "8449  ['Neve Campbell', 'Barbara Turner', 'Barbara T...      NaN  \n",
       "8450                      ['Jim Thomas', 'John Thomas']      NaN  "
      ]
     },
     "execution_count": 4,
     "metadata": {},
     "output_type": "execute_result"
    }
   ],
   "source": [
    "df.tail()"
   ]
  },
  {
   "cell_type": "code",
   "execution_count": 5,
   "metadata": {},
   "outputs": [
    {
     "name": "stdout",
     "output_type": "stream",
     "text": [
      "<class 'pandas.core.frame.DataFrame'>\n",
      "RangeIndex: 8451 entries, 0 to 8450\n",
      "Data columns (total 14 columns):\n",
      " #   Column      Non-Null Count  Dtype  \n",
      "---  ------      --------------  -----  \n",
      " 0   Unnamed: 0  8451 non-null   int64  \n",
      " 1   title       8451 non-null   object \n",
      " 2   year        8451 non-null   float64\n",
      " 3   kind        8451 non-null   object \n",
      " 4   genre       8384 non-null   object \n",
      " 5   rating      8135 non-null   float64\n",
      " 6   vote        8135 non-null   float64\n",
      " 7   country     8152 non-null   object \n",
      " 8   language    8052 non-null   object \n",
      " 9   cast        8280 non-null   object \n",
      " 10  director    7140 non-null   object \n",
      " 11  composer    5722 non-null   object \n",
      " 12  writer      7204 non-null   object \n",
      " 13  runtime     6798 non-null   float64\n",
      "dtypes: float64(4), int64(1), object(9)\n",
      "memory usage: 924.5+ KB\n"
     ]
    }
   ],
   "source": [
    "df.info()"
   ]
  },
  {
   "cell_type": "code",
   "execution_count": 6,
   "metadata": {},
   "outputs": [
    {
     "data": {
      "text/plain": [
       "Unnamed: 0       0\n",
       "title            0\n",
       "year             0\n",
       "kind             0\n",
       "genre           67\n",
       "rating         316\n",
       "vote           316\n",
       "country        299\n",
       "language       399\n",
       "cast           171\n",
       "director      1311\n",
       "composer      2729\n",
       "writer        1247\n",
       "runtime       1653\n",
       "dtype: int64"
      ]
     },
     "execution_count": 6,
     "metadata": {},
     "output_type": "execute_result"
    }
   ],
   "source": [
    "df.isna().sum()"
   ]
  },
  {
   "cell_type": "code",
   "execution_count": 7,
   "metadata": {},
   "outputs": [],
   "source": [
    "df.drop('Unnamed: 0', axis=1, inplace=True)"
   ]
  },
  {
   "cell_type": "code",
   "execution_count": 8,
   "metadata": {},
   "outputs": [
    {
     "data": {
      "text/plain": [
       "title          0\n",
       "year           0\n",
       "kind           0\n",
       "genre         67\n",
       "rating       316\n",
       "vote         316\n",
       "country      299\n",
       "language     399\n",
       "cast         171\n",
       "director    1311\n",
       "composer    2729\n",
       "writer      1247\n",
       "runtime     1653\n",
       "dtype: int64"
      ]
     },
     "execution_count": 8,
     "metadata": {},
     "output_type": "execute_result"
    }
   ],
   "source": [
    "df.isna().sum()"
   ]
  },
  {
   "cell_type": "code",
   "execution_count": 9,
   "metadata": {},
   "outputs": [],
   "source": [
    "df.drop('composer', axis=1, inplace=True)"
   ]
  },
  {
   "cell_type": "code",
   "execution_count": 10,
   "metadata": {},
   "outputs": [],
   "source": [
    "genre_drop = df.loc[df.genre.isna()].index"
   ]
  },
  {
   "cell_type": "code",
   "execution_count": 11,
   "metadata": {},
   "outputs": [],
   "source": [
    "df.drop(genre_drop, axis=0, inplace=True)"
   ]
  },
  {
   "cell_type": "code",
   "execution_count": 12,
   "metadata": {},
   "outputs": [
    {
     "data": {
      "text/plain": [
       "0"
      ]
     },
     "execution_count": 12,
     "metadata": {},
     "output_type": "execute_result"
    }
   ],
   "source": [
    "df.genre.isna().sum()"
   ]
  },
  {
   "cell_type": "code",
   "execution_count": 13,
   "metadata": {},
   "outputs": [
    {
     "data": {
      "text/plain": [
       "0"
      ]
     },
     "execution_count": 13,
     "metadata": {},
     "output_type": "execute_result"
    }
   ],
   "source": [
    "cast_drop = df.loc[df.cast.isna()].index\n",
    "df.drop(cast_drop, axis=0, inplace=True)\n",
    "df.genre.isna().sum()"
   ]
  },
  {
   "cell_type": "code",
   "execution_count": 14,
   "metadata": {},
   "outputs": [
    {
     "data": {
      "text/plain": [
       "title          0\n",
       "year           0\n",
       "kind           0\n",
       "genre          0\n",
       "rating       224\n",
       "vote         224\n",
       "country      233\n",
       "language     324\n",
       "cast           0\n",
       "director    1185\n",
       "writer      1102\n",
       "runtime     1618\n",
       "dtype: int64"
      ]
     },
     "execution_count": 14,
     "metadata": {},
     "output_type": "execute_result"
    }
   ],
   "source": [
    "df.isna().sum()"
   ]
  },
  {
   "cell_type": "code",
   "execution_count": 15,
   "metadata": {},
   "outputs": [
    {
     "name": "stdout",
     "output_type": "stream",
     "text": [
      "<class 'pandas.core.frame.DataFrame'>\n",
      "Int64Index: 8232 entries, 0 to 8450\n",
      "Data columns (total 12 columns):\n",
      " #   Column    Non-Null Count  Dtype  \n",
      "---  ------    --------------  -----  \n",
      " 0   title     8232 non-null   object \n",
      " 1   year      8232 non-null   float64\n",
      " 2   kind      8232 non-null   object \n",
      " 3   genre     8232 non-null   object \n",
      " 4   rating    8008 non-null   float64\n",
      " 5   vote      8008 non-null   float64\n",
      " 6   country   7999 non-null   object \n",
      " 7   language  7908 non-null   object \n",
      " 8   cast      8232 non-null   object \n",
      " 9   director  7047 non-null   object \n",
      " 10  writer    7130 non-null   object \n",
      " 11  runtime   6614 non-null   float64\n",
      "dtypes: float64(4), object(8)\n",
      "memory usage: 836.1+ KB\n"
     ]
    }
   ],
   "source": [
    "df.info()"
   ]
  },
  {
   "cell_type": "code",
   "execution_count": 16,
   "metadata": {},
   "outputs": [
    {
     "data": {
      "image/png": "[encoded data removed]",
      "text/plain": [
       "<Figure size 432x288 with 1 Axes>"
      ]
     },
     "metadata": {
      "needs_background": "light"
     },
     "output_type": "display_data"
    }
   ],
   "source": [
    "ax = plt.hist(x=df.runtime, bins=30)\n",
    "plt.show()"
   ]
  },
  {
   "cell_type": "code",
   "execution_count": 17,
   "metadata": {},
   "outputs": [
    {
     "data": {
      "text/plain": [
       "1620.0"
      ]
     },
     "execution_count": 17,
     "metadata": {},
     "output_type": "execute_result"
    }
   ],
   "source": [
    "df.runtime.max()"
   ]
  },
  {
   "cell_type": "code",
   "execution_count": 18,
   "metadata": {},
   "outputs": [
    {
     "data": {
      "text/plain": [
       "661736.0"
      ]
     },
     "execution_count": 18,
     "metadata": {},
     "output_type": "execute_result"
    }
   ],
   "source": [
    "df.runtime.sum()"
   ]
  },
  {
   "cell_type": "code",
   "execution_count": 19,
   "metadata": {},
   "outputs": [
    {
     "data": {
      "text/plain": [
       "118400.0"
      ]
     },
     "execution_count": 19,
     "metadata": {},
     "output_type": "execute_result"
    }
   ],
   "source": [
    "df.runtime.sort_values().nlargest(n=500).sum()"
   ]
  },
  {
   "cell_type": "code",
   "execution_count": 20,
   "metadata": {},
   "outputs": [
    {
     "data": {
      "text/plain": [
       "title\n",
       "The Twilight Zone                                  3965.0\n",
       "French Twist                                       1620.0\n",
       "The Complete History of the Philadelphia Eagles    1620.0\n",
       "Stranger Inside                                    1380.0\n",
       "Thanksgiving Family Reunion                        1335.0\n",
       "Sabretooth                                         1140.0\n",
       "Alphaville                                          960.0\n",
       "Hercules: The Legendary Journeys                    930.0\n",
       "Tom and Jerry: The Magic Ring                       883.0\n",
       "Star Trek: The Next Generation                      851.0\n",
       "Name: runtime, dtype: float64"
      ]
     },
     "execution_count": 20,
     "metadata": {},
     "output_type": "execute_result"
    }
   ],
   "source": [
    "df.groupby('title')['runtime'].sum().nlargest(n=10)"
   ]
  },
  {
   "cell_type": "code",
   "execution_count": 21,
   "metadata": {},
   "outputs": [
    {
     "data": {
      "text/plain": [
       "title\n",
       "'Angel': Season 4 Overview              0.0\n",
       "'Manos' the Hands of Fate               0.0\n",
       "'Weird Al' Yankovic Live!               0.0\n",
       "10 Attitudes                            0.0\n",
       "1941                                    0.0\n",
       "                                       ... \n",
       "Withnail & I                            0.0\n",
       "Without Warning                         0.0\n",
       "Wolfen                                  0.0\n",
       "Woman Chasing the Butterfly of Death    0.0\n",
       "Women in Revolt                         0.0\n",
       "Name: runtime, Length: 1500, dtype: float64"
      ]
     },
     "execution_count": 21,
     "metadata": {},
     "output_type": "execute_result"
    }
   ],
   "source": [
    "df.groupby('title')['runtime'].sum().nsmallest(n=1500)"
   ]
  },
  {
   "cell_type": "code",
   "execution_count": 22,
   "metadata": {},
   "outputs": [
    {
     "data": {
      "text/plain": [
       "year\n",
       "2003.0    661\n",
       "2004.0    639\n",
       "2002.0    620\n",
       "2001.0    605\n",
       "2000.0    516\n",
       "1999.0    463\n",
       "1998.0    377\n",
       "1997.0    312\n",
       "1996.0    295\n",
       "2005.0    294\n",
       "1995.0    228\n",
       "1994.0    213\n",
       "1993.0    199\n",
       "1992.0    150\n",
       "1991.0    141\n",
       "1988.0    140\n",
       "1987.0    126\n",
       "1990.0    121\n",
       "1989.0    114\n",
       "1986.0     97\n",
       "Name: title, dtype: int64"
      ]
     },
     "execution_count": 22,
     "metadata": {},
     "output_type": "execute_result"
    }
   ],
   "source": [
    "df.groupby('year')['title'].count().nlargest(n=20)"
   ]
  },
  {
   "cell_type": "code",
   "execution_count": 23,
   "metadata": {},
   "outputs": [
    {
     "data": {
      "text/plain": [
       "country\n",
       "['United States']                      3709\n",
       "['United Kingdom']                      724\n",
       "['Japan']                               571\n",
       "['India']                               244\n",
       "['Hong Kong']                           214\n",
       "['Canada']                              207\n",
       "['France']                              154\n",
       "['United Kingdom', 'United States']     149\n",
       "['Canada', 'United States']              87\n",
       "['Australia']                            79\n",
       "['United States', 'Canada']              70\n",
       "['United States', 'United Kingdom']      67\n",
       "['Italy']                                66\n",
       "['Germany']                              43\n",
       "['Spain']                                41\n",
       "['France', 'Italy']                      37\n",
       "['South Korea']                          35\n",
       "['Italy', 'France']                      33\n",
       "['Germany', 'United States']             30\n",
       "['Soviet Union']                         30\n",
       "Name: title, dtype: int64"
      ]
     },
     "execution_count": 23,
     "metadata": {},
     "output_type": "execute_result"
    }
   ],
   "source": [
    "df.groupby('country')['title'].count().nlargest(n=20)"
   ]
  },
  {
   "cell_type": "code",
   "execution_count": 24,
   "metadata": {},
   "outputs": [
    {
     "data": {
      "text/plain": [
       "year\n",
       "2003.0    661\n",
       "2004.0    639\n",
       "2002.0    620\n",
       "2001.0    605\n",
       "2000.0    516\n",
       "1999.0    463\n",
       "1998.0    377\n",
       "1997.0    312\n",
       "1996.0    295\n",
       "2005.0    294\n",
       "1995.0    228\n",
       "1994.0    213\n",
       "1993.0    199\n",
       "1992.0    150\n",
       "1991.0    141\n",
       "1988.0    140\n",
       "1987.0    126\n",
       "1990.0    121\n",
       "1989.0    114\n",
       "1986.0     97\n",
       "Name: genre, dtype: int64"
      ]
     },
     "execution_count": 24,
     "metadata": {},
     "output_type": "execute_result"
    }
   ],
   "source": [
    "df.groupby('year')['genre'].count().nlargest(n=20)"
   ]
  },
  {
   "cell_type": "code",
   "execution_count": 25,
   "metadata": {},
   "outputs": [
    {
     "data": {
      "text/plain": [
       "country\n",
       "['United States']                      3709\n",
       "['United Kingdom']                      724\n",
       "['Japan']                               571\n",
       "['India']                               244\n",
       "['Hong Kong']                           214\n",
       "['Canada']                              207\n",
       "['France']                              154\n",
       "['United Kingdom', 'United States']     149\n",
       "['Canada', 'United States']              87\n",
       "['Australia']                            79\n",
       "['United States', 'Canada']              70\n",
       "['United States', 'United Kingdom']      67\n",
       "['Italy']                                66\n",
       "['Germany']                              43\n",
       "['Spain']                                41\n",
       "['France', 'Italy']                      37\n",
       "['South Korea']                          35\n",
       "['Italy', 'France']                      33\n",
       "['Germany', 'United States']             30\n",
       "['Soviet Union']                         30\n",
       "Name: genre, dtype: int64"
      ]
     },
     "execution_count": 25,
     "metadata": {},
     "output_type": "execute_result"
    }
   ],
   "source": [
    "df.groupby('country')['genre'].count().nlargest(n=20)"
   ]
  },
  {
   "cell_type": "code",
   "execution_count": 26,
   "metadata": {},
   "outputs": [
    {
     "data": {
      "text/plain": [
       "title          0\n",
       "year           0\n",
       "kind           0\n",
       "genre          0\n",
       "rating       224\n",
       "vote         224\n",
       "country      233\n",
       "language     324\n",
       "cast           0\n",
       "director    1185\n",
       "writer      1102\n",
       "runtime     1618\n",
       "dtype: int64"
      ]
     },
     "execution_count": 26,
     "metadata": {},
     "output_type": "execute_result"
    }
   ],
   "source": [
    "df.isna().sum()"
   ]
  },
  {
   "cell_type": "code",
   "execution_count": 27,
   "metadata": {},
   "outputs": [
    {
     "name": "stdout",
     "output_type": "stream",
     "text": [
      "<class 'pandas.core.frame.DataFrame'>\n",
      "Int64Index: 8232 entries, 0 to 8450\n",
      "Data columns (total 12 columns):\n",
      " #   Column    Non-Null Count  Dtype  \n",
      "---  ------    --------------  -----  \n",
      " 0   title     8232 non-null   object \n",
      " 1   year      8232 non-null   float64\n",
      " 2   kind      8232 non-null   object \n",
      " 3   genre     8232 non-null   object \n",
      " 4   rating    8008 non-null   float64\n",
      " 5   vote      8008 non-null   float64\n",
      " 6   country   7999 non-null   object \n",
      " 7   language  7908 non-null   object \n",
      " 8   cast      8232 non-null   object \n",
      " 9   director  7047 non-null   object \n",
      " 10  writer    7130 non-null   object \n",
      " 11  runtime   6614 non-null   float64\n",
      "dtypes: float64(4), object(8)\n",
      "memory usage: 836.1+ KB\n"
     ]
    }
   ],
   "source": [
    "df.info()"
   ]
  },
  {
   "cell_type": "code",
   "execution_count": 28,
   "metadata": {},
   "outputs": [
    {
     "data": {
      "text/plain": [
       "<bound method DataFrame.info of                                                   title    year  \\\n",
       "0                                       Dinosaur Planet  2003.0   \n",
       "1                                     Get Up and Dance!  1994.0   \n",
       "3                          What the #$*! Do We (K)now!?  2004.0   \n",
       "4     Class of Nuke 'Em High Part II: Subhumanoid Me...  1991.0   \n",
       "6                      Neil Diamond: Greatest Hits Live  1988.0   \n",
       "...                                                 ...     ...   \n",
       "7261                                              Shade  2003.0   \n",
       "7262                                Nothing But Trouble  1991.0   \n",
       "7263                                 The Whistle Blower  1986.0   \n",
       "7265                                     The Hitchhiker  1983.0   \n",
       "7266                                          SpaceCamp  1986.0   \n",
       "\n",
       "                kind                                              genre  \\\n",
       "0     tv mini series             ['Documentary', 'Animation', 'Family']   \n",
       "1        video movie                                         ['Family']   \n",
       "3              movie  ['Documentary', 'Comedy', 'Drama', 'Fantasy', ...   \n",
       "4              movie                     ['Comedy', 'Horror', 'Sci-Fi']   \n",
       "6        video movie                           ['Documentary', 'Music']   \n",
       "...              ...                                                ...   \n",
       "7261           movie                              ['Crime', 'Thriller']   \n",
       "7262           movie                                         ['Comedy']   \n",
       "7263           movie                                       ['Thriller']   \n",
       "7265       tv series  ['Drama', 'Horror', 'Mystery', 'Sci-Fi', 'Thri...   \n",
       "7266           movie                  ['Adventure', 'Family', 'Sci-Fi']   \n",
       "\n",
       "      rating     vote               country                          language  \\\n",
       "0        7.7    474.0     ['United States']                       ['English']   \n",
       "1        8.1     18.0     ['United States']                       ['English']   \n",
       "3        5.3  13432.0     ['United States']  ['English', 'German', 'Spanish']   \n",
       "4        4.5   2177.0     ['United States']                       ['English']   \n",
       "6        8.0     81.0     ['United States']                       ['English']   \n",
       "...      ...      ...                   ...                               ...   \n",
       "7261     6.3  12485.0     ['United States']                       ['English']   \n",
       "7262     5.1  23598.0     ['United States']                       ['English']   \n",
       "7263     6.2   2069.0    ['United Kingdom']            ['English', 'Russian']   \n",
       "7265     6.8   1482.0  ['Canada', 'France']                       ['English']   \n",
       "7266     5.7  14679.0     ['United States']                       ['English']   \n",
       "\n",
       "                                                   cast  \\\n",
       "0                 ['Christian Slater', 'Scott Sampson']   \n",
       "1     ['Paula Abdul', 'Aurorah Allain', 'Bill Bohl',...   \n",
       "3     ['Marlee Matlin', 'Elaine Hendrix', 'John Ross...   \n",
       "4     ['Brick Bronsky', 'Lisa Gaye', 'Leesa Rowland'...   \n",
       "6     ['Neil Diamond', 'Richard Bennett', 'Vince Cha...   \n",
       "...                                                 ...   \n",
       "7261  ['Joe Nicolo', 'Carl Mazzocone Sr.', 'George T...   \n",
       "7262  ['Chevy Chase', 'Dan Aykroyd', 'John Candy', '...   \n",
       "7263  ['Michael Caine', 'James Fox', 'Nigel Havers',...   \n",
       "7265  ['Page Fletcher', 'Nicholas Campbell', 'Vincen...   \n",
       "7266  ['Kate Capshaw', 'Lea Thompson', 'Kelly Presto...   \n",
       "\n",
       "                                               director  \\\n",
       "0                                                   NaN   \n",
       "1                                     ['Steve Purcell']   \n",
       "3     ['William Arntz', 'Betsy Chasse', 'Mark Vicente']   \n",
       "4                                       ['Eric Louzil']   \n",
       "6                  ['Dwight Hemion', 'Peter Israelson']   \n",
       "...                                                 ...   \n",
       "7261                                  ['Damian Nieman']   \n",
       "7262                                    ['Dan Aykroyd']   \n",
       "7263                                  ['Simon Langton']   \n",
       "7265                                                NaN   \n",
       "7266                                    ['Harry Winer']   \n",
       "\n",
       "                                                 writer  runtime  \n",
       "0      ['Mike Carrol', 'Mike Carroll', 'Georgann Kane']     50.0  \n",
       "1                                                   NaN     83.0  \n",
       "3     ['William Arntz', 'Betsy Chasse', 'Matthew Hof...     60.0  \n",
       "4        ['Lloyd Kaufman', 'Carl Morano', 'Matt Unger']     96.0  \n",
       "6            ['Kenny Solms', 'Ann Elder', 'Toem Perew']     55.0  \n",
       "...                                                 ...      ...  \n",
       "7261                                  ['Damian Nieman']    106.0  \n",
       "7262                   ['Peter Aykroyd', 'Dan Aykroyd']     92.0  \n",
       "7263                       ['Julian Bond', 'John Hale']    123.0  \n",
       "7265  ['Lewis Chesler', 'Lewis Chesler', 'Lewis Ches...    112.0  \n",
       "7266  ['Clifford Green', 'Casey T. Mitchell', 'Patri...    107.0  \n",
       "\n",
       "[6614 rows x 12 columns]>"
      ]
     },
     "execution_count": 28,
     "metadata": {},
     "output_type": "execute_result"
    }
   ],
   "source": [
    "runtime_drop = df.loc[df.runtime.isna()].index\n",
    "df.drop(runtime_drop, axis=0, inplace=True)\n",
    "df.info"
   ]
  },
  {
   "cell_type": "code",
   "execution_count": 29,
   "metadata": {},
   "outputs": [
    {
     "data": {
      "text/plain": [
       "title          0\n",
       "year           0\n",
       "kind           0\n",
       "genre          0\n",
       "rating       191\n",
       "vote         191\n",
       "country      198\n",
       "language     281\n",
       "cast           0\n",
       "director    1019\n",
       "writer       933\n",
       "runtime        0\n",
       "dtype: int64"
      ]
     },
     "execution_count": 29,
     "metadata": {},
     "output_type": "execute_result"
    }
   ],
   "source": [
    "df.isna().sum()"
   ]
  },
  {
   "cell_type": "code",
   "execution_count": 30,
   "metadata": {},
   "outputs": [
    {
     "name": "stdout",
     "output_type": "stream",
     "text": [
      "<class 'pandas.core.frame.DataFrame'>\n",
      "Int64Index: 6614 entries, 0 to 7266\n",
      "Data columns (total 12 columns):\n",
      " #   Column    Non-Null Count  Dtype  \n",
      "---  ------    --------------  -----  \n",
      " 0   title     6614 non-null   object \n",
      " 1   year      6614 non-null   float64\n",
      " 2   kind      6614 non-null   object \n",
      " 3   genre     6614 non-null   object \n",
      " 4   rating    6423 non-null   float64\n",
      " 5   vote      6423 non-null   float64\n",
      " 6   country   6416 non-null   object \n",
      " 7   language  6333 non-null   object \n",
      " 8   cast      6614 non-null   object \n",
      " 9   director  5595 non-null   object \n",
      " 10  writer    5681 non-null   object \n",
      " 11  runtime   6614 non-null   float64\n",
      "dtypes: float64(4), object(8)\n",
      "memory usage: 671.7+ KB\n"
     ]
    }
   ],
   "source": [
    "df.info()"
   ]
  },
  {
   "cell_type": "code",
   "execution_count": 31,
   "metadata": {},
   "outputs": [
    {
     "data": {
      "text/plain": [
       "title          0\n",
       "year           0\n",
       "kind           0\n",
       "genre          0\n",
       "rating       191\n",
       "vote         191\n",
       "country      198\n",
       "language     281\n",
       "cast           0\n",
       "director    1019\n",
       "writer       933\n",
       "runtime        0\n",
       "dtype: int64"
      ]
     },
     "execution_count": 31,
     "metadata": {},
     "output_type": "execute_result"
    }
   ],
   "source": [
    "df.isna().sum()"
   ]
  },
  {
   "cell_type": "code",
   "execution_count": 32,
   "metadata": {},
   "outputs": [],
   "source": [
    "df.director = df.director.replace(np.nan, 'Unknown')"
   ]
  },
  {
   "cell_type": "code",
   "execution_count": 33,
   "metadata": {},
   "outputs": [
    {
     "data": {
      "text/plain": [
       "array(['Unknown', \"['Steve Purcell']\",\n",
       "       \"['William Arntz', 'Betsy Chasse', 'Mark Vicente']\", ...,\n",
       "       \"['Damian Nieman']\", \"['Dan Aykroyd']\", \"['Simon Langton']\"],\n",
       "      dtype=object)"
      ]
     },
     "execution_count": 33,
     "metadata": {},
     "output_type": "execute_result"
    }
   ],
   "source": [
    "df.director.unique()"
   ]
  },
  {
   "cell_type": "code",
   "execution_count": 34,
   "metadata": {},
   "outputs": [],
   "source": [
    "df.writer = df.writer.replace(np.nan, 'Unknown')"
   ]
  },
  {
   "cell_type": "code",
   "execution_count": 35,
   "metadata": {},
   "outputs": [
    {
     "data": {
      "text/plain": [
       "title         0\n",
       "year          0\n",
       "kind          0\n",
       "genre         0\n",
       "rating      191\n",
       "vote        191\n",
       "country     198\n",
       "language    281\n",
       "cast          0\n",
       "director      0\n",
       "writer        0\n",
       "runtime       0\n",
       "dtype: int64"
      ]
     },
     "execution_count": 35,
     "metadata": {},
     "output_type": "execute_result"
    }
   ],
   "source": [
    "df.isna().sum()"
   ]
  },
  {
   "cell_type": "code",
   "execution_count": 36,
   "metadata": {},
   "outputs": [
    {
     "data": {
      "text/plain": [
       "<bound method DataFrame.info of                                                   title    year  \\\n",
       "0                                       Dinosaur Planet  2003.0   \n",
       "1                                     Get Up and Dance!  1994.0   \n",
       "3                          What the #$*! Do We (K)now!?  2004.0   \n",
       "4     Class of Nuke 'Em High Part II: Subhumanoid Me...  1991.0   \n",
       "6                      Neil Diamond: Greatest Hits Live  1988.0   \n",
       "...                                                 ...     ...   \n",
       "7261                                              Shade  2003.0   \n",
       "7262                                Nothing But Trouble  1991.0   \n",
       "7263                                 The Whistle Blower  1986.0   \n",
       "7265                                     The Hitchhiker  1983.0   \n",
       "7266                                          SpaceCamp  1986.0   \n",
       "\n",
       "                kind                                              genre  \\\n",
       "0     tv mini series             ['Documentary', 'Animation', 'Family']   \n",
       "1        video movie                                         ['Family']   \n",
       "3              movie  ['Documentary', 'Comedy', 'Drama', 'Fantasy', ...   \n",
       "4              movie                     ['Comedy', 'Horror', 'Sci-Fi']   \n",
       "6        video movie                           ['Documentary', 'Music']   \n",
       "...              ...                                                ...   \n",
       "7261           movie                              ['Crime', 'Thriller']   \n",
       "7262           movie                                         ['Comedy']   \n",
       "7263           movie                                       ['Thriller']   \n",
       "7265       tv series  ['Drama', 'Horror', 'Mystery', 'Sci-Fi', 'Thri...   \n",
       "7266           movie                  ['Adventure', 'Family', 'Sci-Fi']   \n",
       "\n",
       "      rating     vote               country                          language  \\\n",
       "0        7.7    474.0     ['United States']                       ['English']   \n",
       "1        8.1     18.0     ['United States']                       ['English']   \n",
       "3        5.3  13432.0     ['United States']  ['English', 'German', 'Spanish']   \n",
       "4        4.5   2177.0     ['United States']                       ['English']   \n",
       "6        8.0     81.0     ['United States']                       ['English']   \n",
       "...      ...      ...                   ...                               ...   \n",
       "7261     6.3  12485.0     ['United States']                       ['English']   \n",
       "7262     5.1  23598.0     ['United States']                       ['English']   \n",
       "7263     6.2   2069.0    ['United Kingdom']            ['English', 'Russian']   \n",
       "7265     6.8   1482.0  ['Canada', 'France']                       ['English']   \n",
       "7266     5.7  14679.0     ['United States']                       ['English']   \n",
       "\n",
       "                                                   cast  \\\n",
       "0                 ['Christian Slater', 'Scott Sampson']   \n",
       "1     ['Paula Abdul', 'Aurorah Allain', 'Bill Bohl',...   \n",
       "3     ['Marlee Matlin', 'Elaine Hendrix', 'John Ross...   \n",
       "4     ['Brick Bronsky', 'Lisa Gaye', 'Leesa Rowland'...   \n",
       "6     ['Neil Diamond', 'Richard Bennett', 'Vince Cha...   \n",
       "...                                                 ...   \n",
       "7261  ['Joe Nicolo', 'Carl Mazzocone Sr.', 'George T...   \n",
       "7262  ['Chevy Chase', 'Dan Aykroyd', 'John Candy', '...   \n",
       "7263  ['Michael Caine', 'James Fox', 'Nigel Havers',...   \n",
       "7265  ['Page Fletcher', 'Nicholas Campbell', 'Vincen...   \n",
       "7266  ['Kate Capshaw', 'Lea Thompson', 'Kelly Presto...   \n",
       "\n",
       "                                               director  \\\n",
       "0                                               Unknown   \n",
       "1                                     ['Steve Purcell']   \n",
       "3     ['William Arntz', 'Betsy Chasse', 'Mark Vicente']   \n",
       "4                                       ['Eric Louzil']   \n",
       "6                  ['Dwight Hemion', 'Peter Israelson']   \n",
       "...                                                 ...   \n",
       "7261                                  ['Damian Nieman']   \n",
       "7262                                    ['Dan Aykroyd']   \n",
       "7263                                  ['Simon Langton']   \n",
       "7265                                            Unknown   \n",
       "7266                                    ['Harry Winer']   \n",
       "\n",
       "                                                 writer  runtime  \n",
       "0      ['Mike Carrol', 'Mike Carroll', 'Georgann Kane']     50.0  \n",
       "1                                               Unknown     83.0  \n",
       "3     ['William Arntz', 'Betsy Chasse', 'Matthew Hof...     60.0  \n",
       "4        ['Lloyd Kaufman', 'Carl Morano', 'Matt Unger']     96.0  \n",
       "6            ['Kenny Solms', 'Ann Elder', 'Toem Perew']     55.0  \n",
       "...                                                 ...      ...  \n",
       "7261                                  ['Damian Nieman']    106.0  \n",
       "7262                   ['Peter Aykroyd', 'Dan Aykroyd']     92.0  \n",
       "7263                       ['Julian Bond', 'John Hale']    123.0  \n",
       "7265  ['Lewis Chesler', 'Lewis Chesler', 'Lewis Ches...    112.0  \n",
       "7266  ['Clifford Green', 'Casey T. Mitchell', 'Patri...    107.0  \n",
       "\n",
       "[6423 rows x 12 columns]>"
      ]
     },
     "execution_count": 36,
     "metadata": {},
     "output_type": "execute_result"
    }
   ],
   "source": [
    "rating_drop = df.loc[df.rating.isna()].index\n",
    "df.drop(rating_drop, axis=0, inplace=True)\n",
    "df.info"
   ]
  },
  {
   "cell_type": "code",
   "execution_count": 37,
   "metadata": {},
   "outputs": [
    {
     "data": {
      "text/plain": [
       "title         0\n",
       "year          0\n",
       "kind          0\n",
       "genre         0\n",
       "rating        0\n",
       "vote          0\n",
       "country     133\n",
       "language    223\n",
       "cast          0\n",
       "director      0\n",
       "writer        0\n",
       "runtime       0\n",
       "dtype: int64"
      ]
     },
     "execution_count": 37,
     "metadata": {},
     "output_type": "execute_result"
    }
   ],
   "source": [
    "df.isna().sum()"
   ]
  },
  {
   "cell_type": "code",
   "execution_count": 38,
   "metadata": {},
   "outputs": [
    {
     "data": {
      "text/plain": [
       "0.0"
      ]
     },
     "execution_count": 38,
     "metadata": {},
     "output_type": "execute_result"
    }
   ],
   "source": [
    "df[df.vote.isna()]['runtime'].sort_values(ascending=False).sum()"
   ]
  },
  {
   "cell_type": "code",
   "execution_count": 39,
   "metadata": {},
   "outputs": [
    {
     "data": {
      "text/plain": [
       "Int64Index([ 191,  208,  233,  414,  520,  554,  667,  730,  813,  819,  896,\n",
       "             920,  928,  935,  947, 1044, 1110, 1226, 1401, 1529, 1649, 2141,\n",
       "            2157, 2219, 2255, 2508, 2719, 2725, 2865, 2942, 3178, 3277, 3348,\n",
       "            3393, 3508, 3513, 3535, 3826, 3888, 3948, 4148, 4195, 4245, 4291,\n",
       "            4442, 4458, 4482, 4575, 4626, 4628, 4743, 4790, 4848, 4964, 5131,\n",
       "            5146, 5167, 5257, 5278, 5283, 5524, 5863, 6908, 6945, 7054],\n",
       "           dtype='int64')"
      ]
     },
     "execution_count": 39,
     "metadata": {},
     "output_type": "execute_result"
    }
   ],
   "source": [
    "missing_language = df.loc[(df.language.isna()==True) & (df.country == \"['United States']\")].index\n",
    "missing_language"
   ]
  },
  {
   "cell_type": "code",
   "execution_count": 40,
   "metadata": {},
   "outputs": [
    {
     "data": {
      "text/plain": [
       "title         0\n",
       "year          0\n",
       "kind          0\n",
       "genre         0\n",
       "rating        0\n",
       "vote          0\n",
       "country     133\n",
       "language    158\n",
       "cast          0\n",
       "director      0\n",
       "writer        0\n",
       "runtime       0\n",
       "dtype: int64"
      ]
     },
     "execution_count": 40,
     "metadata": {},
     "output_type": "execute_result"
    }
   ],
   "source": [
    "df.language = np.where( (df.language.isna()) & (df.country == \"['United States']\"), 'English', df.language)\n",
    "df.isna().sum()\n"
   ]
  },
  {
   "cell_type": "code",
   "execution_count": 41,
   "metadata": {},
   "outputs": [
    {
     "data": {
      "text/plain": [
       "title         0\n",
       "year          0\n",
       "kind          0\n",
       "genre         0\n",
       "rating        0\n",
       "vote          0\n",
       "country     133\n",
       "language    147\n",
       "cast          0\n",
       "director      0\n",
       "writer        0\n",
       "runtime       0\n",
       "dtype: int64"
      ]
     },
     "execution_count": 41,
     "metadata": {},
     "output_type": "execute_result"
    }
   ],
   "source": [
    "df.language = np.where( (df.language.isna()) & (df.country == \"['Japan']\"), 'Japanese', df.language)\n",
    "df.isna().sum()\n"
   ]
  },
  {
   "cell_type": "code",
   "execution_count": 42,
   "metadata": {},
   "outputs": [
    {
     "data": {
      "text/plain": [
       "title         0\n",
       "year          0\n",
       "kind          0\n",
       "genre         0\n",
       "rating        0\n",
       "vote          0\n",
       "country     133\n",
       "language    143\n",
       "cast          0\n",
       "director      0\n",
       "writer        0\n",
       "runtime       0\n",
       "dtype: int64"
      ]
     },
     "execution_count": 42,
     "metadata": {},
     "output_type": "execute_result"
    }
   ],
   "source": [
    "df.language = np.where( (df.language.isna()) & (df.country == \"['United Kingdom']\"), 'English', df.language)\n",
    "df.isna().sum()"
   ]
  },
  {
   "cell_type": "code",
   "execution_count": 43,
   "metadata": {},
   "outputs": [
    {
     "data": {
      "text/plain": [
       "title         0\n",
       "year          0\n",
       "kind          0\n",
       "genre         0\n",
       "rating        0\n",
       "vote          0\n",
       "country     133\n",
       "language    143\n",
       "cast          0\n",
       "director      0\n",
       "writer        0\n",
       "runtime       0\n",
       "dtype: int64"
      ]
     },
     "execution_count": 43,
     "metadata": {},
     "output_type": "execute_result"
    }
   ],
   "source": [
    "df.country = np.where( (df.country.isna()) & (df.language == \"['Japanese']\"), 'Japan', df.country)\n",
    "df.isna().sum()"
   ]
  },
  {
   "cell_type": "code",
   "execution_count": 44,
   "metadata": {},
   "outputs": [
    {
     "data": {
      "text/plain": [
       "['English']               13\n",
       "['English', 'Spanish']     1\n",
       "Name: language, dtype: int64"
      ]
     },
     "execution_count": 44,
     "metadata": {},
     "output_type": "execute_result"
    }
   ],
   "source": [
    "df[(df.country.isna() == True) & (df.language.isna() == False)]['language'].value_counts()"
   ]
  },
  {
   "cell_type": "code",
   "execution_count": 45,
   "metadata": {},
   "outputs": [
    {
     "data": {
      "text/plain": [
       "['Canada']                                       5\n",
       "['Canada', 'United States']                      3\n",
       "['Sweden']                                       2\n",
       "['Canada', 'United Kingdom']                     2\n",
       "['Norway']                                       1\n",
       "['Canada', 'France', 'United Kingdom']           1\n",
       "['France']                                       1\n",
       "['Hong Kong']                                    1\n",
       "['Italy']                                        1\n",
       "['United States', 'Canada']                      1\n",
       "['United States', 'Japan', 'Canada']             1\n",
       "['United States', 'United Kingdom']              1\n",
       "['Mexico']                                       1\n",
       "['Canada', 'France', 'Guadeloupe']               1\n",
       "['France', 'Madagascar', 'Vietnam', 'Canada']    1\n",
       "['Ireland', 'United States']                     1\n",
       "Name: country, dtype: int64"
      ]
     },
     "execution_count": 45,
     "metadata": {},
     "output_type": "execute_result"
    }
   ],
   "source": [
    "df[(df.language.isna() == True) & (df.country.isna() == False)]['country'].value_counts()"
   ]
  },
  {
   "cell_type": "code",
   "execution_count": 46,
   "metadata": {},
   "outputs": [
    {
     "data": {
      "text/plain": [
       "title         0\n",
       "year          0\n",
       "kind          0\n",
       "genre         0\n",
       "rating        0\n",
       "vote          0\n",
       "country     133\n",
       "language    141\n",
       "cast          0\n",
       "director      0\n",
       "writer        0\n",
       "runtime       0\n",
       "dtype: int64"
      ]
     },
     "execution_count": 46,
     "metadata": {},
     "output_type": "execute_result"
    }
   ],
   "source": [
    "df.language = np.where( (df.language.isna()) & (df.country == \"['Sweden']\"), 'Swedish', df.language)\n",
    "df.isna().sum()"
   ]
  },
  {
   "cell_type": "code",
   "execution_count": 47,
   "metadata": {},
   "outputs": [
    {
     "data": {
      "text/plain": [
       "title         0\n",
       "year          0\n",
       "kind          0\n",
       "genre         0\n",
       "rating        0\n",
       "vote          0\n",
       "country     133\n",
       "language    140\n",
       "cast          0\n",
       "director      0\n",
       "writer        0\n",
       "runtime       0\n",
       "dtype: int64"
      ]
     },
     "execution_count": 47,
     "metadata": {},
     "output_type": "execute_result"
    }
   ],
   "source": [
    "df.language = np.where( (df.language.isna()) & (df.country == \"['Norway']\"), 'Norwegian', df.language)\n",
    "df.isna().sum()"
   ]
  },
  {
   "cell_type": "code",
   "execution_count": 48,
   "metadata": {},
   "outputs": [
    {
     "data": {
      "text/plain": [
       "title         0\n",
       "year          0\n",
       "kind          0\n",
       "genre         0\n",
       "rating        0\n",
       "vote          0\n",
       "country     133\n",
       "language    140\n",
       "cast          0\n",
       "director      0\n",
       "writer        0\n",
       "runtime       0\n",
       "dtype: int64"
      ]
     },
     "execution_count": 48,
     "metadata": {},
     "output_type": "execute_result"
    }
   ],
   "source": [
    "df.isna().sum()"
   ]
  },
  {
   "cell_type": "code",
   "execution_count": 49,
   "metadata": {},
   "outputs": [
    {
     "name": "stdout",
     "output_type": "stream",
     "text": [
      "<class 'pandas.core.frame.DataFrame'>\n",
      "Int64Index: 6423 entries, 0 to 7266\n",
      "Data columns (total 12 columns):\n",
      " #   Column    Non-Null Count  Dtype  \n",
      "---  ------    --------------  -----  \n",
      " 0   title     6423 non-null   object \n",
      " 1   year      6423 non-null   float64\n",
      " 2   kind      6423 non-null   object \n",
      " 3   genre     6423 non-null   object \n",
      " 4   rating    6423 non-null   float64\n",
      " 5   vote      6423 non-null   float64\n",
      " 6   country   6290 non-null   object \n",
      " 7   language  6283 non-null   object \n",
      " 8   cast      6423 non-null   object \n",
      " 9   director  6423 non-null   object \n",
      " 10  writer    6423 non-null   object \n",
      " 11  runtime   6423 non-null   float64\n",
      "dtypes: float64(4), object(8)\n",
      "memory usage: 652.3+ KB\n"
     ]
    }
   ],
   "source": [
    "df.info()"
   ]
  },
  {
   "cell_type": "code",
   "execution_count": 50,
   "metadata": {},
   "outputs": [
    {
     "data": {
      "text/plain": [
       "title         0\n",
       "year          0\n",
       "kind          0\n",
       "genre         0\n",
       "rating        0\n",
       "vote          0\n",
       "country     133\n",
       "language      0\n",
       "cast          0\n",
       "director      0\n",
       "writer        0\n",
       "runtime       0\n",
       "dtype: int64"
      ]
     },
     "execution_count": 50,
     "metadata": {},
     "output_type": "execute_result"
    }
   ],
   "source": [
    "df.language = np.where((df.language.isna()), 'Other', df.language)\n",
    "df.isna().sum()"
   ]
  },
  {
   "cell_type": "code",
   "execution_count": 51,
   "metadata": {},
   "outputs": [
    {
     "data": {
      "text/plain": [
       "title       0\n",
       "year        0\n",
       "kind        0\n",
       "genre       0\n",
       "rating      0\n",
       "vote        0\n",
       "country     0\n",
       "language    0\n",
       "cast        0\n",
       "director    0\n",
       "writer      0\n",
       "runtime     0\n",
       "dtype: int64"
      ]
     },
     "execution_count": 51,
     "metadata": {},
     "output_type": "execute_result"
    }
   ],
   "source": [
    "df.country = np.where((df.country.isna()), 'Other', df.country)\n",
    "df.isna().sum()"
   ]
  },
  {
   "cell_type": "code",
   "execution_count": 52,
   "metadata": {},
   "outputs": [
    {
     "name": "stdout",
     "output_type": "stream",
     "text": [
      "<class 'pandas.core.frame.DataFrame'>\n",
      "Int64Index: 6423 entries, 0 to 7266\n",
      "Data columns (total 12 columns):\n",
      " #   Column    Non-Null Count  Dtype  \n",
      "---  ------    --------------  -----  \n",
      " 0   title     6423 non-null   object \n",
      " 1   year      6423 non-null   float64\n",
      " 2   kind      6423 non-null   object \n",
      " 3   genre     6423 non-null   object \n",
      " 4   rating    6423 non-null   float64\n",
      " 5   vote      6423 non-null   float64\n",
      " 6   country   6423 non-null   object \n",
      " 7   language  6423 non-null   object \n",
      " 8   cast      6423 non-null   object \n",
      " 9   director  6423 non-null   object \n",
      " 10  writer    6423 non-null   object \n",
      " 11  runtime   6423 non-null   float64\n",
      "dtypes: float64(4), object(8)\n",
      "memory usage: 652.3+ KB\n"
     ]
    }
   ],
   "source": [
    "df.info()"
   ]
  },
  {
   "cell_type": "code",
   "execution_count": 53,
   "metadata": {},
   "outputs": [],
   "source": [
    "df.drop('cast', axis=1, inplace=True)"
   ]
  },
  {
   "cell_type": "code",
   "execution_count": 54,
   "metadata": {},
   "outputs": [
    {
     "data": {
      "text/html": [
       "<div>\n",
       "<style scoped>\n",
       "    .dataframe tbody tr th:only-of-type {\n",
       "        vertical-align: middle;\n",
       "    }\n",
       "\n",
       "    .dataframe tbody tr th {\n",
       "        vertical-align: top;\n",
       "    }\n",
       "\n",
       "    .dataframe thead th {\n",
       "        text-align: right;\n",
       "    }\n",
       "</style>\n",
       "<table border=\"1\" class=\"dataframe\">\n",
       "  <thead>\n",
       "    <tr style=\"text-align: right;\">\n",
       "      <th></th>\n",
       "      <th>title</th>\n",
       "      <th>year</th>\n",
       "      <th>kind</th>\n",
       "      <th>genre</th>\n",
       "      <th>rating</th>\n",
       "      <th>vote</th>\n",
       "      <th>country</th>\n",
       "      <th>language</th>\n",
       "      <th>director</th>\n",
       "      <th>writer</th>\n",
       "      <th>runtime</th>\n",
       "    </tr>\n",
       "  </thead>\n",
       "  <tbody>\n",
       "    <tr>\n",
       "      <th>0</th>\n",
       "      <td>Dinosaur Planet</td>\n",
       "      <td>2003.0</td>\n",
       "      <td>tv mini series</td>\n",
       "      <td>['Documentary', 'Animation', 'Family']</td>\n",
       "      <td>7.7</td>\n",
       "      <td>474.0</td>\n",
       "      <td>['United States']</td>\n",
       "      <td>['English']</td>\n",
       "      <td>Unknown</td>\n",
       "      <td>['Mike Carrol', 'Mike Carroll', 'Georgann Kane']</td>\n",
       "      <td>50.0</td>\n",
       "    </tr>\n",
       "    <tr>\n",
       "      <th>1</th>\n",
       "      <td>Get Up and Dance!</td>\n",
       "      <td>1994.0</td>\n",
       "      <td>video movie</td>\n",
       "      <td>['Family']</td>\n",
       "      <td>8.1</td>\n",
       "      <td>18.0</td>\n",
       "      <td>['United States']</td>\n",
       "      <td>['English']</td>\n",
       "      <td>['Steve Purcell']</td>\n",
       "      <td>Unknown</td>\n",
       "      <td>83.0</td>\n",
       "    </tr>\n",
       "    <tr>\n",
       "      <th>3</th>\n",
       "      <td>What the #$*! Do We (K)now!?</td>\n",
       "      <td>2004.0</td>\n",
       "      <td>movie</td>\n",
       "      <td>['Documentary', 'Comedy', 'Drama', 'Fantasy', ...</td>\n",
       "      <td>5.3</td>\n",
       "      <td>13432.0</td>\n",
       "      <td>['United States']</td>\n",
       "      <td>['English', 'German', 'Spanish']</td>\n",
       "      <td>['William Arntz', 'Betsy Chasse', 'Mark Vicente']</td>\n",
       "      <td>['William Arntz', 'Betsy Chasse', 'Matthew Hof...</td>\n",
       "      <td>60.0</td>\n",
       "    </tr>\n",
       "    <tr>\n",
       "      <th>4</th>\n",
       "      <td>Class of Nuke 'Em High Part II: Subhumanoid Me...</td>\n",
       "      <td>1991.0</td>\n",
       "      <td>movie</td>\n",
       "      <td>['Comedy', 'Horror', 'Sci-Fi']</td>\n",
       "      <td>4.5</td>\n",
       "      <td>2177.0</td>\n",
       "      <td>['United States']</td>\n",
       "      <td>['English']</td>\n",
       "      <td>['Eric Louzil']</td>\n",
       "      <td>['Lloyd Kaufman', 'Carl Morano', 'Matt Unger']</td>\n",
       "      <td>96.0</td>\n",
       "    </tr>\n",
       "    <tr>\n",
       "      <th>6</th>\n",
       "      <td>Neil Diamond: Greatest Hits Live</td>\n",
       "      <td>1988.0</td>\n",
       "      <td>video movie</td>\n",
       "      <td>['Documentary', 'Music']</td>\n",
       "      <td>8.0</td>\n",
       "      <td>81.0</td>\n",
       "      <td>['United States']</td>\n",
       "      <td>['English']</td>\n",
       "      <td>['Dwight Hemion', 'Peter Israelson']</td>\n",
       "      <td>['Kenny Solms', 'Ann Elder', 'Toem Perew']</td>\n",
       "      <td>55.0</td>\n",
       "    </tr>\n",
       "  </tbody>\n",
       "</table>\n",
       "</div>"
      ],
      "text/plain": [
       "                                               title    year            kind  \\\n",
       "0                                    Dinosaur Planet  2003.0  tv mini series   \n",
       "1                                  Get Up and Dance!  1994.0     video movie   \n",
       "3                       What the #$*! Do We (K)now!?  2004.0           movie   \n",
       "4  Class of Nuke 'Em High Part II: Subhumanoid Me...  1991.0           movie   \n",
       "6                   Neil Diamond: Greatest Hits Live  1988.0     video movie   \n",
       "\n",
       "                                               genre  rating     vote  \\\n",
       "0             ['Documentary', 'Animation', 'Family']     7.7    474.0   \n",
       "1                                         ['Family']     8.1     18.0   \n",
       "3  ['Documentary', 'Comedy', 'Drama', 'Fantasy', ...     5.3  13432.0   \n",
       "4                     ['Comedy', 'Horror', 'Sci-Fi']     4.5   2177.0   \n",
       "6                           ['Documentary', 'Music']     8.0     81.0   \n",
       "\n",
       "             country                          language  \\\n",
       "0  ['United States']                       ['English']   \n",
       "1  ['United States']                       ['English']   \n",
       "3  ['United States']  ['English', 'German', 'Spanish']   \n",
       "4  ['United States']                       ['English']   \n",
       "6  ['United States']                       ['English']   \n",
       "\n",
       "                                            director  \\\n",
       "0                                            Unknown   \n",
       "1                                  ['Steve Purcell']   \n",
       "3  ['William Arntz', 'Betsy Chasse', 'Mark Vicente']   \n",
       "4                                    ['Eric Louzil']   \n",
       "6               ['Dwight Hemion', 'Peter Israelson']   \n",
       "\n",
       "                                              writer  runtime  \n",
       "0   ['Mike Carrol', 'Mike Carroll', 'Georgann Kane']     50.0  \n",
       "1                                            Unknown     83.0  \n",
       "3  ['William Arntz', 'Betsy Chasse', 'Matthew Hof...     60.0  \n",
       "4     ['Lloyd Kaufman', 'Carl Morano', 'Matt Unger']     96.0  \n",
       "6         ['Kenny Solms', 'Ann Elder', 'Toem Perew']     55.0  "
      ]
     },
     "execution_count": 54,
     "metadata": {},
     "output_type": "execute_result"
    }
   ],
   "source": [
    "df.head()"
   ]
  },
  {
   "cell_type": "code",
   "execution_count": 55,
   "metadata": {},
   "outputs": [],
   "source": [
    "df.drop('writer', axis=1, inplace=True)"
   ]
  },
  {
   "cell_type": "code",
   "execution_count": 56,
   "metadata": {},
   "outputs": [
    {
     "name": "stdout",
     "output_type": "stream",
     "text": [
      "<class 'pandas.core.frame.DataFrame'>\n",
      "Int64Index: 6423 entries, 0 to 7266\n",
      "Data columns (total 10 columns):\n",
      " #   Column    Non-Null Count  Dtype  \n",
      "---  ------    --------------  -----  \n",
      " 0   title     6423 non-null   object \n",
      " 1   year      6423 non-null   float64\n",
      " 2   kind      6423 non-null   object \n",
      " 3   genre     6423 non-null   object \n",
      " 4   rating    6423 non-null   float64\n",
      " 5   vote      6423 non-null   float64\n",
      " 6   country   6423 non-null   object \n",
      " 7   language  6423 non-null   object \n",
      " 8   director  6423 non-null   object \n",
      " 9   runtime   6423 non-null   float64\n",
      "dtypes: float64(4), object(6)\n",
      "memory usage: 552.0+ KB\n"
     ]
    }
   ],
   "source": [
    "df.info()"
   ]
  },
  {
   "cell_type": "code",
   "execution_count": 57,
   "metadata": {},
   "outputs": [
    {
     "data": {
      "text/plain": [
       "['English']                                                                     3795\n",
       "['Japanese']                                                                     342\n",
       "['Hindi']                                                                        164\n",
       "Other                                                                            140\n",
       "['French']                                                                       136\n",
       "                                                                                ... \n",
       "['English', 'Hungarian']                                                           1\n",
       "['Italian', 'English', 'Latin', 'Greek, Ancient (to 1453)']                        1\n",
       "['English', 'German', 'French', 'Polish']                                          1\n",
       "['Portuguese', 'Spanish']                                                          1\n",
       "['Cantonese', 'English', 'Japanese', 'Hindi', 'Mandarin', 'Punjabi', 'Urdu']       1\n",
       "Name: language, Length: 583, dtype: int64"
      ]
     },
     "execution_count": 57,
     "metadata": {},
     "output_type": "execute_result"
    }
   ],
   "source": [
    "df.language.value_counts()"
   ]
  },
  {
   "cell_type": "code",
   "execution_count": 58,
   "metadata": {},
   "outputs": [
    {
     "data": {
      "image/png": "[encoded data removed]",
      "text/plain": [
       "<Figure size 864x504 with 2 Axes>"
      ]
     },
     "metadata": {
      "needs_background": "light"
     },
     "output_type": "display_data"
    }
   ],
   "source": [
    "fig, ax = plt.subplots(figsize= (12,7))\n",
    "\n",
    "corr = df.corr().round(2)\n",
    "\n",
    "# Generate a mask for the upper triangle\n",
    "mask = np.triu(np.ones_like(corr, dtype=bool))\n",
    "\n",
    "sns.heatmap(corr, annot=True, fmt=\"\", cmap='RdYlGn', mask=mask, linewidths=0.30, ax=ax)\n",
    "plt.show()"
   ]
  },
  {
   "cell_type": "code",
   "execution_count": 59,
   "metadata": {},
   "outputs": [
    {
     "data": {
      "image/png": "[encoded data removed]",
      "text/plain": [
       "<Figure size 864x648 with 1 Axes>"
      ]
     },
     "metadata": {
      "needs_background": "light"
     },
     "output_type": "display_data"
    }
   ],
   "source": [
    "runtime = df.runtime.value_counts().nlargest(n=100)\n",
    "fig, ax = plt.subplots(figsize=(12, 9))\n",
    "runtime.plot.bar()\n",
    "plt.show()"
   ]
  },
  {
   "cell_type": "code",
   "execution_count": 60,
   "metadata": {},
   "outputs": [
    {
     "data": {
      "image/png": "[encoded data removed]",
      "text/plain": [
       "<Figure size 864x648 with 1 Axes>"
      ]
     },
     "metadata": {
      "needs_background": "light"
     },
     "output_type": "display_data"
    }
   ],
   "source": [
    "vote = df.vote.value_counts().nlargest(n=1000)\n",
    "fig, ax = plt.subplots(figsize=(12, 9))\n",
    "vote.plot.bar()\n",
    "plt.show()"
   ]
  },
  {
   "cell_type": "code",
   "execution_count": 61,
   "metadata": {},
   "outputs": [
    {
     "data": {
      "image/png": "[encoded data removed]",
      "text/plain": [
       "<Figure size 864x648 with 1 Axes>"
      ]
     },
     "metadata": {
      "needs_background": "light"
     },
     "output_type": "display_data"
    }
   ],
   "source": [
    "rating = df.rating.value_counts().nlargest(n=1000)\n",
    "fig, ax = plt.subplots(figsize=(12, 9))\n",
    "rating.plot.bar()\n",
    "plt.show()"
   ]
  },
  {
   "cell_type": "code",
   "execution_count": 62,
   "metadata": {},
   "outputs": [
    {
     "name": "stderr",
     "output_type": "stream",
     "text": [
      "/var/folders/9y/45l79l3x40s95c93b61_6txw0000gn/T/ipykernel_39339/4069824184.py:3: FutureWarning: The default value of regex will change from True to False in a future version. In addition, single character regular expressions will *not* be treated as literal strings when regex=True.\n",
      "  df.country = df.country.str.replace(\"[\", \"\").str.replace(\"]\", \"\")\n",
      "/var/folders/9y/45l79l3x40s95c93b61_6txw0000gn/T/ipykernel_39339/4069824184.py:10: FutureWarning: The default value of regex will change from True to False in a future version. In addition, single character regular expressions will *not* be treated as literal strings when regex=True.\n",
      "  df.genre=df.genre.str.replace(\"[\", \"\").str.replace(\"]\", \"\")\n",
      "/var/folders/9y/45l79l3x40s95c93b61_6txw0000gn/T/ipykernel_39339/4069824184.py:16: FutureWarning: The default value of regex will change from True to False in a future version. In addition, single character regular expressions will *not* be treated as literal strings when regex=True.\n",
      "  df.language=df.language.str.replace(\"[\", \"\").str.replace(\"]\", \"\")\n",
      "/var/folders/9y/45l79l3x40s95c93b61_6txw0000gn/T/ipykernel_39339/4069824184.py:22: FutureWarning: The default value of regex will change from True to False in a future version. In addition, single character regular expressions will *not* be treated as literal strings when regex=True.\n",
      "  df.director=df.director.str.replace(\"[\", \"\").str.replace(\"]\", \"\")\n"
     ]
    },
    {
     "data": {
      "text/plain": [
       "0               Unknown\n",
       "1       'Steve Purcell'\n",
       "3       'William Arntz'\n",
       "4         'Eric Louzil'\n",
       "6       'Dwight Hemion'\n",
       "             ...       \n",
       "7261    'Damian Nieman'\n",
       "7262      'Dan Aykroyd'\n",
       "7263    'Simon Langton'\n",
       "7265            Unknown\n",
       "7266      'Harry Winer'\n",
       "Name: director, Length: 6423, dtype: object"
      ]
     },
     "execution_count": 62,
     "metadata": {},
     "output_type": "execute_result"
    }
   ],
   "source": [
    "#Split genres, country, language and keep first of each\n",
    "\n",
    "df.country = df.country.str.replace(\"[\", \"\").str.replace(\"]\", \"\")\n",
    "df.country\n",
    "netflix_country= df.country.str.split(\",\").apply(pd.Series)\n",
    "df.country=netflix_country[0]\n",
    "df.country\n",
    "\n",
    "\n",
    "df.genre=df.genre.str.replace(\"[\", \"\").str.replace(\"]\", \"\")\n",
    "df.genre\n",
    "netflix_genre= df.genre.str.split(\",\").apply(pd.Series)\n",
    "df.genre=netflix_genre[0]\n",
    "df.genre \n",
    "\n",
    "df.language=df.language.str.replace(\"[\", \"\").str.replace(\"]\", \"\")\n",
    "df.language\n",
    "netflix_language= df.language.str.split(\",\").apply(pd.Series)\n",
    "df.language=netflix_language[0]\n",
    "df.language\n",
    "\n",
    "df.director=df.director.str.replace(\"[\", \"\").str.replace(\"]\", \"\")\n",
    "df.director\n",
    "netflix_director= df.director.str.split(\",\").apply(pd.Series)\n",
    "df.director = netflix_director[0]\n",
    "df.director\n",
    "\n"
   ]
  },
  {
   "cell_type": "code",
   "execution_count": 63,
   "metadata": {},
   "outputs": [
    {
     "data": {
      "text/html": [
       "<div>\n",
       "<style scoped>\n",
       "    .dataframe tbody tr th:only-of-type {\n",
       "        vertical-align: middle;\n",
       "    }\n",
       "\n",
       "    .dataframe tbody tr th {\n",
       "        vertical-align: top;\n",
       "    }\n",
       "\n",
       "    .dataframe thead th {\n",
       "        text-align: right;\n",
       "    }\n",
       "</style>\n",
       "<table border=\"1\" class=\"dataframe\">\n",
       "  <thead>\n",
       "    <tr style=\"text-align: right;\">\n",
       "      <th></th>\n",
       "      <th>title</th>\n",
       "      <th>year</th>\n",
       "      <th>kind</th>\n",
       "      <th>genre</th>\n",
       "      <th>rating</th>\n",
       "      <th>vote</th>\n",
       "      <th>country</th>\n",
       "      <th>language</th>\n",
       "      <th>director</th>\n",
       "      <th>runtime</th>\n",
       "    </tr>\n",
       "  </thead>\n",
       "  <tbody>\n",
       "    <tr>\n",
       "      <th>0</th>\n",
       "      <td>Dinosaur Planet</td>\n",
       "      <td>2003.0</td>\n",
       "      <td>tv mini series</td>\n",
       "      <td>'Documentary'</td>\n",
       "      <td>7.7</td>\n",
       "      <td>474.0</td>\n",
       "      <td>'United States'</td>\n",
       "      <td>'English'</td>\n",
       "      <td>Unknown</td>\n",
       "      <td>50.0</td>\n",
       "    </tr>\n",
       "    <tr>\n",
       "      <th>1</th>\n",
       "      <td>Get Up and Dance!</td>\n",
       "      <td>1994.0</td>\n",
       "      <td>video movie</td>\n",
       "      <td>'Family'</td>\n",
       "      <td>8.1</td>\n",
       "      <td>18.0</td>\n",
       "      <td>'United States'</td>\n",
       "      <td>'English'</td>\n",
       "      <td>'Steve Purcell'</td>\n",
       "      <td>83.0</td>\n",
       "    </tr>\n",
       "    <tr>\n",
       "      <th>3</th>\n",
       "      <td>What the #$*! Do We (K)now!?</td>\n",
       "      <td>2004.0</td>\n",
       "      <td>movie</td>\n",
       "      <td>'Documentary'</td>\n",
       "      <td>5.3</td>\n",
       "      <td>13432.0</td>\n",
       "      <td>'United States'</td>\n",
       "      <td>'English'</td>\n",
       "      <td>'William Arntz'</td>\n",
       "      <td>60.0</td>\n",
       "    </tr>\n",
       "    <tr>\n",
       "      <th>4</th>\n",
       "      <td>Class of Nuke 'Em High Part II: Subhumanoid Me...</td>\n",
       "      <td>1991.0</td>\n",
       "      <td>movie</td>\n",
       "      <td>'Comedy'</td>\n",
       "      <td>4.5</td>\n",
       "      <td>2177.0</td>\n",
       "      <td>'United States'</td>\n",
       "      <td>'English'</td>\n",
       "      <td>'Eric Louzil'</td>\n",
       "      <td>96.0</td>\n",
       "    </tr>\n",
       "    <tr>\n",
       "      <th>6</th>\n",
       "      <td>Neil Diamond: Greatest Hits Live</td>\n",
       "      <td>1988.0</td>\n",
       "      <td>video movie</td>\n",
       "      <td>'Documentary'</td>\n",
       "      <td>8.0</td>\n",
       "      <td>81.0</td>\n",
       "      <td>'United States'</td>\n",
       "      <td>'English'</td>\n",
       "      <td>'Dwight Hemion'</td>\n",
       "      <td>55.0</td>\n",
       "    </tr>\n",
       "  </tbody>\n",
       "</table>\n",
       "</div>"
      ],
      "text/plain": [
       "                                               title    year            kind  \\\n",
       "0                                    Dinosaur Planet  2003.0  tv mini series   \n",
       "1                                  Get Up and Dance!  1994.0     video movie   \n",
       "3                       What the #$*! Do We (K)now!?  2004.0           movie   \n",
       "4  Class of Nuke 'Em High Part II: Subhumanoid Me...  1991.0           movie   \n",
       "6                   Neil Diamond: Greatest Hits Live  1988.0     video movie   \n",
       "\n",
       "           genre  rating     vote          country   language  \\\n",
       "0  'Documentary'     7.7    474.0  'United States'  'English'   \n",
       "1       'Family'     8.1     18.0  'United States'  'English'   \n",
       "3  'Documentary'     5.3  13432.0  'United States'  'English'   \n",
       "4       'Comedy'     4.5   2177.0  'United States'  'English'   \n",
       "6  'Documentary'     8.0     81.0  'United States'  'English'   \n",
       "\n",
       "          director  runtime  \n",
       "0          Unknown     50.0  \n",
       "1  'Steve Purcell'     83.0  \n",
       "3  'William Arntz'     60.0  \n",
       "4    'Eric Louzil'     96.0  \n",
       "6  'Dwight Hemion'     55.0  "
      ]
     },
     "execution_count": 63,
     "metadata": {},
     "output_type": "execute_result"
    }
   ],
   "source": [
    "df.head()"
   ]
  },
  {
   "cell_type": "code",
   "execution_count": 64,
   "metadata": {},
   "outputs": [
    {
     "name": "stdout",
     "output_type": "stream",
     "text": [
      "<class 'pandas.core.frame.DataFrame'>\n",
      "Int64Index: 6423 entries, 0 to 7266\n",
      "Data columns (total 10 columns):\n",
      " #   Column    Non-Null Count  Dtype  \n",
      "---  ------    --------------  -----  \n",
      " 0   title     6423 non-null   object \n",
      " 1   year      6423 non-null   float64\n",
      " 2   kind      6423 non-null   object \n",
      " 3   genre     6423 non-null   object \n",
      " 4   rating    6423 non-null   float64\n",
      " 5   vote      6423 non-null   float64\n",
      " 6   country   6423 non-null   object \n",
      " 7   language  6423 non-null   object \n",
      " 8   director  6423 non-null   object \n",
      " 9   runtime   6423 non-null   float64\n",
      "dtypes: float64(4), object(6)\n",
      "memory usage: 552.0+ KB\n"
     ]
    }
   ],
   "source": [
    "df.info()"
   ]
  },
  {
   "cell_type": "code",
   "execution_count": 65,
   "metadata": {},
   "outputs": [
    {
     "data": {
      "text/plain": [
       "movie             3793\n",
       "video movie        960\n",
       "tv movie           616\n",
       "tv series          509\n",
       "episode            325\n",
       "tv mini series     204\n",
       "video game           8\n",
       "tv short             8\n",
       "Name: kind, dtype: int64"
      ]
     },
     "execution_count": 65,
     "metadata": {},
     "output_type": "execute_result"
    }
   ],
   "source": [
    "df.kind.value_counts()\n",
    "\n",
    "#ok for dummies"
   ]
  },
  {
   "cell_type": "code",
   "execution_count": 66,
   "metadata": {},
   "outputs": [
    {
     "data": {
      "text/plain": [
       "'Drama'          1190\n",
       "'Comedy'         1089\n",
       "'Documentary'    1008\n",
       "'Action'          878\n",
       "'Animation'       661\n",
       "'Crime'           369\n",
       "'Adventure'       259\n",
       "'Horror'          249\n",
       "'Biography'       190\n",
       "'Music'           171\n",
       "'Family'           61\n",
       "'Short'            60\n",
       "'Fantasy'          40\n",
       "'Thriller'         37\n",
       "'Mystery'          26\n",
       "'Sci-Fi'           25\n",
       "'Musical'          23\n",
       "'Romance'          21\n",
       "'Western'          19\n",
       "'Sport'            19\n",
       "'Reality-TV'       12\n",
       "'History'           7\n",
       "'Game-Show'         5\n",
       "'Film-Noir'         3\n",
       "'Talk-Show'         1\n",
       "Name: genre, dtype: int64"
      ]
     },
     "execution_count": 66,
     "metadata": {},
     "output_type": "execute_result"
    }
   ],
   "source": [
    "df.genre.value_counts()"
   ]
  },
  {
   "cell_type": "code",
   "execution_count": 67,
   "metadata": {},
   "outputs": [],
   "source": [
    "other_genres = df.genre.value_counts()[10:].index.tolist()"
   ]
  },
  {
   "cell_type": "code",
   "execution_count": 68,
   "metadata": {},
   "outputs": [
    {
     "name": "stderr",
     "output_type": "stream",
     "text": [
      "/var/folders/9y/45l79l3x40s95c93b61_6txw0000gn/T/ipykernel_39339/2262671922.py:1: SettingWithCopyWarning: \n",
      "A value is trying to be set on a copy of a slice from a DataFrame\n",
      "\n",
      "See the caveats in the documentation: https://pandas.pydata.org/pandas-docs/stable/user_guide/indexing.html#returning-a-view-versus-a-copy\n",
      "  df.genre[df.genre.isin(other_genres)]=\"Other\"\n"
     ]
    },
    {
     "data": {
      "text/plain": [
       "array([\"'Documentary'\", 'Other', \"'Comedy'\", \"'Action'\", \"'Adventure'\",\n",
       "       \"'Drama'\", \"'Animation'\", \"'Horror'\", \"'Biography'\", \"'Music'\",\n",
       "       \"'Crime'\"], dtype=object)"
      ]
     },
     "execution_count": 68,
     "metadata": {},
     "output_type": "execute_result"
    }
   ],
   "source": [
    "df.genre[df.genre.isin(other_genres)]=\"Other\"\n",
    "df.genre.unique()"
   ]
  },
  {
   "cell_type": "code",
   "execution_count": 69,
   "metadata": {},
   "outputs": [
    {
     "data": {
      "text/plain": [
       "'Drama'          1190\n",
       "'Comedy'         1089\n",
       "'Documentary'    1008\n",
       "'Action'          878\n",
       "'Animation'       661\n",
       "'Crime'           369\n",
       "Other             359\n",
       "'Adventure'       259\n",
       "'Horror'          249\n",
       "'Biography'       190\n",
       "'Music'           171\n",
       "Name: genre, dtype: int64"
      ]
     },
     "execution_count": 69,
     "metadata": {},
     "output_type": "execute_result"
    }
   ],
   "source": [
    "df.genre.value_counts()\n",
    "\n",
    "#genre is now ok for dummies"
   ]
  },
  {
   "cell_type": "code",
   "execution_count": 70,
   "metadata": {},
   "outputs": [
    {
     "data": {
      "text/plain": [
       "'United States'     3073\n",
       "'United Kingdom'     835\n",
       "'Japan'              513\n",
       "'Canada'             312\n",
       "'France'             280\n",
       "                    ... \n",
       "'Portugal'             1\n",
       "'Aruba'                1\n",
       "'East Germany'         1\n",
       "'Cambodia'             1\n",
       "'Venezuela'            1\n",
       "Name: country, Length: 63, dtype: int64"
      ]
     },
     "execution_count": 70,
     "metadata": {},
     "output_type": "execute_result"
    }
   ],
   "source": [
    "df.country.value_counts()"
   ]
  },
  {
   "cell_type": "code",
   "execution_count": 71,
   "metadata": {},
   "outputs": [],
   "source": [
    "other_countries = df.country.value_counts()[10:].index.tolist()"
   ]
  },
  {
   "cell_type": "code",
   "execution_count": 72,
   "metadata": {},
   "outputs": [
    {
     "name": "stderr",
     "output_type": "stream",
     "text": [
      "/var/folders/9y/45l79l3x40s95c93b61_6txw0000gn/T/ipykernel_39339/4140505687.py:1: SettingWithCopyWarning: \n",
      "A value is trying to be set on a copy of a slice from a DataFrame\n",
      "\n",
      "See the caveats in the documentation: https://pandas.pydata.org/pandas-docs/stable/user_guide/indexing.html#returning-a-view-versus-a-copy\n",
      "  df.country[df.country.isin(other_countries)]=\"Other\"\n"
     ]
    },
    {
     "data": {
      "text/plain": [
       "array([\"'United States'\", \"'United Kingdom'\", \"'India'\", \"'Japan'\",\n",
       "       \"'France'\", \"'Canada'\", 'Other', \"'Hong Kong'\", \"'Italy'\",\n",
       "       \"'Australia'\"], dtype=object)"
      ]
     },
     "execution_count": 72,
     "metadata": {},
     "output_type": "execute_result"
    }
   ],
   "source": [
    "df.country[df.country.isin(other_countries)]=\"Other\"\n",
    "df.country.unique()"
   ]
  },
  {
   "cell_type": "code",
   "execution_count": 73,
   "metadata": {},
   "outputs": [
    {
     "data": {
      "text/plain": [
       "'United States'     3073\n",
       "'United Kingdom'     835\n",
       "Other                768\n",
       "'Japan'              513\n",
       "'Canada'             312\n",
       "'France'             280\n",
       "'Hong Kong'          224\n",
       "'India'              209\n",
       "'Italy'              121\n",
       "'Australia'           88\n",
       "Name: country, dtype: int64"
      ]
     },
     "execution_count": 73,
     "metadata": {},
     "output_type": "execute_result"
    }
   ],
   "source": [
    "df.country.value_counts()"
   ]
  },
  {
   "cell_type": "code",
   "execution_count": 74,
   "metadata": {},
   "outputs": [
    {
     "data": {
      "text/html": [
       "<div>\n",
       "<style scoped>\n",
       "    .dataframe tbody tr th:only-of-type {\n",
       "        vertical-align: middle;\n",
       "    }\n",
       "\n",
       "    .dataframe tbody tr th {\n",
       "        vertical-align: top;\n",
       "    }\n",
       "\n",
       "    .dataframe thead th {\n",
       "        text-align: right;\n",
       "    }\n",
       "</style>\n",
       "<table border=\"1\" class=\"dataframe\">\n",
       "  <thead>\n",
       "    <tr style=\"text-align: right;\">\n",
       "      <th></th>\n",
       "      <th>year</th>\n",
       "      <th>rating</th>\n",
       "      <th>vote</th>\n",
       "      <th>runtime</th>\n",
       "    </tr>\n",
       "  </thead>\n",
       "  <tbody>\n",
       "    <tr>\n",
       "      <th>0</th>\n",
       "      <td>2003.0</td>\n",
       "      <td>7.7</td>\n",
       "      <td>474.0</td>\n",
       "      <td>50.0</td>\n",
       "    </tr>\n",
       "    <tr>\n",
       "      <th>1</th>\n",
       "      <td>1994.0</td>\n",
       "      <td>8.1</td>\n",
       "      <td>18.0</td>\n",
       "      <td>83.0</td>\n",
       "    </tr>\n",
       "    <tr>\n",
       "      <th>3</th>\n",
       "      <td>2004.0</td>\n",
       "      <td>5.3</td>\n",
       "      <td>13432.0</td>\n",
       "      <td>60.0</td>\n",
       "    </tr>\n",
       "    <tr>\n",
       "      <th>4</th>\n",
       "      <td>1991.0</td>\n",
       "      <td>4.5</td>\n",
       "      <td>2177.0</td>\n",
       "      <td>96.0</td>\n",
       "    </tr>\n",
       "    <tr>\n",
       "      <th>6</th>\n",
       "      <td>1988.0</td>\n",
       "      <td>8.0</td>\n",
       "      <td>81.0</td>\n",
       "      <td>55.0</td>\n",
       "    </tr>\n",
       "    <tr>\n",
       "      <th>...</th>\n",
       "      <td>...</td>\n",
       "      <td>...</td>\n",
       "      <td>...</td>\n",
       "      <td>...</td>\n",
       "    </tr>\n",
       "    <tr>\n",
       "      <th>7261</th>\n",
       "      <td>2003.0</td>\n",
       "      <td>6.3</td>\n",
       "      <td>12485.0</td>\n",
       "      <td>106.0</td>\n",
       "    </tr>\n",
       "    <tr>\n",
       "      <th>7262</th>\n",
       "      <td>1991.0</td>\n",
       "      <td>5.1</td>\n",
       "      <td>23598.0</td>\n",
       "      <td>92.0</td>\n",
       "    </tr>\n",
       "    <tr>\n",
       "      <th>7263</th>\n",
       "      <td>1986.0</td>\n",
       "      <td>6.2</td>\n",
       "      <td>2069.0</td>\n",
       "      <td>123.0</td>\n",
       "    </tr>\n",
       "    <tr>\n",
       "      <th>7265</th>\n",
       "      <td>1983.0</td>\n",
       "      <td>6.8</td>\n",
       "      <td>1482.0</td>\n",
       "      <td>112.0</td>\n",
       "    </tr>\n",
       "    <tr>\n",
       "      <th>7266</th>\n",
       "      <td>1986.0</td>\n",
       "      <td>5.7</td>\n",
       "      <td>14679.0</td>\n",
       "      <td>107.0</td>\n",
       "    </tr>\n",
       "  </tbody>\n",
       "</table>\n",
       "<p>6423 rows × 4 columns</p>\n",
       "</div>"
      ],
      "text/plain": [
       "        year  rating     vote  runtime\n",
       "0     2003.0     7.7    474.0     50.0\n",
       "1     1994.0     8.1     18.0     83.0\n",
       "3     2004.0     5.3  13432.0     60.0\n",
       "4     1991.0     4.5   2177.0     96.0\n",
       "6     1988.0     8.0     81.0     55.0\n",
       "...      ...     ...      ...      ...\n",
       "7261  2003.0     6.3  12485.0    106.0\n",
       "7262  1991.0     5.1  23598.0     92.0\n",
       "7263  1986.0     6.2   2069.0    123.0\n",
       "7265  1983.0     6.8   1482.0    112.0\n",
       "7266  1986.0     5.7  14679.0    107.0\n",
       "\n",
       "[6423 rows x 4 columns]"
      ]
     },
     "execution_count": 74,
     "metadata": {},
     "output_type": "execute_result"
    }
   ],
   "source": [
    "df_num = df.select_dtypes(include=np.number)\n",
    "df_num"
   ]
  },
  {
   "cell_type": "code",
   "execution_count": 75,
   "metadata": {},
   "outputs": [
    {
     "data": {
      "text/html": [
       "<div>\n",
       "<style scoped>\n",
       "    .dataframe tbody tr th:only-of-type {\n",
       "        vertical-align: middle;\n",
       "    }\n",
       "\n",
       "    .dataframe tbody tr th {\n",
       "        vertical-align: top;\n",
       "    }\n",
       "\n",
       "    .dataframe thead th {\n",
       "        text-align: right;\n",
       "    }\n",
       "</style>\n",
       "<table border=\"1\" class=\"dataframe\">\n",
       "  <thead>\n",
       "    <tr style=\"text-align: right;\">\n",
       "      <th></th>\n",
       "      <th>title</th>\n",
       "      <th>kind</th>\n",
       "      <th>genre</th>\n",
       "      <th>country</th>\n",
       "      <th>language</th>\n",
       "      <th>director</th>\n",
       "    </tr>\n",
       "  </thead>\n",
       "  <tbody>\n",
       "    <tr>\n",
       "      <th>0</th>\n",
       "      <td>Dinosaur Planet</td>\n",
       "      <td>tv mini series</td>\n",
       "      <td>'Documentary'</td>\n",
       "      <td>'United States'</td>\n",
       "      <td>'English'</td>\n",
       "      <td>Unknown</td>\n",
       "    </tr>\n",
       "    <tr>\n",
       "      <th>1</th>\n",
       "      <td>Get Up and Dance!</td>\n",
       "      <td>video movie</td>\n",
       "      <td>Other</td>\n",
       "      <td>'United States'</td>\n",
       "      <td>'English'</td>\n",
       "      <td>'Steve Purcell'</td>\n",
       "    </tr>\n",
       "    <tr>\n",
       "      <th>3</th>\n",
       "      <td>What the #$*! Do We (K)now!?</td>\n",
       "      <td>movie</td>\n",
       "      <td>'Documentary'</td>\n",
       "      <td>'United States'</td>\n",
       "      <td>'English'</td>\n",
       "      <td>'William Arntz'</td>\n",
       "    </tr>\n",
       "    <tr>\n",
       "      <th>4</th>\n",
       "      <td>Class of Nuke 'Em High Part II: Subhumanoid Me...</td>\n",
       "      <td>movie</td>\n",
       "      <td>'Comedy'</td>\n",
       "      <td>'United States'</td>\n",
       "      <td>'English'</td>\n",
       "      <td>'Eric Louzil'</td>\n",
       "    </tr>\n",
       "    <tr>\n",
       "      <th>6</th>\n",
       "      <td>Neil Diamond: Greatest Hits Live</td>\n",
       "      <td>video movie</td>\n",
       "      <td>'Documentary'</td>\n",
       "      <td>'United States'</td>\n",
       "      <td>'English'</td>\n",
       "      <td>'Dwight Hemion'</td>\n",
       "    </tr>\n",
       "    <tr>\n",
       "      <th>...</th>\n",
       "      <td>...</td>\n",
       "      <td>...</td>\n",
       "      <td>...</td>\n",
       "      <td>...</td>\n",
       "      <td>...</td>\n",
       "      <td>...</td>\n",
       "    </tr>\n",
       "    <tr>\n",
       "      <th>7261</th>\n",
       "      <td>Shade</td>\n",
       "      <td>movie</td>\n",
       "      <td>'Crime'</td>\n",
       "      <td>'United States'</td>\n",
       "      <td>'English'</td>\n",
       "      <td>'Damian Nieman'</td>\n",
       "    </tr>\n",
       "    <tr>\n",
       "      <th>7262</th>\n",
       "      <td>Nothing But Trouble</td>\n",
       "      <td>movie</td>\n",
       "      <td>'Comedy'</td>\n",
       "      <td>'United States'</td>\n",
       "      <td>'English'</td>\n",
       "      <td>'Dan Aykroyd'</td>\n",
       "    </tr>\n",
       "    <tr>\n",
       "      <th>7263</th>\n",
       "      <td>The Whistle Blower</td>\n",
       "      <td>movie</td>\n",
       "      <td>Other</td>\n",
       "      <td>'United Kingdom'</td>\n",
       "      <td>'English'</td>\n",
       "      <td>'Simon Langton'</td>\n",
       "    </tr>\n",
       "    <tr>\n",
       "      <th>7265</th>\n",
       "      <td>The Hitchhiker</td>\n",
       "      <td>tv series</td>\n",
       "      <td>'Drama'</td>\n",
       "      <td>'Canada'</td>\n",
       "      <td>'English'</td>\n",
       "      <td>Unknown</td>\n",
       "    </tr>\n",
       "    <tr>\n",
       "      <th>7266</th>\n",
       "      <td>SpaceCamp</td>\n",
       "      <td>movie</td>\n",
       "      <td>'Adventure'</td>\n",
       "      <td>'United States'</td>\n",
       "      <td>'English'</td>\n",
       "      <td>'Harry Winer'</td>\n",
       "    </tr>\n",
       "  </tbody>\n",
       "</table>\n",
       "<p>6423 rows × 6 columns</p>\n",
       "</div>"
      ],
      "text/plain": [
       "                                                  title            kind  \\\n",
       "0                                       Dinosaur Planet  tv mini series   \n",
       "1                                     Get Up and Dance!     video movie   \n",
       "3                          What the #$*! Do We (K)now!?           movie   \n",
       "4     Class of Nuke 'Em High Part II: Subhumanoid Me...           movie   \n",
       "6                      Neil Diamond: Greatest Hits Live     video movie   \n",
       "...                                                 ...             ...   \n",
       "7261                                              Shade           movie   \n",
       "7262                                Nothing But Trouble           movie   \n",
       "7263                                 The Whistle Blower           movie   \n",
       "7265                                     The Hitchhiker       tv series   \n",
       "7266                                          SpaceCamp           movie   \n",
       "\n",
       "              genre           country   language         director  \n",
       "0     'Documentary'   'United States'  'English'          Unknown  \n",
       "1             Other   'United States'  'English'  'Steve Purcell'  \n",
       "3     'Documentary'   'United States'  'English'  'William Arntz'  \n",
       "4          'Comedy'   'United States'  'English'    'Eric Louzil'  \n",
       "6     'Documentary'   'United States'  'English'  'Dwight Hemion'  \n",
       "...             ...               ...        ...              ...  \n",
       "7261        'Crime'   'United States'  'English'  'Damian Nieman'  \n",
       "7262       'Comedy'   'United States'  'English'    'Dan Aykroyd'  \n",
       "7263          Other  'United Kingdom'  'English'  'Simon Langton'  \n",
       "7265        'Drama'          'Canada'  'English'          Unknown  \n",
       "7266    'Adventure'   'United States'  'English'    'Harry Winer'  \n",
       "\n",
       "[6423 rows x 6 columns]"
      ]
     },
     "execution_count": 75,
     "metadata": {},
     "output_type": "execute_result"
    }
   ],
   "source": [
    "df_cat= df.drop(df_num, axis=1)\n",
    "df_cat"
   ]
  },
  {
   "cell_type": "code",
   "execution_count": 76,
   "metadata": {},
   "outputs": [
    {
     "name": "stderr",
     "output_type": "stream",
     "text": [
      "/var/folders/9y/45l79l3x40s95c93b61_6txw0000gn/T/ipykernel_39339/3684344997.py:3: SettingWithCopyWarning: \n",
      "A value is trying to be set on a copy of a slice from a DataFrame\n",
      "\n",
      "See the caveats in the documentation: https://pandas.pydata.org/pandas-docs/stable/user_guide/indexing.html#returning-a-view-versus-a-copy\n",
      "  df.language[df.language.isin(other_languages)]=\"Other\"\n"
     ]
    },
    {
     "data": {
      "text/plain": [
       "array([\"'English'\", \"'Hindi'\", \"'Japanese'\", \"'French'\", 'Other',\n",
       "       \"'Cantonese'\", \"'Mandarin'\", \"'Spanish'\", \"'German'\", \"'Italian'\"],\n",
       "      dtype=object)"
      ]
     },
     "execution_count": 76,
     "metadata": {},
     "output_type": "execute_result"
    }
   ],
   "source": [
    "other_languages = df.language.value_counts()[10:].index.tolist()\n",
    "\n",
    "df.language[df.language.isin(other_languages)]=\"Other\"\n",
    "df.language.unique()"
   ]
  },
  {
   "cell_type": "code",
   "execution_count": 77,
   "metadata": {},
   "outputs": [
    {
     "data": {
      "text/plain": [
       "'English'      4493\n",
       "Other           520\n",
       "'Japanese'      438\n",
       "'French'        248\n",
       "'Hindi'         193\n",
       "'Cantonese'     183\n",
       "'Italian'       102\n",
       "'Spanish'        99\n",
       "'German'         76\n",
       "'Mandarin'       71\n",
       "Name: language, dtype: int64"
      ]
     },
     "execution_count": 77,
     "metadata": {},
     "output_type": "execute_result"
    }
   ],
   "source": [
    "df.language.value_counts()"
   ]
  },
  {
   "cell_type": "code",
   "execution_count": 78,
   "metadata": {},
   "outputs": [
    {
     "name": "stderr",
     "output_type": "stream",
     "text": [
      "/var/folders/9y/45l79l3x40s95c93b61_6txw0000gn/T/ipykernel_39339/2820433243.py:3: SettingWithCopyWarning: \n",
      "A value is trying to be set on a copy of a slice from a DataFrame\n",
      "\n",
      "See the caveats in the documentation: https://pandas.pydata.org/pandas-docs/stable/user_guide/indexing.html#returning-a-view-versus-a-copy\n",
      "  df.director[df.director.isin(other_directors)]=\"Other\"\n"
     ]
    },
    {
     "data": {
      "text/plain": [
       "Other                     5369\n",
       "Unknown                    926\n",
       "'Kevin Dunn'                21\n",
       "'Beth McCarthy-Miller'      14\n",
       "'Akira Kurosawa'            14\n",
       "'Takashi Miike'             14\n",
       "'Werner Herzog'             14\n",
       "'Jing Wong'                 13\n",
       "'David Mallet'              13\n",
       "'Tom Clegg'                 13\n",
       "'Jim Wynorski'              12\n",
       "Name: director, dtype: int64"
      ]
     },
     "execution_count": 78,
     "metadata": {},
     "output_type": "execute_result"
    }
   ],
   "source": [
    "other_directors = df.director.value_counts()[10:].index.tolist()\n",
    "\n",
    "df.director[df.director.isin(other_directors)]=\"Other\"\n",
    "df.director.value_counts()"
   ]
  },
  {
   "cell_type": "code",
   "execution_count": 79,
   "metadata": {},
   "outputs": [],
   "source": [
    "# drop 'title' column\n",
    "\n",
    "df.drop('title', axis=1, inplace=True)"
   ]
  },
  {
   "cell_type": "code",
   "execution_count": 80,
   "metadata": {},
   "outputs": [
    {
     "data": {
      "text/plain": [
       "Index(['year', 'kind', 'genre', 'rating', 'vote', 'country', 'language',\n",
       "       'director', 'runtime'],\n",
       "      dtype='object')"
      ]
     },
     "execution_count": 80,
     "metadata": {},
     "output_type": "execute_result"
    }
   ],
   "source": [
    "df.columns"
   ]
  },
  {
   "cell_type": "code",
   "execution_count": 81,
   "metadata": {},
   "outputs": [],
   "source": [
    "# Get dummies with 'kind', 'genre', 'country', 'language','director' columns\n",
    "df = pd.get_dummies(df, columns=['kind', 'genre', 'country', 'language','director'])"
   ]
  },
  {
   "cell_type": "code",
   "execution_count": 82,
   "metadata": {},
   "outputs": [
    {
     "data": {
      "text/html": [
       "<div>\n",
       "<style scoped>\n",
       "    .dataframe tbody tr th:only-of-type {\n",
       "        vertical-align: middle;\n",
       "    }\n",
       "\n",
       "    .dataframe tbody tr th {\n",
       "        vertical-align: top;\n",
       "    }\n",
       "\n",
       "    .dataframe thead th {\n",
       "        text-align: right;\n",
       "    }\n",
       "</style>\n",
       "<table border=\"1\" class=\"dataframe\">\n",
       "  <thead>\n",
       "    <tr style=\"text-align: right;\">\n",
       "      <th></th>\n",
       "      <th>year</th>\n",
       "      <th>rating</th>\n",
       "      <th>vote</th>\n",
       "      <th>runtime</th>\n",
       "      <th>kind_episode</th>\n",
       "      <th>kind_movie</th>\n",
       "      <th>kind_tv mini series</th>\n",
       "      <th>kind_tv movie</th>\n",
       "      <th>kind_tv series</th>\n",
       "      <th>kind_tv short</th>\n",
       "      <th>...</th>\n",
       "      <th>director_'Beth McCarthy-Miller'</th>\n",
       "      <th>director_'David Mallet'</th>\n",
       "      <th>director_'Jim Wynorski'</th>\n",
       "      <th>director_'Jing Wong'</th>\n",
       "      <th>director_'Kevin Dunn'</th>\n",
       "      <th>director_'Takashi Miike'</th>\n",
       "      <th>director_'Tom Clegg'</th>\n",
       "      <th>director_'Werner Herzog'</th>\n",
       "      <th>director_Other</th>\n",
       "      <th>director_Unknown</th>\n",
       "    </tr>\n",
       "  </thead>\n",
       "  <tbody>\n",
       "    <tr>\n",
       "      <th>0</th>\n",
       "      <td>2003.0</td>\n",
       "      <td>7.7</td>\n",
       "      <td>474.0</td>\n",
       "      <td>50.0</td>\n",
       "      <td>0</td>\n",
       "      <td>0</td>\n",
       "      <td>1</td>\n",
       "      <td>0</td>\n",
       "      <td>0</td>\n",
       "      <td>0</td>\n",
       "      <td>...</td>\n",
       "      <td>0</td>\n",
       "      <td>0</td>\n",
       "      <td>0</td>\n",
       "      <td>0</td>\n",
       "      <td>0</td>\n",
       "      <td>0</td>\n",
       "      <td>0</td>\n",
       "      <td>0</td>\n",
       "      <td>0</td>\n",
       "      <td>1</td>\n",
       "    </tr>\n",
       "    <tr>\n",
       "      <th>1</th>\n",
       "      <td>1994.0</td>\n",
       "      <td>8.1</td>\n",
       "      <td>18.0</td>\n",
       "      <td>83.0</td>\n",
       "      <td>0</td>\n",
       "      <td>0</td>\n",
       "      <td>0</td>\n",
       "      <td>0</td>\n",
       "      <td>0</td>\n",
       "      <td>0</td>\n",
       "      <td>...</td>\n",
       "      <td>0</td>\n",
       "      <td>0</td>\n",
       "      <td>0</td>\n",
       "      <td>0</td>\n",
       "      <td>0</td>\n",
       "      <td>0</td>\n",
       "      <td>0</td>\n",
       "      <td>0</td>\n",
       "      <td>1</td>\n",
       "      <td>0</td>\n",
       "    </tr>\n",
       "    <tr>\n",
       "      <th>3</th>\n",
       "      <td>2004.0</td>\n",
       "      <td>5.3</td>\n",
       "      <td>13432.0</td>\n",
       "      <td>60.0</td>\n",
       "      <td>0</td>\n",
       "      <td>1</td>\n",
       "      <td>0</td>\n",
       "      <td>0</td>\n",
       "      <td>0</td>\n",
       "      <td>0</td>\n",
       "      <td>...</td>\n",
       "      <td>0</td>\n",
       "      <td>0</td>\n",
       "      <td>0</td>\n",
       "      <td>0</td>\n",
       "      <td>0</td>\n",
       "      <td>0</td>\n",
       "      <td>0</td>\n",
       "      <td>0</td>\n",
       "      <td>1</td>\n",
       "      <td>0</td>\n",
       "    </tr>\n",
       "    <tr>\n",
       "      <th>4</th>\n",
       "      <td>1991.0</td>\n",
       "      <td>4.5</td>\n",
       "      <td>2177.0</td>\n",
       "      <td>96.0</td>\n",
       "      <td>0</td>\n",
       "      <td>1</td>\n",
       "      <td>0</td>\n",
       "      <td>0</td>\n",
       "      <td>0</td>\n",
       "      <td>0</td>\n",
       "      <td>...</td>\n",
       "      <td>0</td>\n",
       "      <td>0</td>\n",
       "      <td>0</td>\n",
       "      <td>0</td>\n",
       "      <td>0</td>\n",
       "      <td>0</td>\n",
       "      <td>0</td>\n",
       "      <td>0</td>\n",
       "      <td>1</td>\n",
       "      <td>0</td>\n",
       "    </tr>\n",
       "    <tr>\n",
       "      <th>6</th>\n",
       "      <td>1988.0</td>\n",
       "      <td>8.0</td>\n",
       "      <td>81.0</td>\n",
       "      <td>55.0</td>\n",
       "      <td>0</td>\n",
       "      <td>0</td>\n",
       "      <td>0</td>\n",
       "      <td>0</td>\n",
       "      <td>0</td>\n",
       "      <td>0</td>\n",
       "      <td>...</td>\n",
       "      <td>0</td>\n",
       "      <td>0</td>\n",
       "      <td>0</td>\n",
       "      <td>0</td>\n",
       "      <td>0</td>\n",
       "      <td>0</td>\n",
       "      <td>0</td>\n",
       "      <td>0</td>\n",
       "      <td>1</td>\n",
       "      <td>0</td>\n",
       "    </tr>\n",
       "  </tbody>\n",
       "</table>\n",
       "<p>5 rows × 54 columns</p>\n",
       "</div>"
      ],
      "text/plain": [
       "     year  rating     vote  runtime  kind_episode  kind_movie  \\\n",
       "0  2003.0     7.7    474.0     50.0             0           0   \n",
       "1  1994.0     8.1     18.0     83.0             0           0   \n",
       "3  2004.0     5.3  13432.0     60.0             0           1   \n",
       "4  1991.0     4.5   2177.0     96.0             0           1   \n",
       "6  1988.0     8.0     81.0     55.0             0           0   \n",
       "\n",
       "   kind_tv mini series  kind_tv movie  kind_tv series  kind_tv short  ...  \\\n",
       "0                    1              0               0              0  ...   \n",
       "1                    0              0               0              0  ...   \n",
       "3                    0              0               0              0  ...   \n",
       "4                    0              0               0              0  ...   \n",
       "6                    0              0               0              0  ...   \n",
       "\n",
       "   director_'Beth McCarthy-Miller'  director_'David Mallet'  \\\n",
       "0                                0                        0   \n",
       "1                                0                        0   \n",
       "3                                0                        0   \n",
       "4                                0                        0   \n",
       "6                                0                        0   \n",
       "\n",
       "   director_'Jim Wynorski'  director_'Jing Wong'  director_'Kevin Dunn'  \\\n",
       "0                        0                     0                      0   \n",
       "1                        0                     0                      0   \n",
       "3                        0                     0                      0   \n",
       "4                        0                     0                      0   \n",
       "6                        0                     0                      0   \n",
       "\n",
       "   director_'Takashi Miike'  director_'Tom Clegg'  director_'Werner Herzog'  \\\n",
       "0                         0                     0                         0   \n",
       "1                         0                     0                         0   \n",
       "3                         0                     0                         0   \n",
       "4                         0                     0                         0   \n",
       "6                         0                     0                         0   \n",
       "\n",
       "   director_Other  director_Unknown  \n",
       "0               0                 1  \n",
       "1               1                 0  \n",
       "3               1                 0  \n",
       "4               1                 0  \n",
       "6               1                 0  \n",
       "\n",
       "[5 rows x 54 columns]"
      ]
     },
     "execution_count": 82,
     "metadata": {},
     "output_type": "execute_result"
    }
   ],
   "source": [
    "df.head()"
   ]
  },
  {
   "cell_type": "code",
   "execution_count": 83,
   "metadata": {},
   "outputs": [
    {
     "data": {
      "text/html": [
       "<div>\n",
       "<style scoped>\n",
       "    .dataframe tbody tr th:only-of-type {\n",
       "        vertical-align: middle;\n",
       "    }\n",
       "\n",
       "    .dataframe tbody tr th {\n",
       "        vertical-align: top;\n",
       "    }\n",
       "\n",
       "    .dataframe thead th {\n",
       "        text-align: right;\n",
       "    }\n",
       "</style>\n",
       "<table border=\"1\" class=\"dataframe\">\n",
       "  <thead>\n",
       "    <tr style=\"text-align: right;\">\n",
       "      <th></th>\n",
       "      <th>year</th>\n",
       "      <th>rating</th>\n",
       "      <th>vote</th>\n",
       "      <th>runtime</th>\n",
       "      <th>kind_episode</th>\n",
       "      <th>kind_movie</th>\n",
       "      <th>kind_tv mini series</th>\n",
       "      <th>kind_tv movie</th>\n",
       "      <th>kind_tv series</th>\n",
       "      <th>kind_tv short</th>\n",
       "      <th>...</th>\n",
       "      <th>director_'Beth McCarthy-Miller'</th>\n",
       "      <th>director_'David Mallet'</th>\n",
       "      <th>director_'Jim Wynorski'</th>\n",
       "      <th>director_'Jing Wong'</th>\n",
       "      <th>director_'Kevin Dunn'</th>\n",
       "      <th>director_'Takashi Miike'</th>\n",
       "      <th>director_'Tom Clegg'</th>\n",
       "      <th>director_'Werner Herzog'</th>\n",
       "      <th>director_Other</th>\n",
       "      <th>director_Unknown</th>\n",
       "    </tr>\n",
       "  </thead>\n",
       "  <tbody>\n",
       "    <tr>\n",
       "      <th>0</th>\n",
       "      <td>2003.0</td>\n",
       "      <td>Low</td>\n",
       "      <td>474.0</td>\n",
       "      <td>50.0</td>\n",
       "      <td>0</td>\n",
       "      <td>0</td>\n",
       "      <td>1</td>\n",
       "      <td>0</td>\n",
       "      <td>0</td>\n",
       "      <td>0</td>\n",
       "      <td>...</td>\n",
       "      <td>0</td>\n",
       "      <td>0</td>\n",
       "      <td>0</td>\n",
       "      <td>0</td>\n",
       "      <td>0</td>\n",
       "      <td>0</td>\n",
       "      <td>0</td>\n",
       "      <td>0</td>\n",
       "      <td>0</td>\n",
       "      <td>1</td>\n",
       "    </tr>\n",
       "    <tr>\n",
       "      <th>1</th>\n",
       "      <td>1994.0</td>\n",
       "      <td>Low</td>\n",
       "      <td>18.0</td>\n",
       "      <td>83.0</td>\n",
       "      <td>0</td>\n",
       "      <td>0</td>\n",
       "      <td>0</td>\n",
       "      <td>0</td>\n",
       "      <td>0</td>\n",
       "      <td>0</td>\n",
       "      <td>...</td>\n",
       "      <td>0</td>\n",
       "      <td>0</td>\n",
       "      <td>0</td>\n",
       "      <td>0</td>\n",
       "      <td>0</td>\n",
       "      <td>0</td>\n",
       "      <td>0</td>\n",
       "      <td>0</td>\n",
       "      <td>1</td>\n",
       "      <td>0</td>\n",
       "    </tr>\n",
       "    <tr>\n",
       "      <th>3</th>\n",
       "      <td>2004.0</td>\n",
       "      <td>High</td>\n",
       "      <td>13432.0</td>\n",
       "      <td>60.0</td>\n",
       "      <td>0</td>\n",
       "      <td>1</td>\n",
       "      <td>0</td>\n",
       "      <td>0</td>\n",
       "      <td>0</td>\n",
       "      <td>0</td>\n",
       "      <td>...</td>\n",
       "      <td>0</td>\n",
       "      <td>0</td>\n",
       "      <td>0</td>\n",
       "      <td>0</td>\n",
       "      <td>0</td>\n",
       "      <td>0</td>\n",
       "      <td>0</td>\n",
       "      <td>0</td>\n",
       "      <td>1</td>\n",
       "      <td>0</td>\n",
       "    </tr>\n",
       "    <tr>\n",
       "      <th>4</th>\n",
       "      <td>1991.0</td>\n",
       "      <td>High</td>\n",
       "      <td>2177.0</td>\n",
       "      <td>96.0</td>\n",
       "      <td>0</td>\n",
       "      <td>1</td>\n",
       "      <td>0</td>\n",
       "      <td>0</td>\n",
       "      <td>0</td>\n",
       "      <td>0</td>\n",
       "      <td>...</td>\n",
       "      <td>0</td>\n",
       "      <td>0</td>\n",
       "      <td>0</td>\n",
       "      <td>0</td>\n",
       "      <td>0</td>\n",
       "      <td>0</td>\n",
       "      <td>0</td>\n",
       "      <td>0</td>\n",
       "      <td>1</td>\n",
       "      <td>0</td>\n",
       "    </tr>\n",
       "    <tr>\n",
       "      <th>6</th>\n",
       "      <td>1988.0</td>\n",
       "      <td>Low</td>\n",
       "      <td>81.0</td>\n",
       "      <td>55.0</td>\n",
       "      <td>0</td>\n",
       "      <td>0</td>\n",
       "      <td>0</td>\n",
       "      <td>0</td>\n",
       "      <td>0</td>\n",
       "      <td>0</td>\n",
       "      <td>...</td>\n",
       "      <td>0</td>\n",
       "      <td>0</td>\n",
       "      <td>0</td>\n",
       "      <td>0</td>\n",
       "      <td>0</td>\n",
       "      <td>0</td>\n",
       "      <td>0</td>\n",
       "      <td>0</td>\n",
       "      <td>1</td>\n",
       "      <td>0</td>\n",
       "    </tr>\n",
       "  </tbody>\n",
       "</table>\n",
       "<p>5 rows × 54 columns</p>\n",
       "</div>"
      ],
      "text/plain": [
       "     year rating     vote  runtime  kind_episode  kind_movie  \\\n",
       "0  2003.0    Low    474.0     50.0             0           0   \n",
       "1  1994.0    Low     18.0     83.0             0           0   \n",
       "3  2004.0   High  13432.0     60.0             0           1   \n",
       "4  1991.0   High   2177.0     96.0             0           1   \n",
       "6  1988.0    Low     81.0     55.0             0           0   \n",
       "\n",
       "   kind_tv mini series  kind_tv movie  kind_tv series  kind_tv short  ...  \\\n",
       "0                    1              0               0              0  ...   \n",
       "1                    0              0               0              0  ...   \n",
       "3                    0              0               0              0  ...   \n",
       "4                    0              0               0              0  ...   \n",
       "6                    0              0               0              0  ...   \n",
       "\n",
       "   director_'Beth McCarthy-Miller'  director_'David Mallet'  \\\n",
       "0                                0                        0   \n",
       "1                                0                        0   \n",
       "3                                0                        0   \n",
       "4                                0                        0   \n",
       "6                                0                        0   \n",
       "\n",
       "   director_'Jim Wynorski'  director_'Jing Wong'  director_'Kevin Dunn'  \\\n",
       "0                        0                     0                      0   \n",
       "1                        0                     0                      0   \n",
       "3                        0                     0                      0   \n",
       "4                        0                     0                      0   \n",
       "6                        0                     0                      0   \n",
       "\n",
       "   director_'Takashi Miike'  director_'Tom Clegg'  director_'Werner Herzog'  \\\n",
       "0                         0                     0                         0   \n",
       "1                         0                     0                         0   \n",
       "3                         0                     0                         0   \n",
       "4                         0                     0                         0   \n",
       "6                         0                     0                         0   \n",
       "\n",
       "   director_Other  director_Unknown  \n",
       "0               0                 1  \n",
       "1               1                 0  \n",
       "3               1                 0  \n",
       "4               1                 0  \n",
       "6               1                 0  \n",
       "\n",
       "[5 rows x 54 columns]"
      ]
     },
     "execution_count": 83,
     "metadata": {},
     "output_type": "execute_result"
    }
   ],
   "source": [
    "# bin the rating with 3 labels 'high' to 'low'\n",
    "\n",
    "bin_rating = ['High', 'Medium', 'Low']\n",
    "df.rating = pd.qcut(df.rating,\n",
    "                            q=3,\n",
    "                            labels=bin_rating,\n",
    "                            precision=0)\n",
    "df.head()"
   ]
  },
  {
   "cell_type": "code",
   "execution_count": 84,
   "metadata": {},
   "outputs": [
    {
     "data": {
      "text/plain": [
       "High      2296\n",
       "Low       2124\n",
       "Medium    2003\n",
       "Name: rating, dtype: int64"
      ]
     },
     "execution_count": 84,
     "metadata": {},
     "output_type": "execute_result"
    }
   ],
   "source": [
    "df.rating.value_counts()"
   ]
  },
  {
   "cell_type": "code",
   "execution_count": 85,
   "metadata": {},
   "outputs": [],
   "source": [
    "# Encoding year in 3 periods\n",
    "\n",
    "df.loc[df.year < 1990, 'before_90s'] = 1\n",
    "df.loc[(df.year >= 1990) & (df.year < 2000), '90s'] = 1\n",
    "df.loc[df.year >= 2000, '2000s'] = 1\n",
    "df['before_90s'].fillna(0, inplace = True)\n",
    "df['90s'].fillna(0, inplace = True)\n",
    "df['2000s'].fillna(0, inplace = True)"
   ]
  },
  {
   "cell_type": "code",
   "execution_count": 86,
   "metadata": {},
   "outputs": [],
   "source": [
    "df.drop('year', axis=1, inplace=True)"
   ]
  },
  {
   "cell_type": "code",
   "execution_count": 87,
   "metadata": {},
   "outputs": [
    {
     "name": "stdout",
     "output_type": "stream",
     "text": [
      "(6423, 55)\n",
      "(6423,)\n",
      "(5138, 55)\n",
      "(5138,)\n",
      "(1285, 55)\n",
      "(1285,)\n"
     ]
    },
    {
     "data": {
      "text/html": [
       "<div>\n",
       "<style scoped>\n",
       "    .dataframe tbody tr th:only-of-type {\n",
       "        vertical-align: middle;\n",
       "    }\n",
       "\n",
       "    .dataframe tbody tr th {\n",
       "        vertical-align: top;\n",
       "    }\n",
       "\n",
       "    .dataframe thead th {\n",
       "        text-align: right;\n",
       "    }\n",
       "</style>\n",
       "<table border=\"1\" class=\"dataframe\">\n",
       "  <thead>\n",
       "    <tr style=\"text-align: right;\">\n",
       "      <th></th>\n",
       "      <th>0</th>\n",
       "      <th>1</th>\n",
       "      <th>2</th>\n",
       "      <th>3</th>\n",
       "      <th>4</th>\n",
       "      <th>5</th>\n",
       "      <th>6</th>\n",
       "      <th>7</th>\n",
       "      <th>8</th>\n",
       "      <th>9</th>\n",
       "      <th>...</th>\n",
       "      <th>45</th>\n",
       "      <th>46</th>\n",
       "      <th>47</th>\n",
       "      <th>48</th>\n",
       "      <th>49</th>\n",
       "      <th>50</th>\n",
       "      <th>51</th>\n",
       "      <th>52</th>\n",
       "      <th>53</th>\n",
       "      <th>54</th>\n",
       "    </tr>\n",
       "  </thead>\n",
       "  <tbody>\n",
       "    <tr>\n",
       "      <th>0</th>\n",
       "      <td>-0.187367</td>\n",
       "      <td>0.759201</td>\n",
       "      <td>-0.23086</td>\n",
       "      <td>-1.200919</td>\n",
       "      <td>-0.181115</td>\n",
       "      <td>-0.325698</td>\n",
       "      <td>-0.293372</td>\n",
       "      <td>-0.035314</td>\n",
       "      <td>-0.035314</td>\n",
       "      <td>2.385503</td>\n",
       "      <td>...</td>\n",
       "      <td>-0.045034</td>\n",
       "      <td>-0.057273</td>\n",
       "      <td>-0.046738</td>\n",
       "      <td>-0.045034</td>\n",
       "      <td>-0.046738</td>\n",
       "      <td>0.443071</td>\n",
       "      <td>-0.410433</td>\n",
       "      <td>-0.630974</td>\n",
       "      <td>-0.667566</td>\n",
       "      <td>1.207126</td>\n",
       "    </tr>\n",
       "    <tr>\n",
       "      <th>1</th>\n",
       "      <td>-0.195218</td>\n",
       "      <td>-0.153813</td>\n",
       "      <td>-0.23086</td>\n",
       "      <td>-1.200919</td>\n",
       "      <td>-0.181115</td>\n",
       "      <td>3.070334</td>\n",
       "      <td>-0.293372</td>\n",
       "      <td>-0.035314</td>\n",
       "      <td>-0.035314</td>\n",
       "      <td>-0.419199</td>\n",
       "      <td>...</td>\n",
       "      <td>-0.045034</td>\n",
       "      <td>-0.057273</td>\n",
       "      <td>-0.046738</td>\n",
       "      <td>-0.045034</td>\n",
       "      <td>-0.046738</td>\n",
       "      <td>0.443071</td>\n",
       "      <td>-0.410433</td>\n",
       "      <td>-0.630974</td>\n",
       "      <td>-0.667566</td>\n",
       "      <td>1.207126</td>\n",
       "    </tr>\n",
       "    <tr>\n",
       "      <th>2</th>\n",
       "      <td>-0.192278</td>\n",
       "      <td>0.104874</td>\n",
       "      <td>-0.23086</td>\n",
       "      <td>-1.200919</td>\n",
       "      <td>-0.181115</td>\n",
       "      <td>3.070334</td>\n",
       "      <td>-0.293372</td>\n",
       "      <td>-0.035314</td>\n",
       "      <td>-0.035314</td>\n",
       "      <td>-0.419199</td>\n",
       "      <td>...</td>\n",
       "      <td>-0.045034</td>\n",
       "      <td>-0.057273</td>\n",
       "      <td>-0.046738</td>\n",
       "      <td>-0.045034</td>\n",
       "      <td>-0.046738</td>\n",
       "      <td>0.443071</td>\n",
       "      <td>-0.410433</td>\n",
       "      <td>-0.630974</td>\n",
       "      <td>-0.667566</td>\n",
       "      <td>1.207126</td>\n",
       "    </tr>\n",
       "    <tr>\n",
       "      <th>3</th>\n",
       "      <td>-0.195008</td>\n",
       "      <td>-0.001644</td>\n",
       "      <td>-0.23086</td>\n",
       "      <td>0.832696</td>\n",
       "      <td>-0.181115</td>\n",
       "      <td>-0.325698</td>\n",
       "      <td>-0.293372</td>\n",
       "      <td>-0.035314</td>\n",
       "      <td>-0.035314</td>\n",
       "      <td>-0.419199</td>\n",
       "      <td>...</td>\n",
       "      <td>-0.045034</td>\n",
       "      <td>-0.057273</td>\n",
       "      <td>-0.046738</td>\n",
       "      <td>-0.045034</td>\n",
       "      <td>-0.046738</td>\n",
       "      <td>0.443071</td>\n",
       "      <td>-0.410433</td>\n",
       "      <td>1.584852</td>\n",
       "      <td>-0.667566</td>\n",
       "      <td>-0.828414</td>\n",
       "    </tr>\n",
       "    <tr>\n",
       "      <th>4</th>\n",
       "      <td>-0.184556</td>\n",
       "      <td>0.378778</td>\n",
       "      <td>-0.23086</td>\n",
       "      <td>0.832696</td>\n",
       "      <td>-0.181115</td>\n",
       "      <td>-0.325698</td>\n",
       "      <td>-0.293372</td>\n",
       "      <td>-0.035314</td>\n",
       "      <td>-0.035314</td>\n",
       "      <td>-0.419199</td>\n",
       "      <td>...</td>\n",
       "      <td>-0.045034</td>\n",
       "      <td>-0.057273</td>\n",
       "      <td>-0.046738</td>\n",
       "      <td>-0.045034</td>\n",
       "      <td>-0.046738</td>\n",
       "      <td>0.443071</td>\n",
       "      <td>-0.410433</td>\n",
       "      <td>1.584852</td>\n",
       "      <td>-0.667566</td>\n",
       "      <td>-0.828414</td>\n",
       "    </tr>\n",
       "    <tr>\n",
       "      <th>...</th>\n",
       "      <td>...</td>\n",
       "      <td>...</td>\n",
       "      <td>...</td>\n",
       "      <td>...</td>\n",
       "      <td>...</td>\n",
       "      <td>...</td>\n",
       "      <td>...</td>\n",
       "      <td>...</td>\n",
       "      <td>...</td>\n",
       "      <td>...</td>\n",
       "      <td>...</td>\n",
       "      <td>...</td>\n",
       "      <td>...</td>\n",
       "      <td>...</td>\n",
       "      <td>...</td>\n",
       "      <td>...</td>\n",
       "      <td>...</td>\n",
       "      <td>...</td>\n",
       "      <td>...</td>\n",
       "      <td>...</td>\n",
       "      <td>...</td>\n",
       "    </tr>\n",
       "    <tr>\n",
       "      <th>5133</th>\n",
       "      <td>-0.177381</td>\n",
       "      <td>-0.914658</td>\n",
       "      <td>-0.23086</td>\n",
       "      <td>0.832696</td>\n",
       "      <td>-0.181115</td>\n",
       "      <td>-0.325698</td>\n",
       "      <td>-0.293372</td>\n",
       "      <td>-0.035314</td>\n",
       "      <td>-0.035314</td>\n",
       "      <td>-0.419199</td>\n",
       "      <td>...</td>\n",
       "      <td>-0.045034</td>\n",
       "      <td>-0.057273</td>\n",
       "      <td>-0.046738</td>\n",
       "      <td>-0.045034</td>\n",
       "      <td>-0.046738</td>\n",
       "      <td>0.443071</td>\n",
       "      <td>-0.410433</td>\n",
       "      <td>-0.630974</td>\n",
       "      <td>1.497978</td>\n",
       "      <td>-0.828414</td>\n",
       "    </tr>\n",
       "    <tr>\n",
       "      <th>5134</th>\n",
       "      <td>-0.079857</td>\n",
       "      <td>0.120091</td>\n",
       "      <td>-0.23086</td>\n",
       "      <td>0.832696</td>\n",
       "      <td>-0.181115</td>\n",
       "      <td>-0.325698</td>\n",
       "      <td>-0.293372</td>\n",
       "      <td>-0.035314</td>\n",
       "      <td>-0.035314</td>\n",
       "      <td>-0.419199</td>\n",
       "      <td>...</td>\n",
       "      <td>-0.045034</td>\n",
       "      <td>-0.057273</td>\n",
       "      <td>-0.046738</td>\n",
       "      <td>-0.045034</td>\n",
       "      <td>-0.046738</td>\n",
       "      <td>0.443071</td>\n",
       "      <td>-0.410433</td>\n",
       "      <td>-0.630974</td>\n",
       "      <td>1.497978</td>\n",
       "      <td>-0.828414</td>\n",
       "    </tr>\n",
       "    <tr>\n",
       "      <th>5135</th>\n",
       "      <td>0.200000</td>\n",
       "      <td>-0.001644</td>\n",
       "      <td>-0.23086</td>\n",
       "      <td>0.832696</td>\n",
       "      <td>-0.181115</td>\n",
       "      <td>-0.325698</td>\n",
       "      <td>-0.293372</td>\n",
       "      <td>-0.035314</td>\n",
       "      <td>-0.035314</td>\n",
       "      <td>-0.419199</td>\n",
       "      <td>...</td>\n",
       "      <td>-0.045034</td>\n",
       "      <td>-0.057273</td>\n",
       "      <td>-0.046738</td>\n",
       "      <td>-0.045034</td>\n",
       "      <td>-0.046738</td>\n",
       "      <td>0.443071</td>\n",
       "      <td>-0.410433</td>\n",
       "      <td>1.584852</td>\n",
       "      <td>-0.667566</td>\n",
       "      <td>-0.828414</td>\n",
       "    </tr>\n",
       "    <tr>\n",
       "      <th>5136</th>\n",
       "      <td>2.640545</td>\n",
       "      <td>-0.001644</td>\n",
       "      <td>-0.23086</td>\n",
       "      <td>0.832696</td>\n",
       "      <td>-0.181115</td>\n",
       "      <td>-0.325698</td>\n",
       "      <td>-0.293372</td>\n",
       "      <td>-0.035314</td>\n",
       "      <td>-0.035314</td>\n",
       "      <td>-0.419199</td>\n",
       "      <td>...</td>\n",
       "      <td>-0.045034</td>\n",
       "      <td>-0.057273</td>\n",
       "      <td>-0.046738</td>\n",
       "      <td>-0.045034</td>\n",
       "      <td>-0.046738</td>\n",
       "      <td>0.443071</td>\n",
       "      <td>-0.410433</td>\n",
       "      <td>-0.630974</td>\n",
       "      <td>1.497978</td>\n",
       "      <td>-0.828414</td>\n",
       "    </tr>\n",
       "    <tr>\n",
       "      <th>5137</th>\n",
       "      <td>-0.192838</td>\n",
       "      <td>0.302694</td>\n",
       "      <td>-0.23086</td>\n",
       "      <td>-1.200919</td>\n",
       "      <td>-0.181115</td>\n",
       "      <td>3.070334</td>\n",
       "      <td>-0.293372</td>\n",
       "      <td>-0.035314</td>\n",
       "      <td>-0.035314</td>\n",
       "      <td>-0.419199</td>\n",
       "      <td>...</td>\n",
       "      <td>-0.045034</td>\n",
       "      <td>-0.057273</td>\n",
       "      <td>-0.046738</td>\n",
       "      <td>-0.045034</td>\n",
       "      <td>-0.046738</td>\n",
       "      <td>0.443071</td>\n",
       "      <td>-0.410433</td>\n",
       "      <td>-0.630974</td>\n",
       "      <td>1.497978</td>\n",
       "      <td>-0.828414</td>\n",
       "    </tr>\n",
       "  </tbody>\n",
       "</table>\n",
       "<p>5138 rows × 55 columns</p>\n",
       "</div>"
      ],
      "text/plain": [
       "            0         1        2         3         4         5         6   \\\n",
       "0    -0.187367  0.759201 -0.23086 -1.200919 -0.181115 -0.325698 -0.293372   \n",
       "1    -0.195218 -0.153813 -0.23086 -1.200919 -0.181115  3.070334 -0.293372   \n",
       "2    -0.192278  0.104874 -0.23086 -1.200919 -0.181115  3.070334 -0.293372   \n",
       "3    -0.195008 -0.001644 -0.23086  0.832696 -0.181115 -0.325698 -0.293372   \n",
       "4    -0.184556  0.378778 -0.23086  0.832696 -0.181115 -0.325698 -0.293372   \n",
       "...        ...       ...      ...       ...       ...       ...       ...   \n",
       "5133 -0.177381 -0.914658 -0.23086  0.832696 -0.181115 -0.325698 -0.293372   \n",
       "5134 -0.079857  0.120091 -0.23086  0.832696 -0.181115 -0.325698 -0.293372   \n",
       "5135  0.200000 -0.001644 -0.23086  0.832696 -0.181115 -0.325698 -0.293372   \n",
       "5136  2.640545 -0.001644 -0.23086  0.832696 -0.181115 -0.325698 -0.293372   \n",
       "5137 -0.192838  0.302694 -0.23086 -1.200919 -0.181115  3.070334 -0.293372   \n",
       "\n",
       "            7         8         9   ...        45        46        47  \\\n",
       "0    -0.035314 -0.035314  2.385503  ... -0.045034 -0.057273 -0.046738   \n",
       "1    -0.035314 -0.035314 -0.419199  ... -0.045034 -0.057273 -0.046738   \n",
       "2    -0.035314 -0.035314 -0.419199  ... -0.045034 -0.057273 -0.046738   \n",
       "3    -0.035314 -0.035314 -0.419199  ... -0.045034 -0.057273 -0.046738   \n",
       "4    -0.035314 -0.035314 -0.419199  ... -0.045034 -0.057273 -0.046738   \n",
       "...        ...       ...       ...  ...       ...       ...       ...   \n",
       "5133 -0.035314 -0.035314 -0.419199  ... -0.045034 -0.057273 -0.046738   \n",
       "5134 -0.035314 -0.035314 -0.419199  ... -0.045034 -0.057273 -0.046738   \n",
       "5135 -0.035314 -0.035314 -0.419199  ... -0.045034 -0.057273 -0.046738   \n",
       "5136 -0.035314 -0.035314 -0.419199  ... -0.045034 -0.057273 -0.046738   \n",
       "5137 -0.035314 -0.035314 -0.419199  ... -0.045034 -0.057273 -0.046738   \n",
       "\n",
       "            48        49        50        51        52        53        54  \n",
       "0    -0.045034 -0.046738  0.443071 -0.410433 -0.630974 -0.667566  1.207126  \n",
       "1    -0.045034 -0.046738  0.443071 -0.410433 -0.630974 -0.667566  1.207126  \n",
       "2    -0.045034 -0.046738  0.443071 -0.410433 -0.630974 -0.667566  1.207126  \n",
       "3    -0.045034 -0.046738  0.443071 -0.410433  1.584852 -0.667566 -0.828414  \n",
       "4    -0.045034 -0.046738  0.443071 -0.410433  1.584852 -0.667566 -0.828414  \n",
       "...        ...       ...       ...       ...       ...       ...       ...  \n",
       "5133 -0.045034 -0.046738  0.443071 -0.410433 -0.630974  1.497978 -0.828414  \n",
       "5134 -0.045034 -0.046738  0.443071 -0.410433 -0.630974  1.497978 -0.828414  \n",
       "5135 -0.045034 -0.046738  0.443071 -0.410433  1.584852 -0.667566 -0.828414  \n",
       "5136 -0.045034 -0.046738  0.443071 -0.410433 -0.630974  1.497978 -0.828414  \n",
       "5137 -0.045034 -0.046738  0.443071 -0.410433 -0.630974  1.497978 -0.828414  \n",
       "\n",
       "[5138 rows x 55 columns]"
      ]
     },
     "execution_count": 87,
     "metadata": {},
     "output_type": "execute_result"
    }
   ],
   "source": [
    "# split the data into train and test\n",
    "\n",
    "from sklearn.model_selection import train_test_split\n",
    "\n",
    "# Your code here:\n",
    "x = df.drop(['rating'], axis=1)\n",
    "y = df['rating']\n",
    "\n",
    "# Scale the data with standard scaler\n",
    "from sklearn.preprocessing import StandardScaler\n",
    "scaler = StandardScaler()\n",
    "x_scaled = scaler.fit_transform(x)\n",
    "\n",
    "# print(x.head())\n",
    "print(x.shape)\n",
    "# print(y.head())\n",
    "print(y.shape)\n",
    "\n",
    "x_train, x_test, y_train, y_test = train_test_split(x_scaled, y, test_size=0.2, random_state=42)\n",
    "print(x_train.shape)\n",
    "print(y_train.shape)\n",
    "print(x_test.shape)\n",
    "print(y_test.shape)\n",
    "\n",
    "x_train = pd.DataFrame(x_train)\n",
    "\n",
    "# scaled x_train\n",
    "x_train"
   ]
  },
  {
   "cell_type": "code",
   "execution_count": 88,
   "metadata": {},
   "outputs": [
    {
     "name": "stdout",
     "output_type": "stream",
     "text": [
      "Fitting 5 folds for each of 10 candidates, totalling 50 fits\n"
     ]
    },
    {
     "name": "stderr",
     "output_type": "stream",
     "text": [
      "/Users/tinghaokao/opt/anaconda3/lib/python3.9/site-packages/joblib/externals/loky/process_executor.py:688: UserWarning: A worker stopped while some jobs were given to the executor. This can be caused by a too short worker timeout or by a memory leak.\n",
      "  warnings.warn(\n"
     ]
    },
    {
     "data": {
      "text/plain": [
       "RandomizedSearchCV(cv=5, estimator=RandomForestClassifier(random_state=0),\n",
       "                   n_jobs=-1,\n",
       "                   param_distributions={'n_estimators': array([  5,  10,  15,  20,  25,  30,  35,  40,  45,  50,  55,  60,  65,\n",
       "        70,  75,  80,  85,  90,  95, 100, 105, 110, 115, 120, 125, 130,\n",
       "       135, 140, 145, 150, 155, 160, 165, 170, 175, 180, 185, 190, 195,\n",
       "       200, 205, 210, 215, 220, 225, 230, 235, 240, 245, 250, 255, 260,\n",
       "       265, 270, 275, 280, 285, 290, 295, 300, 305, 310, 315, 320, 325,\n",
       "       330, 335, 340, 345, 350, 355, 360, 365, 370, 375, 380, 385, 390,\n",
       "       395])},\n",
       "                   scoring='accuracy', verbose=1)"
      ]
     },
     "execution_count": 88,
     "metadata": {},
     "output_type": "execute_result"
    }
   ],
   "source": [
    "# Hypertuning with Random Search to check potential optimised result (not guaranteed)\n",
    "\n",
    "from sklearn.ensemble import RandomForestClassifier\n",
    "from sklearn.model_selection import RandomizedSearchCV\n",
    "rand_search = RandomizedSearchCV(RandomForestClassifier(random_state=0),\n",
    "                           {\n",
    "                              'n_estimators':np.arange(5,400,5)\n",
    "                            \n",
    "                            },cv=5, scoring=\"accuracy\",verbose=1,n_jobs=-1\n",
    "                           )\n",
    "rand_search.fit(x_train,y_train)"
   ]
  },
  {
   "cell_type": "code",
   "execution_count": 89,
   "metadata": {},
   "outputs": [
    {
     "data": {
      "text/plain": [
       "{'n_estimators': 390}"
      ]
     },
     "execution_count": 89,
     "metadata": {},
     "output_type": "execute_result"
    }
   ],
   "source": [
    "rand_search.best_params_"
   ]
  },
  {
   "cell_type": "code",
   "execution_count": 90,
   "metadata": {},
   "outputs": [
    {
     "data": {
      "text/plain": [
       "0.6103544758447976"
      ]
     },
     "execution_count": 90,
     "metadata": {},
     "output_type": "execute_result"
    }
   ],
   "source": [
    "rand_search.best_score_"
   ]
  },
  {
   "cell_type": "code",
   "execution_count": 91,
   "metadata": {},
   "outputs": [
    {
     "name": "stdout",
     "output_type": "stream",
     "text": [
      "0.5758754863813229\n",
      "[[319  53  76]\n",
      " [ 45 298  89]\n",
      " [152 130 123]]\n"
     ]
    }
   ],
   "source": [
    "# Logistic Regression\n",
    "\n",
    "from sklearn.linear_model import LogisticRegression\n",
    "from sklearn.model_selection import train_test_split\n",
    "lr = LogisticRegression(random_state = 0, solver='lbfgs', multi_class='auto')\n",
    "lr.fit(x_train, y_train)\n",
    "from sklearn.metrics import accuracy_score\n",
    "from sklearn.metrics import confusion_matrix\n",
    "y_pred = lr.predict(x_test)\n",
    "print(accuracy_score(y_test, y_pred))\n",
    "print(confusion_matrix(y_test, y_pred))"
   ]
  },
  {
   "cell_type": "code",
   "execution_count": 92,
   "metadata": {},
   "outputs": [
    {
     "name": "stdout",
     "output_type": "stream",
     "text": [
      "Confusion Matrix:\n",
      " [[319  53  76]\n",
      " [ 45 298  89]\n",
      " [152 130 123]]\n",
      "Precision Score: 0.558422102686762\n",
      "Recall Score: 0.5758754863813229\n",
      "F1 Score: 0.5620783897423725\n"
     ]
    }
   ],
   "source": [
    "# Logistic Regression Evaluation\n",
    "\n",
    "from sklearn.metrics import confusion_matrix\n",
    "from sklearn.metrics import precision_score\n",
    "from sklearn.metrics import recall_score\n",
    "from sklearn.metrics import f1_score\n",
    "\n",
    "print('Confusion Matrix:\\n', confusion_matrix(y_test, y_pred))\n",
    "print('Precision Score:', precision_score(y_test, y_pred, average='weighted'))\n",
    "print('Recall Score:', recall_score(y_test, y_pred, average='weighted'))\n",
    "print('F1 Score:', f1_score(y_test, y_pred, average='weighted'))"
   ]
  },
  {
   "cell_type": "code",
   "execution_count": 93,
   "metadata": {},
   "outputs": [
    {
     "name": "stdout",
     "output_type": "stream",
     "text": [
      "The accuracy of the Random Forest Classifier is: 61.08949416342413 %\n",
      "Confusion Matrix:\n",
      " [[307  36 105]\n",
      " [ 30 304  98]\n",
      " [114 117 174]]\n",
      "Precision Score: 0.6064208181972218\n",
      "Recall Score: 0.6108949416342413\n",
      "F1 Score: 0.6082932109022612\n"
     ]
    }
   ],
   "source": [
    "# Random Forest\n",
    "\n",
    "from sklearn.ensemble import RandomForestClassifier\n",
    "\n",
    "rfc = RandomForestClassifier()\n",
    "rfc.fit(x_train, y_train)\n",
    "y_pred = rfc.predict(x_test)\n",
    "acc_rfc = rfc.score(x_test, y_test)\n",
    "print('The accuracy of the Random Forest Classifier is:', acc_rfc * 100, '%')\n",
    "\n",
    "print('Confusion Matrix:\\n', confusion_matrix(y_test, y_pred))\n",
    "print('Precision Score:', precision_score(y_test, y_pred, average='weighted'))\n",
    "print('Recall Score:', recall_score(y_test, y_pred, average='weighted'))\n",
    "print('F1 Score:', f1_score(y_test, y_pred, average='weighted'))"
   ]
  },
  {
   "cell_type": "code",
   "execution_count": 94,
   "metadata": {},
   "outputs": [
    {
     "name": "stdout",
     "output_type": "stream",
     "text": [
      "The accuracy of the Decision Tree is 55.253\n",
      "Confusion Matrix:\n",
      " [[249  60 139]\n",
      " [ 43 273 116]\n",
      " [102 115 188]]\n",
      "Precision Score: 0.558949799780611\n",
      "Recall Score: 0.5525291828793775\n",
      "F1 Score: 0.5545377093187699\n"
     ]
    }
   ],
   "source": [
    "# Decision Tree\n",
    "\n",
    "from sklearn.tree import DecisionTreeClassifier , plot_tree\n",
    "from sklearn.metrics import accuracy_score, recall_score, precision_score, roc_auc_score, roc_curve, confusion_matrix\n",
    "from sklearn.model_selection import train_test_split\n",
    "from sklearn import metrics\n",
    "import warnings \n",
    "warnings.filterwarnings('ignore')\n",
    "dtc = DecisionTreeClassifier()\n",
    "dtc.fit(x_train, y_train)\n",
    "tree = DecisionTreeClassifier(max_depth = 1000, random_state = 15)\n",
    "tree.fit(x_train,y_train)\n",
    "y_pred=tree.predict(x_test)\n",
    "print(\"The accuracy of the Decision Tree is\",\"{:.3f}\".format(metrics.accuracy_score(y_pred,y_test)*100))\n",
    "\n",
    "print('Confusion Matrix:\\n', confusion_matrix(y_test, y_pred))\n",
    "print('Precision Score:', precision_score(y_test, y_pred, average='weighted'))\n",
    "print('Recall Score:', recall_score(y_test, y_pred, average='weighted'))\n",
    "print('F1 Score:', f1_score(y_test, y_pred, average='weighted'))"
   ]
  },
  {
   "cell_type": "code",
   "execution_count": 95,
   "metadata": {},
   "outputs": [
    {
     "name": "stdout",
     "output_type": "stream",
     "text": [
      "[[351  60  37]\n",
      " [ 68 319  45]\n",
      " [195 147  63]]\n",
      "Accuracy0.5704280155642023\n"
     ]
    }
   ],
   "source": [
    "# Linear Discrimination Analysis\n",
    "\n",
    "from sklearn.discriminant_analysis import LinearDiscriminantAnalysis as LDA\n",
    "\n",
    "lda = LDA(n_components=1)\n",
    "x_train = lda.fit_transform(x_train, y_train)\n",
    "x_test = lda.transform(x_test)\n",
    "\n",
    "from sklearn.ensemble import RandomForestClassifier\n",
    "\n",
    "classifier = RandomForestClassifier(max_depth=2, random_state=0)\n",
    "\n",
    "classifier.fit(x_train, y_train)\n",
    "y_pred = classifier.predict(x_test)\n",
    "\n",
    "from sklearn.metrics import confusion_matrix\n",
    "from sklearn.metrics import accuracy_score\n",
    "\n",
    "cm = confusion_matrix(y_test, y_pred)\n",
    "print(cm)\n",
    "print('Accuracy' + str(accuracy_score(y_test, y_pred)))"
   ]
  },
  {
   "cell_type": "code",
   "execution_count": 96,
   "metadata": {},
   "outputs": [
    {
     "name": "stdout",
     "output_type": "stream",
     "text": [
      "0.5838847800700662\n",
      "Confusion Matrix:\n",
      " [[285  59 104]\n",
      " [ 41 307  84]\n",
      " [147 136 122]]\n",
      "Precision Score: 0.5397003166434309\n",
      "Recall Score: 0.5556420233463035\n",
      "F1 Score: 0.5443307926439737\n"
     ]
    }
   ],
   "source": [
    "# Gaussian Process Classifier\n",
    "\n",
    "from numpy import mean\n",
    "from numpy import std\n",
    "from sklearn.datasets import make_classification\n",
    "from sklearn.model_selection import cross_val_score\n",
    "from sklearn.model_selection import RepeatedStratifiedKFold\n",
    "from sklearn.gaussian_process import GaussianProcessClassifier\n",
    "# define dataset\n",
    "\n",
    "\n",
    "gpc = GaussianProcessClassifier(random_state=2021,max_iter_predict=1000).fit(x_train, y_train)\n",
    "\n",
    "y_pred = gpc.predict(x_test)\n",
    "print(gpc.score(x_train, y_train))\n",
    "\n",
    "print('Confusion Matrix:\\n', confusion_matrix(y_test, y_pred))\n",
    "print('Precision Score:', precision_score(y_test, y_pred, average='weighted'))\n",
    "print('Recall Score:', recall_score(y_test, y_pred, average='weighted'))\n",
    "print('F1 Score:', f1_score(y_test, y_pred, average='weighted'))"
   ]
  },
  {
   "cell_type": "code",
   "execution_count": 97,
   "metadata": {},
   "outputs": [
    {
     "data": {
      "text/plain": [
       "0.4926070038910506"
      ]
     },
     "execution_count": 97,
     "metadata": {},
     "output_type": "execute_result"
    }
   ],
   "source": [
    "# Bagging Classifier\n",
    "\n",
    "from sklearn.ensemble import BaggingClassifier\n",
    "bag_model = BaggingClassifier(base_estimator=DecisionTreeClassifier(), n_estimators=600, max_samples=0.8, \n",
    "bootstrap=True,oob_score=True,random_state=0)\n",
    "\n",
    "bag_model.fit(x_train, y_train)\n",
    "bag_model.oob_score_\n",
    "bag_model.score(x_test, y_test)"
   ]
  },
  {
   "cell_type": "code",
   "execution_count": 98,
   "metadata": {},
   "outputs": [
    {
     "name": "stdout",
     "output_type": "stream",
     "text": [
      "              precision    recall  f1-score   support\n",
      "\n",
      "        High       0.63      0.63      0.63       452\n",
      "         Low       0.68      0.63      0.65       471\n",
      "      Medium       0.36      0.40      0.38       362\n",
      "\n",
      "    accuracy                           0.56      1285\n",
      "   macro avg       0.56      0.55      0.55      1285\n",
      "weighted avg       0.57      0.56      0.57      1285\n",
      "\n",
      "[[283  31 138]\n",
      " [ 54 295 122]\n",
      " [111 106 145]]\n"
     ]
    }
   ],
   "source": [
    "# Gradient Boosting Classifier\n",
    "\n",
    "from sklearn import datasets\n",
    "from sklearn import metrics\n",
    "from sklearn.ensemble import GradientBoostingClassifier\n",
    "from sklearn.ensemble import GradientBoostingRegressor\n",
    "from sklearn.model_selection import train_test_split\n",
    "import matplotlib.pyplot as plt\n",
    "import seaborn as sns\n",
    "\n",
    "model = GradientBoostingClassifier()\n",
    "model.fit(x_train, y_train)\n",
    "y_pred = model.predict(x_test)\n",
    "print(metrics.classification_report(y_pred, y_test))\n",
    "print(metrics.confusion_matrix(y_pred, y_test))"
   ]
  },
  {
   "cell_type": "code",
   "execution_count": 109,
   "metadata": {},
   "outputs": [
    {
     "name": "stdout",
     "output_type": "stream",
     "text": [
      "Accuracy score: 0.5579766536964981\n",
      "[[287  52 109]\n",
      " [ 41 295  96]\n",
      " [146 124 135]]\n"
     ]
    }
   ],
   "source": [
    "# KNN100 test\n",
    "\n",
    "from sklearn.neighbors import KNeighborsClassifier\n",
    "knn100 = KNeighborsClassifier(n_neighbors=100)\n",
    "knn100.fit(x_train, y_train)\n",
    "y_pred = knn100.predict(x_test)\n",
    "print(\"Accuracy score:\", accuracy_score(y_test, y_pred))\n",
    "print(confusion_matrix(y_test, y_pred))"
   ]
  },
  {
   "cell_type": "code",
   "execution_count": null,
   "metadata": {},
   "outputs": [],
   "source": []
  },
  {
   "cell_type": "code",
   "execution_count": null,
   "metadata": {},
   "outputs": [],
   "source": []
  },
  {
   "cell_type": "code",
   "execution_count": null,
   "metadata": {},
   "outputs": [],
   "source": []
  },
  {
   "cell_type": "code",
   "execution_count": null,
   "metadata": {},
   "outputs": [],
   "source": []
  },
  {
   "cell_type": "code",
   "execution_count": null,
   "metadata": {},
   "outputs": [],
   "source": []
  },
  {
   "cell_type": "code",
   "execution_count": null,
   "metadata": {},
   "outputs": [],
   "source": []
  },
  {
   "cell_type": "code",
   "execution_count": null,
   "metadata": {},
   "outputs": [],
   "source": []
  }
 ],
 "metadata": {
  "interpreter": {
   "hash": "bc74c9efbb84f280ceaeeceeae8f315ec3f368be1dc370363a62f0ad4f42a571"
  },
  "kernelspec": {
   "display_name": "Python 3 (ipykernel)",
   "language": "python",
   "name": "python3"
  },
  "language_info": {
   "codemirror_mode": {
    "name": "ipython",
    "version": 3
   },
   "file_extension": ".py",
   "mimetype": "text/x-python",
   "name": "python",
   "nbconvert_exporter": "python",
   "pygments_lexer": "ipython3",
   "version": "3.9.7"
  }
 },
 "nbformat": 4,
 "nbformat_minor": 2
}
