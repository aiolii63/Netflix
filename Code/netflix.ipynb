{
 "cells": [
  {
   "cell_type": "code",
   "execution_count": 818,
   "metadata": {},
   "outputs": [],
   "source": [
    "import pandas as pd\n",
    "import numpy as np\n",
    "import matplotlib.pyplot as plt\n",
    "import seaborn as sns\n",
    "%matplotlib inline\n",
    "\n",
    "\n",
    "from sklearn.neighbors import KNeighborsClassifier\n",
    "from sklearn.datasets import make_hastie_10_2\n",
    "\n",
    "from sklearn.ensemble import BaggingClassifier\n",
    "from sklearn.datasets import make_classification\n",
    "\n",
    "from sklearn.ensemble import GradientBoostingClassifier\n",
    "from sklearn.discriminant_analysis import LinearDiscriminantAnalysis\n",
    "from sklearn.gaussian_process import GaussianProcessClassifier\n",
    "from sklearn.gaussian_process.kernels import RBF\n",
    "\n",
    "\n"
   ]
  },
  {
   "cell_type": "markdown",
   "metadata": {},
   "source": [
    "#IMPORTANT README ON THIS CLASSIFICATION EXERCISE\n",
    "=================================================================\n",
    "\n",
    "\n",
    "## Time expectations\n",
    "- Data cleaning 2 hours \n",
    "- Data preprocessing (features, scaling) 1 hours\n",
    "- Models investigation 3 hours - this task can be splited\n",
    "- Models implementation - 2 hours\n",
    "- Slides/dashboard/notebook - 2 hours\n",
    "- Finalization and \"beautification\" (github, etc)  - 2 hours\n",
    "Average time per person 4-6 hours\n",
    "\n",
    "1. Please make sure the Y is not too granular: make sure to bin it to simplify the work of models\n",
    "\n",
    "2. After using the model, play around with hyperparams\n",
    "\n",
    "3. Finally, compare model performance by accuracy, ROC-AUC... 60+ % would be a good start\n",
    "\n",
    "4. Use Trello instead of JIRA for project mgmt: make sure to provide hours worked on each task"
   ]
  },
  {
   "cell_type": "code",
   "execution_count": 819,
   "metadata": {},
   "outputs": [
    {
     "data": {
      "text/html": [
       "<div><div id=92d95bc2-e610-4dcc-bfe7-38866843e755 style=\"display:none; background-color:#9D6CFF; color:white; width:200px; height:30px; padding-left:5px; border-radius:4px; flex-direction:row; justify-content:space-around; align-items:center;\" onmouseover=\"this.style.backgroundColor='#BA9BF8'\" onmouseout=\"this.style.backgroundColor='#9D6CFF'\" onclick=\"window.commands?.execute('create-mitosheet-from-dataframe-output');\">See Full Dataframe in Mito</div> <script> if (window.commands.hasCommand('create-mitosheet-from-dataframe-output')) document.getElementById('92d95bc2-e610-4dcc-bfe7-38866843e755').style.display = 'flex' </script> <table border=\"1\" class=\"dataframe\">\n",
       "  <thead>\n",
       "    <tr style=\"text-align: right;\">\n",
       "      <th></th>\n",
       "      <th>Unnamed: 0</th>\n",
       "      <th>title</th>\n",
       "      <th>year</th>\n",
       "      <th>kind</th>\n",
       "      <th>genre</th>\n",
       "      <th>rating</th>\n",
       "      <th>vote</th>\n",
       "      <th>country</th>\n",
       "      <th>language</th>\n",
       "      <th>cast</th>\n",
       "      <th>director</th>\n",
       "      <th>composer</th>\n",
       "      <th>writer</th>\n",
       "      <th>runtime</th>\n",
       "    </tr>\n",
       "  </thead>\n",
       "  <tbody>\n",
       "    <tr>\n",
       "      <th>0</th>\n",
       "      <td>0</td>\n",
       "      <td>Dinosaur Planet</td>\n",
       "      <td>2003.0</td>\n",
       "      <td>tv mini series</td>\n",
       "      <td>['Documentary', 'Animation', 'Family']</td>\n",
       "      <td>7.7</td>\n",
       "      <td>474.0</td>\n",
       "      <td>['United States']</td>\n",
       "      <td>['English']</td>\n",
       "      <td>['Christian Slater', 'Scott Sampson']</td>\n",
       "      <td>NaN</td>\n",
       "      <td>NaN</td>\n",
       "      <td>['Mike Carrol', 'Mike Carroll', 'Georgann Kane']</td>\n",
       "      <td>50.0</td>\n",
       "    </tr>\n",
       "    <tr>\n",
       "      <th>1</th>\n",
       "      <td>1</td>\n",
       "      <td>Get Up and Dance!</td>\n",
       "      <td>1994.0</td>\n",
       "      <td>video movie</td>\n",
       "      <td>['Family']</td>\n",
       "      <td>8.1</td>\n",
       "      <td>18.0</td>\n",
       "      <td>['United States']</td>\n",
       "      <td>['English']</td>\n",
       "      <td>['Paula Abdul', 'Aurorah Allain', 'Bill Bohl', 'Bob Gaynor', \"Nancy O'Meara\"]</td>\n",
       "      <td>['Steve Purcell']</td>\n",
       "      <td>NaN</td>\n",
       "      <td>NaN</td>\n",
       "      <td>83.0</td>\n",
       "    </tr>\n",
       "    <tr>\n",
       "      <th>2</th>\n",
       "      <td>2</td>\n",
       "      <td>8 Man</td>\n",
       "      <td>1992.0</td>\n",
       "      <td>movie</td>\n",
       "      <td>['Action', 'Sci-Fi']</td>\n",
       "      <td>5.5</td>\n",
       "      <td>93.0</td>\n",
       "      <td>['Japan']</td>\n",
       "      <td>['Japanese']</td>\n",
       "      <td>['Kai Shishido', 'Etsushi Takahashi', 'Sachiko Ayase', 'Osamu Ohtomo', 'Jô Shishido', 'Tadao Nakamaru', 'Daisuke Shima', 'Toshihide Wakamatsu', 'Mickey Curtis', 'Robert Axelrod', 'Steve Bulen', 'Richard Cansino', 'Lara Cody', 'Juliana Donald', 'Kerrigan Mahan', 'Edie Mirman', 'Mike Reynolds', 'Michael Sorich', 'Barry Stigler', 'Kirk Thornton', 'Dan Woren']</td>\n",
       "      <td>['Yasuhiro Horiuchi']</td>\n",
       "      <td>['Carole King']</td>\n",
       "      <td>['Kazumasa Hirai', 'Jirô Kuwata', 'Junko Suzuki']</td>\n",
       "      <td>NaN</td>\n",
       "    </tr>\n",
       "    <tr>\n",
       "      <th>3</th>\n",
       "      <td>3</td>\n",
       "      <td>What the #$*! Do We (K)now!?</td>\n",
       "      <td>2004.0</td>\n",
       "      <td>movie</td>\n",
       "      <td>['Documentary', 'Comedy', 'Drama', 'Fantasy', 'Mystery', 'Sci-Fi']</td>\n",
       "      <td>5.3</td>\n",
       "      <td>13432.0</td>\n",
       "      <td>['United States']</td>\n",
       "      <td>['English', 'German', 'Spanish']</td>\n",
       "      <td>['Marlee Matlin', 'Elaine Hendrix', 'John Ross Bowie', 'Robert Bailey Jr.', 'Barry Newman', 'Larry Brandenburg', 'Daniela Serra', 'James Langston Drake', 'Michele Mariana', 'Armin Shimerman', 'Robert Blanche', 'Pavel Mikoloski', 'Alex Rogers', 'Tin Tran', 'Leslie Taylor', 'Sherilyn Lawson', 'Mercedes Rose', 'Joelle Anthony', 'Dawnn Pavlonnis', 'Danny Bruno', 'Josh Santos', 'Kerensa Gimre', 'Heather Robertson', 'Patti Collins', 'Tammy Mischke', 'Justin Canfield', 'Gordon Grobelny', 'Brent Pendleton', 'Jonathan Cammon', 'Val Landrum', 'Kyle Lunde', 'Gloria Manon', 'Robert McKeehen', 'Eric Newsome', 'Kirk Thornton', 'Michelle Ruff', 'Lia Sargent', 'Michael Sorich', 'Steve Blum', 'Tom Fahn', 'Allison Gottfried', 'David Albert', 'Joseph Dispenza', 'Amit Goswami', 'John Hagelin', 'Stuart Hameroff', 'J.Z. Knight', 'Miceal Ledwith', 'Daniel Monti', 'Andrew Newberg', 'Candace Pert', 'Jeffrey Satinover', 'William Tiller', 'Fred Alan Wolf', 'Marsha Clark', 'William Joseph Elk III', 'Evan Jacobs', 'Jeff S. Dodge', 'Carol Stanzione', 'Casper Van Dien', 'Tara Walker']</td>\n",
       "      <td>['William Arntz', 'Betsy Chasse', 'Mark Vicente']</td>\n",
       "      <td>['Christopher Franke']</td>\n",
       "      <td>['William Arntz', 'Betsy Chasse', 'Matthew Hoffman']</td>\n",
       "      <td>60.0</td>\n",
       "    </tr>\n",
       "    <tr>\n",
       "      <th>4</th>\n",
       "      <td>4</td>\n",
       "      <td>Class of Nuke 'Em High Part II: Subhumanoid Meltdown</td>\n",
       "      <td>1991.0</td>\n",
       "      <td>movie</td>\n",
       "      <td>['Comedy', 'Horror', 'Sci-Fi']</td>\n",
       "      <td>4.5</td>\n",
       "      <td>2177.0</td>\n",
       "      <td>['United States']</td>\n",
       "      <td>['English']</td>\n",
       "      <td>['Brick Bronsky', 'Lisa Gaye', 'Leesa Rowland', 'Michael Kurtz', 'Scott Resnick', 'Jacki Moen', 'Robert Dawson', 'Phil Rivo', 'Erica Frank', 'Sharon E. Gardner', 'Bea Lindgren', 'Lorraine Parchment', 'Troy Fromin', 'Tyler Bowe', 'Paul Borghese', 'Amy Hilbrich', 'Brad Roth', 'Nello Scadato', 'Jean Stewart', 'Gerrard Course', 'Lindsey Dawkins', 'Darla Haun', 'Lily Hayes Kaufman', 'Jason Vance Taylor', 'Alex Pirnie', 'William J. Kulzer', 'Kaptain', 'Madison Monk', 'Greta Rubens', 'Jon Albert', 'Patricia Kaufman', 'Jerri Greene', 'Patti Williford', 'Thomas Perry', 'Wendy Burnell', 'Shane Christopher', 'Ana Debasa', 'Jesse Cole Johnson', 'Andre Lambert', 'Jeanne LeGrand', 'Julie Nine', 'Louis Ortiz', 'Glorivic Parong', 'Suzanne Solari', 'Lisa Star', 'Saint Teresa Stone', 'Billie Taylor', 'Veronica Stork', 'Elizabeth Young', 'Kristina Krofft', 'Maraya Chase', 'Sophia Orkulas', 'Traci Mann', 'Walt Kubiak', 'Martin Sokol', 'Mark Richardson', 'Diana C. Skinner', 'Sheri Belfert', 'Bonnie Clarke', 'Heather Forsyth', 'Susan Jones', 'Trinity Loren', 'Sharon Mitchell', 'Phoebe Phaigh', 'Sandy Ruthowski', 'Nicole Vasilopoulos', 'Ryan Jones', 'Andy Jones', 'John Bausch', 'Gilbran Chong', 'Charlotte Kaufman', 'Lisbeth Kaufman', 'Shanah Richardson', 'Sherie Richardson', 'Cosimo Sherman', 'Josh Greenie', 'Brent Lichman', 'Wes Lichtman', 'Rocky Sherman', 'Jessi Woodhull', 'Shelby Shepard', 'Bullet Valmont', 'Liz Ard', 'Michael Cadava', 'Corey Hawk', 'Michael Herz', 'Lloyd Kaufman', 'Cynthia Windham']</td>\n",
       "      <td>['Eric Louzil']</td>\n",
       "      <td>['Bob Mithoff']</td>\n",
       "      <td>['Lloyd Kaufman', 'Carl Morano', 'Matt Unger']</td>\n",
       "      <td>96.0</td>\n",
       "    </tr>\n",
       "  </tbody>\n",
       "</table></div>"
      ],
      "text/plain": [
       "   Unnamed: 0                                              title    year  \\\n",
       "0           0                                    Dinosaur Planet  2003.0   \n",
       "1           1                                  Get Up and Dance!  1994.0   \n",
       "2           2                                              8 Man  1992.0   \n",
       "3           3                       What the #$*! Do We (K)now!?  2004.0   \n",
       "4           4  Class of Nuke 'Em High Part II: Subhumanoid Me...  1991.0   \n",
       "\n",
       "             kind                                              genre  rating  \\\n",
       "0  tv mini series             ['Documentary', 'Animation', 'Family']     7.7   \n",
       "1     video movie                                         ['Family']     8.1   \n",
       "2           movie                               ['Action', 'Sci-Fi']     5.5   \n",
       "3           movie  ['Documentary', 'Comedy', 'Drama', 'Fantasy', ...     5.3   \n",
       "4           movie                     ['Comedy', 'Horror', 'Sci-Fi']     4.5   \n",
       "\n",
       "      vote            country                          language  \\\n",
       "0    474.0  ['United States']                       ['English']   \n",
       "1     18.0  ['United States']                       ['English']   \n",
       "2     93.0          ['Japan']                      ['Japanese']   \n",
       "3  13432.0  ['United States']  ['English', 'German', 'Spanish']   \n",
       "4   2177.0  ['United States']                       ['English']   \n",
       "\n",
       "                                                cast  \\\n",
       "0              ['Christian Slater', 'Scott Sampson']   \n",
       "1  ['Paula Abdul', 'Aurorah Allain', 'Bill Bohl',...   \n",
       "2  ['Kai Shishido', 'Etsushi Takahashi', 'Sachiko...   \n",
       "3  ['Marlee Matlin', 'Elaine Hendrix', 'John Ross...   \n",
       "4  ['Brick Bronsky', 'Lisa Gaye', 'Leesa Rowland'...   \n",
       "\n",
       "                                            director                composer  \\\n",
       "0                                                NaN                     NaN   \n",
       "1                                  ['Steve Purcell']                     NaN   \n",
       "2                              ['Yasuhiro Horiuchi']         ['Carole King']   \n",
       "3  ['William Arntz', 'Betsy Chasse', 'Mark Vicente']  ['Christopher Franke']   \n",
       "4                                    ['Eric Louzil']         ['Bob Mithoff']   \n",
       "\n",
       "                                              writer  runtime  \n",
       "0   ['Mike Carrol', 'Mike Carroll', 'Georgann Kane']     50.0  \n",
       "1                                                NaN     83.0  \n",
       "2  ['Kazumasa Hirai', 'Jirô Kuwata', 'Junko Suzuki']      NaN  \n",
       "3  ['William Arntz', 'Betsy Chasse', 'Matthew Hof...     60.0  \n",
       "4     ['Lloyd Kaufman', 'Carl Morano', 'Matt Unger']     96.0  "
      ]
     },
     "execution_count": 819,
     "metadata": {},
     "output_type": "execute_result"
    }
   ],
   "source": [
    "df = pd.read_csv(r'C:/Users/olivi/Documents/Ironhack/DAFT_212/module_3/Project_week_7/imdb_processed.csv')\n",
    "df.head()"
   ]
  },
  {
   "cell_type": "code",
   "execution_count": 820,
   "metadata": {},
   "outputs": [
    {
     "data": {
      "text/html": [
       "<div><div id=9bf04ff2-518d-45e6-acd4-78d054a8f544 style=\"display:none; background-color:#9D6CFF; color:white; width:200px; height:30px; padding-left:5px; border-radius:4px; flex-direction:row; justify-content:space-around; align-items:center;\" onmouseover=\"this.style.backgroundColor='#BA9BF8'\" onmouseout=\"this.style.backgroundColor='#9D6CFF'\" onclick=\"window.commands?.execute('create-mitosheet-from-dataframe-output');\">See Full Dataframe in Mito</div> <script> if (window.commands.hasCommand('create-mitosheet-from-dataframe-output')) document.getElementById('9bf04ff2-518d-45e6-acd4-78d054a8f544').style.display = 'flex' </script> <table border=\"1\" class=\"dataframe\">\n",
       "  <thead>\n",
       "    <tr style=\"text-align: right;\">\n",
       "      <th></th>\n",
       "      <th>Unnamed: 0</th>\n",
       "      <th>title</th>\n",
       "      <th>year</th>\n",
       "      <th>kind</th>\n",
       "      <th>genre</th>\n",
       "      <th>rating</th>\n",
       "      <th>vote</th>\n",
       "      <th>country</th>\n",
       "      <th>language</th>\n",
       "      <th>cast</th>\n",
       "      <th>director</th>\n",
       "      <th>composer</th>\n",
       "      <th>writer</th>\n",
       "      <th>runtime</th>\n",
       "    </tr>\n",
       "  </thead>\n",
       "  <tbody>\n",
       "    <tr>\n",
       "      <th>3847</th>\n",
       "      <td>3847</td>\n",
       "      <td>Terminator 2: Judgment Day</td>\n",
       "      <td>1991.0</td>\n",
       "      <td>movie</td>\n",
       "      <td>['Action', 'Sci-Fi']</td>\n",
       "      <td>8.5</td>\n",
       "      <td>1033000.0</td>\n",
       "      <td>['United States']</td>\n",
       "      <td>['English', 'Spanish']</td>\n",
       "      <td>['Arnold Schwarzenegger', 'Linda Hamilton', 'Edward Furlong', 'Robert Patrick', 'Earl Boen', 'Joe Morton', 'S. Epatha Merkerson', 'Castulo Guerra', 'Danny Cooksey', 'Jenette Goldstein', 'Xander Berkeley', 'Leslie Hamilton Gearren', 'Ken Gibbel', 'Robert Winley', 'Peter Schrum', 'Shane Wilder', 'Michael Edwards', 'Jared Lounsbery', 'Casey Chavez', 'Ennalls Berl', 'Don Lake', 'Richard Vidan', 'Tom McDonald', 'Jim Palmer', 'Guss Williams', 'Gwenda Deacon', 'Don Stanton', 'Dan Stanton', 'Colin Patrick Lynch', 'Noel Evangelisti', 'Nikki Cox', 'Lisa Brinegar', 'DeVaughn Nixon', 'Tony Simotes', 'Diane Rodriguez', 'Dalton Abbott', 'Ron Young', 'Charles Robert Brown', 'Abdul Salaam El Razzac', 'Mike Muscat', 'Dean Norris', 'Charles A. Tamburro', 'J. Rob Jordan', 'Terrence Evans', 'Denney Pierce', 'Mark Christopher Lawrence', 'Pat Kouri', 'Van Ling', 'Michael Albanese', 'Ed Arneson', 'Bret A. Arnold', 'Dean Blanke', 'Debra Casey', 'Jim Dahl', 'Martin Deluca', 'Jennifer Jacono', 'Gavin Kelly', 'Takao Komine', 'Joel Kramer', 'Anne Merrem', 'Mic Rodgers', 'Richard Ruskin', 'Scott Shaw', 'Steven Stear', 'Sven-Ole Thorsen', 'Randy Walker', 'William Wisher']</td>\n",
       "      <td>['James Cameron']</td>\n",
       "      <td>['Brad Fiedel']</td>\n",
       "      <td>['James Cameron', 'William Wisher']</td>\n",
       "      <td>51.0</td>\n",
       "    </tr>\n",
       "  </tbody>\n",
       "</table></div>"
      ],
      "text/plain": [
       "      Unnamed: 0                       title    year   kind  \\\n",
       "3847        3847  Terminator 2: Judgment Day  1991.0  movie   \n",
       "\n",
       "                     genre  rating       vote            country  \\\n",
       "3847  ['Action', 'Sci-Fi']     8.5  1033000.0  ['United States']   \n",
       "\n",
       "                    language  \\\n",
       "3847  ['English', 'Spanish']   \n",
       "\n",
       "                                                   cast           director  \\\n",
       "3847  ['Arnold Schwarzenegger', 'Linda Hamilton', 'E...  ['James Cameron']   \n",
       "\n",
       "             composer                               writer  runtime  \n",
       "3847  ['Brad Fiedel']  ['James Cameron', 'William Wisher']     51.0  "
      ]
     },
     "execution_count": 820,
     "metadata": {},
     "output_type": "execute_result"
    }
   ],
   "source": [
    "df.loc[df.title.str.contains(\"Terminator\")]"
   ]
  },
  {
   "cell_type": "code",
   "execution_count": 821,
   "metadata": {},
   "outputs": [
    {
     "data": {
      "text/html": [
       "<div><div id=a7d6e7c3-57b0-4ebd-8ef3-083a350cb96c style=\"display:none; background-color:#9D6CFF; color:white; width:200px; height:30px; padding-left:5px; border-radius:4px; flex-direction:row; justify-content:space-around; align-items:center;\" onmouseover=\"this.style.backgroundColor='#BA9BF8'\" onmouseout=\"this.style.backgroundColor='#9D6CFF'\" onclick=\"window.commands?.execute('create-mitosheet-from-dataframe-output');\">See Full Dataframe in Mito</div> <script> if (window.commands.hasCommand('create-mitosheet-from-dataframe-output')) document.getElementById('a7d6e7c3-57b0-4ebd-8ef3-083a350cb96c').style.display = 'flex' </script> <table border=\"1\" class=\"dataframe\">\n",
       "  <thead>\n",
       "    <tr style=\"text-align: right;\">\n",
       "      <th></th>\n",
       "      <th>Unnamed: 0</th>\n",
       "      <th>title</th>\n",
       "      <th>year</th>\n",
       "      <th>kind</th>\n",
       "      <th>genre</th>\n",
       "      <th>rating</th>\n",
       "      <th>vote</th>\n",
       "      <th>country</th>\n",
       "      <th>language</th>\n",
       "      <th>cast</th>\n",
       "      <th>director</th>\n",
       "      <th>composer</th>\n",
       "      <th>writer</th>\n",
       "      <th>runtime</th>\n",
       "    </tr>\n",
       "  </thead>\n",
       "  <tbody>\n",
       "    <tr>\n",
       "      <th>8446</th>\n",
       "      <td>8446</td>\n",
       "      <td>All Monsters Attack</td>\n",
       "      <td>1969.0</td>\n",
       "      <td>movie</td>\n",
       "      <td>['Adventure', 'Family', 'Fantasy']</td>\n",
       "      <td>3.9</td>\n",
       "      <td>4384.0</td>\n",
       "      <td>['Japan']</td>\n",
       "      <td>['Japanese']</td>\n",
       "      <td>['Tomonori Yazaki', 'Hideyo Amamoto', 'Sachio Sakai', 'Kazuo Suzuki', 'Kenji Sahara', 'Machiko Naka', 'Shigeki Ishida', 'Midori Uchiyama', 'Yoshifumi Tajima', 'Chôtarô Tôgin', 'Yutaka Sada', 'Yutaka Nakayama', 'Ikio Sawamura', 'Haruo Nakajima', \"'Little Man' Machan\", 'Yû Sekita', 'Michiko Hirai', 'Yasuhiko Kakuko', 'Yoshio Katsube', 'Seiji Onaka', 'Osman Yusuf']</td>\n",
       "      <td>['Ishirô Honda', 'Jun Fukuda', 'Kengo Furusawa']</td>\n",
       "      <td>['Kunio Miyauchi']</td>\n",
       "      <td>[\"Shin'ichi Sekizawa\"]</td>\n",
       "      <td>NaN</td>\n",
       "    </tr>\n",
       "    <tr>\n",
       "      <th>8447</th>\n",
       "      <td>8447</td>\n",
       "      <td>Fidel Castro</td>\n",
       "      <td>2005.0</td>\n",
       "      <td>episode</td>\n",
       "      <td>['Documentary', 'Biography', 'History']</td>\n",
       "      <td>6.4</td>\n",
       "      <td>44.0</td>\n",
       "      <td>NaN</td>\n",
       "      <td>['English', 'Spanish']</td>\n",
       "      <td>['Rena Baskin', 'Fulgencio Batista', 'James Blight', 'Ricardo Bofill', 'Leonid Brezhnev', 'Jimmy Carter', 'Fidel Castro', 'Jorge Domínguez', 'Alfredo Duran', 'Rafael Díaz-Balart', \"Alfredo 'El Chino' Esquivel\", 'Carlos Franqui', 'Norberto Fuentes', 'Georgie Anne Geyer', \"Ernesto 'Che' Guevara\", 'Jim Hagerty', 'Peter Haydu', 'Alcibíades Hidalgo', 'Paul Horn', 'Lyndon B. Johnson', 'Henry Kissinger', 'Brian Latell', 'Will Le Bow', 'William Leogrande', 'Huber Matos', 'Carlos Alberto Montaner', 'Edward R. Murrow', 'Tim Naftali', 'Andres Oppenheimer', 'Jose Ignacio Rasco', 'Ronald Reagan', 'Alina Fernández Revuelta', 'Timothy Sawyer', 'Wayne Smith', 'Marifeli Perez Stable', 'David Ogden Stiers', 'Armando Valladares', 'Barbara Walters']</td>\n",
       "      <td>['Adriana Bosch', 'M Pink Christofalo']</td>\n",
       "      <td>['Mason Daring']</td>\n",
       "      <td>['Adriana Bosch']</td>\n",
       "      <td>NaN</td>\n",
       "    </tr>\n",
       "    <tr>\n",
       "      <th>8448</th>\n",
       "      <td>8448</td>\n",
       "      <td>Epoch</td>\n",
       "      <td>2001.0</td>\n",
       "      <td>tv movie</td>\n",
       "      <td>['Sci-Fi', 'Thriller']</td>\n",
       "      <td>4.9</td>\n",
       "      <td>2376.0</td>\n",
       "      <td>['United States']</td>\n",
       "      <td>['English']</td>\n",
       "      <td>['David Keith', 'Stephanie Niznik', \"Ryan O'Neal\", 'Brian Thompson', 'Steve Bond', 'Craig Wasson', 'Michael Cavanaugh', 'Shannon Lee', 'James Avery', 'James Hong', 'Joseph Patrick Kelly', 'Donald Li', 'William Zabka', 'Marc McClure', 'Eloy Casados', 'Raul Julia-Levy', 'Donna Magnani', 'Richard Keats', 'John McCook', 'Daniel McCoy', 'Hahn Cho', 'Terri Neish', 'Timothy Mock', 'Jeff Rank', 'Morgan Lenz', 'Randy Frey', 'Russell Duncan']</td>\n",
       "      <td>['Matt Codd']</td>\n",
       "      <td>['Richard McHugh']</td>\n",
       "      <td>['Jonathan Raymond', 'Jonathan Raymond', 'Phillip J. Roth']</td>\n",
       "      <td>NaN</td>\n",
       "    </tr>\n",
       "    <tr>\n",
       "      <th>8449</th>\n",
       "      <td>8449</td>\n",
       "      <td>The Company</td>\n",
       "      <td>2003.0</td>\n",
       "      <td>movie</td>\n",
       "      <td>['Drama', 'Music', 'Romance']</td>\n",
       "      <td>6.3</td>\n",
       "      <td>6501.0</td>\n",
       "      <td>['United States', 'Germany', 'United Kingdom']</td>\n",
       "      <td>['English']</td>\n",
       "      <td>['Neve Campbell', 'Malcolm McDowell', 'James Franco', 'Barbara E. Robertson', 'William Dick', 'Susie Cusack', 'Marilyn Dodds Frank', 'John Lordan', 'Mariann Mayberry', 'Roderick Peeples', 'Yasen Peyankov', 'Davis C. Robertson', 'Deborah Dawn', 'John Gluckman', 'David Gombert', 'Suzanne L. Prisco', 'Domingo Rubio', 'Emily Patterson', 'Maia Wilkins', 'Sam Franke', 'Trinity Hamilton', 'Julianne Kepley', 'Valerie Robin', 'Deanne Brown', 'Michael Smith', 'Matthew Roy Prescott', 'Lar Lubovitch', 'Robert Desrosiers', 'Charthel Arthur', 'Cameron Basden', 'Mark Goldweber', 'Pierre Lockett', 'Adam Sklute', 'Heather Aagard', 'Michael Anderson', 'Erica Lynette Edwards', 'Jennifer Goodman', 'Stacy Joy Keller', 'Calvin Kitten', 'Peter Kozak', 'Britta Lazenga', 'Michael Levine', 'Brian McSween', 'Elizabeth Mertz', 'Masayoshi Onuki', 'Samuel Pergande', 'Willy Shives', 'Erin Smith', 'Kathleen Thielhelm', 'Mauro Villanueva', 'Yukari Yasui', 'Tristan Alberda', 'Bobby Briscoe', 'Orlando Julius Canova', 'Angelina Sansone', 'Jacqueline Sherwood', 'Jessica Wyatt', 'Michael Andrew Currey', 'Katherine Selig', 'Paul Lewis', \"Julie O'Connell\", 'George Darveris', 'Marc Grapey', 'Keith Prisco', 'Emma Harrison', 'Dwayne Whitmore', 'Danny McCarthy', 'Robert Breuler', 'Larry Glazer', 'Mark Hummel', 'Kimber Closson', 'John Gleeson Connolly', 'Katarina Garcia', 'Chris Gober', 'Kevin Scott Greer', 'Michael Kilcullen', 'Kevin Lingle', 'Lora Mao', \"Kat O'Connor\", 'Brigitte Wulf', 'Dazelle Yvette']</td>\n",
       "      <td>['Robert Altman']</td>\n",
       "      <td>['Van Dyke Parks']</td>\n",
       "      <td>['Neve Campbell', 'Barbara Turner', 'Barbara Turner']</td>\n",
       "      <td>NaN</td>\n",
       "    </tr>\n",
       "    <tr>\n",
       "      <th>8450</th>\n",
       "      <td>8450</td>\n",
       "      <td>Predator</td>\n",
       "      <td>1987.0</td>\n",
       "      <td>movie</td>\n",
       "      <td>['Action', 'Adventure', 'Sci-Fi', 'Thriller']</td>\n",
       "      <td>7.8</td>\n",
       "      <td>386850.0</td>\n",
       "      <td>['United States', 'Mexico']</td>\n",
       "      <td>['English', 'Spanish', 'Russian']</td>\n",
       "      <td>['Arnold Schwarzenegger', 'Carl Weathers', 'Elpidia Carrillo', 'Bill Duke', 'Jesse Ventura', 'Sonny Landham', 'Richard Chaves', 'R.G. Armstrong', 'Shane Black', 'Kevin Peter Hall', 'Steve Boyum', 'William H. Burton Jr.', 'Franco Columbu', 'Peter Cullen', 'Henry Kingi', 'Sven-Ole Thorsen', 'Jack Verbois']</td>\n",
       "      <td>['John McTiernan']</td>\n",
       "      <td>['Alan Silvestri']</td>\n",
       "      <td>['Jim Thomas', 'John Thomas']</td>\n",
       "      <td>NaN</td>\n",
       "    </tr>\n",
       "  </tbody>\n",
       "</table></div>"
      ],
      "text/plain": [
       "      Unnamed: 0                title    year      kind  \\\n",
       "8446        8446  All Monsters Attack  1969.0     movie   \n",
       "8447        8447         Fidel Castro  2005.0   episode   \n",
       "8448        8448                Epoch  2001.0  tv movie   \n",
       "8449        8449          The Company  2003.0     movie   \n",
       "8450        8450             Predator  1987.0     movie   \n",
       "\n",
       "                                              genre  rating      vote  \\\n",
       "8446             ['Adventure', 'Family', 'Fantasy']     3.9    4384.0   \n",
       "8447        ['Documentary', 'Biography', 'History']     6.4      44.0   \n",
       "8448                         ['Sci-Fi', 'Thriller']     4.9    2376.0   \n",
       "8449                  ['Drama', 'Music', 'Romance']     6.3    6501.0   \n",
       "8450  ['Action', 'Adventure', 'Sci-Fi', 'Thriller']     7.8  386850.0   \n",
       "\n",
       "                                             country  \\\n",
       "8446                                       ['Japan']   \n",
       "8447                                             NaN   \n",
       "8448                               ['United States']   \n",
       "8449  ['United States', 'Germany', 'United Kingdom']   \n",
       "8450                     ['United States', 'Mexico']   \n",
       "\n",
       "                               language  \\\n",
       "8446                       ['Japanese']   \n",
       "8447             ['English', 'Spanish']   \n",
       "8448                        ['English']   \n",
       "8449                        ['English']   \n",
       "8450  ['English', 'Spanish', 'Russian']   \n",
       "\n",
       "                                                   cast  \\\n",
       "8446  ['Tomonori Yazaki', 'Hideyo Amamoto', 'Sachio ...   \n",
       "8447  ['Rena Baskin', 'Fulgencio Batista', 'James Bl...   \n",
       "8448  ['David Keith', 'Stephanie Niznik', \"Ryan O'Ne...   \n",
       "8449  ['Neve Campbell', 'Malcolm McDowell', 'James F...   \n",
       "8450  ['Arnold Schwarzenegger', 'Carl Weathers', 'El...   \n",
       "\n",
       "                                              director            composer  \\\n",
       "8446  ['Ishirô Honda', 'Jun Fukuda', 'Kengo Furusawa']  ['Kunio Miyauchi']   \n",
       "8447           ['Adriana Bosch', 'M Pink Christofalo']    ['Mason Daring']   \n",
       "8448                                     ['Matt Codd']  ['Richard McHugh']   \n",
       "8449                                 ['Robert Altman']  ['Van Dyke Parks']   \n",
       "8450                                ['John McTiernan']  ['Alan Silvestri']   \n",
       "\n",
       "                                                 writer  runtime  \n",
       "8446                             [\"Shin'ichi Sekizawa\"]      NaN  \n",
       "8447                                  ['Adriana Bosch']      NaN  \n",
       "8448  ['Jonathan Raymond', 'Jonathan Raymond', 'Phil...      NaN  \n",
       "8449  ['Neve Campbell', 'Barbara Turner', 'Barbara T...      NaN  \n",
       "8450                      ['Jim Thomas', 'John Thomas']      NaN  "
      ]
     },
     "execution_count": 821,
     "metadata": {},
     "output_type": "execute_result"
    }
   ],
   "source": [
    "df.tail()"
   ]
  },
  {
   "cell_type": "code",
   "execution_count": 822,
   "metadata": {},
   "outputs": [
    {
     "name": "stdout",
     "output_type": "stream",
     "text": [
      "<class 'pandas.core.frame.DataFrame'>\n",
      "RangeIndex: 8451 entries, 0 to 8450\n",
      "Data columns (total 14 columns):\n",
      " #   Column      Non-Null Count  Dtype  \n",
      "---  ------      --------------  -----  \n",
      " 0   Unnamed: 0  8451 non-null   int64  \n",
      " 1   title       8451 non-null   object \n",
      " 2   year        8451 non-null   float64\n",
      " 3   kind        8451 non-null   object \n",
      " 4   genre       8384 non-null   object \n",
      " 5   rating      8135 non-null   float64\n",
      " 6   vote        8135 non-null   float64\n",
      " 7   country     8152 non-null   object \n",
      " 8   language    8052 non-null   object \n",
      " 9   cast        8280 non-null   object \n",
      " 10  director    7140 non-null   object \n",
      " 11  composer    5722 non-null   object \n",
      " 12  writer      7204 non-null   object \n",
      " 13  runtime     6798 non-null   float64\n",
      "dtypes: float64(4), int64(1), object(9)\n",
      "memory usage: 924.5+ KB\n"
     ]
    }
   ],
   "source": [
    "df.info()"
   ]
  },
  {
   "cell_type": "code",
   "execution_count": 823,
   "metadata": {},
   "outputs": [
    {
     "data": {
      "text/plain": [
       "Unnamed: 0       0\n",
       "title            0\n",
       "year             0\n",
       "kind             0\n",
       "genre           67\n",
       "rating         316\n",
       "vote           316\n",
       "country        299\n",
       "language       399\n",
       "cast           171\n",
       "director      1311\n",
       "composer      2729\n",
       "writer        1247\n",
       "runtime       1653\n",
       "dtype: int64"
      ]
     },
     "execution_count": 823,
     "metadata": {},
     "output_type": "execute_result"
    }
   ],
   "source": [
    "df.isna().sum()"
   ]
  },
  {
   "cell_type": "code",
   "execution_count": 824,
   "metadata": {},
   "outputs": [],
   "source": [
    "df.drop('Unnamed: 0', axis=1, inplace=True)"
   ]
  },
  {
   "cell_type": "code",
   "execution_count": 825,
   "metadata": {},
   "outputs": [
    {
     "data": {
      "text/plain": [
       "title          0\n",
       "year           0\n",
       "kind           0\n",
       "genre         67\n",
       "rating       316\n",
       "vote         316\n",
       "country      299\n",
       "language     399\n",
       "cast         171\n",
       "director    1311\n",
       "composer    2729\n",
       "writer      1247\n",
       "runtime     1653\n",
       "dtype: int64"
      ]
     },
     "execution_count": 825,
     "metadata": {},
     "output_type": "execute_result"
    }
   ],
   "source": [
    "df.isna().sum()"
   ]
  },
  {
   "cell_type": "code",
   "execution_count": 826,
   "metadata": {},
   "outputs": [],
   "source": [
    "df.drop('composer', axis=1, inplace=True)"
   ]
  },
  {
   "cell_type": "code",
   "execution_count": 827,
   "metadata": {},
   "outputs": [],
   "source": [
    "genre_drop = df.loc[df.genre.isna()].index"
   ]
  },
  {
   "cell_type": "code",
   "execution_count": 828,
   "metadata": {},
   "outputs": [],
   "source": [
    "df.drop(genre_drop, axis=0, inplace=True)"
   ]
  },
  {
   "cell_type": "code",
   "execution_count": 829,
   "metadata": {},
   "outputs": [
    {
     "data": {
      "text/plain": [
       "0"
      ]
     },
     "execution_count": 829,
     "metadata": {},
     "output_type": "execute_result"
    }
   ],
   "source": [
    "df.genre.isna().sum()"
   ]
  },
  {
   "cell_type": "code",
   "execution_count": 830,
   "metadata": {},
   "outputs": [
    {
     "data": {
      "text/plain": [
       "0"
      ]
     },
     "execution_count": 830,
     "metadata": {},
     "output_type": "execute_result"
    }
   ],
   "source": [
    "cast_drop = df.loc[df.cast.isna()].index\n",
    "df.drop(cast_drop, axis=0, inplace=True)\n",
    "df.genre.isna().sum()"
   ]
  },
  {
   "cell_type": "code",
   "execution_count": 831,
   "metadata": {},
   "outputs": [
    {
     "data": {
      "text/plain": [
       "title          0\n",
       "year           0\n",
       "kind           0\n",
       "genre          0\n",
       "rating       224\n",
       "vote         224\n",
       "country      233\n",
       "language     324\n",
       "cast           0\n",
       "director    1185\n",
       "writer      1102\n",
       "runtime     1618\n",
       "dtype: int64"
      ]
     },
     "execution_count": 831,
     "metadata": {},
     "output_type": "execute_result"
    }
   ],
   "source": [
    "df.isna().sum()"
   ]
  },
  {
   "cell_type": "code",
   "execution_count": 832,
   "metadata": {},
   "outputs": [
    {
     "name": "stdout",
     "output_type": "stream",
     "text": [
      "<class 'pandas.core.frame.DataFrame'>\n",
      "Int64Index: 8232 entries, 0 to 8450\n",
      "Data columns (total 12 columns):\n",
      " #   Column    Non-Null Count  Dtype  \n",
      "---  ------    --------------  -----  \n",
      " 0   title     8232 non-null   object \n",
      " 1   year      8232 non-null   float64\n",
      " 2   kind      8232 non-null   object \n",
      " 3   genre     8232 non-null   object \n",
      " 4   rating    8008 non-null   float64\n",
      " 5   vote      8008 non-null   float64\n",
      " 6   country   7999 non-null   object \n",
      " 7   language  7908 non-null   object \n",
      " 8   cast      8232 non-null   object \n",
      " 9   director  7047 non-null   object \n",
      " 10  writer    7130 non-null   object \n",
      " 11  runtime   6614 non-null   float64\n",
      "dtypes: float64(4), object(8)\n",
      "memory usage: 836.1+ KB\n"
     ]
    }
   ],
   "source": [
    "df.info()"
   ]
  },
  {
   "cell_type": "code",
   "execution_count": 833,
   "metadata": {},
   "outputs": [
    {
     "data": {
      "image/png": "[encoded data removed]",
      "text/plain": [
       "<Figure size 432x288 with 1 Axes>"
      ]
     },
     "metadata": {
      "needs_background": "light"
     },
     "output_type": "display_data"
    }
   ],
   "source": [
    "ax = plt.hist(x=df.runtime, bins=30)\n",
    "plt.show()"
   ]
  },
  {
   "cell_type": "code",
   "execution_count": 834,
   "metadata": {},
   "outputs": [
    {
     "data": {
      "text/plain": [
       "1620.0"
      ]
     },
     "execution_count": 834,
     "metadata": {},
     "output_type": "execute_result"
    }
   ],
   "source": [
    "df.runtime.max()"
   ]
  },
  {
   "cell_type": "code",
   "execution_count": 835,
   "metadata": {},
   "outputs": [
    {
     "data": {
      "text/plain": [
       "661736.0"
      ]
     },
     "execution_count": 835,
     "metadata": {},
     "output_type": "execute_result"
    }
   ],
   "source": [
    "df.runtime.sum()"
   ]
  },
  {
   "cell_type": "code",
   "execution_count": 836,
   "metadata": {},
   "outputs": [
    {
     "data": {
      "text/plain": [
       "118400.0"
      ]
     },
     "execution_count": 836,
     "metadata": {},
     "output_type": "execute_result"
    }
   ],
   "source": [
    "df.runtime.sort_values().nlargest(n=500).sum()"
   ]
  },
  {
   "cell_type": "code",
   "execution_count": 837,
   "metadata": {},
   "outputs": [
    {
     "data": {
      "text/plain": [
       "title\n",
       "The Twilight Zone                                  3965.0\n",
       "French Twist                                       1620.0\n",
       "The Complete History of the Philadelphia Eagles    1620.0\n",
       "Stranger Inside                                    1380.0\n",
       "Thanksgiving Family Reunion                        1335.0\n",
       "Sabretooth                                         1140.0\n",
       "Alphaville                                          960.0\n",
       "Hercules: The Legendary Journeys                    930.0\n",
       "Tom and Jerry: The Magic Ring                       883.0\n",
       "Star Trek: The Next Generation                      851.0\n",
       "Name: runtime, dtype: float64"
      ]
     },
     "execution_count": 837,
     "metadata": {},
     "output_type": "execute_result"
    }
   ],
   "source": [
    "df.groupby('title')['runtime'].sum().nlargest(n=10)"
   ]
  },
  {
   "cell_type": "code",
   "execution_count": 838,
   "metadata": {},
   "outputs": [
    {
     "data": {
      "text/plain": [
       "title\n",
       "'Angel': Season 4 Overview              0.0\n",
       "'Manos' the Hands of Fate               0.0\n",
       "'Weird Al' Yankovic Live!               0.0\n",
       "10 Attitudes                            0.0\n",
       "1941                                    0.0\n",
       "                                       ... \n",
       "Withnail & I                            0.0\n",
       "Without Warning                         0.0\n",
       "Wolfen                                  0.0\n",
       "Woman Chasing the Butterfly of Death    0.0\n",
       "Women in Revolt                         0.0\n",
       "Name: runtime, Length: 1500, dtype: float64"
      ]
     },
     "execution_count": 838,
     "metadata": {},
     "output_type": "execute_result"
    }
   ],
   "source": [
    "df.groupby('title')['runtime'].sum().nsmallest(n=1500)"
   ]
  },
  {
   "cell_type": "code",
   "execution_count": 839,
   "metadata": {},
   "outputs": [
    {
     "data": {
      "text/plain": [
       "year\n",
       "2003.0    661\n",
       "2004.0    639\n",
       "2002.0    620\n",
       "2001.0    605\n",
       "2000.0    516\n",
       "1999.0    463\n",
       "1998.0    377\n",
       "1997.0    312\n",
       "1996.0    295\n",
       "2005.0    294\n",
       "1995.0    228\n",
       "1994.0    213\n",
       "1993.0    199\n",
       "1992.0    150\n",
       "1991.0    141\n",
       "1988.0    140\n",
       "1987.0    126\n",
       "1990.0    121\n",
       "1989.0    114\n",
       "1986.0     97\n",
       "Name: title, dtype: int64"
      ]
     },
     "execution_count": 839,
     "metadata": {},
     "output_type": "execute_result"
    }
   ],
   "source": [
    "df.groupby('year')['title'].count().nlargest(n=20)"
   ]
  },
  {
   "cell_type": "code",
   "execution_count": 840,
   "metadata": {},
   "outputs": [
    {
     "data": {
      "text/plain": [
       "country\n",
       "['United States']                      3709\n",
       "['United Kingdom']                      724\n",
       "['Japan']                               571\n",
       "['India']                               244\n",
       "['Hong Kong']                           214\n",
       "['Canada']                              207\n",
       "['France']                              154\n",
       "['United Kingdom', 'United States']     149\n",
       "['Canada', 'United States']              87\n",
       "['Australia']                            79\n",
       "['United States', 'Canada']              70\n",
       "['United States', 'United Kingdom']      67\n",
       "['Italy']                                66\n",
       "['Germany']                              43\n",
       "['Spain']                                41\n",
       "['France', 'Italy']                      37\n",
       "['South Korea']                          35\n",
       "['Italy', 'France']                      33\n",
       "['Germany', 'United States']             30\n",
       "['Soviet Union']                         30\n",
       "Name: title, dtype: int64"
      ]
     },
     "execution_count": 840,
     "metadata": {},
     "output_type": "execute_result"
    }
   ],
   "source": [
    "df.groupby('country')['title'].count().nlargest(n=20)"
   ]
  },
  {
   "cell_type": "code",
   "execution_count": 841,
   "metadata": {},
   "outputs": [
    {
     "data": {
      "text/plain": [
       "year\n",
       "2003.0    661\n",
       "2004.0    639\n",
       "2002.0    620\n",
       "2001.0    605\n",
       "2000.0    516\n",
       "1999.0    463\n",
       "1998.0    377\n",
       "1997.0    312\n",
       "1996.0    295\n",
       "2005.0    294\n",
       "1995.0    228\n",
       "1994.0    213\n",
       "1993.0    199\n",
       "1992.0    150\n",
       "1991.0    141\n",
       "1988.0    140\n",
       "1987.0    126\n",
       "1990.0    121\n",
       "1989.0    114\n",
       "1986.0     97\n",
       "Name: genre, dtype: int64"
      ]
     },
     "execution_count": 841,
     "metadata": {},
     "output_type": "execute_result"
    }
   ],
   "source": [
    "df.groupby('year')['genre'].count().nlargest(n=20)"
   ]
  },
  {
   "cell_type": "code",
   "execution_count": 842,
   "metadata": {},
   "outputs": [
    {
     "data": {
      "text/plain": [
       "country\n",
       "['United States']                      3709\n",
       "['United Kingdom']                      724\n",
       "['Japan']                               571\n",
       "['India']                               244\n",
       "['Hong Kong']                           214\n",
       "['Canada']                              207\n",
       "['France']                              154\n",
       "['United Kingdom', 'United States']     149\n",
       "['Canada', 'United States']              87\n",
       "['Australia']                            79\n",
       "['United States', 'Canada']              70\n",
       "['United States', 'United Kingdom']      67\n",
       "['Italy']                                66\n",
       "['Germany']                              43\n",
       "['Spain']                                41\n",
       "['France', 'Italy']                      37\n",
       "['South Korea']                          35\n",
       "['Italy', 'France']                      33\n",
       "['Germany', 'United States']             30\n",
       "['Soviet Union']                         30\n",
       "Name: genre, dtype: int64"
      ]
     },
     "execution_count": 842,
     "metadata": {},
     "output_type": "execute_result"
    }
   ],
   "source": [
    "df.groupby('country')['genre'].count().nlargest(n=20)"
   ]
  },
  {
   "cell_type": "code",
   "execution_count": 843,
   "metadata": {},
   "outputs": [
    {
     "data": {
      "text/plain": [
       "title          0\n",
       "year           0\n",
       "kind           0\n",
       "genre          0\n",
       "rating       224\n",
       "vote         224\n",
       "country      233\n",
       "language     324\n",
       "cast           0\n",
       "director    1185\n",
       "writer      1102\n",
       "runtime     1618\n",
       "dtype: int64"
      ]
     },
     "execution_count": 843,
     "metadata": {},
     "output_type": "execute_result"
    }
   ],
   "source": [
    "df.isna().sum()"
   ]
  },
  {
   "cell_type": "code",
   "execution_count": 844,
   "metadata": {},
   "outputs": [
    {
     "name": "stdout",
     "output_type": "stream",
     "text": [
      "<class 'pandas.core.frame.DataFrame'>\n",
      "Int64Index: 8232 entries, 0 to 8450\n",
      "Data columns (total 12 columns):\n",
      " #   Column    Non-Null Count  Dtype  \n",
      "---  ------    --------------  -----  \n",
      " 0   title     8232 non-null   object \n",
      " 1   year      8232 non-null   float64\n",
      " 2   kind      8232 non-null   object \n",
      " 3   genre     8232 non-null   object \n",
      " 4   rating    8008 non-null   float64\n",
      " 5   vote      8008 non-null   float64\n",
      " 6   country   7999 non-null   object \n",
      " 7   language  7908 non-null   object \n",
      " 8   cast      8232 non-null   object \n",
      " 9   director  7047 non-null   object \n",
      " 10  writer    7130 non-null   object \n",
      " 11  runtime   6614 non-null   float64\n",
      "dtypes: float64(4), object(8)\n",
      "memory usage: 836.1+ KB\n"
     ]
    }
   ],
   "source": [
    "df.info()"
   ]
  },
  {
   "cell_type": "code",
   "execution_count": 845,
   "metadata": {},
   "outputs": [
    {
     "data": {
      "text/plain": [
       "<bound method DataFrame.info of                                                   title    year  \\\n",
       "0                                       Dinosaur Planet  2003.0   \n",
       "1                                     Get Up and Dance!  1994.0   \n",
       "3                          What the #$*! Do We (K)now!?  2004.0   \n",
       "4     Class of Nuke 'Em High Part II: Subhumanoid Me...  1991.0   \n",
       "6                      Neil Diamond: Greatest Hits Live  1988.0   \n",
       "...                                                 ...     ...   \n",
       "7261                                              Shade  2003.0   \n",
       "7262                                Nothing But Trouble  1991.0   \n",
       "7263                                 The Whistle Blower  1986.0   \n",
       "7265                                     The Hitchhiker  1983.0   \n",
       "7266                                          SpaceCamp  1986.0   \n",
       "\n",
       "                kind                                              genre  \\\n",
       "0     tv mini series             ['Documentary', 'Animation', 'Family']   \n",
       "1        video movie                                         ['Family']   \n",
       "3              movie  ['Documentary', 'Comedy', 'Drama', 'Fantasy', ...   \n",
       "4              movie                     ['Comedy', 'Horror', 'Sci-Fi']   \n",
       "6        video movie                           ['Documentary', 'Music']   \n",
       "...              ...                                                ...   \n",
       "7261           movie                              ['Crime', 'Thriller']   \n",
       "7262           movie                                         ['Comedy']   \n",
       "7263           movie                                       ['Thriller']   \n",
       "7265       tv series  ['Drama', 'Horror', 'Mystery', 'Sci-Fi', 'Thri...   \n",
       "7266           movie                  ['Adventure', 'Family', 'Sci-Fi']   \n",
       "\n",
       "      rating     vote               country                          language  \\\n",
       "0        7.7    474.0     ['United States']                       ['English']   \n",
       "1        8.1     18.0     ['United States']                       ['English']   \n",
       "3        5.3  13432.0     ['United States']  ['English', 'German', 'Spanish']   \n",
       "4        4.5   2177.0     ['United States']                       ['English']   \n",
       "6        8.0     81.0     ['United States']                       ['English']   \n",
       "...      ...      ...                   ...                               ...   \n",
       "7261     6.3  12485.0     ['United States']                       ['English']   \n",
       "7262     5.1  23598.0     ['United States']                       ['English']   \n",
       "7263     6.2   2069.0    ['United Kingdom']            ['English', 'Russian']   \n",
       "7265     6.8   1482.0  ['Canada', 'France']                       ['English']   \n",
       "7266     5.7  14679.0     ['United States']                       ['English']   \n",
       "\n",
       "                                                   cast  \\\n",
       "0                 ['Christian Slater', 'Scott Sampson']   \n",
       "1     ['Paula Abdul', 'Aurorah Allain', 'Bill Bohl',...   \n",
       "3     ['Marlee Matlin', 'Elaine Hendrix', 'John Ross...   \n",
       "4     ['Brick Bronsky', 'Lisa Gaye', 'Leesa Rowland'...   \n",
       "6     ['Neil Diamond', 'Richard Bennett', 'Vince Cha...   \n",
       "...                                                 ...   \n",
       "7261  ['Joe Nicolo', 'Carl Mazzocone Sr.', 'George T...   \n",
       "7262  ['Chevy Chase', 'Dan Aykroyd', 'John Candy', '...   \n",
       "7263  ['Michael Caine', 'James Fox', 'Nigel Havers',...   \n",
       "7265  ['Page Fletcher', 'Nicholas Campbell', 'Vincen...   \n",
       "7266  ['Kate Capshaw', 'Lea Thompson', 'Kelly Presto...   \n",
       "\n",
       "                                               director  \\\n",
       "0                                                   NaN   \n",
       "1                                     ['Steve Purcell']   \n",
       "3     ['William Arntz', 'Betsy Chasse', 'Mark Vicente']   \n",
       "4                                       ['Eric Louzil']   \n",
       "6                  ['Dwight Hemion', 'Peter Israelson']   \n",
       "...                                                 ...   \n",
       "7261                                  ['Damian Nieman']   \n",
       "7262                                    ['Dan Aykroyd']   \n",
       "7263                                  ['Simon Langton']   \n",
       "7265                                                NaN   \n",
       "7266                                    ['Harry Winer']   \n",
       "\n",
       "                                                 writer  runtime  \n",
       "0      ['Mike Carrol', 'Mike Carroll', 'Georgann Kane']     50.0  \n",
       "1                                                   NaN     83.0  \n",
       "3     ['William Arntz', 'Betsy Chasse', 'Matthew Hof...     60.0  \n",
       "4        ['Lloyd Kaufman', 'Carl Morano', 'Matt Unger']     96.0  \n",
       "6            ['Kenny Solms', 'Ann Elder', 'Toem Perew']     55.0  \n",
       "...                                                 ...      ...  \n",
       "7261                                  ['Damian Nieman']    106.0  \n",
       "7262                   ['Peter Aykroyd', 'Dan Aykroyd']     92.0  \n",
       "7263                       ['Julian Bond', 'John Hale']    123.0  \n",
       "7265  ['Lewis Chesler', 'Lewis Chesler', 'Lewis Ches...    112.0  \n",
       "7266  ['Clifford Green', 'Casey T. Mitchell', 'Patri...    107.0  \n",
       "\n",
       "[6614 rows x 12 columns]>"
      ]
     },
     "execution_count": 845,
     "metadata": {},
     "output_type": "execute_result"
    }
   ],
   "source": [
    "runtime_drop = df.loc[df.runtime.isna()].index\n",
    "df.drop(runtime_drop, axis=0, inplace=True)\n",
    "df.info"
   ]
  },
  {
   "cell_type": "code",
   "execution_count": 846,
   "metadata": {},
   "outputs": [
    {
     "data": {
      "text/plain": [
       "title          0\n",
       "year           0\n",
       "kind           0\n",
       "genre          0\n",
       "rating       191\n",
       "vote         191\n",
       "country      198\n",
       "language     281\n",
       "cast           0\n",
       "director    1019\n",
       "writer       933\n",
       "runtime        0\n",
       "dtype: int64"
      ]
     },
     "execution_count": 846,
     "metadata": {},
     "output_type": "execute_result"
    }
   ],
   "source": [
    "df.isna().sum()"
   ]
  },
  {
   "cell_type": "code",
   "execution_count": 847,
   "metadata": {},
   "outputs": [
    {
     "name": "stdout",
     "output_type": "stream",
     "text": [
      "<class 'pandas.core.frame.DataFrame'>\n",
      "Int64Index: 6614 entries, 0 to 7266\n",
      "Data columns (total 12 columns):\n",
      " #   Column    Non-Null Count  Dtype  \n",
      "---  ------    --------------  -----  \n",
      " 0   title     6614 non-null   object \n",
      " 1   year      6614 non-null   float64\n",
      " 2   kind      6614 non-null   object \n",
      " 3   genre     6614 non-null   object \n",
      " 4   rating    6423 non-null   float64\n",
      " 5   vote      6423 non-null   float64\n",
      " 6   country   6416 non-null   object \n",
      " 7   language  6333 non-null   object \n",
      " 8   cast      6614 non-null   object \n",
      " 9   director  5595 non-null   object \n",
      " 10  writer    5681 non-null   object \n",
      " 11  runtime   6614 non-null   float64\n",
      "dtypes: float64(4), object(8)\n",
      "memory usage: 671.7+ KB\n"
     ]
    }
   ],
   "source": [
    "df.info()"
   ]
  },
  {
   "cell_type": "code",
   "execution_count": 848,
   "metadata": {},
   "outputs": [
    {
     "data": {
      "text/plain": [
       "title          0\n",
       "year           0\n",
       "kind           0\n",
       "genre          0\n",
       "rating       191\n",
       "vote         191\n",
       "country      198\n",
       "language     281\n",
       "cast           0\n",
       "director    1019\n",
       "writer       933\n",
       "runtime        0\n",
       "dtype: int64"
      ]
     },
     "execution_count": 848,
     "metadata": {},
     "output_type": "execute_result"
    }
   ],
   "source": [
    "df.isna().sum()"
   ]
  },
  {
   "cell_type": "code",
   "execution_count": 849,
   "metadata": {},
   "outputs": [],
   "source": [
    "df.director = df.director.replace(np.nan, 'Unknown')"
   ]
  },
  {
   "cell_type": "code",
   "execution_count": 850,
   "metadata": {},
   "outputs": [
    {
     "data": {
      "text/plain": [
       "array(['Unknown', \"['Steve Purcell']\",\n",
       "       \"['William Arntz', 'Betsy Chasse', 'Mark Vicente']\", ...,\n",
       "       \"['Damian Nieman']\", \"['Dan Aykroyd']\", \"['Simon Langton']\"],\n",
       "      dtype=object)"
      ]
     },
     "execution_count": 850,
     "metadata": {},
     "output_type": "execute_result"
    }
   ],
   "source": [
    "df.director.unique()"
   ]
  },
  {
   "cell_type": "code",
   "execution_count": 851,
   "metadata": {},
   "outputs": [],
   "source": [
    "df.writer = df.writer.replace(np.nan, 'Unknown')"
   ]
  },
  {
   "cell_type": "code",
   "execution_count": 852,
   "metadata": {},
   "outputs": [
    {
     "data": {
      "text/plain": [
       "title         0\n",
       "year          0\n",
       "kind          0\n",
       "genre         0\n",
       "rating      191\n",
       "vote        191\n",
       "country     198\n",
       "language    281\n",
       "cast          0\n",
       "director      0\n",
       "writer        0\n",
       "runtime       0\n",
       "dtype: int64"
      ]
     },
     "execution_count": 852,
     "metadata": {},
     "output_type": "execute_result"
    }
   ],
   "source": [
    "df.isna().sum()"
   ]
  },
  {
   "cell_type": "code",
   "execution_count": 853,
   "metadata": {},
   "outputs": [
    {
     "data": {
      "text/plain": [
       "<bound method DataFrame.info of                                                   title    year  \\\n",
       "0                                       Dinosaur Planet  2003.0   \n",
       "1                                     Get Up and Dance!  1994.0   \n",
       "3                          What the #$*! Do We (K)now!?  2004.0   \n",
       "4     Class of Nuke 'Em High Part II: Subhumanoid Me...  1991.0   \n",
       "6                      Neil Diamond: Greatest Hits Live  1988.0   \n",
       "...                                                 ...     ...   \n",
       "7261                                              Shade  2003.0   \n",
       "7262                                Nothing But Trouble  1991.0   \n",
       "7263                                 The Whistle Blower  1986.0   \n",
       "7265                                     The Hitchhiker  1983.0   \n",
       "7266                                          SpaceCamp  1986.0   \n",
       "\n",
       "                kind                                              genre  \\\n",
       "0     tv mini series             ['Documentary', 'Animation', 'Family']   \n",
       "1        video movie                                         ['Family']   \n",
       "3              movie  ['Documentary', 'Comedy', 'Drama', 'Fantasy', ...   \n",
       "4              movie                     ['Comedy', 'Horror', 'Sci-Fi']   \n",
       "6        video movie                           ['Documentary', 'Music']   \n",
       "...              ...                                                ...   \n",
       "7261           movie                              ['Crime', 'Thriller']   \n",
       "7262           movie                                         ['Comedy']   \n",
       "7263           movie                                       ['Thriller']   \n",
       "7265       tv series  ['Drama', 'Horror', 'Mystery', 'Sci-Fi', 'Thri...   \n",
       "7266           movie                  ['Adventure', 'Family', 'Sci-Fi']   \n",
       "\n",
       "      rating     vote               country                          language  \\\n",
       "0        7.7    474.0     ['United States']                       ['English']   \n",
       "1        8.1     18.0     ['United States']                       ['English']   \n",
       "3        5.3  13432.0     ['United States']  ['English', 'German', 'Spanish']   \n",
       "4        4.5   2177.0     ['United States']                       ['English']   \n",
       "6        8.0     81.0     ['United States']                       ['English']   \n",
       "...      ...      ...                   ...                               ...   \n",
       "7261     6.3  12485.0     ['United States']                       ['English']   \n",
       "7262     5.1  23598.0     ['United States']                       ['English']   \n",
       "7263     6.2   2069.0    ['United Kingdom']            ['English', 'Russian']   \n",
       "7265     6.8   1482.0  ['Canada', 'France']                       ['English']   \n",
       "7266     5.7  14679.0     ['United States']                       ['English']   \n",
       "\n",
       "                                                   cast  \\\n",
       "0                 ['Christian Slater', 'Scott Sampson']   \n",
       "1     ['Paula Abdul', 'Aurorah Allain', 'Bill Bohl',...   \n",
       "3     ['Marlee Matlin', 'Elaine Hendrix', 'John Ross...   \n",
       "4     ['Brick Bronsky', 'Lisa Gaye', 'Leesa Rowland'...   \n",
       "6     ['Neil Diamond', 'Richard Bennett', 'Vince Cha...   \n",
       "...                                                 ...   \n",
       "7261  ['Joe Nicolo', 'Carl Mazzocone Sr.', 'George T...   \n",
       "7262  ['Chevy Chase', 'Dan Aykroyd', 'John Candy', '...   \n",
       "7263  ['Michael Caine', 'James Fox', 'Nigel Havers',...   \n",
       "7265  ['Page Fletcher', 'Nicholas Campbell', 'Vincen...   \n",
       "7266  ['Kate Capshaw', 'Lea Thompson', 'Kelly Presto...   \n",
       "\n",
       "                                               director  \\\n",
       "0                                               Unknown   \n",
       "1                                     ['Steve Purcell']   \n",
       "3     ['William Arntz', 'Betsy Chasse', 'Mark Vicente']   \n",
       "4                                       ['Eric Louzil']   \n",
       "6                  ['Dwight Hemion', 'Peter Israelson']   \n",
       "...                                                 ...   \n",
       "7261                                  ['Damian Nieman']   \n",
       "7262                                    ['Dan Aykroyd']   \n",
       "7263                                  ['Simon Langton']   \n",
       "7265                                            Unknown   \n",
       "7266                                    ['Harry Winer']   \n",
       "\n",
       "                                                 writer  runtime  \n",
       "0      ['Mike Carrol', 'Mike Carroll', 'Georgann Kane']     50.0  \n",
       "1                                               Unknown     83.0  \n",
       "3     ['William Arntz', 'Betsy Chasse', 'Matthew Hof...     60.0  \n",
       "4        ['Lloyd Kaufman', 'Carl Morano', 'Matt Unger']     96.0  \n",
       "6            ['Kenny Solms', 'Ann Elder', 'Toem Perew']     55.0  \n",
       "...                                                 ...      ...  \n",
       "7261                                  ['Damian Nieman']    106.0  \n",
       "7262                   ['Peter Aykroyd', 'Dan Aykroyd']     92.0  \n",
       "7263                       ['Julian Bond', 'John Hale']    123.0  \n",
       "7265  ['Lewis Chesler', 'Lewis Chesler', 'Lewis Ches...    112.0  \n",
       "7266  ['Clifford Green', 'Casey T. Mitchell', 'Patri...    107.0  \n",
       "\n",
       "[6423 rows x 12 columns]>"
      ]
     },
     "execution_count": 853,
     "metadata": {},
     "output_type": "execute_result"
    }
   ],
   "source": [
    "rating_drop = df.loc[df.rating.isna()].index\n",
    "df.drop(rating_drop, axis=0, inplace=True)\n",
    "df.info"
   ]
  },
  {
   "cell_type": "code",
   "execution_count": 854,
   "metadata": {},
   "outputs": [
    {
     "data": {
      "text/plain": [
       "title         0\n",
       "year          0\n",
       "kind          0\n",
       "genre         0\n",
       "rating        0\n",
       "vote          0\n",
       "country     133\n",
       "language    223\n",
       "cast          0\n",
       "director      0\n",
       "writer        0\n",
       "runtime       0\n",
       "dtype: int64"
      ]
     },
     "execution_count": 854,
     "metadata": {},
     "output_type": "execute_result"
    }
   ],
   "source": [
    "df.isna().sum()"
   ]
  },
  {
   "cell_type": "code",
   "execution_count": 855,
   "metadata": {},
   "outputs": [
    {
     "data": {
      "text/plain": [
       "0.0"
      ]
     },
     "execution_count": 855,
     "metadata": {},
     "output_type": "execute_result"
    }
   ],
   "source": [
    "df[df.vote.isna()]['runtime'].sort_values(ascending=False).sum()"
   ]
  },
  {
   "cell_type": "code",
   "execution_count": 856,
   "metadata": {},
   "outputs": [
    {
     "data": {
      "text/plain": [
       "Int64Index([ 191,  208,  233,  414,  520,  554,  667,  730,  813,  819,  896,\n",
       "             920,  928,  935,  947, 1044, 1110, 1226, 1401, 1529, 1649, 2141,\n",
       "            2157, 2219, 2255, 2508, 2719, 2725, 2865, 2942, 3178, 3277, 3348,\n",
       "            3393, 3508, 3513, 3535, 3826, 3888, 3948, 4148, 4195, 4245, 4291,\n",
       "            4442, 4458, 4482, 4575, 4626, 4628, 4743, 4790, 4848, 4964, 5131,\n",
       "            5146, 5167, 5257, 5278, 5283, 5524, 5863, 6908, 6945, 7054],\n",
       "           dtype='int64')"
      ]
     },
     "execution_count": 856,
     "metadata": {},
     "output_type": "execute_result"
    }
   ],
   "source": [
    "missing_language = df.loc[(df.language.isna()==True) & (df.country == \"['United States']\")].index\n",
    "missing_language"
   ]
  },
  {
   "cell_type": "code",
   "execution_count": 857,
   "metadata": {},
   "outputs": [
    {
     "data": {
      "text/plain": [
       "title         0\n",
       "year          0\n",
       "kind          0\n",
       "genre         0\n",
       "rating        0\n",
       "vote          0\n",
       "country     133\n",
       "language    158\n",
       "cast          0\n",
       "director      0\n",
       "writer        0\n",
       "runtime       0\n",
       "dtype: int64"
      ]
     },
     "execution_count": 857,
     "metadata": {},
     "output_type": "execute_result"
    }
   ],
   "source": [
    "df.language = np.where( (df.language.isna()) & (df.country == \"['United States']\"), 'English', df.language)\n",
    "df.isna().sum()\n"
   ]
  },
  {
   "cell_type": "code",
   "execution_count": 858,
   "metadata": {},
   "outputs": [
    {
     "data": {
      "text/plain": [
       "title         0\n",
       "year          0\n",
       "kind          0\n",
       "genre         0\n",
       "rating        0\n",
       "vote          0\n",
       "country     133\n",
       "language    147\n",
       "cast          0\n",
       "director      0\n",
       "writer        0\n",
       "runtime       0\n",
       "dtype: int64"
      ]
     },
     "execution_count": 858,
     "metadata": {},
     "output_type": "execute_result"
    }
   ],
   "source": [
    "df.language = np.where( (df.language.isna()) & (df.country == \"['Japan']\"), 'Japanese', df.language)\n",
    "df.isna().sum()\n"
   ]
  },
  {
   "cell_type": "code",
   "execution_count": 859,
   "metadata": {},
   "outputs": [
    {
     "data": {
      "text/plain": [
       "title         0\n",
       "year          0\n",
       "kind          0\n",
       "genre         0\n",
       "rating        0\n",
       "vote          0\n",
       "country     133\n",
       "language    143\n",
       "cast          0\n",
       "director      0\n",
       "writer        0\n",
       "runtime       0\n",
       "dtype: int64"
      ]
     },
     "execution_count": 859,
     "metadata": {},
     "output_type": "execute_result"
    }
   ],
   "source": [
    "df.language = np.where( (df.language.isna()) & (df.country == \"['United Kingdom']\"), 'English', df.language)\n",
    "df.isna().sum()"
   ]
  },
  {
   "cell_type": "code",
   "execution_count": 860,
   "metadata": {},
   "outputs": [
    {
     "data": {
      "text/plain": [
       "title         0\n",
       "year          0\n",
       "kind          0\n",
       "genre         0\n",
       "rating        0\n",
       "vote          0\n",
       "country     133\n",
       "language    143\n",
       "cast          0\n",
       "director      0\n",
       "writer        0\n",
       "runtime       0\n",
       "dtype: int64"
      ]
     },
     "execution_count": 860,
     "metadata": {},
     "output_type": "execute_result"
    }
   ],
   "source": [
    "df.country = np.where( (df.country.isna()) & (df.language == \"['Japanese']\"), 'Japan', df.country)\n",
    "df.isna().sum()"
   ]
  },
  {
   "cell_type": "code",
   "execution_count": 861,
   "metadata": {},
   "outputs": [
    {
     "data": {
      "text/plain": [
       "['English']               13\n",
       "['English', 'Spanish']     1\n",
       "Name: language, dtype: int64"
      ]
     },
     "execution_count": 861,
     "metadata": {},
     "output_type": "execute_result"
    }
   ],
   "source": [
    "df[(df.country.isna() == True) & (df.language.isna() == False)]['language'].value_counts()"
   ]
  },
  {
   "cell_type": "code",
   "execution_count": 862,
   "metadata": {},
   "outputs": [
    {
     "data": {
      "text/plain": [
       "['Canada']                                       5\n",
       "['Canada', 'United States']                      3\n",
       "['Sweden']                                       2\n",
       "['Canada', 'United Kingdom']                     2\n",
       "['Norway']                                       1\n",
       "['Canada', 'France', 'United Kingdom']           1\n",
       "['France']                                       1\n",
       "['Hong Kong']                                    1\n",
       "['Italy']                                        1\n",
       "['United States', 'Canada']                      1\n",
       "['United States', 'Japan', 'Canada']             1\n",
       "['United States', 'United Kingdom']              1\n",
       "['Mexico']                                       1\n",
       "['Canada', 'France', 'Guadeloupe']               1\n",
       "['France', 'Madagascar', 'Vietnam', 'Canada']    1\n",
       "['Ireland', 'United States']                     1\n",
       "Name: country, dtype: int64"
      ]
     },
     "execution_count": 862,
     "metadata": {},
     "output_type": "execute_result"
    }
   ],
   "source": [
    "df[(df.language.isna() == True) & (df.country.isna() == False)]['country'].value_counts()"
   ]
  },
  {
   "cell_type": "code",
   "execution_count": 863,
   "metadata": {},
   "outputs": [
    {
     "data": {
      "text/plain": [
       "title         0\n",
       "year          0\n",
       "kind          0\n",
       "genre         0\n",
       "rating        0\n",
       "vote          0\n",
       "country     133\n",
       "language    141\n",
       "cast          0\n",
       "director      0\n",
       "writer        0\n",
       "runtime       0\n",
       "dtype: int64"
      ]
     },
     "execution_count": 863,
     "metadata": {},
     "output_type": "execute_result"
    }
   ],
   "source": [
    "df.language = np.where( (df.language.isna()) & (df.country == \"['Sweden']\"), 'Swedish', df.language)\n",
    "df.isna().sum()"
   ]
  },
  {
   "cell_type": "code",
   "execution_count": 864,
   "metadata": {},
   "outputs": [
    {
     "data": {
      "text/plain": [
       "title         0\n",
       "year          0\n",
       "kind          0\n",
       "genre         0\n",
       "rating        0\n",
       "vote          0\n",
       "country     133\n",
       "language    140\n",
       "cast          0\n",
       "director      0\n",
       "writer        0\n",
       "runtime       0\n",
       "dtype: int64"
      ]
     },
     "execution_count": 864,
     "metadata": {},
     "output_type": "execute_result"
    }
   ],
   "source": [
    "df.language = np.where( (df.language.isna()) & (df.country == \"['Norway']\"), 'Norwegian', df.language)\n",
    "df.isna().sum()"
   ]
  },
  {
   "cell_type": "code",
   "execution_count": 865,
   "metadata": {},
   "outputs": [
    {
     "data": {
      "text/plain": [
       "title         0\n",
       "year          0\n",
       "kind          0\n",
       "genre         0\n",
       "rating        0\n",
       "vote          0\n",
       "country     133\n",
       "language    140\n",
       "cast          0\n",
       "director      0\n",
       "writer        0\n",
       "runtime       0\n",
       "dtype: int64"
      ]
     },
     "execution_count": 865,
     "metadata": {},
     "output_type": "execute_result"
    }
   ],
   "source": [
    "df.isna().sum()"
   ]
  },
  {
   "cell_type": "code",
   "execution_count": 866,
   "metadata": {},
   "outputs": [
    {
     "name": "stdout",
     "output_type": "stream",
     "text": [
      "<class 'pandas.core.frame.DataFrame'>\n",
      "Int64Index: 6423 entries, 0 to 7266\n",
      "Data columns (total 12 columns):\n",
      " #   Column    Non-Null Count  Dtype  \n",
      "---  ------    --------------  -----  \n",
      " 0   title     6423 non-null   object \n",
      " 1   year      6423 non-null   float64\n",
      " 2   kind      6423 non-null   object \n",
      " 3   genre     6423 non-null   object \n",
      " 4   rating    6423 non-null   float64\n",
      " 5   vote      6423 non-null   float64\n",
      " 6   country   6290 non-null   object \n",
      " 7   language  6283 non-null   object \n",
      " 8   cast      6423 non-null   object \n",
      " 9   director  6423 non-null   object \n",
      " 10  writer    6423 non-null   object \n",
      " 11  runtime   6423 non-null   float64\n",
      "dtypes: float64(4), object(8)\n",
      "memory usage: 652.3+ KB\n"
     ]
    }
   ],
   "source": [
    "df.info()"
   ]
  },
  {
   "cell_type": "code",
   "execution_count": 867,
   "metadata": {},
   "outputs": [
    {
     "data": {
      "text/plain": [
       "title         0\n",
       "year          0\n",
       "kind          0\n",
       "genre         0\n",
       "rating        0\n",
       "vote          0\n",
       "country     133\n",
       "language      0\n",
       "cast          0\n",
       "director      0\n",
       "writer        0\n",
       "runtime       0\n",
       "dtype: int64"
      ]
     },
     "execution_count": 867,
     "metadata": {},
     "output_type": "execute_result"
    }
   ],
   "source": [
    "df.language = np.where((df.language.isna()), 'Other', df.language)\n",
    "df.isna().sum()"
   ]
  },
  {
   "cell_type": "code",
   "execution_count": 868,
   "metadata": {},
   "outputs": [
    {
     "data": {
      "text/plain": [
       "title       0\n",
       "year        0\n",
       "kind        0\n",
       "genre       0\n",
       "rating      0\n",
       "vote        0\n",
       "country     0\n",
       "language    0\n",
       "cast        0\n",
       "director    0\n",
       "writer      0\n",
       "runtime     0\n",
       "dtype: int64"
      ]
     },
     "execution_count": 868,
     "metadata": {},
     "output_type": "execute_result"
    }
   ],
   "source": [
    "df.country = np.where((df.country.isna()), 'Other', df.country)\n",
    "df.isna().sum()"
   ]
  },
  {
   "cell_type": "code",
   "execution_count": 869,
   "metadata": {},
   "outputs": [
    {
     "name": "stdout",
     "output_type": "stream",
     "text": [
      "<class 'pandas.core.frame.DataFrame'>\n",
      "Int64Index: 6423 entries, 0 to 7266\n",
      "Data columns (total 12 columns):\n",
      " #   Column    Non-Null Count  Dtype  \n",
      "---  ------    --------------  -----  \n",
      " 0   title     6423 non-null   object \n",
      " 1   year      6423 non-null   float64\n",
      " 2   kind      6423 non-null   object \n",
      " 3   genre     6423 non-null   object \n",
      " 4   rating    6423 non-null   float64\n",
      " 5   vote      6423 non-null   float64\n",
      " 6   country   6423 non-null   object \n",
      " 7   language  6423 non-null   object \n",
      " 8   cast      6423 non-null   object \n",
      " 9   director  6423 non-null   object \n",
      " 10  writer    6423 non-null   object \n",
      " 11  runtime   6423 non-null   float64\n",
      "dtypes: float64(4), object(8)\n",
      "memory usage: 652.3+ KB\n"
     ]
    }
   ],
   "source": [
    "df.info()"
   ]
  },
  {
   "cell_type": "code",
   "execution_count": 870,
   "metadata": {},
   "outputs": [],
   "source": [
    "df.drop('cast', axis=1, inplace=True)"
   ]
  },
  {
   "cell_type": "code",
   "execution_count": 871,
   "metadata": {},
   "outputs": [
    {
     "data": {
      "text/html": [
       "<div><div id=a08e3757-1f3c-47ce-9f9f-e79cc02ffc4d style=\"display:none; background-color:#9D6CFF; color:white; width:200px; height:30px; padding-left:5px; border-radius:4px; flex-direction:row; justify-content:space-around; align-items:center;\" onmouseover=\"this.style.backgroundColor='#BA9BF8'\" onmouseout=\"this.style.backgroundColor='#9D6CFF'\" onclick=\"window.commands?.execute('create-mitosheet-from-dataframe-output');\">See Full Dataframe in Mito</div> <script> if (window.commands.hasCommand('create-mitosheet-from-dataframe-output')) document.getElementById('a08e3757-1f3c-47ce-9f9f-e79cc02ffc4d').style.display = 'flex' </script> <table border=\"1\" class=\"dataframe\">\n",
       "  <thead>\n",
       "    <tr style=\"text-align: right;\">\n",
       "      <th></th>\n",
       "      <th>title</th>\n",
       "      <th>year</th>\n",
       "      <th>kind</th>\n",
       "      <th>genre</th>\n",
       "      <th>rating</th>\n",
       "      <th>vote</th>\n",
       "      <th>country</th>\n",
       "      <th>language</th>\n",
       "      <th>director</th>\n",
       "      <th>writer</th>\n",
       "      <th>runtime</th>\n",
       "    </tr>\n",
       "  </thead>\n",
       "  <tbody>\n",
       "    <tr>\n",
       "      <th>0</th>\n",
       "      <td>Dinosaur Planet</td>\n",
       "      <td>2003.0</td>\n",
       "      <td>tv mini series</td>\n",
       "      <td>['Documentary', 'Animation', 'Family']</td>\n",
       "      <td>7.7</td>\n",
       "      <td>474.0</td>\n",
       "      <td>['United States']</td>\n",
       "      <td>['English']</td>\n",
       "      <td>Unknown</td>\n",
       "      <td>['Mike Carrol', 'Mike Carroll', 'Georgann Kane']</td>\n",
       "      <td>50.0</td>\n",
       "    </tr>\n",
       "    <tr>\n",
       "      <th>1</th>\n",
       "      <td>Get Up and Dance!</td>\n",
       "      <td>1994.0</td>\n",
       "      <td>video movie</td>\n",
       "      <td>['Family']</td>\n",
       "      <td>8.1</td>\n",
       "      <td>18.0</td>\n",
       "      <td>['United States']</td>\n",
       "      <td>['English']</td>\n",
       "      <td>['Steve Purcell']</td>\n",
       "      <td>Unknown</td>\n",
       "      <td>83.0</td>\n",
       "    </tr>\n",
       "    <tr>\n",
       "      <th>3</th>\n",
       "      <td>What the #$*! Do We (K)now!?</td>\n",
       "      <td>2004.0</td>\n",
       "      <td>movie</td>\n",
       "      <td>['Documentary', 'Comedy', 'Drama', 'Fantasy', 'Mystery', 'Sci-Fi']</td>\n",
       "      <td>5.3</td>\n",
       "      <td>13432.0</td>\n",
       "      <td>['United States']</td>\n",
       "      <td>['English', 'German', 'Spanish']</td>\n",
       "      <td>['William Arntz', 'Betsy Chasse', 'Mark Vicente']</td>\n",
       "      <td>['William Arntz', 'Betsy Chasse', 'Matthew Hoffman']</td>\n",
       "      <td>60.0</td>\n",
       "    </tr>\n",
       "    <tr>\n",
       "      <th>4</th>\n",
       "      <td>Class of Nuke 'Em High Part II: Subhumanoid Meltdown</td>\n",
       "      <td>1991.0</td>\n",
       "      <td>movie</td>\n",
       "      <td>['Comedy', 'Horror', 'Sci-Fi']</td>\n",
       "      <td>4.5</td>\n",
       "      <td>2177.0</td>\n",
       "      <td>['United States']</td>\n",
       "      <td>['English']</td>\n",
       "      <td>['Eric Louzil']</td>\n",
       "      <td>['Lloyd Kaufman', 'Carl Morano', 'Matt Unger']</td>\n",
       "      <td>96.0</td>\n",
       "    </tr>\n",
       "    <tr>\n",
       "      <th>6</th>\n",
       "      <td>Neil Diamond: Greatest Hits Live</td>\n",
       "      <td>1988.0</td>\n",
       "      <td>video movie</td>\n",
       "      <td>['Documentary', 'Music']</td>\n",
       "      <td>8.0</td>\n",
       "      <td>81.0</td>\n",
       "      <td>['United States']</td>\n",
       "      <td>['English']</td>\n",
       "      <td>['Dwight Hemion', 'Peter Israelson']</td>\n",
       "      <td>['Kenny Solms', 'Ann Elder', 'Toem Perew']</td>\n",
       "      <td>55.0</td>\n",
       "    </tr>\n",
       "  </tbody>\n",
       "</table></div>"
      ],
      "text/plain": [
       "                                               title    year            kind  \\\n",
       "0                                    Dinosaur Planet  2003.0  tv mini series   \n",
       "1                                  Get Up and Dance!  1994.0     video movie   \n",
       "3                       What the #$*! Do We (K)now!?  2004.0           movie   \n",
       "4  Class of Nuke 'Em High Part II: Subhumanoid Me...  1991.0           movie   \n",
       "6                   Neil Diamond: Greatest Hits Live  1988.0     video movie   \n",
       "\n",
       "                                               genre  rating     vote  \\\n",
       "0             ['Documentary', 'Animation', 'Family']     7.7    474.0   \n",
       "1                                         ['Family']     8.1     18.0   \n",
       "3  ['Documentary', 'Comedy', 'Drama', 'Fantasy', ...     5.3  13432.0   \n",
       "4                     ['Comedy', 'Horror', 'Sci-Fi']     4.5   2177.0   \n",
       "6                           ['Documentary', 'Music']     8.0     81.0   \n",
       "\n",
       "             country                          language  \\\n",
       "0  ['United States']                       ['English']   \n",
       "1  ['United States']                       ['English']   \n",
       "3  ['United States']  ['English', 'German', 'Spanish']   \n",
       "4  ['United States']                       ['English']   \n",
       "6  ['United States']                       ['English']   \n",
       "\n",
       "                                            director  \\\n",
       "0                                            Unknown   \n",
       "1                                  ['Steve Purcell']   \n",
       "3  ['William Arntz', 'Betsy Chasse', 'Mark Vicente']   \n",
       "4                                    ['Eric Louzil']   \n",
       "6               ['Dwight Hemion', 'Peter Israelson']   \n",
       "\n",
       "                                              writer  runtime  \n",
       "0   ['Mike Carrol', 'Mike Carroll', 'Georgann Kane']     50.0  \n",
       "1                                            Unknown     83.0  \n",
       "3  ['William Arntz', 'Betsy Chasse', 'Matthew Hof...     60.0  \n",
       "4     ['Lloyd Kaufman', 'Carl Morano', 'Matt Unger']     96.0  \n",
       "6         ['Kenny Solms', 'Ann Elder', 'Toem Perew']     55.0  "
      ]
     },
     "execution_count": 871,
     "metadata": {},
     "output_type": "execute_result"
    }
   ],
   "source": [
    "df.head()"
   ]
  },
  {
   "cell_type": "code",
   "execution_count": 872,
   "metadata": {},
   "outputs": [],
   "source": [
    "df.drop('writer', axis=1, inplace=True)"
   ]
  },
  {
   "cell_type": "code",
   "execution_count": 873,
   "metadata": {},
   "outputs": [
    {
     "name": "stdout",
     "output_type": "stream",
     "text": [
      "<class 'pandas.core.frame.DataFrame'>\n",
      "Int64Index: 6423 entries, 0 to 7266\n",
      "Data columns (total 10 columns):\n",
      " #   Column    Non-Null Count  Dtype  \n",
      "---  ------    --------------  -----  \n",
      " 0   title     6423 non-null   object \n",
      " 1   year      6423 non-null   float64\n",
      " 2   kind      6423 non-null   object \n",
      " 3   genre     6423 non-null   object \n",
      " 4   rating    6423 non-null   float64\n",
      " 5   vote      6423 non-null   float64\n",
      " 6   country   6423 non-null   object \n",
      " 7   language  6423 non-null   object \n",
      " 8   director  6423 non-null   object \n",
      " 9   runtime   6423 non-null   float64\n",
      "dtypes: float64(4), object(6)\n",
      "memory usage: 552.0+ KB\n"
     ]
    }
   ],
   "source": [
    "df.info()"
   ]
  },
  {
   "cell_type": "code",
   "execution_count": 874,
   "metadata": {},
   "outputs": [
    {
     "data": {
      "text/plain": [
       "['English']                                                                     3795\n",
       "['Japanese']                                                                     342\n",
       "['Hindi']                                                                        164\n",
       "Other                                                                            140\n",
       "['French']                                                                       136\n",
       "                                                                                ... \n",
       "['English', 'Hungarian']                                                           1\n",
       "['Italian', 'English', 'Latin', 'Greek, Ancient (to 1453)']                        1\n",
       "['English', 'German', 'French', 'Polish']                                          1\n",
       "['Portuguese', 'Spanish']                                                          1\n",
       "['Cantonese', 'English', 'Japanese', 'Hindi', 'Mandarin', 'Punjabi', 'Urdu']       1\n",
       "Name: language, Length: 583, dtype: int64"
      ]
     },
     "execution_count": 874,
     "metadata": {},
     "output_type": "execute_result"
    }
   ],
   "source": [
    "df.language.value_counts()"
   ]
  },
  {
   "cell_type": "code",
   "execution_count": 875,
   "metadata": {},
   "outputs": [
    {
     "data": {
      "image/png": "[encoded data removed]",
      "text/plain": [
       "<Figure size 864x504 with 2 Axes>"
      ]
     },
     "metadata": {
      "needs_background": "light"
     },
     "output_type": "display_data"
    }
   ],
   "source": [
    "fig, ax = plt.subplots(figsize= (12,7))\n",
    "\n",
    "corr = df.corr().round(2)\n",
    "\n",
    "# Generate a mask for the upper triangle\n",
    "mask = np.triu(np.ones_like(corr, dtype=bool))\n",
    "\n",
    "sns.heatmap(corr, annot=True, fmt=\"\", cmap='RdYlGn', mask=mask, linewidths=0.30, ax=ax)\n",
    "plt.show()"
   ]
  },
  {
   "cell_type": "code",
   "execution_count": 876,
   "metadata": {},
   "outputs": [
    {
     "data": {
      "image/png": "[encoded data removed]",
      "text/plain": [
       "<Figure size 864x648 with 1 Axes>"
      ]
     },
     "metadata": {
      "needs_background": "light"
     },
     "output_type": "display_data"
    }
   ],
   "source": [
    "runtime = df.runtime.value_counts().nlargest(n=100)\n",
    "fig, ax = plt.subplots(figsize=(12, 9))\n",
    "runtime.plot.bar()\n",
    "plt.show()"
   ]
  },
  {
   "cell_type": "code",
   "execution_count": 877,
   "metadata": {},
   "outputs": [
    {
     "data": {
      "image/png": "[encoded data removed]",
      "text/plain": [
       "<Figure size 864x648 with 1 Axes>"
      ]
     },
     "metadata": {
      "needs_background": "light"
     },
     "output_type": "display_data"
    }
   ],
   "source": [
    "vote = df.vote.value_counts().nlargest(n=1000)\n",
    "fig, ax = plt.subplots(figsize=(12, 9))\n",
    "vote.plot.bar()\n",
    "plt.show()"
   ]
  },
  {
   "cell_type": "code",
   "execution_count": 878,
   "metadata": {},
   "outputs": [
    {
     "data": {
      "image/png": "[encoded data removed]",
      "text/plain": [
       "<Figure size 864x648 with 1 Axes>"
      ]
     },
     "metadata": {
      "needs_background": "light"
     },
     "output_type": "display_data"
    }
   ],
   "source": [
    "rating = df.rating.value_counts().nlargest(n=1000)\n",
    "fig, ax = plt.subplots(figsize=(12, 9))\n",
    "rating.plot.bar()\n",
    "plt.show()"
   ]
  },
  {
   "cell_type": "code",
   "execution_count": 879,
   "metadata": {},
   "outputs": [
    {
     "name": "stderr",
     "output_type": "stream",
     "text": [
      "C:\\Users\\olivi\\AppData\\Local\\Temp\\ipykernel_5812\\4069824184.py:3: FutureWarning: The default value of regex will change from True to False in a future version. In addition, single character regular expressions will *not* be treated as literal strings when regex=True.\n",
      "  df.country = df.country.str.replace(\"[\", \"\").str.replace(\"]\", \"\")\n",
      "C:\\Users\\olivi\\AppData\\Local\\Temp\\ipykernel_5812\\4069824184.py:10: FutureWarning: The default value of regex will change from True to False in a future version. In addition, single character regular expressions will *not* be treated as literal strings when regex=True.\n",
      "  df.genre=df.genre.str.replace(\"[\", \"\").str.replace(\"]\", \"\")\n",
      "C:\\Users\\olivi\\AppData\\Local\\Temp\\ipykernel_5812\\4069824184.py:16: FutureWarning: The default value of regex will change from True to False in a future version. In addition, single character regular expressions will *not* be treated as literal strings when regex=True.\n",
      "  df.language=df.language.str.replace(\"[\", \"\").str.replace(\"]\", \"\")\n",
      "C:\\Users\\olivi\\AppData\\Local\\Temp\\ipykernel_5812\\4069824184.py:22: FutureWarning: The default value of regex will change from True to False in a future version. In addition, single character regular expressions will *not* be treated as literal strings when regex=True.\n",
      "  df.director=df.director.str.replace(\"[\", \"\").str.replace(\"]\", \"\")\n"
     ]
    },
    {
     "data": {
      "text/plain": [
       "0               Unknown\n",
       "1       'Steve Purcell'\n",
       "3       'William Arntz'\n",
       "4         'Eric Louzil'\n",
       "6       'Dwight Hemion'\n",
       "             ...       \n",
       "7261    'Damian Nieman'\n",
       "7262      'Dan Aykroyd'\n",
       "7263    'Simon Langton'\n",
       "7265            Unknown\n",
       "7266      'Harry Winer'\n",
       "Name: director, Length: 6423, dtype: object"
      ]
     },
     "execution_count": 879,
     "metadata": {},
     "output_type": "execute_result"
    }
   ],
   "source": [
    "#Split genres, country, language and keep first of each\n",
    "\n",
    "df.country = df.country.str.replace(\"[\", \"\").str.replace(\"]\", \"\")\n",
    "df.country\n",
    "netflix_country= df.country.str.split(\",\").apply(pd.Series)\n",
    "df.country=netflix_country[0]\n",
    "df.country\n",
    "\n",
    "\n",
    "df.genre=df.genre.str.replace(\"[\", \"\").str.replace(\"]\", \"\")\n",
    "df.genre\n",
    "netflix_genre= df.genre.str.split(\",\").apply(pd.Series)\n",
    "df.genre=netflix_genre[0]\n",
    "df.genre \n",
    "\n",
    "df.language=df.language.str.replace(\"[\", \"\").str.replace(\"]\", \"\")\n",
    "df.language\n",
    "netflix_language= df.language.str.split(\",\").apply(pd.Series)\n",
    "df.language=netflix_language[0]\n",
    "df.language\n",
    "\n",
    "df.director=df.director.str.replace(\"[\", \"\").str.replace(\"]\", \"\")\n",
    "df.director\n",
    "netflix_director= df.director.str.split(\",\").apply(pd.Series)\n",
    "df.director = netflix_director[0]\n",
    "df.director\n",
    "\n"
   ]
  },
  {
   "cell_type": "code",
   "execution_count": 880,
   "metadata": {},
   "outputs": [
    {
     "data": {
      "text/html": [
       "<div><div id=1c6e7063-e43b-4d01-a758-ffedae2c0990 style=\"display:none; background-color:#9D6CFF; color:white; width:200px; height:30px; padding-left:5px; border-radius:4px; flex-direction:row; justify-content:space-around; align-items:center;\" onmouseover=\"this.style.backgroundColor='#BA9BF8'\" onmouseout=\"this.style.backgroundColor='#9D6CFF'\" onclick=\"window.commands?.execute('create-mitosheet-from-dataframe-output');\">See Full Dataframe in Mito</div> <script> if (window.commands.hasCommand('create-mitosheet-from-dataframe-output')) document.getElementById('1c6e7063-e43b-4d01-a758-ffedae2c0990').style.display = 'flex' </script> <table border=\"1\" class=\"dataframe\">\n",
       "  <thead>\n",
       "    <tr style=\"text-align: right;\">\n",
       "      <th></th>\n",
       "      <th>title</th>\n",
       "      <th>year</th>\n",
       "      <th>kind</th>\n",
       "      <th>genre</th>\n",
       "      <th>rating</th>\n",
       "      <th>vote</th>\n",
       "      <th>country</th>\n",
       "      <th>language</th>\n",
       "      <th>director</th>\n",
       "      <th>runtime</th>\n",
       "    </tr>\n",
       "  </thead>\n",
       "  <tbody>\n",
       "    <tr>\n",
       "      <th>0</th>\n",
       "      <td>Dinosaur Planet</td>\n",
       "      <td>2003.0</td>\n",
       "      <td>tv mini series</td>\n",
       "      <td>'Documentary'</td>\n",
       "      <td>7.7</td>\n",
       "      <td>474.0</td>\n",
       "      <td>'United States'</td>\n",
       "      <td>'English'</td>\n",
       "      <td>Unknown</td>\n",
       "      <td>50.0</td>\n",
       "    </tr>\n",
       "    <tr>\n",
       "      <th>1</th>\n",
       "      <td>Get Up and Dance!</td>\n",
       "      <td>1994.0</td>\n",
       "      <td>video movie</td>\n",
       "      <td>'Family'</td>\n",
       "      <td>8.1</td>\n",
       "      <td>18.0</td>\n",
       "      <td>'United States'</td>\n",
       "      <td>'English'</td>\n",
       "      <td>'Steve Purcell'</td>\n",
       "      <td>83.0</td>\n",
       "    </tr>\n",
       "    <tr>\n",
       "      <th>3</th>\n",
       "      <td>What the #$*! Do We (K)now!?</td>\n",
       "      <td>2004.0</td>\n",
       "      <td>movie</td>\n",
       "      <td>'Documentary'</td>\n",
       "      <td>5.3</td>\n",
       "      <td>13432.0</td>\n",
       "      <td>'United States'</td>\n",
       "      <td>'English'</td>\n",
       "      <td>'William Arntz'</td>\n",
       "      <td>60.0</td>\n",
       "    </tr>\n",
       "    <tr>\n",
       "      <th>4</th>\n",
       "      <td>Class of Nuke 'Em High Part II: Subhumanoid Meltdown</td>\n",
       "      <td>1991.0</td>\n",
       "      <td>movie</td>\n",
       "      <td>'Comedy'</td>\n",
       "      <td>4.5</td>\n",
       "      <td>2177.0</td>\n",
       "      <td>'United States'</td>\n",
       "      <td>'English'</td>\n",
       "      <td>'Eric Louzil'</td>\n",
       "      <td>96.0</td>\n",
       "    </tr>\n",
       "    <tr>\n",
       "      <th>6</th>\n",
       "      <td>Neil Diamond: Greatest Hits Live</td>\n",
       "      <td>1988.0</td>\n",
       "      <td>video movie</td>\n",
       "      <td>'Documentary'</td>\n",
       "      <td>8.0</td>\n",
       "      <td>81.0</td>\n",
       "      <td>'United States'</td>\n",
       "      <td>'English'</td>\n",
       "      <td>'Dwight Hemion'</td>\n",
       "      <td>55.0</td>\n",
       "    </tr>\n",
       "  </tbody>\n",
       "</table></div>"
      ],
      "text/plain": [
       "                                               title    year            kind  \\\n",
       "0                                    Dinosaur Planet  2003.0  tv mini series   \n",
       "1                                  Get Up and Dance!  1994.0     video movie   \n",
       "3                       What the #$*! Do We (K)now!?  2004.0           movie   \n",
       "4  Class of Nuke 'Em High Part II: Subhumanoid Me...  1991.0           movie   \n",
       "6                   Neil Diamond: Greatest Hits Live  1988.0     video movie   \n",
       "\n",
       "           genre  rating     vote          country   language  \\\n",
       "0  'Documentary'     7.7    474.0  'United States'  'English'   \n",
       "1       'Family'     8.1     18.0  'United States'  'English'   \n",
       "3  'Documentary'     5.3  13432.0  'United States'  'English'   \n",
       "4       'Comedy'     4.5   2177.0  'United States'  'English'   \n",
       "6  'Documentary'     8.0     81.0  'United States'  'English'   \n",
       "\n",
       "          director  runtime  \n",
       "0          Unknown     50.0  \n",
       "1  'Steve Purcell'     83.0  \n",
       "3  'William Arntz'     60.0  \n",
       "4    'Eric Louzil'     96.0  \n",
       "6  'Dwight Hemion'     55.0  "
      ]
     },
     "execution_count": 880,
     "metadata": {},
     "output_type": "execute_result"
    }
   ],
   "source": [
    "df.head()"
   ]
  },
  {
   "cell_type": "code",
   "execution_count": 881,
   "metadata": {},
   "outputs": [
    {
     "name": "stdout",
     "output_type": "stream",
     "text": [
      "<class 'pandas.core.frame.DataFrame'>\n",
      "Int64Index: 6423 entries, 0 to 7266\n",
      "Data columns (total 10 columns):\n",
      " #   Column    Non-Null Count  Dtype  \n",
      "---  ------    --------------  -----  \n",
      " 0   title     6423 non-null   object \n",
      " 1   year      6423 non-null   float64\n",
      " 2   kind      6423 non-null   object \n",
      " 3   genre     6423 non-null   object \n",
      " 4   rating    6423 non-null   float64\n",
      " 5   vote      6423 non-null   float64\n",
      " 6   country   6423 non-null   object \n",
      " 7   language  6423 non-null   object \n",
      " 8   director  6423 non-null   object \n",
      " 9   runtime   6423 non-null   float64\n",
      "dtypes: float64(4), object(6)\n",
      "memory usage: 552.0+ KB\n"
     ]
    }
   ],
   "source": [
    "df.info()"
   ]
  },
  {
   "cell_type": "code",
   "execution_count": 882,
   "metadata": {},
   "outputs": [
    {
     "data": {
      "text/plain": [
       "movie             3793\n",
       "video movie        960\n",
       "tv movie           616\n",
       "tv series          509\n",
       "episode            325\n",
       "tv mini series     204\n",
       "video game           8\n",
       "tv short             8\n",
       "Name: kind, dtype: int64"
      ]
     },
     "execution_count": 882,
     "metadata": {},
     "output_type": "execute_result"
    }
   ],
   "source": [
    "df.kind.value_counts()\n",
    "\n",
    "#ok for dummies"
   ]
  },
  {
   "cell_type": "code",
   "execution_count": 883,
   "metadata": {},
   "outputs": [
    {
     "data": {
      "text/plain": [
       "'Drama'          1190\n",
       "'Comedy'         1089\n",
       "'Documentary'    1008\n",
       "'Action'          878\n",
       "'Animation'       661\n",
       "'Crime'           369\n",
       "'Adventure'       259\n",
       "'Horror'          249\n",
       "'Biography'       190\n",
       "'Music'           171\n",
       "'Family'           61\n",
       "'Short'            60\n",
       "'Fantasy'          40\n",
       "'Thriller'         37\n",
       "'Mystery'          26\n",
       "'Sci-Fi'           25\n",
       "'Musical'          23\n",
       "'Romance'          21\n",
       "'Western'          19\n",
       "'Sport'            19\n",
       "'Reality-TV'       12\n",
       "'History'           7\n",
       "'Game-Show'         5\n",
       "'Film-Noir'         3\n",
       "'Talk-Show'         1\n",
       "Name: genre, dtype: int64"
      ]
     },
     "execution_count": 883,
     "metadata": {},
     "output_type": "execute_result"
    }
   ],
   "source": [
    "df.genre.value_counts()"
   ]
  },
  {
   "cell_type": "code",
   "execution_count": 884,
   "metadata": {},
   "outputs": [],
   "source": [
    "other_genres = df.genre.value_counts()[10:].index.tolist()"
   ]
  },
  {
   "cell_type": "code",
   "execution_count": 885,
   "metadata": {},
   "outputs": [
    {
     "name": "stderr",
     "output_type": "stream",
     "text": [
      "C:\\Users\\olivi\\AppData\\Local\\Temp\\ipykernel_5812\\2262671922.py:1: SettingWithCopyWarning: \n",
      "A value is trying to be set on a copy of a slice from a DataFrame\n",
      "\n",
      "See the caveats in the documentation: https://pandas.pydata.org/pandas-docs/stable/user_guide/indexing.html#returning-a-view-versus-a-copy\n",
      "  df.genre[df.genre.isin(other_genres)]=\"Other\"\n"
     ]
    },
    {
     "data": {
      "text/plain": [
       "array([\"'Documentary'\", 'Other', \"'Comedy'\", \"'Action'\", \"'Adventure'\",\n",
       "       \"'Drama'\", \"'Animation'\", \"'Horror'\", \"'Biography'\", \"'Music'\",\n",
       "       \"'Crime'\"], dtype=object)"
      ]
     },
     "execution_count": 885,
     "metadata": {},
     "output_type": "execute_result"
    }
   ],
   "source": [
    "df.genre[df.genre.isin(other_genres)]=\"Other\"\n",
    "df.genre.unique()"
   ]
  },
  {
   "cell_type": "code",
   "execution_count": 886,
   "metadata": {},
   "outputs": [
    {
     "data": {
      "text/plain": [
       "'Drama'          1190\n",
       "'Comedy'         1089\n",
       "'Documentary'    1008\n",
       "'Action'          878\n",
       "'Animation'       661\n",
       "'Crime'           369\n",
       "Other             359\n",
       "'Adventure'       259\n",
       "'Horror'          249\n",
       "'Biography'       190\n",
       "'Music'           171\n",
       "Name: genre, dtype: int64"
      ]
     },
     "execution_count": 886,
     "metadata": {},
     "output_type": "execute_result"
    }
   ],
   "source": [
    "df.genre.value_counts()\n",
    "\n",
    "#genre is now ok for dummies"
   ]
  },
  {
   "cell_type": "code",
   "execution_count": 887,
   "metadata": {},
   "outputs": [
    {
     "data": {
      "text/plain": [
       "'United States'     3073\n",
       "'United Kingdom'     835\n",
       "'Japan'              513\n",
       "'Canada'             312\n",
       "'France'             280\n",
       "                    ... \n",
       "'Portugal'             1\n",
       "'Aruba'                1\n",
       "'East Germany'         1\n",
       "'Cambodia'             1\n",
       "'Venezuela'            1\n",
       "Name: country, Length: 63, dtype: int64"
      ]
     },
     "execution_count": 887,
     "metadata": {},
     "output_type": "execute_result"
    }
   ],
   "source": [
    "df.country.value_counts()"
   ]
  },
  {
   "cell_type": "code",
   "execution_count": 888,
   "metadata": {},
   "outputs": [],
   "source": [
    "other_countries = df.country.value_counts()[10:].index.tolist()"
   ]
  },
  {
   "cell_type": "code",
   "execution_count": 889,
   "metadata": {},
   "outputs": [
    {
     "name": "stderr",
     "output_type": "stream",
     "text": [
      "C:\\Users\\olivi\\AppData\\Local\\Temp\\ipykernel_5812\\4140505687.py:1: SettingWithCopyWarning: \n",
      "A value is trying to be set on a copy of a slice from a DataFrame\n",
      "\n",
      "See the caveats in the documentation: https://pandas.pydata.org/pandas-docs/stable/user_guide/indexing.html#returning-a-view-versus-a-copy\n",
      "  df.country[df.country.isin(other_countries)]=\"Other\"\n"
     ]
    },
    {
     "data": {
      "text/plain": [
       "array([\"'United States'\", \"'United Kingdom'\", \"'India'\", \"'Japan'\",\n",
       "       \"'France'\", \"'Canada'\", 'Other', \"'Hong Kong'\", \"'Italy'\",\n",
       "       \"'Australia'\"], dtype=object)"
      ]
     },
     "execution_count": 889,
     "metadata": {},
     "output_type": "execute_result"
    }
   ],
   "source": [
    "df.country[df.country.isin(other_countries)]=\"Other\"\n",
    "df.country.unique()"
   ]
  },
  {
   "cell_type": "code",
   "execution_count": 890,
   "metadata": {},
   "outputs": [
    {
     "data": {
      "text/plain": [
       "'United States'     3073\n",
       "'United Kingdom'     835\n",
       "Other                768\n",
       "'Japan'              513\n",
       "'Canada'             312\n",
       "'France'             280\n",
       "'Hong Kong'          224\n",
       "'India'              209\n",
       "'Italy'              121\n",
       "'Australia'           88\n",
       "Name: country, dtype: int64"
      ]
     },
     "execution_count": 890,
     "metadata": {},
     "output_type": "execute_result"
    }
   ],
   "source": [
    "df.country.value_counts()"
   ]
  },
  {
   "cell_type": "code",
   "execution_count": 891,
   "metadata": {},
   "outputs": [
    {
     "data": {
      "text/html": [
       "<div><div id=cc0907da-67d4-480a-8918-5f43ecf9ddd2 style=\"display:none; background-color:#9D6CFF; color:white; width:200px; height:30px; padding-left:5px; border-radius:4px; flex-direction:row; justify-content:space-around; align-items:center;\" onmouseover=\"this.style.backgroundColor='#BA9BF8'\" onmouseout=\"this.style.backgroundColor='#9D6CFF'\" onclick=\"window.commands?.execute('create-mitosheet-from-dataframe-output');\">See Full Dataframe in Mito</div> <script> if (window.commands.hasCommand('create-mitosheet-from-dataframe-output')) document.getElementById('cc0907da-67d4-480a-8918-5f43ecf9ddd2').style.display = 'flex' </script> <table border=\"1\" class=\"dataframe\">\n",
       "  <thead>\n",
       "    <tr style=\"text-align: right;\">\n",
       "      <th></th>\n",
       "      <th>year</th>\n",
       "      <th>rating</th>\n",
       "      <th>vote</th>\n",
       "      <th>runtime</th>\n",
       "    </tr>\n",
       "  </thead>\n",
       "  <tbody>\n",
       "    <tr>\n",
       "      <th>0</th>\n",
       "      <td>2003.0</td>\n",
       "      <td>7.7</td>\n",
       "      <td>474.0</td>\n",
       "      <td>50.0</td>\n",
       "    </tr>\n",
       "    <tr>\n",
       "      <th>1</th>\n",
       "      <td>1994.0</td>\n",
       "      <td>8.1</td>\n",
       "      <td>18.0</td>\n",
       "      <td>83.0</td>\n",
       "    </tr>\n",
       "    <tr>\n",
       "      <th>3</th>\n",
       "      <td>2004.0</td>\n",
       "      <td>5.3</td>\n",
       "      <td>13432.0</td>\n",
       "      <td>60.0</td>\n",
       "    </tr>\n",
       "    <tr>\n",
       "      <th>4</th>\n",
       "      <td>1991.0</td>\n",
       "      <td>4.5</td>\n",
       "      <td>2177.0</td>\n",
       "      <td>96.0</td>\n",
       "    </tr>\n",
       "    <tr>\n",
       "      <th>6</th>\n",
       "      <td>1988.0</td>\n",
       "      <td>8.0</td>\n",
       "      <td>81.0</td>\n",
       "      <td>55.0</td>\n",
       "    </tr>\n",
       "    <tr>\n",
       "      <th>...</th>\n",
       "      <td>...</td>\n",
       "      <td>...</td>\n",
       "      <td>...</td>\n",
       "      <td>...</td>\n",
       "    </tr>\n",
       "    <tr>\n",
       "      <th>7261</th>\n",
       "      <td>2003.0</td>\n",
       "      <td>6.3</td>\n",
       "      <td>12485.0</td>\n",
       "      <td>106.0</td>\n",
       "    </tr>\n",
       "    <tr>\n",
       "      <th>7262</th>\n",
       "      <td>1991.0</td>\n",
       "      <td>5.1</td>\n",
       "      <td>23598.0</td>\n",
       "      <td>92.0</td>\n",
       "    </tr>\n",
       "    <tr>\n",
       "      <th>7263</th>\n",
       "      <td>1986.0</td>\n",
       "      <td>6.2</td>\n",
       "      <td>2069.0</td>\n",
       "      <td>123.0</td>\n",
       "    </tr>\n",
       "    <tr>\n",
       "      <th>7265</th>\n",
       "      <td>1983.0</td>\n",
       "      <td>6.8</td>\n",
       "      <td>1482.0</td>\n",
       "      <td>112.0</td>\n",
       "    </tr>\n",
       "    <tr>\n",
       "      <th>7266</th>\n",
       "      <td>1986.0</td>\n",
       "      <td>5.7</td>\n",
       "      <td>14679.0</td>\n",
       "      <td>107.0</td>\n",
       "    </tr>\n",
       "  </tbody>\n",
       "</table></div>"
      ],
      "text/plain": [
       "        year  rating     vote  runtime\n",
       "0     2003.0     7.7    474.0     50.0\n",
       "1     1994.0     8.1     18.0     83.0\n",
       "3     2004.0     5.3  13432.0     60.0\n",
       "4     1991.0     4.5   2177.0     96.0\n",
       "6     1988.0     8.0     81.0     55.0\n",
       "...      ...     ...      ...      ...\n",
       "7261  2003.0     6.3  12485.0    106.0\n",
       "7262  1991.0     5.1  23598.0     92.0\n",
       "7263  1986.0     6.2   2069.0    123.0\n",
       "7265  1983.0     6.8   1482.0    112.0\n",
       "7266  1986.0     5.7  14679.0    107.0\n",
       "\n",
       "[6423 rows x 4 columns]"
      ]
     },
     "execution_count": 891,
     "metadata": {},
     "output_type": "execute_result"
    }
   ],
   "source": [
    "df_num = df.select_dtypes(include=np.number)\n",
    "df_num"
   ]
  },
  {
   "cell_type": "code",
   "execution_count": 892,
   "metadata": {},
   "outputs": [
    {
     "data": {
      "text/html": [
       "<div><div id=b9dc29b4-80c4-405a-8c6a-191b9e4237a2 style=\"display:none; background-color:#9D6CFF; color:white; width:200px; height:30px; padding-left:5px; border-radius:4px; flex-direction:row; justify-content:space-around; align-items:center;\" onmouseover=\"this.style.backgroundColor='#BA9BF8'\" onmouseout=\"this.style.backgroundColor='#9D6CFF'\" onclick=\"window.commands?.execute('create-mitosheet-from-dataframe-output');\">See Full Dataframe in Mito</div> <script> if (window.commands.hasCommand('create-mitosheet-from-dataframe-output')) document.getElementById('b9dc29b4-80c4-405a-8c6a-191b9e4237a2').style.display = 'flex' </script> <table border=\"1\" class=\"dataframe\">\n",
       "  <thead>\n",
       "    <tr style=\"text-align: right;\">\n",
       "      <th></th>\n",
       "      <th>title</th>\n",
       "      <th>kind</th>\n",
       "      <th>genre</th>\n",
       "      <th>country</th>\n",
       "      <th>language</th>\n",
       "      <th>director</th>\n",
       "    </tr>\n",
       "  </thead>\n",
       "  <tbody>\n",
       "    <tr>\n",
       "      <th>0</th>\n",
       "      <td>Dinosaur Planet</td>\n",
       "      <td>tv mini series</td>\n",
       "      <td>'Documentary'</td>\n",
       "      <td>'United States'</td>\n",
       "      <td>'English'</td>\n",
       "      <td>Unknown</td>\n",
       "    </tr>\n",
       "    <tr>\n",
       "      <th>1</th>\n",
       "      <td>Get Up and Dance!</td>\n",
       "      <td>video movie</td>\n",
       "      <td>Other</td>\n",
       "      <td>'United States'</td>\n",
       "      <td>'English'</td>\n",
       "      <td>'Steve Purcell'</td>\n",
       "    </tr>\n",
       "    <tr>\n",
       "      <th>3</th>\n",
       "      <td>What the #$*! Do We (K)now!?</td>\n",
       "      <td>movie</td>\n",
       "      <td>'Documentary'</td>\n",
       "      <td>'United States'</td>\n",
       "      <td>'English'</td>\n",
       "      <td>'William Arntz'</td>\n",
       "    </tr>\n",
       "    <tr>\n",
       "      <th>4</th>\n",
       "      <td>Class of Nuke 'Em High Part II: Subhumanoid Meltdown</td>\n",
       "      <td>movie</td>\n",
       "      <td>'Comedy'</td>\n",
       "      <td>'United States'</td>\n",
       "      <td>'English'</td>\n",
       "      <td>'Eric Louzil'</td>\n",
       "    </tr>\n",
       "    <tr>\n",
       "      <th>6</th>\n",
       "      <td>Neil Diamond: Greatest Hits Live</td>\n",
       "      <td>video movie</td>\n",
       "      <td>'Documentary'</td>\n",
       "      <td>'United States'</td>\n",
       "      <td>'English'</td>\n",
       "      <td>'Dwight Hemion'</td>\n",
       "    </tr>\n",
       "    <tr>\n",
       "      <th>...</th>\n",
       "      <td>...</td>\n",
       "      <td>...</td>\n",
       "      <td>...</td>\n",
       "      <td>...</td>\n",
       "      <td>...</td>\n",
       "      <td>...</td>\n",
       "    </tr>\n",
       "    <tr>\n",
       "      <th>7261</th>\n",
       "      <td>Shade</td>\n",
       "      <td>movie</td>\n",
       "      <td>'Crime'</td>\n",
       "      <td>'United States'</td>\n",
       "      <td>'English'</td>\n",
       "      <td>'Damian Nieman'</td>\n",
       "    </tr>\n",
       "    <tr>\n",
       "      <th>7262</th>\n",
       "      <td>Nothing But Trouble</td>\n",
       "      <td>movie</td>\n",
       "      <td>'Comedy'</td>\n",
       "      <td>'United States'</td>\n",
       "      <td>'English'</td>\n",
       "      <td>'Dan Aykroyd'</td>\n",
       "    </tr>\n",
       "    <tr>\n",
       "      <th>7263</th>\n",
       "      <td>The Whistle Blower</td>\n",
       "      <td>movie</td>\n",
       "      <td>Other</td>\n",
       "      <td>'United Kingdom'</td>\n",
       "      <td>'English'</td>\n",
       "      <td>'Simon Langton'</td>\n",
       "    </tr>\n",
       "    <tr>\n",
       "      <th>7265</th>\n",
       "      <td>The Hitchhiker</td>\n",
       "      <td>tv series</td>\n",
       "      <td>'Drama'</td>\n",
       "      <td>'Canada'</td>\n",
       "      <td>'English'</td>\n",
       "      <td>Unknown</td>\n",
       "    </tr>\n",
       "    <tr>\n",
       "      <th>7266</th>\n",
       "      <td>SpaceCamp</td>\n",
       "      <td>movie</td>\n",
       "      <td>'Adventure'</td>\n",
       "      <td>'United States'</td>\n",
       "      <td>'English'</td>\n",
       "      <td>'Harry Winer'</td>\n",
       "    </tr>\n",
       "  </tbody>\n",
       "</table></div>"
      ],
      "text/plain": [
       "                                                  title            kind  \\\n",
       "0                                       Dinosaur Planet  tv mini series   \n",
       "1                                     Get Up and Dance!     video movie   \n",
       "3                          What the #$*! Do We (K)now!?           movie   \n",
       "4     Class of Nuke 'Em High Part II: Subhumanoid Me...           movie   \n",
       "6                      Neil Diamond: Greatest Hits Live     video movie   \n",
       "...                                                 ...             ...   \n",
       "7261                                              Shade           movie   \n",
       "7262                                Nothing But Trouble           movie   \n",
       "7263                                 The Whistle Blower           movie   \n",
       "7265                                     The Hitchhiker       tv series   \n",
       "7266                                          SpaceCamp           movie   \n",
       "\n",
       "              genre           country   language         director  \n",
       "0     'Documentary'   'United States'  'English'          Unknown  \n",
       "1             Other   'United States'  'English'  'Steve Purcell'  \n",
       "3     'Documentary'   'United States'  'English'  'William Arntz'  \n",
       "4          'Comedy'   'United States'  'English'    'Eric Louzil'  \n",
       "6     'Documentary'   'United States'  'English'  'Dwight Hemion'  \n",
       "...             ...               ...        ...              ...  \n",
       "7261        'Crime'   'United States'  'English'  'Damian Nieman'  \n",
       "7262       'Comedy'   'United States'  'English'    'Dan Aykroyd'  \n",
       "7263          Other  'United Kingdom'  'English'  'Simon Langton'  \n",
       "7265        'Drama'          'Canada'  'English'          Unknown  \n",
       "7266    'Adventure'   'United States'  'English'    'Harry Winer'  \n",
       "\n",
       "[6423 rows x 6 columns]"
      ]
     },
     "execution_count": 892,
     "metadata": {},
     "output_type": "execute_result"
    }
   ],
   "source": [
    "df_cat= df.drop(df_num, axis=1)\n",
    "df_cat"
   ]
  },
  {
   "cell_type": "code",
   "execution_count": 893,
   "metadata": {},
   "outputs": [
    {
     "name": "stderr",
     "output_type": "stream",
     "text": [
      "C:\\Users\\olivi\\AppData\\Local\\Temp\\ipykernel_5812\\3684344997.py:3: SettingWithCopyWarning: \n",
      "A value is trying to be set on a copy of a slice from a DataFrame\n",
      "\n",
      "See the caveats in the documentation: https://pandas.pydata.org/pandas-docs/stable/user_guide/indexing.html#returning-a-view-versus-a-copy\n",
      "  df.language[df.language.isin(other_languages)]=\"Other\"\n"
     ]
    },
    {
     "data": {
      "text/plain": [
       "array([\"'English'\", \"'Hindi'\", \"'Japanese'\", \"'French'\", 'Other',\n",
       "       \"'Cantonese'\", \"'Mandarin'\", \"'Spanish'\", \"'German'\", \"'Italian'\"],\n",
       "      dtype=object)"
      ]
     },
     "execution_count": 893,
     "metadata": {},
     "output_type": "execute_result"
    }
   ],
   "source": [
    "other_languages = df.language.value_counts()[10:].index.tolist()\n",
    "\n",
    "df.language[df.language.isin(other_languages)]=\"Other\"\n",
    "df.language.unique()"
   ]
  },
  {
   "cell_type": "code",
   "execution_count": 894,
   "metadata": {},
   "outputs": [
    {
     "data": {
      "text/plain": [
       "'English'      4493\n",
       "Other           520\n",
       "'Japanese'      438\n",
       "'French'        248\n",
       "'Hindi'         193\n",
       "'Cantonese'     183\n",
       "'Italian'       102\n",
       "'Spanish'        99\n",
       "'German'         76\n",
       "'Mandarin'       71\n",
       "Name: language, dtype: int64"
      ]
     },
     "execution_count": 894,
     "metadata": {},
     "output_type": "execute_result"
    }
   ],
   "source": [
    "df.language.value_counts()"
   ]
  },
  {
   "cell_type": "code",
   "execution_count": 895,
   "metadata": {},
   "outputs": [
    {
     "name": "stderr",
     "output_type": "stream",
     "text": [
      "C:\\Users\\olivi\\AppData\\Local\\Temp\\ipykernel_5812\\2820433243.py:3: SettingWithCopyWarning: \n",
      "A value is trying to be set on a copy of a slice from a DataFrame\n",
      "\n",
      "See the caveats in the documentation: https://pandas.pydata.org/pandas-docs/stable/user_guide/indexing.html#returning-a-view-versus-a-copy\n",
      "  df.director[df.director.isin(other_directors)]=\"Other\"\n"
     ]
    },
    {
     "data": {
      "text/plain": [
       "Other                     5369\n",
       "Unknown                    926\n",
       "'Kevin Dunn'                21\n",
       "'Beth McCarthy-Miller'      14\n",
       "'Akira Kurosawa'            14\n",
       "'Takashi Miike'             14\n",
       "'Werner Herzog'             14\n",
       "'Jing Wong'                 13\n",
       "'David Mallet'              13\n",
       "'Tom Clegg'                 13\n",
       "'Jim Wynorski'              12\n",
       "Name: director, dtype: int64"
      ]
     },
     "execution_count": 895,
     "metadata": {},
     "output_type": "execute_result"
    }
   ],
   "source": [
    "other_directors = df.director.value_counts()[10:].index.tolist()\n",
    "\n",
    "df.director[df.director.isin(other_directors)]=\"Other\"\n",
    "df.director.value_counts()"
   ]
  },
  {
   "cell_type": "code",
   "execution_count": 896,
   "metadata": {},
   "outputs": [],
   "source": [
    "#Get dummies\n",
    "\n",
    "df_dummy = pd.get_dummies(df, columns = ['kind', 'genre', 'country', 'language', 'director'], drop_first=True)\n"
   ]
  },
  {
   "cell_type": "code",
   "execution_count": 897,
   "metadata": {},
   "outputs": [
    {
     "data": {
      "text/html": [
       "<div><div id=523bceeb-08fb-41c1-a3cf-993676b07109 style=\"display:none; background-color:#9D6CFF; color:white; width:200px; height:30px; padding-left:5px; border-radius:4px; flex-direction:row; justify-content:space-around; align-items:center;\" onmouseover=\"this.style.backgroundColor='#BA9BF8'\" onmouseout=\"this.style.backgroundColor='#9D6CFF'\" onclick=\"window.commands?.execute('create-mitosheet-from-dataframe-output');\">See Full Dataframe in Mito</div> <script> if (window.commands.hasCommand('create-mitosheet-from-dataframe-output')) document.getElementById('523bceeb-08fb-41c1-a3cf-993676b07109').style.display = 'flex' </script> <table border=\"1\" class=\"dataframe\">\n",
       "  <thead>\n",
       "    <tr style=\"text-align: right;\">\n",
       "      <th></th>\n",
       "      <th>title</th>\n",
       "      <th>year</th>\n",
       "      <th>rating</th>\n",
       "      <th>vote</th>\n",
       "      <th>runtime</th>\n",
       "      <th>kind_movie</th>\n",
       "      <th>kind_tv mini series</th>\n",
       "      <th>kind_tv movie</th>\n",
       "      <th>kind_tv series</th>\n",
       "      <th>kind_tv short</th>\n",
       "      <th>...</th>\n",
       "      <th>director_'Beth McCarthy-Miller'</th>\n",
       "      <th>director_'David Mallet'</th>\n",
       "      <th>director_'Jim Wynorski'</th>\n",
       "      <th>director_'Jing Wong'</th>\n",
       "      <th>director_'Kevin Dunn'</th>\n",
       "      <th>director_'Takashi Miike'</th>\n",
       "      <th>director_'Tom Clegg'</th>\n",
       "      <th>director_'Werner Herzog'</th>\n",
       "      <th>director_Other</th>\n",
       "      <th>director_Unknown</th>\n",
       "    </tr>\n",
       "  </thead>\n",
       "  <tbody>\n",
       "    <tr>\n",
       "      <th>0</th>\n",
       "      <td>Dinosaur Planet</td>\n",
       "      <td>2003.0</td>\n",
       "      <td>7.7</td>\n",
       "      <td>474.0</td>\n",
       "      <td>50.0</td>\n",
       "      <td>0</td>\n",
       "      <td>1</td>\n",
       "      <td>0</td>\n",
       "      <td>0</td>\n",
       "      <td>0</td>\n",
       "      <td>...</td>\n",
       "      <td>0</td>\n",
       "      <td>0</td>\n",
       "      <td>0</td>\n",
       "      <td>0</td>\n",
       "      <td>0</td>\n",
       "      <td>0</td>\n",
       "      <td>0</td>\n",
       "      <td>0</td>\n",
       "      <td>0</td>\n",
       "      <td>1</td>\n",
       "    </tr>\n",
       "    <tr>\n",
       "      <th>1</th>\n",
       "      <td>Get Up and Dance!</td>\n",
       "      <td>1994.0</td>\n",
       "      <td>8.1</td>\n",
       "      <td>18.0</td>\n",
       "      <td>83.0</td>\n",
       "      <td>0</td>\n",
       "      <td>0</td>\n",
       "      <td>0</td>\n",
       "      <td>0</td>\n",
       "      <td>0</td>\n",
       "      <td>...</td>\n",
       "      <td>0</td>\n",
       "      <td>0</td>\n",
       "      <td>0</td>\n",
       "      <td>0</td>\n",
       "      <td>0</td>\n",
       "      <td>0</td>\n",
       "      <td>0</td>\n",
       "      <td>0</td>\n",
       "      <td>1</td>\n",
       "      <td>0</td>\n",
       "    </tr>\n",
       "    <tr>\n",
       "      <th>3</th>\n",
       "      <td>What the #$*! Do We (K)now!?</td>\n",
       "      <td>2004.0</td>\n",
       "      <td>5.3</td>\n",
       "      <td>13432.0</td>\n",
       "      <td>60.0</td>\n",
       "      <td>1</td>\n",
       "      <td>0</td>\n",
       "      <td>0</td>\n",
       "      <td>0</td>\n",
       "      <td>0</td>\n",
       "      <td>...</td>\n",
       "      <td>0</td>\n",
       "      <td>0</td>\n",
       "      <td>0</td>\n",
       "      <td>0</td>\n",
       "      <td>0</td>\n",
       "      <td>0</td>\n",
       "      <td>0</td>\n",
       "      <td>0</td>\n",
       "      <td>1</td>\n",
       "      <td>0</td>\n",
       "    </tr>\n",
       "    <tr>\n",
       "      <th>4</th>\n",
       "      <td>Class of Nuke 'Em High Part II: Subhumanoid Meltdown</td>\n",
       "      <td>1991.0</td>\n",
       "      <td>4.5</td>\n",
       "      <td>2177.0</td>\n",
       "      <td>96.0</td>\n",
       "      <td>1</td>\n",
       "      <td>0</td>\n",
       "      <td>0</td>\n",
       "      <td>0</td>\n",
       "      <td>0</td>\n",
       "      <td>...</td>\n",
       "      <td>0</td>\n",
       "      <td>0</td>\n",
       "      <td>0</td>\n",
       "      <td>0</td>\n",
       "      <td>0</td>\n",
       "      <td>0</td>\n",
       "      <td>0</td>\n",
       "      <td>0</td>\n",
       "      <td>1</td>\n",
       "      <td>0</td>\n",
       "    </tr>\n",
       "    <tr>\n",
       "      <th>6</th>\n",
       "      <td>Neil Diamond: Greatest Hits Live</td>\n",
       "      <td>1988.0</td>\n",
       "      <td>8.0</td>\n",
       "      <td>81.0</td>\n",
       "      <td>55.0</td>\n",
       "      <td>0</td>\n",
       "      <td>0</td>\n",
       "      <td>0</td>\n",
       "      <td>0</td>\n",
       "      <td>0</td>\n",
       "      <td>...</td>\n",
       "      <td>0</td>\n",
       "      <td>0</td>\n",
       "      <td>0</td>\n",
       "      <td>0</td>\n",
       "      <td>0</td>\n",
       "      <td>0</td>\n",
       "      <td>0</td>\n",
       "      <td>0</td>\n",
       "      <td>1</td>\n",
       "      <td>0</td>\n",
       "    </tr>\n",
       "    <tr>\n",
       "      <th>...</th>\n",
       "      <td>...</td>\n",
       "      <td>...</td>\n",
       "      <td>...</td>\n",
       "      <td>...</td>\n",
       "      <td>...</td>\n",
       "      <td>...</td>\n",
       "      <td>...</td>\n",
       "      <td>...</td>\n",
       "      <td>...</td>\n",
       "      <td>...</td>\n",
       "      <td>...</td>\n",
       "      <td>...</td>\n",
       "      <td>...</td>\n",
       "      <td>...</td>\n",
       "      <td>...</td>\n",
       "      <td>...</td>\n",
       "      <td>...</td>\n",
       "      <td>...</td>\n",
       "      <td>...</td>\n",
       "      <td>...</td>\n",
       "      <td>...</td>\n",
       "    </tr>\n",
       "    <tr>\n",
       "      <th>7261</th>\n",
       "      <td>Shade</td>\n",
       "      <td>2003.0</td>\n",
       "      <td>6.3</td>\n",
       "      <td>12485.0</td>\n",
       "      <td>106.0</td>\n",
       "      <td>1</td>\n",
       "      <td>0</td>\n",
       "      <td>0</td>\n",
       "      <td>0</td>\n",
       "      <td>0</td>\n",
       "      <td>...</td>\n",
       "      <td>0</td>\n",
       "      <td>0</td>\n",
       "      <td>0</td>\n",
       "      <td>0</td>\n",
       "      <td>0</td>\n",
       "      <td>0</td>\n",
       "      <td>0</td>\n",
       "      <td>0</td>\n",
       "      <td>1</td>\n",
       "      <td>0</td>\n",
       "    </tr>\n",
       "    <tr>\n",
       "      <th>7262</th>\n",
       "      <td>Nothing But Trouble</td>\n",
       "      <td>1991.0</td>\n",
       "      <td>5.1</td>\n",
       "      <td>23598.0</td>\n",
       "      <td>92.0</td>\n",
       "      <td>1</td>\n",
       "      <td>0</td>\n",
       "      <td>0</td>\n",
       "      <td>0</td>\n",
       "      <td>0</td>\n",
       "      <td>...</td>\n",
       "      <td>0</td>\n",
       "      <td>0</td>\n",
       "      <td>0</td>\n",
       "      <td>0</td>\n",
       "      <td>0</td>\n",
       "      <td>0</td>\n",
       "      <td>0</td>\n",
       "      <td>0</td>\n",
       "      <td>1</td>\n",
       "      <td>0</td>\n",
       "    </tr>\n",
       "    <tr>\n",
       "      <th>7263</th>\n",
       "      <td>The Whistle Blower</td>\n",
       "      <td>1986.0</td>\n",
       "      <td>6.2</td>\n",
       "      <td>2069.0</td>\n",
       "      <td>123.0</td>\n",
       "      <td>1</td>\n",
       "      <td>0</td>\n",
       "      <td>0</td>\n",
       "      <td>0</td>\n",
       "      <td>0</td>\n",
       "      <td>...</td>\n",
       "      <td>0</td>\n",
       "      <td>0</td>\n",
       "      <td>0</td>\n",
       "      <td>0</td>\n",
       "      <td>0</td>\n",
       "      <td>0</td>\n",
       "      <td>0</td>\n",
       "      <td>0</td>\n",
       "      <td>1</td>\n",
       "      <td>0</td>\n",
       "    </tr>\n",
       "    <tr>\n",
       "      <th>7265</th>\n",
       "      <td>The Hitchhiker</td>\n",
       "      <td>1983.0</td>\n",
       "      <td>6.8</td>\n",
       "      <td>1482.0</td>\n",
       "      <td>112.0</td>\n",
       "      <td>0</td>\n",
       "      <td>0</td>\n",
       "      <td>0</td>\n",
       "      <td>1</td>\n",
       "      <td>0</td>\n",
       "      <td>...</td>\n",
       "      <td>0</td>\n",
       "      <td>0</td>\n",
       "      <td>0</td>\n",
       "      <td>0</td>\n",
       "      <td>0</td>\n",
       "      <td>0</td>\n",
       "      <td>0</td>\n",
       "      <td>0</td>\n",
       "      <td>0</td>\n",
       "      <td>1</td>\n",
       "    </tr>\n",
       "    <tr>\n",
       "      <th>7266</th>\n",
       "      <td>SpaceCamp</td>\n",
       "      <td>1986.0</td>\n",
       "      <td>5.7</td>\n",
       "      <td>14679.0</td>\n",
       "      <td>107.0</td>\n",
       "      <td>1</td>\n",
       "      <td>0</td>\n",
       "      <td>0</td>\n",
       "      <td>0</td>\n",
       "      <td>0</td>\n",
       "      <td>...</td>\n",
       "      <td>0</td>\n",
       "      <td>0</td>\n",
       "      <td>0</td>\n",
       "      <td>0</td>\n",
       "      <td>0</td>\n",
       "      <td>0</td>\n",
       "      <td>0</td>\n",
       "      <td>0</td>\n",
       "      <td>1</td>\n",
       "      <td>0</td>\n",
       "    </tr>\n",
       "  </tbody>\n",
       "</table></div>"
      ],
      "text/plain": [
       "                                                  title    year  rating  \\\n",
       "0                                       Dinosaur Planet  2003.0     7.7   \n",
       "1                                     Get Up and Dance!  1994.0     8.1   \n",
       "3                          What the #$*! Do We (K)now!?  2004.0     5.3   \n",
       "4     Class of Nuke 'Em High Part II: Subhumanoid Me...  1991.0     4.5   \n",
       "6                      Neil Diamond: Greatest Hits Live  1988.0     8.0   \n",
       "...                                                 ...     ...     ...   \n",
       "7261                                              Shade  2003.0     6.3   \n",
       "7262                                Nothing But Trouble  1991.0     5.1   \n",
       "7263                                 The Whistle Blower  1986.0     6.2   \n",
       "7265                                     The Hitchhiker  1983.0     6.8   \n",
       "7266                                          SpaceCamp  1986.0     5.7   \n",
       "\n",
       "         vote  runtime  kind_movie  kind_tv mini series  kind_tv movie  \\\n",
       "0       474.0     50.0           0                    1              0   \n",
       "1        18.0     83.0           0                    0              0   \n",
       "3     13432.0     60.0           1                    0              0   \n",
       "4      2177.0     96.0           1                    0              0   \n",
       "6        81.0     55.0           0                    0              0   \n",
       "...       ...      ...         ...                  ...            ...   \n",
       "7261  12485.0    106.0           1                    0              0   \n",
       "7262  23598.0     92.0           1                    0              0   \n",
       "7263   2069.0    123.0           1                    0              0   \n",
       "7265   1482.0    112.0           0                    0              0   \n",
       "7266  14679.0    107.0           1                    0              0   \n",
       "\n",
       "      kind_tv series  kind_tv short  ...  director_'Beth McCarthy-Miller'  \\\n",
       "0                  0              0  ...                                0   \n",
       "1                  0              0  ...                                0   \n",
       "3                  0              0  ...                                0   \n",
       "4                  0              0  ...                                0   \n",
       "6                  0              0  ...                                0   \n",
       "...              ...            ...  ...                              ...   \n",
       "7261               0              0  ...                                0   \n",
       "7262               0              0  ...                                0   \n",
       "7263               0              0  ...                                0   \n",
       "7265               1              0  ...                                0   \n",
       "7266               0              0  ...                                0   \n",
       "\n",
       "      director_'David Mallet'  director_'Jim Wynorski'  director_'Jing Wong'  \\\n",
       "0                           0                        0                     0   \n",
       "1                           0                        0                     0   \n",
       "3                           0                        0                     0   \n",
       "4                           0                        0                     0   \n",
       "6                           0                        0                     0   \n",
       "...                       ...                      ...                   ...   \n",
       "7261                        0                        0                     0   \n",
       "7262                        0                        0                     0   \n",
       "7263                        0                        0                     0   \n",
       "7265                        0                        0                     0   \n",
       "7266                        0                        0                     0   \n",
       "\n",
       "      director_'Kevin Dunn'  director_'Takashi Miike'  director_'Tom Clegg'  \\\n",
       "0                         0                         0                     0   \n",
       "1                         0                         0                     0   \n",
       "3                         0                         0                     0   \n",
       "4                         0                         0                     0   \n",
       "6                         0                         0                     0   \n",
       "...                     ...                       ...                   ...   \n",
       "7261                      0                         0                     0   \n",
       "7262                      0                         0                     0   \n",
       "7263                      0                         0                     0   \n",
       "7265                      0                         0                     0   \n",
       "7266                      0                         0                     0   \n",
       "\n",
       "      director_'Werner Herzog'  director_Other  director_Unknown  \n",
       "0                            0               0                 1  \n",
       "1                            0               1                 0  \n",
       "3                            0               1                 0  \n",
       "4                            0               1                 0  \n",
       "6                            0               1                 0  \n",
       "...                        ...             ...               ...  \n",
       "7261                         0               1                 0  \n",
       "7262                         0               1                 0  \n",
       "7263                         0               1                 0  \n",
       "7265                         0               0                 1  \n",
       "7266                         0               1                 0  \n",
       "\n",
       "[6423 rows x 50 columns]"
      ]
     },
     "execution_count": 897,
     "metadata": {},
     "output_type": "execute_result"
    }
   ],
   "source": [
    "df_dummy"
   ]
  },
  {
   "cell_type": "code",
   "execution_count": 898,
   "metadata": {},
   "outputs": [
    {
     "data": {
      "text/plain": [
       "title\n",
       "The Shawshank Redemption                         2461873.0\n",
       "Pulp Fiction                                     1907147.0\n",
       "The Matrix                                       1755454.0\n",
       "The Lord of the Rings: The Return of the King    1708569.0\n",
       "The Godfather                                    1702753.5\n",
       "                                                   ...    \n",
       "Spooks and Creeps                                      6.0\n",
       "VeggieTales: The Toy That Saved Christmas!             6.0\n",
       "The Little Fugitive                                    6.0\n",
       "Pride 10: Return of the Warriors                       6.0\n",
       "Underground Railroad                                   5.0\n",
       "Name: vote, Length: 6187, dtype: float64"
      ]
     },
     "execution_count": 898,
     "metadata": {},
     "output_type": "execute_result"
    }
   ],
   "source": [
    "df.groupby('title')['vote'].mean().sort_values(ascending=False)"
   ]
  },
  {
   "cell_type": "code",
   "execution_count": 899,
   "metadata": {},
   "outputs": [
    {
     "data": {
      "text/html": [
       "<div><div id=ecb86649-a39a-456f-9393-d024e24fada6 style=\"display:none; background-color:#9D6CFF; color:white; width:200px; height:30px; padding-left:5px; border-radius:4px; flex-direction:row; justify-content:space-around; align-items:center;\" onmouseover=\"this.style.backgroundColor='#BA9BF8'\" onmouseout=\"this.style.backgroundColor='#9D6CFF'\" onclick=\"window.commands?.execute('create-mitosheet-from-dataframe-output');\">See Full Dataframe in Mito</div> <script> if (window.commands.hasCommand('create-mitosheet-from-dataframe-output')) document.getElementById('ecb86649-a39a-456f-9393-d024e24fada6').style.display = 'flex' </script> <table border=\"1\" class=\"dataframe\">\n",
       "  <thead>\n",
       "    <tr style=\"text-align: right;\">\n",
       "      <th></th>\n",
       "      <th>title</th>\n",
       "      <th>year</th>\n",
       "      <th>kind</th>\n",
       "      <th>genre</th>\n",
       "      <th>rating</th>\n",
       "      <th>vote</th>\n",
       "      <th>country</th>\n",
       "      <th>language</th>\n",
       "      <th>director</th>\n",
       "      <th>runtime</th>\n",
       "    </tr>\n",
       "  </thead>\n",
       "  <tbody>\n",
       "    <tr>\n",
       "      <th>1959</th>\n",
       "      <td>Pulp Fiction</td>\n",
       "      <td>1994.0</td>\n",
       "      <td>movie</td>\n",
       "      <td>'Crime'</td>\n",
       "      <td>8.9</td>\n",
       "      <td>1907147.0</td>\n",
       "      <td>'United States'</td>\n",
       "      <td>'English'</td>\n",
       "      <td>Other</td>\n",
       "      <td>112.0</td>\n",
       "    </tr>\n",
       "  </tbody>\n",
       "</table></div>"
      ],
      "text/plain": [
       "             title    year   kind    genre  rating       vote  \\\n",
       "1959  Pulp Fiction  1994.0  movie  'Crime'     8.9  1907147.0   \n",
       "\n",
       "              country   language director  runtime  \n",
       "1959  'United States'  'English'    Other    112.0  "
      ]
     },
     "execution_count": 899,
     "metadata": {},
     "output_type": "execute_result"
    }
   ],
   "source": [
    "df[df.title == 'Pulp Fiction']"
   ]
  },
  {
   "cell_type": "code",
   "execution_count": 900,
   "metadata": {},
   "outputs": [
    {
     "data": {
      "text/html": [
       "<div><div id=ebf53ee3-c346-47f5-a9bd-67c154c84c2a style=\"display:none; background-color:#9D6CFF; color:white; width:200px; height:30px; padding-left:5px; border-radius:4px; flex-direction:row; justify-content:space-around; align-items:center;\" onmouseover=\"this.style.backgroundColor='#BA9BF8'\" onmouseout=\"this.style.backgroundColor='#9D6CFF'\" onclick=\"window.commands?.execute('create-mitosheet-from-dataframe-output');\">See Full Dataframe in Mito</div> <script> if (window.commands.hasCommand('create-mitosheet-from-dataframe-output')) document.getElementById('ebf53ee3-c346-47f5-a9bd-67c154c84c2a').style.display = 'flex' </script> <table border=\"1\" class=\"dataframe\">\n",
       "  <thead>\n",
       "    <tr style=\"text-align: right;\">\n",
       "      <th></th>\n",
       "      <th>title</th>\n",
       "      <th>year</th>\n",
       "      <th>rating</th>\n",
       "      <th>vote</th>\n",
       "      <th>runtime</th>\n",
       "      <th>kind_movie</th>\n",
       "      <th>kind_tv mini series</th>\n",
       "      <th>kind_tv movie</th>\n",
       "      <th>kind_tv series</th>\n",
       "      <th>kind_tv short</th>\n",
       "      <th>...</th>\n",
       "      <th>director_'Beth McCarthy-Miller'</th>\n",
       "      <th>director_'David Mallet'</th>\n",
       "      <th>director_'Jim Wynorski'</th>\n",
       "      <th>director_'Jing Wong'</th>\n",
       "      <th>director_'Kevin Dunn'</th>\n",
       "      <th>director_'Takashi Miike'</th>\n",
       "      <th>director_'Tom Clegg'</th>\n",
       "      <th>director_'Werner Herzog'</th>\n",
       "      <th>director_Other</th>\n",
       "      <th>director_Unknown</th>\n",
       "    </tr>\n",
       "  </thead>\n",
       "  <tbody>\n",
       "    <tr>\n",
       "      <th>0</th>\n",
       "      <td>Dinosaur Planet</td>\n",
       "      <td>2003.0</td>\n",
       "      <td>7.7</td>\n",
       "      <td>474.0</td>\n",
       "      <td>50.0</td>\n",
       "      <td>0</td>\n",
       "      <td>1</td>\n",
       "      <td>0</td>\n",
       "      <td>0</td>\n",
       "      <td>0</td>\n",
       "      <td>...</td>\n",
       "      <td>0</td>\n",
       "      <td>0</td>\n",
       "      <td>0</td>\n",
       "      <td>0</td>\n",
       "      <td>0</td>\n",
       "      <td>0</td>\n",
       "      <td>0</td>\n",
       "      <td>0</td>\n",
       "      <td>0</td>\n",
       "      <td>1</td>\n",
       "    </tr>\n",
       "    <tr>\n",
       "      <th>1</th>\n",
       "      <td>Get Up and Dance!</td>\n",
       "      <td>1994.0</td>\n",
       "      <td>8.1</td>\n",
       "      <td>18.0</td>\n",
       "      <td>83.0</td>\n",
       "      <td>0</td>\n",
       "      <td>0</td>\n",
       "      <td>0</td>\n",
       "      <td>0</td>\n",
       "      <td>0</td>\n",
       "      <td>...</td>\n",
       "      <td>0</td>\n",
       "      <td>0</td>\n",
       "      <td>0</td>\n",
       "      <td>0</td>\n",
       "      <td>0</td>\n",
       "      <td>0</td>\n",
       "      <td>0</td>\n",
       "      <td>0</td>\n",
       "      <td>1</td>\n",
       "      <td>0</td>\n",
       "    </tr>\n",
       "    <tr>\n",
       "      <th>3</th>\n",
       "      <td>What the #$*! Do We (K)now!?</td>\n",
       "      <td>2004.0</td>\n",
       "      <td>5.3</td>\n",
       "      <td>13432.0</td>\n",
       "      <td>60.0</td>\n",
       "      <td>1</td>\n",
       "      <td>0</td>\n",
       "      <td>0</td>\n",
       "      <td>0</td>\n",
       "      <td>0</td>\n",
       "      <td>...</td>\n",
       "      <td>0</td>\n",
       "      <td>0</td>\n",
       "      <td>0</td>\n",
       "      <td>0</td>\n",
       "      <td>0</td>\n",
       "      <td>0</td>\n",
       "      <td>0</td>\n",
       "      <td>0</td>\n",
       "      <td>1</td>\n",
       "      <td>0</td>\n",
       "    </tr>\n",
       "    <tr>\n",
       "      <th>4</th>\n",
       "      <td>Class of Nuke 'Em High Part II: Subhumanoid Meltdown</td>\n",
       "      <td>1991.0</td>\n",
       "      <td>4.5</td>\n",
       "      <td>2177.0</td>\n",
       "      <td>96.0</td>\n",
       "      <td>1</td>\n",
       "      <td>0</td>\n",
       "      <td>0</td>\n",
       "      <td>0</td>\n",
       "      <td>0</td>\n",
       "      <td>...</td>\n",
       "      <td>0</td>\n",
       "      <td>0</td>\n",
       "      <td>0</td>\n",
       "      <td>0</td>\n",
       "      <td>0</td>\n",
       "      <td>0</td>\n",
       "      <td>0</td>\n",
       "      <td>0</td>\n",
       "      <td>1</td>\n",
       "      <td>0</td>\n",
       "    </tr>\n",
       "    <tr>\n",
       "      <th>6</th>\n",
       "      <td>Neil Diamond: Greatest Hits Live</td>\n",
       "      <td>1988.0</td>\n",
       "      <td>8.0</td>\n",
       "      <td>81.0</td>\n",
       "      <td>55.0</td>\n",
       "      <td>0</td>\n",
       "      <td>0</td>\n",
       "      <td>0</td>\n",
       "      <td>0</td>\n",
       "      <td>0</td>\n",
       "      <td>...</td>\n",
       "      <td>0</td>\n",
       "      <td>0</td>\n",
       "      <td>0</td>\n",
       "      <td>0</td>\n",
       "      <td>0</td>\n",
       "      <td>0</td>\n",
       "      <td>0</td>\n",
       "      <td>0</td>\n",
       "      <td>1</td>\n",
       "      <td>0</td>\n",
       "    </tr>\n",
       "    <tr>\n",
       "      <th>...</th>\n",
       "      <td>...</td>\n",
       "      <td>...</td>\n",
       "      <td>...</td>\n",
       "      <td>...</td>\n",
       "      <td>...</td>\n",
       "      <td>...</td>\n",
       "      <td>...</td>\n",
       "      <td>...</td>\n",
       "      <td>...</td>\n",
       "      <td>...</td>\n",
       "      <td>...</td>\n",
       "      <td>...</td>\n",
       "      <td>...</td>\n",
       "      <td>...</td>\n",
       "      <td>...</td>\n",
       "      <td>...</td>\n",
       "      <td>...</td>\n",
       "      <td>...</td>\n",
       "      <td>...</td>\n",
       "      <td>...</td>\n",
       "      <td>...</td>\n",
       "    </tr>\n",
       "    <tr>\n",
       "      <th>7261</th>\n",
       "      <td>Shade</td>\n",
       "      <td>2003.0</td>\n",
       "      <td>6.3</td>\n",
       "      <td>12485.0</td>\n",
       "      <td>106.0</td>\n",
       "      <td>1</td>\n",
       "      <td>0</td>\n",
       "      <td>0</td>\n",
       "      <td>0</td>\n",
       "      <td>0</td>\n",
       "      <td>...</td>\n",
       "      <td>0</td>\n",
       "      <td>0</td>\n",
       "      <td>0</td>\n",
       "      <td>0</td>\n",
       "      <td>0</td>\n",
       "      <td>0</td>\n",
       "      <td>0</td>\n",
       "      <td>0</td>\n",
       "      <td>1</td>\n",
       "      <td>0</td>\n",
       "    </tr>\n",
       "    <tr>\n",
       "      <th>7262</th>\n",
       "      <td>Nothing But Trouble</td>\n",
       "      <td>1991.0</td>\n",
       "      <td>5.1</td>\n",
       "      <td>23598.0</td>\n",
       "      <td>92.0</td>\n",
       "      <td>1</td>\n",
       "      <td>0</td>\n",
       "      <td>0</td>\n",
       "      <td>0</td>\n",
       "      <td>0</td>\n",
       "      <td>...</td>\n",
       "      <td>0</td>\n",
       "      <td>0</td>\n",
       "      <td>0</td>\n",
       "      <td>0</td>\n",
       "      <td>0</td>\n",
       "      <td>0</td>\n",
       "      <td>0</td>\n",
       "      <td>0</td>\n",
       "      <td>1</td>\n",
       "      <td>0</td>\n",
       "    </tr>\n",
       "    <tr>\n",
       "      <th>7263</th>\n",
       "      <td>The Whistle Blower</td>\n",
       "      <td>1986.0</td>\n",
       "      <td>6.2</td>\n",
       "      <td>2069.0</td>\n",
       "      <td>123.0</td>\n",
       "      <td>1</td>\n",
       "      <td>0</td>\n",
       "      <td>0</td>\n",
       "      <td>0</td>\n",
       "      <td>0</td>\n",
       "      <td>...</td>\n",
       "      <td>0</td>\n",
       "      <td>0</td>\n",
       "      <td>0</td>\n",
       "      <td>0</td>\n",
       "      <td>0</td>\n",
       "      <td>0</td>\n",
       "      <td>0</td>\n",
       "      <td>0</td>\n",
       "      <td>1</td>\n",
       "      <td>0</td>\n",
       "    </tr>\n",
       "    <tr>\n",
       "      <th>7265</th>\n",
       "      <td>The Hitchhiker</td>\n",
       "      <td>1983.0</td>\n",
       "      <td>6.8</td>\n",
       "      <td>1482.0</td>\n",
       "      <td>112.0</td>\n",
       "      <td>0</td>\n",
       "      <td>0</td>\n",
       "      <td>0</td>\n",
       "      <td>1</td>\n",
       "      <td>0</td>\n",
       "      <td>...</td>\n",
       "      <td>0</td>\n",
       "      <td>0</td>\n",
       "      <td>0</td>\n",
       "      <td>0</td>\n",
       "      <td>0</td>\n",
       "      <td>0</td>\n",
       "      <td>0</td>\n",
       "      <td>0</td>\n",
       "      <td>0</td>\n",
       "      <td>1</td>\n",
       "    </tr>\n",
       "    <tr>\n",
       "      <th>7266</th>\n",
       "      <td>SpaceCamp</td>\n",
       "      <td>1986.0</td>\n",
       "      <td>5.7</td>\n",
       "      <td>14679.0</td>\n",
       "      <td>107.0</td>\n",
       "      <td>1</td>\n",
       "      <td>0</td>\n",
       "      <td>0</td>\n",
       "      <td>0</td>\n",
       "      <td>0</td>\n",
       "      <td>...</td>\n",
       "      <td>0</td>\n",
       "      <td>0</td>\n",
       "      <td>0</td>\n",
       "      <td>0</td>\n",
       "      <td>0</td>\n",
       "      <td>0</td>\n",
       "      <td>0</td>\n",
       "      <td>0</td>\n",
       "      <td>1</td>\n",
       "      <td>0</td>\n",
       "    </tr>\n",
       "  </tbody>\n",
       "</table></div>"
      ],
      "text/plain": [
       "                                                  title    year  rating  \\\n",
       "0                                       Dinosaur Planet  2003.0     7.7   \n",
       "1                                     Get Up and Dance!  1994.0     8.1   \n",
       "3                          What the #$*! Do We (K)now!?  2004.0     5.3   \n",
       "4     Class of Nuke 'Em High Part II: Subhumanoid Me...  1991.0     4.5   \n",
       "6                      Neil Diamond: Greatest Hits Live  1988.0     8.0   \n",
       "...                                                 ...     ...     ...   \n",
       "7261                                              Shade  2003.0     6.3   \n",
       "7262                                Nothing But Trouble  1991.0     5.1   \n",
       "7263                                 The Whistle Blower  1986.0     6.2   \n",
       "7265                                     The Hitchhiker  1983.0     6.8   \n",
       "7266                                          SpaceCamp  1986.0     5.7   \n",
       "\n",
       "         vote  runtime  kind_movie  kind_tv mini series  kind_tv movie  \\\n",
       "0       474.0     50.0           0                    1              0   \n",
       "1        18.0     83.0           0                    0              0   \n",
       "3     13432.0     60.0           1                    0              0   \n",
       "4      2177.0     96.0           1                    0              0   \n",
       "6        81.0     55.0           0                    0              0   \n",
       "...       ...      ...         ...                  ...            ...   \n",
       "7261  12485.0    106.0           1                    0              0   \n",
       "7262  23598.0     92.0           1                    0              0   \n",
       "7263   2069.0    123.0           1                    0              0   \n",
       "7265   1482.0    112.0           0                    0              0   \n",
       "7266  14679.0    107.0           1                    0              0   \n",
       "\n",
       "      kind_tv series  kind_tv short  ...  director_'Beth McCarthy-Miller'  \\\n",
       "0                  0              0  ...                                0   \n",
       "1                  0              0  ...                                0   \n",
       "3                  0              0  ...                                0   \n",
       "4                  0              0  ...                                0   \n",
       "6                  0              0  ...                                0   \n",
       "...              ...            ...  ...                              ...   \n",
       "7261               0              0  ...                                0   \n",
       "7262               0              0  ...                                0   \n",
       "7263               0              0  ...                                0   \n",
       "7265               1              0  ...                                0   \n",
       "7266               0              0  ...                                0   \n",
       "\n",
       "      director_'David Mallet'  director_'Jim Wynorski'  director_'Jing Wong'  \\\n",
       "0                           0                        0                     0   \n",
       "1                           0                        0                     0   \n",
       "3                           0                        0                     0   \n",
       "4                           0                        0                     0   \n",
       "6                           0                        0                     0   \n",
       "...                       ...                      ...                   ...   \n",
       "7261                        0                        0                     0   \n",
       "7262                        0                        0                     0   \n",
       "7263                        0                        0                     0   \n",
       "7265                        0                        0                     0   \n",
       "7266                        0                        0                     0   \n",
       "\n",
       "      director_'Kevin Dunn'  director_'Takashi Miike'  director_'Tom Clegg'  \\\n",
       "0                         0                         0                     0   \n",
       "1                         0                         0                     0   \n",
       "3                         0                         0                     0   \n",
       "4                         0                         0                     0   \n",
       "6                         0                         0                     0   \n",
       "...                     ...                       ...                   ...   \n",
       "7261                      0                         0                     0   \n",
       "7262                      0                         0                     0   \n",
       "7263                      0                         0                     0   \n",
       "7265                      0                         0                     0   \n",
       "7266                      0                         0                     0   \n",
       "\n",
       "      director_'Werner Herzog'  director_Other  director_Unknown  \n",
       "0                            0               0                 1  \n",
       "1                            0               1                 0  \n",
       "3                            0               1                 0  \n",
       "4                            0               1                 0  \n",
       "6                            0               1                 0  \n",
       "...                        ...             ...               ...  \n",
       "7261                         0               1                 0  \n",
       "7262                         0               1                 0  \n",
       "7263                         0               1                 0  \n",
       "7265                         0               0                 1  \n",
       "7266                         0               1                 0  \n",
       "\n",
       "[6423 rows x 50 columns]"
      ]
     },
     "execution_count": 900,
     "metadata": {},
     "output_type": "execute_result"
    }
   ],
   "source": [
    "df_dummy"
   ]
  },
  {
   "cell_type": "code",
   "execution_count": 901,
   "metadata": {},
   "outputs": [],
   "source": [
    "df_dummy.drop('title', axis=1, inplace=True)"
   ]
  },
  {
   "cell_type": "code",
   "execution_count": 902,
   "metadata": {},
   "outputs": [
    {
     "name": "stdout",
     "output_type": "stream",
     "text": [
      "<class 'pandas.core.frame.DataFrame'>\n",
      "Int64Index: 6423 entries, 0 to 7266\n",
      "Data columns (total 49 columns):\n",
      " #   Column                           Non-Null Count  Dtype  \n",
      "---  ------                           --------------  -----  \n",
      " 0   year                             6423 non-null   float64\n",
      " 1   rating                           6423 non-null   float64\n",
      " 2   vote                             6423 non-null   float64\n",
      " 3   runtime                          6423 non-null   float64\n",
      " 4   kind_movie                       6423 non-null   uint8  \n",
      " 5   kind_tv mini series              6423 non-null   uint8  \n",
      " 6   kind_tv movie                    6423 non-null   uint8  \n",
      " 7   kind_tv series                   6423 non-null   uint8  \n",
      " 8   kind_tv short                    6423 non-null   uint8  \n",
      " 9   kind_video game                  6423 non-null   uint8  \n",
      " 10  kind_video movie                 6423 non-null   uint8  \n",
      " 11  genre_'Adventure'                6423 non-null   uint8  \n",
      " 12  genre_'Animation'                6423 non-null   uint8  \n",
      " 13  genre_'Biography'                6423 non-null   uint8  \n",
      " 14  genre_'Comedy'                   6423 non-null   uint8  \n",
      " 15  genre_'Crime'                    6423 non-null   uint8  \n",
      " 16  genre_'Documentary'              6423 non-null   uint8  \n",
      " 17  genre_'Drama'                    6423 non-null   uint8  \n",
      " 18  genre_'Horror'                   6423 non-null   uint8  \n",
      " 19  genre_'Music'                    6423 non-null   uint8  \n",
      " 20  genre_Other                      6423 non-null   uint8  \n",
      " 21  country_'Canada'                 6423 non-null   uint8  \n",
      " 22  country_'France'                 6423 non-null   uint8  \n",
      " 23  country_'Hong Kong'              6423 non-null   uint8  \n",
      " 24  country_'India'                  6423 non-null   uint8  \n",
      " 25  country_'Italy'                  6423 non-null   uint8  \n",
      " 26  country_'Japan'                  6423 non-null   uint8  \n",
      " 27  country_'United Kingdom'         6423 non-null   uint8  \n",
      " 28  country_'United States'          6423 non-null   uint8  \n",
      " 29  country_Other                    6423 non-null   uint8  \n",
      " 30  language_'English'               6423 non-null   uint8  \n",
      " 31  language_'French'                6423 non-null   uint8  \n",
      " 32  language_'German'                6423 non-null   uint8  \n",
      " 33  language_'Hindi'                 6423 non-null   uint8  \n",
      " 34  language_'Italian'               6423 non-null   uint8  \n",
      " 35  language_'Japanese'              6423 non-null   uint8  \n",
      " 36  language_'Mandarin'              6423 non-null   uint8  \n",
      " 37  language_'Spanish'               6423 non-null   uint8  \n",
      " 38  language_Other                   6423 non-null   uint8  \n",
      " 39  director_'Beth McCarthy-Miller'  6423 non-null   uint8  \n",
      " 40  director_'David Mallet'          6423 non-null   uint8  \n",
      " 41  director_'Jim Wynorski'          6423 non-null   uint8  \n",
      " 42  director_'Jing Wong'             6423 non-null   uint8  \n",
      " 43  director_'Kevin Dunn'            6423 non-null   uint8  \n",
      " 44  director_'Takashi Miike'         6423 non-null   uint8  \n",
      " 45  director_'Tom Clegg'             6423 non-null   uint8  \n",
      " 46  director_'Werner Herzog'         6423 non-null   uint8  \n",
      " 47  director_Other                   6423 non-null   uint8  \n",
      " 48  director_Unknown                 6423 non-null   uint8  \n",
      "dtypes: float64(4), uint8(45)\n",
      "memory usage: 533.2 KB\n"
     ]
    }
   ],
   "source": [
    "df_dummy.info()"
   ]
  },
  {
   "cell_type": "code",
   "execution_count": 903,
   "metadata": {},
   "outputs": [
    {
     "data": {
      "image/png": "[encoded data removed]",
      "text/plain": [
       "<Figure size 432x288 with 1 Axes>"
      ]
     },
     "metadata": {
      "needs_background": "light"
     },
     "output_type": "display_data"
    }
   ],
   "source": [
    "df_dummy.rating.hist()\n",
    "plt.show()"
   ]
  },
  {
   "cell_type": "code",
   "execution_count": 913,
   "metadata": {},
   "outputs": [
    {
     "data": {
      "text/html": [
       "<div><div id=d80c0553-c835-4ed9-bdad-2f7dae1e8f4a style=\"display:none; background-color:#9D6CFF; color:white; width:200px; height:30px; padding-left:5px; border-radius:4px; flex-direction:row; justify-content:space-around; align-items:center;\" onmouseover=\"this.style.backgroundColor='#BA9BF8'\" onmouseout=\"this.style.backgroundColor='#9D6CFF'\" onclick=\"window.commands?.execute('create-mitosheet-from-dataframe-output');\">See Full Dataframe in Mito</div> <script> if (window.commands.hasCommand('create-mitosheet-from-dataframe-output')) document.getElementById('d80c0553-c835-4ed9-bdad-2f7dae1e8f4a').style.display = 'flex' </script> <table border=\"1\" class=\"dataframe\">\n",
       "  <thead>\n",
       "    <tr style=\"text-align: right;\">\n",
       "      <th></th>\n",
       "      <th>title</th>\n",
       "      <th>year</th>\n",
       "      <th>kind</th>\n",
       "      <th>genre</th>\n",
       "      <th>rating</th>\n",
       "      <th>vote</th>\n",
       "      <th>country</th>\n",
       "      <th>language</th>\n",
       "      <th>director</th>\n",
       "      <th>runtime</th>\n",
       "    </tr>\n",
       "  </thead>\n",
       "  <tbody>\n",
       "    <tr>\n",
       "      <th>0</th>\n",
       "      <td>Dinosaur Planet</td>\n",
       "      <td>2003.0</td>\n",
       "      <td>tv mini series</td>\n",
       "      <td>'Documentary'</td>\n",
       "      <td>3</td>\n",
       "      <td>474.0</td>\n",
       "      <td>'United States'</td>\n",
       "      <td>'English'</td>\n",
       "      <td>Unknown</td>\n",
       "      <td>50.0</td>\n",
       "    </tr>\n",
       "    <tr>\n",
       "      <th>1</th>\n",
       "      <td>Get Up and Dance!</td>\n",
       "      <td>1994.0</td>\n",
       "      <td>video movie</td>\n",
       "      <td>Other</td>\n",
       "      <td>4</td>\n",
       "      <td>18.0</td>\n",
       "      <td>'United States'</td>\n",
       "      <td>'English'</td>\n",
       "      <td>Other</td>\n",
       "      <td>83.0</td>\n",
       "    </tr>\n",
       "    <tr>\n",
       "      <th>3</th>\n",
       "      <td>What the #$*! Do We (K)now!?</td>\n",
       "      <td>2004.0</td>\n",
       "      <td>movie</td>\n",
       "      <td>'Documentary'</td>\n",
       "      <td>0</td>\n",
       "      <td>13432.0</td>\n",
       "      <td>'United States'</td>\n",
       "      <td>'English'</td>\n",
       "      <td>Other</td>\n",
       "      <td>60.0</td>\n",
       "    </tr>\n",
       "    <tr>\n",
       "      <th>4</th>\n",
       "      <td>Class of Nuke 'Em High Part II: Subhumanoid Meltdown</td>\n",
       "      <td>1991.0</td>\n",
       "      <td>movie</td>\n",
       "      <td>'Comedy'</td>\n",
       "      <td>0</td>\n",
       "      <td>2177.0</td>\n",
       "      <td>'United States'</td>\n",
       "      <td>'English'</td>\n",
       "      <td>Other</td>\n",
       "      <td>96.0</td>\n",
       "    </tr>\n",
       "    <tr>\n",
       "      <th>6</th>\n",
       "      <td>Neil Diamond: Greatest Hits Live</td>\n",
       "      <td>1988.0</td>\n",
       "      <td>video movie</td>\n",
       "      <td>'Documentary'</td>\n",
       "      <td>4</td>\n",
       "      <td>81.0</td>\n",
       "      <td>'United States'</td>\n",
       "      <td>'English'</td>\n",
       "      <td>Other</td>\n",
       "      <td>55.0</td>\n",
       "    </tr>\n",
       "  </tbody>\n",
       "</table></div>"
      ],
      "text/plain": [
       "                                               title    year            kind  \\\n",
       "0                                    Dinosaur Planet  2003.0  tv mini series   \n",
       "1                                  Get Up and Dance!  1994.0     video movie   \n",
       "3                       What the #$*! Do We (K)now!?  2004.0           movie   \n",
       "4  Class of Nuke 'Em High Part II: Subhumanoid Me...  1991.0           movie   \n",
       "6                   Neil Diamond: Greatest Hits Live  1988.0     video movie   \n",
       "\n",
       "           genre  rating     vote          country   language director  \\\n",
       "0  'Documentary'       3    474.0  'United States'  'English'  Unknown   \n",
       "1          Other       4     18.0  'United States'  'English'    Other   \n",
       "3  'Documentary'       0  13432.0  'United States'  'English'    Other   \n",
       "4       'Comedy'       0   2177.0  'United States'  'English'    Other   \n",
       "6  'Documentary'       4     81.0  'United States'  'English'    Other   \n",
       "\n",
       "   runtime  \n",
       "0     50.0  \n",
       "1     83.0  \n",
       "3     60.0  \n",
       "4     96.0  \n",
       "6     55.0  "
      ]
     },
     "execution_count": 913,
     "metadata": {},
     "output_type": "execute_result"
    }
   ],
   "source": [
    "#Bin our runtime (Y = rating)\n",
    "\n",
    "df.rating = pd.qcut(df.rating,\n",
    "                            q=[0, .2, .4, .6, .8, 1],\n",
    "                            labels=False,\n",
    "                            precision=0)\n",
    "df.head()\n"
   ]
  },
  {
   "cell_type": "code",
   "execution_count": 914,
   "metadata": {},
   "outputs": [
    {
     "name": "stdout",
     "output_type": "stream",
     "text": [
      "(6423, 48)\n",
      "(6423,)\n",
      "(5138, 48)\n",
      "(5138,)\n",
      "(1285, 48)\n",
      "(1285,)\n"
     ]
    }
   ],
   "source": [
    "#Split train and test sets\n",
    "\n",
    "from sklearn.model_selection import train_test_split\n",
    "\n",
    "# Your code here:\n",
    "x = df_dummy.drop(['rating'], axis=1)\n",
    "y = df_dummy['rating']\n",
    "# print(x.head())\n",
    "print(x.shape)\n",
    "# print(y.head())\n",
    "print(y.shape)\n",
    "\n",
    "x_train, x_test, y_train, y_test = train_test_split(x, y, test_size=0.2, random_state=42)\n",
    "print(x_train.shape)\n",
    "print(y_train.shape)\n",
    "print(x_test.shape)\n",
    "print(y_test.shape)"
   ]
  },
  {
   "cell_type": "code",
   "execution_count": 915,
   "metadata": {},
   "outputs": [],
   "source": [
    "#robust\n",
    "\n",
    "from sklearn.preprocessing import RobustScaler\n",
    "\n",
    "rc = RobustScaler()\n",
    "x_train = rc.fit_transform(x_train)\n",
    "x_test = rc.transform(x_test)\n",
    "\n",
    "from sklearn.metrics import classification_report\n",
    "from sklearn.metrics import confusion_matrix"
   ]
  },
  {
   "cell_type": "code",
   "execution_count": 916,
   "metadata": {},
   "outputs": [
    {
     "ename": "ValueError",
     "evalue": "Unknown label type: 'continuous'",
     "output_type": "error",
     "traceback": [
      "\u001b[1;31m---------------------------------------------------------------------------\u001b[0m",
      "\u001b[1;31mValueError\u001b[0m                                Traceback (most recent call last)",
      "\u001b[1;32mc:\\Users\\olivi\\Documents\\Ironhack\\IRONLABS_OM\\Project Netflix\\netflix.ipynb Cell 91'\u001b[0m in \u001b[0;36m<cell line: 4>\u001b[1;34m()\u001b[0m\n\u001b[0;32m      <a href='vscode-notebook-cell:/c%3A/Users/olivi/Documents/Ironhack/IRONLABS_OM/Project%20Netflix/netflix.ipynb#ch0000107?line=0'>1</a>\u001b[0m \u001b[39mfrom\u001b[39;00m \u001b[39msklearn\u001b[39;00m\u001b[39m.\u001b[39;00m\u001b[39mensemble\u001b[39;00m \u001b[39mimport\u001b[39;00m RandomForestClassifier\n\u001b[0;32m      <a href='vscode-notebook-cell:/c%3A/Users/olivi/Documents/Ironhack/IRONLABS_OM/Project%20Netflix/netflix.ipynb#ch0000107?line=2'>3</a>\u001b[0m rfc \u001b[39m=\u001b[39m RandomForestClassifier()\n\u001b[1;32m----> <a href='vscode-notebook-cell:/c%3A/Users/olivi/Documents/Ironhack/IRONLABS_OM/Project%20Netflix/netflix.ipynb#ch0000107?line=3'>4</a>\u001b[0m rfc\u001b[39m.\u001b[39;49mfit(x_train, y_train)\n\u001b[0;32m      <a href='vscode-notebook-cell:/c%3A/Users/olivi/Documents/Ironhack/IRONLABS_OM/Project%20Netflix/netflix.ipynb#ch0000107?line=4'>5</a>\u001b[0m y_pred \u001b[39m=\u001b[39m rfc\u001b[39m.\u001b[39mpredict(x_test)\n\u001b[0;32m      <a href='vscode-notebook-cell:/c%3A/Users/olivi/Documents/Ironhack/IRONLABS_OM/Project%20Netflix/netflix.ipynb#ch0000107?line=5'>6</a>\u001b[0m acc_rfc \u001b[39m=\u001b[39m rfc\u001b[39m.\u001b[39mscore(x_test, y_test)\n",
      "File \u001b[1;32m~\\AppData\\Local\\Packages\\PythonSoftwareFoundation.Python.3.9_qbz5n2kfra8p0\\LocalCache\\local-packages\\Python39\\site-packages\\sklearn\\ensemble\\_forest.py:367\u001b[0m, in \u001b[0;36mBaseForest.fit\u001b[1;34m(self, X, y, sample_weight)\u001b[0m\n\u001b[0;32m    <a href='file:///c%3A/Users/olivi/AppData/Local/Packages/PythonSoftwareFoundation.Python.3.9_qbz5n2kfra8p0/LocalCache/local-packages/Python39/site-packages/sklearn/ensemble/_forest.py?line=359'>360</a>\u001b[0m         \u001b[39mraise\u001b[39;00m \u001b[39mValueError\u001b[39;00m(\n\u001b[0;32m    <a href='file:///c%3A/Users/olivi/AppData/Local/Packages/PythonSoftwareFoundation.Python.3.9_qbz5n2kfra8p0/LocalCache/local-packages/Python39/site-packages/sklearn/ensemble/_forest.py?line=360'>361</a>\u001b[0m             \u001b[39m\"\u001b[39m\u001b[39mSum of y is not strictly positive which \u001b[39m\u001b[39m\"\u001b[39m\n\u001b[0;32m    <a href='file:///c%3A/Users/olivi/AppData/Local/Packages/PythonSoftwareFoundation.Python.3.9_qbz5n2kfra8p0/LocalCache/local-packages/Python39/site-packages/sklearn/ensemble/_forest.py?line=361'>362</a>\u001b[0m             \u001b[39m\"\u001b[39m\u001b[39mis necessary for Poisson regression.\u001b[39m\u001b[39m\"\u001b[39m\n\u001b[0;32m    <a href='file:///c%3A/Users/olivi/AppData/Local/Packages/PythonSoftwareFoundation.Python.3.9_qbz5n2kfra8p0/LocalCache/local-packages/Python39/site-packages/sklearn/ensemble/_forest.py?line=362'>363</a>\u001b[0m         )\n\u001b[0;32m    <a href='file:///c%3A/Users/olivi/AppData/Local/Packages/PythonSoftwareFoundation.Python.3.9_qbz5n2kfra8p0/LocalCache/local-packages/Python39/site-packages/sklearn/ensemble/_forest.py?line=364'>365</a>\u001b[0m \u001b[39mself\u001b[39m\u001b[39m.\u001b[39mn_outputs_ \u001b[39m=\u001b[39m y\u001b[39m.\u001b[39mshape[\u001b[39m1\u001b[39m]\n\u001b[1;32m--> <a href='file:///c%3A/Users/olivi/AppData/Local/Packages/PythonSoftwareFoundation.Python.3.9_qbz5n2kfra8p0/LocalCache/local-packages/Python39/site-packages/sklearn/ensemble/_forest.py?line=366'>367</a>\u001b[0m y, expanded_class_weight \u001b[39m=\u001b[39m \u001b[39mself\u001b[39;49m\u001b[39m.\u001b[39;49m_validate_y_class_weight(y)\n\u001b[0;32m    <a href='file:///c%3A/Users/olivi/AppData/Local/Packages/PythonSoftwareFoundation.Python.3.9_qbz5n2kfra8p0/LocalCache/local-packages/Python39/site-packages/sklearn/ensemble/_forest.py?line=368'>369</a>\u001b[0m \u001b[39mif\u001b[39;00m \u001b[39mgetattr\u001b[39m(y, \u001b[39m\"\u001b[39m\u001b[39mdtype\u001b[39m\u001b[39m\"\u001b[39m, \u001b[39mNone\u001b[39;00m) \u001b[39m!=\u001b[39m DOUBLE \u001b[39mor\u001b[39;00m \u001b[39mnot\u001b[39;00m y\u001b[39m.\u001b[39mflags\u001b[39m.\u001b[39mcontiguous:\n\u001b[0;32m    <a href='file:///c%3A/Users/olivi/AppData/Local/Packages/PythonSoftwareFoundation.Python.3.9_qbz5n2kfra8p0/LocalCache/local-packages/Python39/site-packages/sklearn/ensemble/_forest.py?line=369'>370</a>\u001b[0m     y \u001b[39m=\u001b[39m np\u001b[39m.\u001b[39mascontiguousarray(y, dtype\u001b[39m=\u001b[39mDOUBLE)\n",
      "File \u001b[1;32m~\\AppData\\Local\\Packages\\PythonSoftwareFoundation.Python.3.9_qbz5n2kfra8p0\\LocalCache\\local-packages\\Python39\\site-packages\\sklearn\\ensemble\\_forest.py:734\u001b[0m, in \u001b[0;36mForestClassifier._validate_y_class_weight\u001b[1;34m(self, y)\u001b[0m\n\u001b[0;32m    <a href='file:///c%3A/Users/olivi/AppData/Local/Packages/PythonSoftwareFoundation.Python.3.9_qbz5n2kfra8p0/LocalCache/local-packages/Python39/site-packages/sklearn/ensemble/_forest.py?line=732'>733</a>\u001b[0m \u001b[39mdef\u001b[39;00m \u001b[39m_validate_y_class_weight\u001b[39m(\u001b[39mself\u001b[39m, y):\n\u001b[1;32m--> <a href='file:///c%3A/Users/olivi/AppData/Local/Packages/PythonSoftwareFoundation.Python.3.9_qbz5n2kfra8p0/LocalCache/local-packages/Python39/site-packages/sklearn/ensemble/_forest.py?line=733'>734</a>\u001b[0m     check_classification_targets(y)\n\u001b[0;32m    <a href='file:///c%3A/Users/olivi/AppData/Local/Packages/PythonSoftwareFoundation.Python.3.9_qbz5n2kfra8p0/LocalCache/local-packages/Python39/site-packages/sklearn/ensemble/_forest.py?line=735'>736</a>\u001b[0m     y \u001b[39m=\u001b[39m np\u001b[39m.\u001b[39mcopy(y)\n\u001b[0;32m    <a href='file:///c%3A/Users/olivi/AppData/Local/Packages/PythonSoftwareFoundation.Python.3.9_qbz5n2kfra8p0/LocalCache/local-packages/Python39/site-packages/sklearn/ensemble/_forest.py?line=736'>737</a>\u001b[0m     expanded_class_weight \u001b[39m=\u001b[39m \u001b[39mNone\u001b[39;00m\n",
      "File \u001b[1;32m~\\AppData\\Local\\Packages\\PythonSoftwareFoundation.Python.3.9_qbz5n2kfra8p0\\LocalCache\\local-packages\\Python39\\site-packages\\sklearn\\utils\\multiclass.py:197\u001b[0m, in \u001b[0;36mcheck_classification_targets\u001b[1;34m(y)\u001b[0m\n\u001b[0;32m    <a href='file:///c%3A/Users/olivi/AppData/Local/Packages/PythonSoftwareFoundation.Python.3.9_qbz5n2kfra8p0/LocalCache/local-packages/Python39/site-packages/sklearn/utils/multiclass.py?line=188'>189</a>\u001b[0m y_type \u001b[39m=\u001b[39m type_of_target(y)\n\u001b[0;32m    <a href='file:///c%3A/Users/olivi/AppData/Local/Packages/PythonSoftwareFoundation.Python.3.9_qbz5n2kfra8p0/LocalCache/local-packages/Python39/site-packages/sklearn/utils/multiclass.py?line=189'>190</a>\u001b[0m \u001b[39mif\u001b[39;00m y_type \u001b[39mnot\u001b[39;00m \u001b[39min\u001b[39;00m [\n\u001b[0;32m    <a href='file:///c%3A/Users/olivi/AppData/Local/Packages/PythonSoftwareFoundation.Python.3.9_qbz5n2kfra8p0/LocalCache/local-packages/Python39/site-packages/sklearn/utils/multiclass.py?line=190'>191</a>\u001b[0m     \u001b[39m\"\u001b[39m\u001b[39mbinary\u001b[39m\u001b[39m\"\u001b[39m,\n\u001b[0;32m    <a href='file:///c%3A/Users/olivi/AppData/Local/Packages/PythonSoftwareFoundation.Python.3.9_qbz5n2kfra8p0/LocalCache/local-packages/Python39/site-packages/sklearn/utils/multiclass.py?line=191'>192</a>\u001b[0m     \u001b[39m\"\u001b[39m\u001b[39mmulticlass\u001b[39m\u001b[39m\"\u001b[39m,\n\u001b[1;32m   (...)\u001b[0m\n\u001b[0;32m    <a href='file:///c%3A/Users/olivi/AppData/Local/Packages/PythonSoftwareFoundation.Python.3.9_qbz5n2kfra8p0/LocalCache/local-packages/Python39/site-packages/sklearn/utils/multiclass.py?line=194'>195</a>\u001b[0m     \u001b[39m\"\u001b[39m\u001b[39mmultilabel-sequences\u001b[39m\u001b[39m\"\u001b[39m,\n\u001b[0;32m    <a href='file:///c%3A/Users/olivi/AppData/Local/Packages/PythonSoftwareFoundation.Python.3.9_qbz5n2kfra8p0/LocalCache/local-packages/Python39/site-packages/sklearn/utils/multiclass.py?line=195'>196</a>\u001b[0m ]:\n\u001b[1;32m--> <a href='file:///c%3A/Users/olivi/AppData/Local/Packages/PythonSoftwareFoundation.Python.3.9_qbz5n2kfra8p0/LocalCache/local-packages/Python39/site-packages/sklearn/utils/multiclass.py?line=196'>197</a>\u001b[0m     \u001b[39mraise\u001b[39;00m \u001b[39mValueError\u001b[39;00m(\u001b[39m\"\u001b[39m\u001b[39mUnknown label type: \u001b[39m\u001b[39m%r\u001b[39;00m\u001b[39m\"\u001b[39m \u001b[39m%\u001b[39m y_type)\n",
      "\u001b[1;31mValueError\u001b[0m: Unknown label type: 'continuous'"
     ]
    }
   ],
   "source": [
    "from sklearn.ensemble import RandomForestClassifier\n",
    "\n",
    "rfc = RandomForestClassifier()\n",
    "rfc.fit(x_train, y_train)\n",
    "y_pred = rfc.predict(x_test)\n",
    "acc_rfc = rfc.score(x_test, y_test)\n",
    "print('The accuracy of the Random Forest Classifier is:', acc_rfc * 100, '%')\n",
    "generate_results(rfc, y_pred, 'Random Forest Classifier')\n",
    "\n"
   ]
  },
  {
   "cell_type": "code",
   "execution_count": null,
   "metadata": {},
   "outputs": [],
   "source": [
    "def generate_results(model, predictions, name):\n",
    "    cl_rep = classification_report(y_test, predictions)\n",
    "    print(\"\\nThe classification report for \" + name + \" is:\", cl_rep, sep = \"\\n\")\n",
    "    cm_model = confusion_matrix(y_test, predictions)\n",
    "    plt.figure(figsize = (8, 6))\n",
    "    sns.heatmap(cm_model, annot = True, cmap = 'Blues', annot_kws = {'size': 15}, square = True)\n",
    "    plt.title('Confusion Matrix for ' + name, size = 15)\n",
    "    plt.xticks(size = 15)\n",
    "    plt.yticks(size = 15)\n",
    "    plt.show() "
   ]
  },
  {
   "cell_type": "code",
   "execution_count": null,
   "metadata": {},
   "outputs": [],
   "source": [
    "print('The accuracy of the Logistic Regression is:', lr.score(x_test, y_test) * 100, '%')\n",
    "generate_results(lr, y_pred, 'Logistic Regression')"
   ]
  },
  {
   "cell_type": "code",
   "execution_count": null,
   "metadata": {},
   "outputs": [],
   "source": [
    "#Linear Discriminant Analysis Olivier\n"
   ]
  },
  {
   "cell_type": "code",
   "execution_count": null,
   "metadata": {},
   "outputs": [],
   "source": [
    "#GaussianProcessClassifier Olivier\n"
   ]
  },
  {
   "cell_type": "code",
   "execution_count": null,
   "metadata": {},
   "outputs": [],
   "source": [
    "#BaggingCLassifier  Ting\n",
    "\n",
    "\n",
    "bagging = BaggingClassifier(KNeighborsClassifier(),\n",
    "max_samples=0.5, max_features=0.5)"
   ]
  },
  {
   "cell_type": "code",
   "execution_count": null,
   "metadata": {},
   "outputs": [],
   "source": [
    "#Gradient Tree Boosting     Ting\n",
    "\n",
    "\n"
   ]
  }
 ],
 "metadata": {
  "interpreter": {
   "hash": "bc74c9efbb84f280ceaeeceeae8f315ec3f368be1dc370363a62f0ad4f42a571"
  },
  "kernelspec": {
   "display_name": "Python 3.9.12 64-bit (windows store)",
   "language": "python",
   "name": "python3"
  },
  "language_info": {
   "codemirror_mode": {
    "name": "ipython",
    "version": 3
   },
   "file_extension": ".py",
   "mimetype": "text/x-python",
   "name": "python",
   "nbconvert_exporter": "python",
   "pygments_lexer": "ipython3",
   "version": "3.9.12"
  },
  "orig_nbformat": 4
 },
 "nbformat": 4,
 "nbformat_minor": 2
}
